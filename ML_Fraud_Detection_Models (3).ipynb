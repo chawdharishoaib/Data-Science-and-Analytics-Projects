{
  "cells": [
    {
      "cell_type": "markdown",
      "id": "ebdbf774",
      "metadata": {
        "id": "ebdbf774"
      },
      "source": [
        "# Modeling for Customer's Fraudulent Transaction Detection using PaySim Dataset"
      ]
    },
    {
      "cell_type": "markdown",
      "id": "97e5829c",
      "metadata": {
        "id": "97e5829c"
      },
      "source": [
        "In this notebook, we will delve into the following key aspects of our modeling journey:"
      ]
    },
    {
      "cell_type": "markdown",
      "id": "c6e0a2ec",
      "metadata": {
        "id": "c6e0a2ec"
      },
      "source": [
        "**1- Data Splitting:** We will divide our dataset into training and testing subsets, ensuring that our models are trained on one portion and evaluated on another. This helps us assess model generalization and performance accurately.\n",
        "\n",
        "**2- Model Selection:** We will explore a variety of machine learning algorithms, each with its unique strengths and characteristics, to determine which ones are most suitable for our fraud detection task. This includes models like Random Forest, XGBoost, Logistic Regression, Naïve Bayes, and K-Nearest Neighbors (KNN).\n",
        "\n",
        "**3- Class Imbalance Handling:** Given the inherent class imbalance in fraud detection tasks, we will investigate methods to address this issue, including the use of class weights and oversampling techniques like SMOTE.\n",
        "\n",
        "**4 -Model Training:** We will train our selected models using the training dataset. This phase involves learning the underlying patterns and relationships within the data, allowing the models to make predictions based on input features.\n",
        "\n",
        "**5- Model Evaluation:** Model performance is a critical aspect of our project. We will use a range of evaluation metrics such as accuracy, precision, recall, F1-score, ROC-AUC, and precision-recall curves to assess how well our models identify fraudulent transactions while minimizing false positives."
      ]
    },
    {
      "cell_type": "markdown",
      "id": "3ba2fd00",
      "metadata": {
        "id": "3ba2fd00"
      },
      "source": [
        "By the end of this modeling phase, our aim is to have well-tuned models that can be deployed in real-world scenarios to automatically detect fraudulent transactions, ultimately safeguarding financial systems and providing value to both customers and financial institutions.\n"
      ]
    },
    {
      "cell_type": "markdown",
      "id": "d936b09d",
      "metadata": {
        "id": "d936b09d"
      },
      "source": [
        "## Unbalanced dataset"
      ]
    },
    {
      "cell_type": "markdown",
      "id": "1707ecb4",
      "metadata": {
        "id": "1707ecb4"
      },
      "source": [
        "When there is unequal representation of the classes in a classification issue, it is referred to as unbalanced data. Because of the PaySim dataset's extreme imbalance, either the class weights or the dataset must be adjusted in order for the model to produce reliable predictions (SMOTE).\n"
      ]
    },
    {
      "cell_type": "markdown",
      "id": "7168d1b5",
      "metadata": {
        "id": "7168d1b5"
      },
      "source": [
        "**Oversampling the class of minorities:**\n",
        "\n",
        "Compared to undersampling, oversampling is more computationally costly but results in no data loss. Here, 50% of the data are real transactions and 50% are fraudulent ones. By replication, random over-sampling adds extra minority observations at random. There is no loss of information, although the model may overfit.\n",
        "\n",
        "SMOTE, on the other hand, produces \"synthetic\" observations of fresh minority class data points.\n"
      ]
    },
    {
      "cell_type": "markdown",
      "id": "cd343e28",
      "metadata": {
        "id": "cd343e28"
      },
      "source": [
        "## Confusion Matrix"
      ]
    },
    {
      "cell_type": "markdown",
      "id": "13eb0d48",
      "metadata": {
        "id": "13eb0d48"
      },
      "source": [
        "**True Positive - TP** [0] [ 0 ] - The number of authentic transactions that were accurately identified as authentic.\n",
        "\n",
        "**False Positive - FP** [ 0 ] [ 1 ] - How many legitimate transactions were thought to be fraudulent. This demonstrates how many legitimate transactions were turned down by the model because it believed them to be fraudulent.\n",
        "\n",
        "**False Negative - FN** [ 1 ] [ 0 ] - How many fraudulent transactions were assumed to be real. The most significant measure is this one! It suggests that fraud has happened but has gone undetected.\n",
        "\n",
        "The number of fraud transactions that were accurately identified as fraudulent, or **True Negative - TN** [1 ] [1 ]."
      ]
    },
    {
      "cell_type": "markdown",
      "id": "21be978e",
      "metadata": {
        "id": "21be978e"
      },
      "source": [
        "## Metrics"
      ]
    },
    {
      "cell_type": "markdown",
      "id": "63171ed6",
      "metadata": {
        "id": "63171ed6"
      },
      "source": [
        "In conventional binary classification, parameters like accuracy and F1-score must be maximized while the loss function must be minimized.\n",
        "\n",
        "Unfortunately, since there are 99% legitimate transactions and less than 1% fraudulent transactions in this fraud detection dataset, accuracy will not be possible. This suggests that there will be at least 99% accuracy. The accuracy conundrum therefore arises.\n",
        "\n",
        "When it comes to fraud detection, the likelihood that a randomly selected fraud case would be projected to receive a higher score than a randomly selected legitimate instance is represented by the AUC of a classifier. Consequently, better classification performance is indicated by a larger AUC."
      ]
    },
    {
      "cell_type": "markdown",
      "id": "439c11ee",
      "metadata": {
        "id": "439c11ee"
      },
      "source": [
        "When dealing with highly imbalanced data as is the case with fraud detection, AUC (and ROC curves) may be too optimistic and the Area under the Precision-Recall Curve (AUPRC) gives a more informative picture of a classifier's performance.\n"
      ]
    },
    {
      "cell_type": "markdown",
      "id": "e70b9d7d",
      "metadata": {
        "id": "e70b9d7d"
      },
      "source": [
        "The percentage of fraud that the algorithm has discovered, however, is the most crucial indicator. This measure focuses on the quantity of transactions that are falsely negative. False Negatives are important because they show that fraudulent transactions are mistaken for legitimate ones. Banks end up losing money as a result. False Positives (real transactions that are mistakenly believed to be fraudulent) are less important since the bank must get in touch with the client to confirm them, or the consumer must call the bank to confirm the \"suspicious\" transaction."
      ]
    },
    {
      "cell_type": "markdown",
      "id": "3ad21210",
      "metadata": {
        "id": "3ad21210"
      },
      "source": [
        "The metric is calculated the following way:"
      ]
    },
    {
      "cell_type": "code",
      "execution_count": null,
      "id": "d970eac7",
      "metadata": {
        "id": "d970eac7"
      },
      "outputs": [],
      "source": [
        "# For data loading and plots\n",
        "import pandas as pd\n",
        "import numpy as np\n",
        "import matplotlib.pyplot as plt\n",
        "\n",
        "# Ignore all warnings\n",
        "import warnings\n",
        "warnings.filterwarnings(\"ignore\")\n",
        "\n",
        "# Import train test split\n",
        "from sklearn.model_selection import train_test_split\n",
        "\n",
        "# Import XGBoost\n",
        "from xgboost.sklearn import XGBClassifier\n",
        "from xgboost import plot_importance, to_graphviz\n",
        "\n",
        "# For Model's Performance\n",
        "from sklearn.metrics import classification_report\n",
        "from sklearn.metrics import confusion_matrix, plot_confusion_matrix\n",
        "\n",
        "# Import GaussianNB\n",
        "from sklearn.naive_bayes import GaussianNB, MultinomialNB\n",
        "from sklearn.ensemble import RandomForestClassifier\n",
        "\n",
        "# Logistic Regression\n",
        "from sklearn.linear_model import LogisticRegression\n",
        "\n",
        "# K-Nearest Neighbours\n",
        "from sklearn.neighbors import KNeighborsClassifier\n",
        "\n",
        "# For Model's Performance\n",
        "from sklearn.metrics import classification_report\n",
        "from sklearn.model_selection import cross_val_score\n",
        "from sklearn.metrics import confusion_matrix, plot_confusion_matrix, average_precision_score, plot_precision_recall_curve\n",
        "from sklearn.preprocessing import MinMaxScaler, StandardScaler\n",
        "from sklearn.utils import class_weight\n",
        "from sklearn.model_selection import GridSearchCV\n",
        "from collections import Counter\n",
        "from imblearn.over_sampling import SMOTE"
      ]
    },
    {
      "cell_type": "markdown",
      "id": "9ba8dc5d",
      "metadata": {
        "id": "9ba8dc5d"
      },
      "source": [
        "## Create a Function"
      ]
    },
    {
      "cell_type": "code",
      "execution_count": null,
      "id": "d1be259c",
      "metadata": {
        "id": "d1be259c"
      },
      "outputs": [],
      "source": [
        "def Detail(y_test, results):\n",
        "# generate confusion matrix for each model\n",
        "    scores = confusion_matrix(y_test, results)\n",
        "    True_Positive = scores[0][0]\n",
        "    False_Positive = scores[0][1]\n",
        "    False_Negative = scores[1][0]\n",
        "    True_Negative = scores[1][1]\n",
        "    Calculated_fraud = True_Negative / (False_Negative + True_Negative)\n",
        "    print(\"True Positive = \", True_Positive, \"\\t\\t\\tFalse Positive = \", False_Positive, \"\\n\")\n",
        "    print(\"False Negative = \", False_Negative, \"\\t\\t\\tTrue Negative = \", True_Negative, \"\\n\")\n",
        "    print(\"% of Detected Fraud:\\t\", round(Calculated_fraud, 2), \"(\", Calculated_fraud, \")\\n\")\n",
        "    print(\"% of Missed Fraud:\\t\", round((1 - Calculated_fraud), 2), \"(\", (1 - Calculated_fraud), \")\\n\")\n",
        "    # Calculate and print the average precision-recall score\n",
        "    precision_recall_score_avg = average_precision_score(y_test, results)\n",
        "    print(\"Average Precision-Recall score:\\t\", precision_recall_score_avg)"
      ]
    },
    {
      "cell_type": "markdown",
      "id": "c72de773",
      "metadata": {
        "id": "c72de773"
      },
      "source": [
        "Detail is a Python function that accepts the inputs y_test and results. This function appears to be used to evaluate the effectiveness of a classification model, most likely a fraud detection model, using the true labels that have been provided (y_test) and the expected labels or outcomes (results).\n",
        "\n",
        "Here is a step-by-step explanation of what the code does:\n",
        "\n",
        "confusion_matrix(y_test, results): By combining the anticipated labels (results) and the genuine labels (y_test), this function call creates a confusion matrix. A table known as a confusion matrix is frequently used to explain how well a classification model performs on a collection of data for which the true values are known. True Positive, False Positive, False Negative, and True Negative are the four values in the confusion matrix.\n",
        "\n",
        "The values are then taken out of the confusion matrix by the code:\n",
        "\n",
        "**True_Positive:** The number of cases that were both accurately predicted as positive and were in fact positive (in this case, probably fraudulent).\n",
        "\n",
        "**False_Positive:** The number of events that were falsely predicted as positive even though they were actually negative (not fraudulent) and caused false alarms.\n",
        "\n",
        "**False_Negative:** The proportion of cases that were falsely forecasted as negative (missed detections) despite being positive (fraudulent) in reality.\n",
        "\n",
        "**True_Negative:** The proportion of cases that were both accurately foreseen as negative and were in fact negative (not fraudulent).\n",
        "\n",
        "Calculated_fraud is a variable that shows the proportion of fraud cases that have been identified out of all the actual fraud cases. It is derived by dividing the total number of false negative and true negative cases by the number of true negative cases. This could be viewed as an indicator of how well the model can identify fraudulent cases.\n",
        "\n",
        "printing the various percentages and values\n",
        "\n",
        "The True Positive, False Positive, False Negative, and True Negative numbers are printed out by the code.\n",
        "It displays the proportion of fraud cases that were caught as well as the percentage of fraud instances that were overlooked (1 - Calculated_fraud)."
      ]
    },
    {
      "cell_type": "code",
      "execution_count": null,
      "id": "cd923515",
      "metadata": {
        "id": "cd923515"
      },
      "outputs": [],
      "source": [
        "def Plotting(algorithm, X_test, y_test):\n",
        "    # Display confusion matrix results\n",
        "    labels = ['Genral', 'Fraud']\n",
        "    plot_confusion_matrix(algorithm, X_test, y_test, display_labels=labels, values_format='', cmap=plt.cm.Blues)\n",
        "    plt.title(\"Confusion Matrix\")\n",
        "    plt.show()\n",
        "\n",
        "    # Plot the Precision-Recall curve\n",
        "    disp = plot_precision_recall_curve(algorithm, X_test, y_test)\n",
        "    disp.ax_.set_title(\"Precision-Recall Curve\")\n",
        "    plt.show()"
      ]
    },
    {
      "cell_type": "markdown",
      "id": "9e1231ab",
      "metadata": {
        "id": "9e1231ab"
      },
      "source": [
        "Displaying the classification report: Using the classification_report function, the code creates and presents a classification report. Based on the true labels and anticipated labels, the classification report offers metrics like precision, recall, F1-score, and support for each class (fraudulent and non-fraudulent). The model's performance is covered in further detail in this report.\n",
        "\n",
        "figuring out the average precision-recall score and printing it: The average_precision_score function is used in the code to calculate the average precision-recall score. In particular for unbalanced datasets like fraud detection, the average precision-recall score is a metric that quantifies the overall quality of the model's predictions.\n",
        "\n",
        "In summary, this code aims to provide a detailed analysis of the performance of a classification model for fraud detection. It calculates and prints various metrics, including confusion matrix values, percentages of detected and missed fraud cases, a classification report, and the average precision-recall score.\n",
        "\n",
        "In conclusion, the purpose of this code is to offer a thorough evaluation of a classification model's effectiveness in detecting fraud. The confusion matrix values, percentages of recognised and missed fraud cases, a classification report, and the average precision-recall score are just a few of the metrics it computes and outputs.\n",
        "\n"
      ]
    },
    {
      "cell_type": "markdown",
      "id": "0f476ef4",
      "metadata": {
        "id": "0f476ef4"
      },
      "source": [
        "## Preparation of Data:"
      ]
    },
    {
      "cell_type": "markdown",
      "id": "6f61a5bf",
      "metadata": {
        "id": "6f61a5bf"
      },
      "source": [
        "Loading X_new and y_new dataset and removing extra row of index"
      ]
    },
    {
      "cell_type": "code",
      "execution_count": null,
      "id": "8a42aa8c",
      "metadata": {
        "id": "8a42aa8c",
        "outputId": "105cdbea-338b-4269-9578-7bd2d0af8d79"
      },
      "outputs": [
        {
          "data": {
            "text/html": [
              "<div>\n",
              "<style scoped>\n",
              "    .dataframe tbody tr th:only-of-type {\n",
              "        vertical-align: middle;\n",
              "    }\n",
              "\n",
              "    .dataframe tbody tr th {\n",
              "        vertical-align: top;\n",
              "    }\n",
              "\n",
              "    .dataframe thead th {\n",
              "        text-align: right;\n",
              "    }\n",
              "</style>\n",
              "<table border=\"1\" class=\"dataframe\">\n",
              "  <thead>\n",
              "    <tr style=\"text-align: right;\">\n",
              "      <th></th>\n",
              "      <th>step</th>\n",
              "      <th>type</th>\n",
              "      <th>amount</th>\n",
              "      <th>oldbalanceOrg</th>\n",
              "      <th>newbalanceOrig</th>\n",
              "      <th>oldbalanceDest</th>\n",
              "      <th>newbalanceDest</th>\n",
              "      <th>Balance_Error_Orig</th>\n",
              "      <th>Balance_Error_Dest</th>\n",
              "      <th>DayHouur</th>\n",
              "      <th>WeekDay</th>\n",
              "    </tr>\n",
              "  </thead>\n",
              "  <tbody>\n",
              "    <tr>\n",
              "      <th>0</th>\n",
              "      <td>1</td>\n",
              "      <td>0</td>\n",
              "      <td>181.00</td>\n",
              "      <td>181.00</td>\n",
              "      <td>0.0</td>\n",
              "      <td>-1.00</td>\n",
              "      <td>-1.00</td>\n",
              "      <td>0.00</td>\n",
              "      <td>1.810000e+02</td>\n",
              "      <td>1</td>\n",
              "      <td>1</td>\n",
              "    </tr>\n",
              "    <tr>\n",
              "      <th>1</th>\n",
              "      <td>1</td>\n",
              "      <td>1</td>\n",
              "      <td>181.00</td>\n",
              "      <td>181.00</td>\n",
              "      <td>0.0</td>\n",
              "      <td>21182.00</td>\n",
              "      <td>0.00</td>\n",
              "      <td>0.00</td>\n",
              "      <td>2.136300e+04</td>\n",
              "      <td>1</td>\n",
              "      <td>1</td>\n",
              "    </tr>\n",
              "    <tr>\n",
              "      <th>2</th>\n",
              "      <td>1</td>\n",
              "      <td>1</td>\n",
              "      <td>229133.94</td>\n",
              "      <td>15325.00</td>\n",
              "      <td>0.0</td>\n",
              "      <td>5083.00</td>\n",
              "      <td>51513.44</td>\n",
              "      <td>213808.94</td>\n",
              "      <td>1.827035e+05</td>\n",
              "      <td>1</td>\n",
              "      <td>1</td>\n",
              "    </tr>\n",
              "    <tr>\n",
              "      <th>3</th>\n",
              "      <td>1</td>\n",
              "      <td>0</td>\n",
              "      <td>215310.30</td>\n",
              "      <td>705.00</td>\n",
              "      <td>0.0</td>\n",
              "      <td>22425.00</td>\n",
              "      <td>0.00</td>\n",
              "      <td>214605.30</td>\n",
              "      <td>2.377353e+05</td>\n",
              "      <td>1</td>\n",
              "      <td>1</td>\n",
              "    </tr>\n",
              "    <tr>\n",
              "      <th>4</th>\n",
              "      <td>1</td>\n",
              "      <td>0</td>\n",
              "      <td>311685.89</td>\n",
              "      <td>10835.00</td>\n",
              "      <td>0.0</td>\n",
              "      <td>6267.00</td>\n",
              "      <td>2719172.89</td>\n",
              "      <td>300850.89</td>\n",
              "      <td>-2.401220e+06</td>\n",
              "      <td>1</td>\n",
              "      <td>1</td>\n",
              "    </tr>\n",
              "    <tr>\n",
              "      <th>...</th>\n",
              "      <td>...</td>\n",
              "      <td>...</td>\n",
              "      <td>...</td>\n",
              "      <td>...</td>\n",
              "      <td>...</td>\n",
              "      <td>...</td>\n",
              "      <td>...</td>\n",
              "      <td>...</td>\n",
              "      <td>...</td>\n",
              "      <td>...</td>\n",
              "      <td>...</td>\n",
              "    </tr>\n",
              "    <tr>\n",
              "      <th>2770404</th>\n",
              "      <td>743</td>\n",
              "      <td>1</td>\n",
              "      <td>339682.13</td>\n",
              "      <td>339682.13</td>\n",
              "      <td>0.0</td>\n",
              "      <td>0.00</td>\n",
              "      <td>339682.13</td>\n",
              "      <td>0.00</td>\n",
              "      <td>0.000000e+00</td>\n",
              "      <td>23</td>\n",
              "      <td>1</td>\n",
              "    </tr>\n",
              "    <tr>\n",
              "      <th>2770405</th>\n",
              "      <td>743</td>\n",
              "      <td>0</td>\n",
              "      <td>6311409.28</td>\n",
              "      <td>6311409.28</td>\n",
              "      <td>0.0</td>\n",
              "      <td>-1.00</td>\n",
              "      <td>-1.00</td>\n",
              "      <td>0.00</td>\n",
              "      <td>6.311409e+06</td>\n",
              "      <td>23</td>\n",
              "      <td>1</td>\n",
              "    </tr>\n",
              "    <tr>\n",
              "      <th>2770406</th>\n",
              "      <td>743</td>\n",
              "      <td>1</td>\n",
              "      <td>6311409.28</td>\n",
              "      <td>6311409.28</td>\n",
              "      <td>0.0</td>\n",
              "      <td>68488.84</td>\n",
              "      <td>6379898.11</td>\n",
              "      <td>0.00</td>\n",
              "      <td>1.000000e-02</td>\n",
              "      <td>23</td>\n",
              "      <td>1</td>\n",
              "    </tr>\n",
              "    <tr>\n",
              "      <th>2770407</th>\n",
              "      <td>743</td>\n",
              "      <td>0</td>\n",
              "      <td>850002.52</td>\n",
              "      <td>850002.52</td>\n",
              "      <td>0.0</td>\n",
              "      <td>-1.00</td>\n",
              "      <td>-1.00</td>\n",
              "      <td>0.00</td>\n",
              "      <td>8.500025e+05</td>\n",
              "      <td>23</td>\n",
              "      <td>1</td>\n",
              "    </tr>\n",
              "    <tr>\n",
              "      <th>2770408</th>\n",
              "      <td>743</td>\n",
              "      <td>1</td>\n",
              "      <td>850002.52</td>\n",
              "      <td>850002.52</td>\n",
              "      <td>0.0</td>\n",
              "      <td>6510099.11</td>\n",
              "      <td>7360101.63</td>\n",
              "      <td>0.00</td>\n",
              "      <td>9.313226e-10</td>\n",
              "      <td>23</td>\n",
              "      <td>1</td>\n",
              "    </tr>\n",
              "  </tbody>\n",
              "</table>\n",
              "<p>2770409 rows × 11 columns</p>\n",
              "</div>"
            ],
            "text/plain": [
              "         step  type      amount  oldbalanceOrg  newbalanceOrig  \\\n",
              "0           1     0      181.00         181.00             0.0   \n",
              "1           1     1      181.00         181.00             0.0   \n",
              "2           1     1   229133.94       15325.00             0.0   \n",
              "3           1     0   215310.30         705.00             0.0   \n",
              "4           1     0   311685.89       10835.00             0.0   \n",
              "...       ...   ...         ...            ...             ...   \n",
              "2770404   743     1   339682.13      339682.13             0.0   \n",
              "2770405   743     0  6311409.28     6311409.28             0.0   \n",
              "2770406   743     1  6311409.28     6311409.28             0.0   \n",
              "2770407   743     0   850002.52      850002.52             0.0   \n",
              "2770408   743     1   850002.52      850002.52             0.0   \n",
              "\n",
              "         oldbalanceDest  newbalanceDest  Balance_Error_Orig  \\\n",
              "0                 -1.00           -1.00                0.00   \n",
              "1              21182.00            0.00                0.00   \n",
              "2               5083.00        51513.44           213808.94   \n",
              "3              22425.00            0.00           214605.30   \n",
              "4               6267.00      2719172.89           300850.89   \n",
              "...                 ...             ...                 ...   \n",
              "2770404            0.00       339682.13                0.00   \n",
              "2770405           -1.00           -1.00                0.00   \n",
              "2770406        68488.84      6379898.11                0.00   \n",
              "2770407           -1.00           -1.00                0.00   \n",
              "2770408      6510099.11      7360101.63                0.00   \n",
              "\n",
              "         Balance_Error_Dest  DayHouur  WeekDay  \n",
              "0              1.810000e+02         1        1  \n",
              "1              2.136300e+04         1        1  \n",
              "2              1.827035e+05         1        1  \n",
              "3              2.377353e+05         1        1  \n",
              "4             -2.401220e+06         1        1  \n",
              "...                     ...       ...      ...  \n",
              "2770404        0.000000e+00        23        1  \n",
              "2770405        6.311409e+06        23        1  \n",
              "2770406        1.000000e-02        23        1  \n",
              "2770407        8.500025e+05        23        1  \n",
              "2770408        9.313226e-10        23        1  \n",
              "\n",
              "[2770409 rows x 11 columns]"
            ]
          },
          "execution_count": 5,
          "metadata": {},
          "output_type": "execute_result"
        }
      ],
      "source": [
        "# load dataset X as csv file\n",
        "X=pd.read_csv('X.csv')\n",
        "X"
      ]
    },
    {
      "cell_type": "code",
      "execution_count": null,
      "id": "56da6ea6",
      "metadata": {
        "id": "56da6ea6",
        "outputId": "5b291e6c-21e6-4fdf-aed8-ec6876ecf163"
      },
      "outputs": [
        {
          "data": {
            "text/html": [
              "<div>\n",
              "<style scoped>\n",
              "    .dataframe tbody tr th:only-of-type {\n",
              "        vertical-align: middle;\n",
              "    }\n",
              "\n",
              "    .dataframe tbody tr th {\n",
              "        vertical-align: top;\n",
              "    }\n",
              "\n",
              "    .dataframe thead th {\n",
              "        text-align: right;\n",
              "    }\n",
              "</style>\n",
              "<table border=\"1\" class=\"dataframe\">\n",
              "  <thead>\n",
              "    <tr style=\"text-align: right;\">\n",
              "      <th></th>\n",
              "      <th>isFraud</th>\n",
              "    </tr>\n",
              "  </thead>\n",
              "  <tbody>\n",
              "    <tr>\n",
              "      <th>0</th>\n",
              "      <td>1</td>\n",
              "    </tr>\n",
              "    <tr>\n",
              "      <th>1</th>\n",
              "      <td>1</td>\n",
              "    </tr>\n",
              "    <tr>\n",
              "      <th>2</th>\n",
              "      <td>0</td>\n",
              "    </tr>\n",
              "    <tr>\n",
              "      <th>3</th>\n",
              "      <td>0</td>\n",
              "    </tr>\n",
              "    <tr>\n",
              "      <th>4</th>\n",
              "      <td>0</td>\n",
              "    </tr>\n",
              "    <tr>\n",
              "      <th>...</th>\n",
              "      <td>...</td>\n",
              "    </tr>\n",
              "    <tr>\n",
              "      <th>2770404</th>\n",
              "      <td>1</td>\n",
              "    </tr>\n",
              "    <tr>\n",
              "      <th>2770405</th>\n",
              "      <td>1</td>\n",
              "    </tr>\n",
              "    <tr>\n",
              "      <th>2770406</th>\n",
              "      <td>1</td>\n",
              "    </tr>\n",
              "    <tr>\n",
              "      <th>2770407</th>\n",
              "      <td>1</td>\n",
              "    </tr>\n",
              "    <tr>\n",
              "      <th>2770408</th>\n",
              "      <td>1</td>\n",
              "    </tr>\n",
              "  </tbody>\n",
              "</table>\n",
              "<p>2770409 rows × 1 columns</p>\n",
              "</div>"
            ],
            "text/plain": [
              "         isFraud\n",
              "0              1\n",
              "1              1\n",
              "2              0\n",
              "3              0\n",
              "4              0\n",
              "...          ...\n",
              "2770404        1\n",
              "2770405        1\n",
              "2770406        1\n",
              "2770407        1\n",
              "2770408        1\n",
              "\n",
              "[2770409 rows x 1 columns]"
            ]
          },
          "execution_count": 6,
          "metadata": {},
          "output_type": "execute_result"
        }
      ],
      "source": [
        "# load dataset y as csv file\n",
        "y=pd.read_csv('y_new.csv')\n",
        "\n",
        "# Remove unwanted index and display the dataset\n",
        "y = y.drop(['Unnamed: 0'], axis = 1)\n",
        "y"
      ]
    },
    {
      "cell_type": "markdown",
      "id": "b522c32d",
      "metadata": {
        "id": "b522c32d"
      },
      "source": [
        "## Check Dimension of y Dataset:"
      ]
    },
    {
      "cell_type": "code",
      "execution_count": null,
      "id": "296cede1",
      "metadata": {
        "id": "296cede1",
        "outputId": "c5f15219-9bb8-493b-f806-e939cb8822f8"
      },
      "outputs": [
        {
          "name": "stdout",
          "output_type": "stream",
          "text": [
            "Dimensions: 2\n"
          ]
        }
      ],
      "source": [
        "print('Dimensions:',y.ndim)"
      ]
    },
    {
      "cell_type": "markdown",
      "id": "67ca0a00",
      "metadata": {
        "id": "67ca0a00"
      },
      "source": [
        "## Convert y as One-Dimensional array:"
      ]
    },
    {
      "cell_type": "code",
      "execution_count": null,
      "id": "2c9b94d4",
      "metadata": {
        "id": "2c9b94d4",
        "outputId": "2f3d0fc6-1e88-4d80-ea50-01eb1898139a"
      },
      "outputs": [
        {
          "data": {
            "text/plain": [
              "1"
            ]
          },
          "execution_count": 8,
          "metadata": {},
          "output_type": "execute_result"
        }
      ],
      "source": [
        "y_dim = np.ravel(y)\n",
        "y_dim.ndim"
      ]
    },
    {
      "cell_type": "markdown",
      "id": "efd63401",
      "metadata": {
        "id": "efd63401"
      },
      "source": [
        "Refer to Dissertation_Final.ipynb for the data visualisation and cleaning. isFraud tells whether the transaction is legitimate or fraudulent.\n",
        "\n",
        "If isFraud = 0, the transaction is legitimate.\n",
        "\n",
        "The transaction is fraudulent if isFraud = 1.\n",
        "\n"
      ]
    },
    {
      "cell_type": "code",
      "execution_count": null,
      "id": "d82a7486",
      "metadata": {
        "id": "d82a7486",
        "outputId": "70f2de80-3cf1-48c7-e710-83520cc2264f"
      },
      "outputs": [
        {
          "name": "stdout",
          "output_type": "stream",
          "text": [
            "Total transactions:\t\t 2770409\n",
            "Genral transactions:\t\t 2762196 ( 99.7 %)\n",
            "Fraudulent transactions:\t 8213 ( 0.3 %)\n"
          ]
        }
      ],
      "source": [
        "# Calculate the total transactions, genuine transactions, and fraudulent transactions\n",
        "plus, minus = np.bincount(y_dim)\n",
        "final = minus + plus\n",
        "genral_percentage = (plus * 100 / final)\n",
        "fake_percentage = (minus * 100 / final)\n",
        "\n",
        "# Print the results\n",
        "print(\"Total transactions:\\t\\t\", final)\n",
        "print(\"Genral transactions:\\t\\t\", plus, \"(\", round(genral_percentage, 2), \"%)\")\n",
        "print(\"Fraudulent transactions:\\t\",minus, \"(\", round(fake_percentage, 2), \"%)\")"
      ]
    },
    {
      "cell_type": "markdown",
      "id": "b3b1b8af",
      "metadata": {
        "id": "b3b1b8af"
      },
      "source": [
        "### SMOTE"
      ]
    },
    {
      "cell_type": "markdown",
      "id": "107c8ffb",
      "metadata": {
        "id": "107c8ffb"
      },
      "source": [
        "## Random Forest"
      ]
    },
    {
      "cell_type": "markdown",
      "id": "8f6debdb",
      "metadata": {
        "id": "8f6debdb"
      },
      "source": [
        "An ensemble learning-based supervised machine learning method is called Random Forests. This method creates a forest by combining different decision trees. Each tree initially contributes the same amount to the final product. The answer with the most votes is checked to determine the final outcome. Regression and classification problems may both be accomplished using Random Forests.\n",
        "\n",
        "**Random Forests** have an O(t u n log(n)) time complexity, where:\n",
        "\n",
        "\n",
        "\n",
        "trees(t) - the quantity of trees.\n",
        "\n",
        "amount(u) - amount of characteristics taken into account while separating.\n",
        "\n"
      ]
    },
    {
      "cell_type": "markdown",
      "id": "ba74d9c2",
      "metadata": {
        "id": "ba74d9c2"
      },
      "source": [
        "### Class weights"
      ]
    },
    {
      "cell_type": "code",
      "execution_count": null,
      "id": "cd6ddaae",
      "metadata": {
        "id": "cd6ddaae",
        "outputId": "ab7a4589-09bd-4374-ae42-4378cd67282d"
      },
      "outputs": [
        {
          "name": "stdout",
          "output_type": "stream",
          "text": [
            "Weight for a genuine transaction: 1.0\n",
            "Weight for a fraud transaction: 341.32762577228596\n"
          ]
        },
        {
          "name": "stderr",
          "output_type": "stream",
          "text": [
            "[Parallel(n_jobs=1)]: Done  49 tasks      | elapsed:  1.2min\n",
            "[Parallel(n_jobs=1)]: Done 199 tasks      | elapsed:  4.9min\n",
            "[Parallel(n_jobs=1)]: Done  49 tasks      | elapsed:    1.8s\n",
            "[Parallel(n_jobs=1)]: Done 199 tasks      | elapsed:    7.4s\n"
          ]
        }
      ],
      "source": [
        "# Split the data into training and testing sets\n",
        "X_train, X_test, y_train, y_test = train_test_split(X, y_dim, test_size=0.3, random_state=5)\n",
        "\n",
        "# Manually calculate class weights for a balanced dataset\n",
        "class_weights = {0: 1.0, 1: len(y_train[y_train == 0]) / len(y_train[y_train == 1])}\n",
        "\n",
        "# Display the weights for every class\n",
        "print(\"Weight for a genuine transaction:\", class_weights[0])\n",
        "print(\"Weight for a fraud transaction:\", class_weights[1])\n",
        "\n",
        "# Create a Random Forest classifier with specified hyperparameters and class weights\n",
        "forest = RandomForestClassifier(\n",
        "    bootstrap=True,\n",
        "    max_depth=100,\n",
        "    max_features=2,\n",
        "    min_samples_leaf=3,\n",
        "    min_samples_split=10,\n",
        "    n_estimators=200,\n",
        "    random_state=10,\n",
        "    verbose=1,\n",
        "    class_weight=class_weights  # Set class_weight to the manually computed weights\n",
        ")\n",
        "\n",
        "# Train the model with the training data\n",
        "forest.fit(X_train, y_train)\n",
        "\n",
        "# Test the model's predictions with the test data\n",
        "results = forest.predict(X_test)"
      ]
    },
    {
      "cell_type": "code",
      "execution_count": null,
      "id": "9bb7aa0f",
      "metadata": {
        "id": "9bb7aa0f",
        "outputId": "6d427305-aeac-4ef6-ab0e-796f30e7c0fd"
      },
      "outputs": [
        {
          "name": "stdout",
          "output_type": "stream",
          "text": [
            "True Positive =  828575 \t\t\tFalse Positive =  0 \n",
            "\n",
            "False Negative =  6 \t\t\tTrue Negative =  2542 \n",
            "\n",
            "% of Detected Fraud:\t 1.0 ( 0.9976452119309263 )\n",
            "\n",
            "% of Missed Fraud:\t 0.0 ( 0.0023547880690737433 )\n",
            "\n",
            "Average Precision-Recall score:\t 0.9976524310789946\n"
          ]
        }
      ],
      "source": [
        "Detail(y_test, results)"
      ]
    },
    {
      "cell_type": "code",
      "execution_count": null,
      "id": "b4d1d24e",
      "metadata": {
        "id": "b4d1d24e",
        "outputId": "d3a67ef3-66c3-4d91-a2c7-7aebb62b7ce1"
      },
      "outputs": [
        {
          "name": "stderr",
          "output_type": "stream",
          "text": [
            "[Parallel(n_jobs=1)]: Done  49 tasks      | elapsed:    1.8s\n",
            "[Parallel(n_jobs=1)]: Done 199 tasks      | elapsed:    7.4s\n"
          ]
        },
        {
          "data": {
            "image/png": "[encoded data removed]",
            "text/plain": [
              "<Figure size 432x288 with 2 Axes>"
            ]
          },
          "metadata": {
            "needs_background": "light"
          },
          "output_type": "display_data"
        },
        {
          "name": "stderr",
          "output_type": "stream",
          "text": [
            "[Parallel(n_jobs=1)]: Done  49 tasks      | elapsed:    1.8s\n",
            "[Parallel(n_jobs=1)]: Done 199 tasks      | elapsed:    7.4s\n"
          ]
        },
        {
          "data": {
            "image/png": "[encoded data removed]",
            "text/plain": [
              "<Figure size 432x288 with 1 Axes>"
            ]
          },
          "metadata": {
            "needs_background": "light"
          },
          "output_type": "display_data"
        }
      ],
      "source": [
        "Plotting(forest, X_test, y_test)"
      ]
    },
    {
      "cell_type": "markdown",
      "id": "08ac81a9",
      "metadata": {
        "id": "08ac81a9"
      },
      "source": [
        "## SMOTE - Synthetic Minority Oversampling Technique"
      ]
    },
    {
      "cell_type": "code",
      "execution_count": null,
      "id": "c32961ad",
      "metadata": {
        "id": "c32961ad",
        "outputId": "39d589c4-1da9-4c6c-c42d-81444170c9ca"
      },
      "outputs": [
        {
          "name": "stdout",
          "output_type": "stream",
          "text": [
            "Data without SMOTE: Counter({0: 2762196, 1: 8213})\n",
            "Data with SMOTE: Counter({1: 2762196, 0: 2762196})\n"
          ]
        },
        {
          "name": "stderr",
          "output_type": "stream",
          "text": [
            "[Parallel(n_jobs=1)]: Done  49 tasks      | elapsed:  3.6min\n",
            "[Parallel(n_jobs=1)]: Done 199 tasks      | elapsed: 14.6min\n",
            "[Parallel(n_jobs=1)]: Done  49 tasks      | elapsed:    3.1s\n",
            "[Parallel(n_jobs=1)]: Done 199 tasks      | elapsed:   13.1s\n"
          ]
        }
      ],
      "source": [
        "# Apply SMOTE to x and y_dim\n",
        "Sample_Random = SMOTE()\n",
        "Random_X, Random_y = Sample_Random.fit_resample(X, y_dim)\n",
        "\n",
        "# Print the result after SMOTE\n",
        "print(\"Data without SMOTE:\", Counter(y_dim))\n",
        "print(\"Data with SMOTE:\", Counter(Random_y))\n",
        "\n",
        "# Split the data for training and testing\n",
        "X_train, X_test, y_train, y_test = train_test_split(Random_X, Random_y, test_size=0.2, random_state=52)\n",
        "\n",
        "# Create a Random forest Classifier with specific parameter\n",
        "model_Random = RandomForestClassifier(\n",
        "    bootstrap=True, max_depth=100, max_features=2,\n",
        "    min_samples_leaf=3, min_samples_split=10, n_estimators=200,\n",
        "    random_state=10, verbose=1\n",
        ")\n",
        "\n",
        "# Train Random Forest model on X_train and y_test\n",
        "model_Random.fit(X_train, y_train)\n",
        "\n",
        "# Test Random Forest on X_test\n",
        "results = model_Random.predict(X_test)"
      ]
    },
    {
      "cell_type": "code",
      "execution_count": null,
      "id": "0a14d9d2",
      "metadata": {
        "id": "0a14d9d2",
        "outputId": "e70af654-9176-4c4e-e7e9-b2a4ce250dbd"
      },
      "outputs": [
        {
          "name": "stdout",
          "output_type": "stream",
          "text": [
            "True Positive =  552196 \t\t\tFalse Positive =  12 \n",
            "\n",
            "False Negative =  41 \t\t\tTrue Negative =  552630 \n",
            "\n",
            "% of Detected Fraud:\t 1.0 ( 0.999925814815686 )\n",
            "\n",
            "% of Missed Fraud:\t 0.0 ( 7.418518431401289e-05 )\n",
            "\n",
            "Average Precision-Recall score:\t 0.9999412106861043\n"
          ]
        }
      ],
      "source": [
        "Detail(y_test, results)"
      ]
    },
    {
      "cell_type": "code",
      "execution_count": null,
      "id": "35fc5a4d",
      "metadata": {
        "id": "35fc5a4d",
        "outputId": "376ccf7b-a396-4dc3-939c-539116d18437"
      },
      "outputs": [
        {
          "name": "stderr",
          "output_type": "stream",
          "text": [
            "[Parallel(n_jobs=1)]: Done  49 tasks      | elapsed:    3.2s\n",
            "[Parallel(n_jobs=1)]: Done 199 tasks      | elapsed:   13.2s\n"
          ]
        },
        {
          "data": {
            "image/png": "[encoded data removed]",
            "text/plain": [
              "<Figure size 432x288 with 2 Axes>"
            ]
          },
          "metadata": {
            "needs_background": "light"
          },
          "output_type": "display_data"
        },
        {
          "name": "stderr",
          "output_type": "stream",
          "text": [
            "[Parallel(n_jobs=1)]: Done  49 tasks      | elapsed:    3.1s\n",
            "[Parallel(n_jobs=1)]: Done 199 tasks      | elapsed:   13.4s\n"
          ]
        },
        {
          "data": {
            "image/png": "[encoded data removed]",
            "text/plain": [
              "<Figure size 432x288 with 1 Axes>"
            ]
          },
          "metadata": {
            "needs_background": "light"
          },
          "output_type": "display_data"
        }
      ],
      "source": [
        "Plotting(model_Random, X_test, y_test)"
      ]
    },
    {
      "cell_type": "markdown",
      "id": "c169c4a9",
      "metadata": {
        "id": "c169c4a9"
      },
      "source": [
        "## XGBoost - Extreme Gradient Boosting"
      ]
    },
    {
      "cell_type": "markdown",
      "id": "17624647",
      "metadata": {
        "id": "17624647"
      },
      "source": [
        "Supervised learning makes use of boosting. With the help of this ensemble technique, the model's accuracy is increased by combining weak learners into a strong learner. A class can be distinguished using rules. The prediction is invalid if a class is determined based on a single learner. Before selecting the class of the final product, several rules are used.\n"
      ]
    },
    {
      "cell_type": "markdown",
      "id": "d815ed6c",
      "metadata": {
        "id": "d815ed6c"
      },
      "source": [
        "**Gradient Boosting** generates base learners in a progressive manner so that the most recent base learner is more effective than the previous one. The loss function uses the preceding learner's optimised data. Extreme Gradient Boosting operates quickly and effectively. Regression and classification issues are addressed by it. For other models, XGBoost is utilised as a starting point to provide precise predictions. Using this algorithm, you can:\n",
        "\n",
        "**Parallelization**: The algorithm makes use of all available processing power.\n",
        "\n",
        "**Optimising the cache** allows calculations to be stored there and retrieved quickly to complete calculations.\n",
        "\n",
        "**Computing outside of memory** - XGBoost can handle data that takes up more space than is physically possible.\n",
        "\n",
        "**Regularisation** - keeps the model from becoming overfit\n",
        "\n",
        "**Missing  values** - Takes care of missing values in a dataset\n"
      ]
    },
    {
      "cell_type": "markdown",
      "id": "5c6e8b3b",
      "metadata": {
        "id": "5c6e8b3b"
      },
      "source": [
        "The time complexity of **XGBoost is O(t d x log(n))**, where;\n",
        "\n",
        "x - The number of non-missing items in the training data.\n",
        "\n",
        "t - number of trees,\n",
        "\n",
        "d - height of trees.\n",
        "\n",
        "A fresh sample requires **O(t d)** time.\n"
      ]
    },
    {
      "cell_type": "markdown",
      "id": "c3b4d46a",
      "metadata": {
        "id": "c3b4d46a"
      },
      "source": [
        "## Class weights"
      ]
    },
    {
      "cell_type": "markdown",
      "id": "2183c411",
      "metadata": {
        "id": "2183c411"
      },
      "source": [
        "In this illustration, XGBoost sets the scale_pos_weight hyperparameter with the desired **weight** in order to take the weights into account when doing calculations.\n"
      ]
    },
    {
      "cell_type": "code",
      "execution_count": null,
      "id": "0dc661f3",
      "metadata": {
        "id": "0dc661f3"
      },
      "outputs": [],
      "source": [
        "# Split the data for  70% training and 30% testing\n",
        "X_train, X_test, y_train, y_test = train_test_split(X, y_dim, test_size=0.3, random_state=52)"
      ]
    },
    {
      "cell_type": "code",
      "execution_count": null,
      "id": "4c91f8c2",
      "metadata": {
        "id": "4c91f8c2"
      },
      "outputs": [],
      "source": [
        "parameter = (y_dim == 0).sum() / (1.0 * (y_dim == 1).sum())\n",
        "\n",
        "model_XGB = XGBClassifier(n_estimators = 100, learning_rate = 0.01, subsample = 0.3, max_depth = 5, colsample_bytree = 0.5, min_child_weight = 3, scale_pos_weight = parameter)\n",
        "\n",
        "# Train model\n",
        "model_XGB.fit(X_train, y_train)\n",
        "\n",
        "# Test model\n",
        "results = model_XGB.predict(X_test)"
      ]
    },
    {
      "cell_type": "code",
      "execution_count": null,
      "id": "19f2f42e",
      "metadata": {
        "id": "19f2f42e",
        "outputId": "7a9d8088-7d2f-44ff-8cf2-332d23f2943f"
      },
      "outputs": [
        {
          "name": "stdout",
          "output_type": "stream",
          "text": [
            "True Positive =  828700 \t\t\tFalse Positive =  10 \n",
            "\n",
            "False Negative =  12 \t\t\tTrue Negative =  2401 \n",
            "\n",
            "% of Detected Fraud:\t 1.0 ( 0.9950269374222959 )\n",
            "\n",
            "% of Missed Fraud:\t 0.0 ( 0.004973062577704135 )\n",
            "\n",
            "Average Precision-Recall score:\t 0.9909143457000903\n"
          ]
        }
      ],
      "source": [
        "Detail(y_test, results)"
      ]
    },
    {
      "cell_type": "code",
      "execution_count": null,
      "id": "122c334a",
      "metadata": {
        "id": "122c334a",
        "outputId": "2f7aeaa3-0b98-4ee1-ab6e-8953b087384c"
      },
      "outputs": [
        {
          "data": {
            "image/png": "[encoded data removed]",
            "text/plain": [
              "<Figure size 432x288 with 2 Axes>"
            ]
          },
          "metadata": {
            "needs_background": "light"
          },
          "output_type": "display_data"
        },
        {
          "data": {
            "image/png": "[encoded data removed]",
            "text/plain": [
              "<Figure size 432x288 with 1 Axes>"
            ]
          },
          "metadata": {
            "needs_background": "light"
          },
          "output_type": "display_data"
        }
      ],
      "source": [
        "Plotting(model_XGB, X_test, y_test)"
      ]
    },
    {
      "cell_type": "markdown",
      "id": "5098730c",
      "metadata": {
        "id": "5098730c"
      },
      "source": [
        "## SMOTE - Synthetic Minority Oversampling Technique"
      ]
    },
    {
      "cell_type": "code",
      "execution_count": null,
      "id": "56918a2b",
      "metadata": {
        "id": "56918a2b"
      },
      "outputs": [],
      "source": [
        "# Split the data into 70% training and 30%\n",
        "X_train, X_test, y_train, y_test = train_test_split(Random_X, Random_y, test_size = 0.3, random_state = 5)\n",
        "\n",
        "xgb_smote = XGBClassifier(n_estimators = 100, learning_rate = 0.01, subsample = 0.3, max_depth = 5, colsample_bytree = 0.5, min_child_weight = 3)\n",
        "\n",
        "# Train model with train data\n",
        "xgb_smote.fit(X_train, y_train)\n",
        "\n",
        "# Test model's predictions with test data\n",
        "results = xgb_smote.predict(X_test)"
      ]
    },
    {
      "cell_type": "code",
      "execution_count": null,
      "id": "7b5b0824",
      "metadata": {
        "id": "7b5b0824",
        "outputId": "db7c2436-d289-40b8-8678-430ec04e0b3f"
      },
      "outputs": [
        {
          "name": "stdout",
          "output_type": "stream",
          "text": [
            "True Positive =  828743 \t\t\tFalse Positive =  20 \n",
            "\n",
            "False Negative =  3978 \t\t\tTrue Negative =  824577 \n",
            "\n",
            "% of Detected Fraud:\t 1.0 ( 0.9951988703224288 )\n",
            "\n",
            "% of Missed Fraud:\t 0.0 ( 0.004801129677571181 )\n",
            "\n",
            "Average Precision-Recall score:\t 0.997574996056599\n"
          ]
        }
      ],
      "source": [
        "Detail(y_test, results)"
      ]
    },
    {
      "cell_type": "code",
      "execution_count": null,
      "id": "21c2cb02",
      "metadata": {
        "id": "21c2cb02",
        "outputId": "7c5bc2c0-f630-4f1b-ea45-d3dbcec827ed"
      },
      "outputs": [
        {
          "data": {
            "image/png": "[encoded data removed]",
            "text/plain": [
              "<Figure size 432x288 with 2 Axes>"
            ]
          },
          "metadata": {
            "needs_background": "light"
          },
          "output_type": "display_data"
        },
        {
          "data": {
            "image/png": "[encoded data removed]",
            "text/plain": [
              "<Figure size 432x288 with 1 Axes>"
            ]
          },
          "metadata": {
            "needs_background": "light"
          },
          "output_type": "display_data"
        }
      ],
      "source": [
        "Plotting(xgb_smote, X_test, y_test)"
      ]
    },
    {
      "cell_type": "markdown",
      "id": "1541fc0b",
      "metadata": {
        "id": "1541fc0b"
      },
      "source": [
        "## Logistic Regression"
      ]
    },
    {
      "cell_type": "markdown",
      "id": "a443fe58",
      "metadata": {
        "id": "a443fe58"
      },
      "source": [
        "In contrast to linear regression, which predicts continuous data, logistic regression classifies binary dependent variables. With logistic regression, a logistic function with a S shape is fitted to the data as opposed to a line.\n",
        "\n",
        "\n",
        "Where: The time complexity is O(n d)\n",
        "\n",
        "Number- The quantity of training examples.\n",
        "Dimensions- stands for the number of data dimensions.\n",
        "\n",
        "\n"
      ]
    },
    {
      "cell_type": "markdown",
      "id": "e208169f",
      "metadata": {
        "id": "e208169f"
      },
      "source": [
        "## class weights"
      ]
    },
    {
      "cell_type": "code",
      "execution_count": null,
      "id": "f5aa46cb",
      "metadata": {
        "id": "f5aa46cb"
      },
      "outputs": [],
      "source": [
        "X_train, X_test, y_train, y_test = train_test_split(X, y_dim, test_size=0.3, random_state=52)\n",
        "\n",
        "# Create a logistic regression model with balanced class weights\n",
        "logistic_weights = LogisticRegression(C=3, penalty='l1', solver='liblinear', class_weight='balanced')\n",
        "\n",
        "# Fit the model on the training data\n",
        "logistic_weights.fit(X_train, y_train)\n",
        "\n",
        "# Make predictions on the test data\n",
        "results = logistic_weights.predict(X_test)"
      ]
    },
    {
      "cell_type": "code",
      "execution_count": null,
      "id": "94c323f4",
      "metadata": {
        "id": "94c323f4",
        "outputId": "41cc54ab-1bce-4122-ed1b-d7fd5d9a78a4"
      },
      "outputs": [
        {
          "name": "stdout",
          "output_type": "stream",
          "text": [
            "True Positive =  783550 \t\t\tFalse Positive =  45160 \n",
            "\n",
            "False Negative =  215 \t\t\tTrue Negative =  2198 \n",
            "\n",
            "% of Detected Fraud:\t 0.91 ( 0.9108992954828015 )\n",
            "\n",
            "% of Missed Fraud:\t 0.09 ( 0.08910070451719854 )\n",
            "\n",
            "Average Precision-Recall score:\t 0.04253573862172018\n"
          ]
        }
      ],
      "source": [
        "Detail(y_test, results)"
      ]
    },
    {
      "cell_type": "code",
      "execution_count": null,
      "id": "46ed59a2",
      "metadata": {
        "id": "46ed59a2",
        "outputId": "e6e5b4f5-dbb9-481d-d1a6-44cff899fbdb"
      },
      "outputs": [
        {
          "data": {
            "image/png": "[encoded data removed]",
            "text/plain": [
              "<Figure size 432x288 with 2 Axes>"
            ]
          },
          "metadata": {
            "needs_background": "light"
          },
          "output_type": "display_data"
        },
        {
          "data": {
            "image/png": "[encoded data removed]",
            "text/plain": [
              "<Figure size 432x288 with 1 Axes>"
            ]
          },
          "metadata": {
            "needs_background": "light"
          },
          "output_type": "display_data"
        }
      ],
      "source": [
        "Plotting(logistic_weights, X_test, y_test)"
      ]
    },
    {
      "cell_type": "markdown",
      "id": "f2d2daec",
      "metadata": {
        "id": "f2d2daec"
      },
      "source": [
        "## SMOTE - Synthetic Minority Oversampling Technique"
      ]
    },
    {
      "cell_type": "code",
      "execution_count": null,
      "id": "63865592",
      "metadata": {
        "id": "63865592",
        "outputId": "c8f6f699-ab43-4163-804a-a705c38c8af8"
      },
      "outputs": [
        {
          "name": "stdout",
          "output_type": "stream",
          "text": [
            "Data without SMOTE: Counter({0: 2762196, 1: 8213})\n",
            "Data with SMOTE: Counter({1: 2762196, 0: 2762196})\n"
          ]
        }
      ],
      "source": [
        "sampling= SMOTE()\n",
        "sample_x, sample_y = sampling.fit_resample(X, y_dim)\n",
        "\n",
        "print(\"Data without SMOTE:\", Counter(y_dim))\n",
        "print(\"Data with SMOTE:\", Counter(sample_y))"
      ]
    },
    {
      "cell_type": "code",
      "execution_count": null,
      "id": "cf16ae65",
      "metadata": {
        "id": "cf16ae65"
      },
      "outputs": [],
      "source": [
        "# Split the oversampled data into 70% training and 30% testing\n",
        "X_train, X_test, y_train, y_test = train_test_split(sample_x, sample_y, test_size=0.3, random_state=42)"
      ]
    },
    {
      "cell_type": "code",
      "execution_count": null,
      "id": "0f3b6aef",
      "metadata": {
        "id": "0f3b6aef"
      },
      "outputs": [],
      "source": [
        "# Create a logistic regression model\n",
        "logistic = LogisticRegression(C=3, penalty='l1', solver='liblinear')\n",
        "\n",
        "# Fit the logistic regression model on the training data\n",
        "logistic.fit(X_train, y_train)\n",
        "\n",
        "# Make predictions on the test data\n",
        "results = logistic.predict(X_test)\n"
      ]
    },
    {
      "cell_type": "code",
      "execution_count": null,
      "id": "27c6d7d3",
      "metadata": {
        "id": "27c6d7d3",
        "outputId": "1370aade-6f56-4fba-ac9d-9ff5413e2977"
      },
      "outputs": [
        {
          "name": "stdout",
          "output_type": "stream",
          "text": [
            "True Positive =  785440 \t\t\tFalse Positive =  42658 \n",
            "\n",
            "False Negative =  62253 \t\t\tTrue Negative =  766967 \n",
            "\n",
            "% of Detected Fraud:\t 0.92 ( 0.9249258339162104 )\n",
            "\n",
            "% of Missed Fraud:\t 0.08 ( 0.07507416608378958 )\n",
            "\n",
            "Average Precision-Recall score:\t 0.9137552910556304\n"
          ]
        }
      ],
      "source": [
        "Detail(y_test, results)"
      ]
    },
    {
      "cell_type": "code",
      "execution_count": null,
      "id": "5dea528a",
      "metadata": {
        "id": "5dea528a",
        "outputId": "4bf9ce1c-bbfa-43f1-c678-ffef763efa0e"
      },
      "outputs": [
        {
          "data": {
            "image/png": "[encoded data removed]",
            "text/plain": [
              "<Figure size 432x288 with 2 Axes>"
            ]
          },
          "metadata": {
            "needs_background": "light"
          },
          "output_type": "display_data"
        },
        {
          "data": {
            "image/png": "[encoded data removed]",
            "text/plain": [
              "<Figure size 432x288 with 1 Axes>"
            ]
          },
          "metadata": {
            "needs_background": "light"
          },
          "output_type": "display_data"
        }
      ],
      "source": [
        "Plotting(logistic, X_test, y_test)"
      ]
    },
    {
      "cell_type": "markdown",
      "id": "c9c7ed80",
      "metadata": {
        "id": "c9c7ed80"
      },
      "source": [
        "## Naive Bayes Classifier"
      ]
    },
    {
      "cell_type": "markdown",
      "id": "fd4e0c29",
      "metadata": {
        "id": "fd4e0c29"
      },
      "source": [
        "The naive Bayes approach relies on the Bayes' Theorem's definition of conditional probability. Based on past knowledge of circumstances that might be connected to the event, it determines the conditional probability of the occurrence of the event."
      ]
    },
    {
      "cell_type": "markdown",
      "id": "748e4dc8",
      "metadata": {
        "id": "748e4dc8"
      },
      "source": [
        "A variation of Naive Bayes that handles continuous data and follows to the Gaussian normal distribution is the Gaussian Naive Bayes. Gaussian Naive Bayes is one of the Naive Bayes types that is used to detect fraud.\n"
      ]
    },
    {
      "cell_type": "markdown",
      "id": "12f8a10e",
      "metadata": {
        "id": "12f8a10e"
      },
      "source": [
        "O(n d) is the time complexity where:\n",
        "\n",
        "\n",
        "the quantity (n) of training instances\n",
        "\n",
        "d - number of data dimensions\n",
        "\n"
      ]
    },
    {
      "cell_type": "markdown",
      "id": "c0a92cad",
      "metadata": {
        "id": "c0a92cad"
      },
      "source": [
        "## Normal"
      ]
    },
    {
      "cell_type": "code",
      "execution_count": null,
      "id": "1151ad9f",
      "metadata": {
        "id": "1151ad9f"
      },
      "outputs": [],
      "source": [
        "# train test split with 70% training and 30% testing\n",
        "X_train, X_test, y_train, y_test = train_test_split(X, y_dim, test_size=0.3, random_state=5)\n",
        "\n",
        "# Gaussian Naive Bayes classifier  initializing.\n",
        "gaussian_naive_bayes = GaussianNB()\n",
        "\n",
        "# train the model\n",
        "gaussian_naive_bayes.fit(X_train, y_train)\n",
        "\n",
        "# predicting on the test data\n",
        "results = gaussian_naive_bayes.predict(X_test)"
      ]
    },
    {
      "cell_type": "code",
      "execution_count": null,
      "id": "395e5184",
      "metadata": {
        "id": "395e5184",
        "outputId": "559f45ad-3e7b-4f5c-b66e-0feaf2e73ecc"
      },
      "outputs": [
        {
          "name": "stdout",
          "output_type": "stream",
          "text": [
            "True Positive =  820137 \t\t\tFalse Positive =  8438 \n",
            "\n",
            "False Negative =  1531 \t\t\tTrue Negative =  1017 \n",
            "\n",
            "% of Detected Fraud:\t 0.4 ( 0.39913657770800626 )\n",
            "\n",
            "% of Missed Fraud:\t 0.6 ( 0.6008634222919937 )\n",
            "\n",
            "Average Precision-Recall score:\t 0.04477406897669674\n"
          ]
        }
      ],
      "source": [
        "Detail(y_test, results)"
      ]
    },
    {
      "cell_type": "code",
      "execution_count": null,
      "id": "18eda3d4",
      "metadata": {
        "id": "18eda3d4",
        "outputId": "375c1e8d-e1a3-4611-c3cb-70a27316ec54"
      },
      "outputs": [
        {
          "data": {
            "image/png": "[encoded data removed]",
            "text/plain": [
              "<Figure size 432x288 with 2 Axes>"
            ]
          },
          "metadata": {
            "needs_background": "light"
          },
          "output_type": "display_data"
        },
        {
          "data": {
            "image/png": "[encoded data removed]",
            "text/plain": [
              "<Figure size 432x288 with 1 Axes>"
            ]
          },
          "metadata": {
            "needs_background": "light"
          },
          "output_type": "display_data"
        }
      ],
      "source": [
        "Plotting(gaussian_naive_bayes, X_test, y_test)"
      ]
    },
    {
      "cell_type": "markdown",
      "id": "09fcd6ee",
      "metadata": {
        "id": "09fcd6ee"
      },
      "source": [
        "## SMOTE - Synthetic Minority Oversampling Technique"
      ]
    },
    {
      "cell_type": "code",
      "execution_count": null,
      "id": "7f736f40",
      "metadata": {
        "id": "7f736f40"
      },
      "outputs": [],
      "source": [
        "# Split the data into 70% training and 30% testing, make sure data split is consistent (random_state)\n",
        "X_train, X_test, y_train, y_test = train_test_split(Random_X, Random_y, test_size = 0.3, random_state = 5)\n",
        "gnb_smote = GaussianNB()\n",
        "gnb_smote.fit(X_train, y_train)\n",
        "results = gnb_smote.predict(X_test)"
      ]
    },
    {
      "cell_type": "code",
      "execution_count": null,
      "id": "fb054f08",
      "metadata": {
        "id": "fb054f08",
        "outputId": "8fcdbfa6-9e88-45bf-f5e1-1504bb332667"
      },
      "outputs": [
        {
          "name": "stdout",
          "output_type": "stream",
          "text": [
            "True Positive =  813785 \t\t\tFalse Positive =  14978 \n",
            "\n",
            "False Negative =  444490 \t\t\tTrue Negative =  384065 \n",
            "\n",
            "% of Detected Fraud:\t 0.46 ( 0.4635359149362444 )\n",
            "\n",
            "% of Missed Fraud:\t 0.54 ( 0.5364640850637556 )\n",
            "\n",
            "Average Precision-Recall score:\t 0.7143355644866245\n"
          ]
        }
      ],
      "source": [
        "Detail(y_test, results)"
      ]
    },
    {
      "cell_type": "code",
      "execution_count": null,
      "id": "2ec7a154",
      "metadata": {
        "id": "2ec7a154",
        "outputId": "2a0a6660-d921-479c-ab48-08142df016f6"
      },
      "outputs": [
        {
          "data": {
            "image/png": "[encoded data removed]",
            "text/plain": [
              "<Figure size 432x288 with 2 Axes>"
            ]
          },
          "metadata": {
            "needs_background": "light"
          },
          "output_type": "display_data"
        },
        {
          "data": {
            "image/png": "[encoded data removed]",
            "text/plain": [
              "<Figure size 432x288 with 1 Axes>"
            ]
          },
          "metadata": {
            "needs_background": "light"
          },
          "output_type": "display_data"
        }
      ],
      "source": [
        "Plotting(gnb_smote, X_test, y_test)"
      ]
    },
    {
      "cell_type": "markdown",
      "id": "73b383d7",
      "metadata": {
        "id": "73b383d7"
      },
      "source": [
        "## K-Nearest Neighbour"
      ]
    },
    {
      "cell_type": "markdown",
      "id": "9a6bff51",
      "metadata": {
        "id": "9a6bff51"
      },
      "source": [
        "A straightforward supervised machine learning approach called K-Nearest Neighbours is utilised to resolve classification and regression issues. This approach locates a fresh set of unlabeled data's k nearest neighbours. The number of closest neighbours that will be taken into account while classifying the data is K. Choosing an odd K number is a good practise since it ensures that one class receives one more vote than the other when determining the class of the unlabeled data.\n"
      ]
    },
    {
      "cell_type": "markdown",
      "id": "93fdfe81",
      "metadata": {
        "id": "93fdfe81"
      },
      "source": [
        "This approach requires very little math knowledge and is very simple to use. The drawbacks are that it uses a lot of memory, that fresh predictions take longer, and that there isn't any actual pre-processing. The computation of the label will take longer the larger the K value is. Where: The time complexity is O(k n d);\n",
        "\n",
        "k is the number of neighbours.\n",
        "\n",
        "n is the number of practise examples.\n",
        "\n",
        "d - number of data dimensions.\n"
      ]
    },
    {
      "cell_type": "markdown",
      "id": "aa70a2af",
      "metadata": {
        "id": "aa70a2af"
      },
      "source": [
        "## Normal"
      ]
    },
    {
      "cell_type": "code",
      "execution_count": null,
      "id": "e061a0a3",
      "metadata": {
        "id": "e061a0a3"
      },
      "outputs": [],
      "source": [
        "scaling= StandardScaler()"
      ]
    },
    {
      "cell_type": "code",
      "execution_count": null,
      "id": "82b032e7",
      "metadata": {
        "id": "82b032e7"
      },
      "outputs": [],
      "source": [
        "scaling_X = scaling.fit_transform(X)"
      ]
    },
    {
      "cell_type": "code",
      "execution_count": null,
      "id": "bb7c9d91",
      "metadata": {
        "id": "bb7c9d91"
      },
      "outputs": [],
      "source": [
        "# Split the data into 70% training and 30% testing, make sure data split is consistent (random_state)\n",
        "X_train, X_test, y_train, y_test = train_test_split(scaling_X, y_dim, test_size = 0.3, random_state = 5)"
      ]
    },
    {
      "cell_type": "code",
      "execution_count": null,
      "id": "a235dd0c",
      "metadata": {
        "id": "a235dd0c",
        "outputId": "f55f15a3-2a8e-41ea-bc4d-04338112f81d"
      },
      "outputs": [
        {
          "data": {
            "text/plain": [
              "KNeighborsClassifier(weights='distance')"
            ]
          },
          "execution_count": 40,
          "metadata": {},
          "output_type": "execute_result"
        }
      ],
      "source": [
        "knn_classifier_scaled = KNeighborsClassifier(n_neighbors=5, weights='distance', p=2)\n",
        "knn_classifier_scaled.fit(X_train, y_train)"
      ]
    },
    {
      "cell_type": "code",
      "execution_count": null,
      "id": "e3f0b3e7",
      "metadata": {
        "id": "e3f0b3e7"
      },
      "outputs": [],
      "source": [
        "results= knn_classifier_scaled.predict(X_test)"
      ]
    },
    {
      "cell_type": "code",
      "execution_count": null,
      "id": "9d1f8352",
      "metadata": {
        "id": "9d1f8352",
        "outputId": "b22fd25c-f621-4d3e-eaf0-1a83966ea8f9"
      },
      "outputs": [
        {
          "name": "stdout",
          "output_type": "stream",
          "text": [
            "True Positive =  828523 \t\t\tFalse Positive =  52 \n",
            "\n",
            "False Negative =  830 \t\t\tTrue Negative =  1718 \n",
            "\n",
            "% of Detected Fraud:\t 0.67 ( 0.67425431711146 )\n",
            "\n",
            "% of Missed Fraud:\t 0.33 ( 0.32574568288854 )\n",
            "\n",
            "Average Precision-Recall score:\t 0.6554443645209155\n"
          ]
        }
      ],
      "source": [
        "Detail(y_test, results)"
      ]
    },
    {
      "cell_type": "code",
      "execution_count": null,
      "id": "be63ca76",
      "metadata": {
        "scrolled": false,
        "id": "be63ca76",
        "outputId": "4c5d4af5-b8e5-4700-a90f-37864218c856"
      },
      "outputs": [
        {
          "data": {
            "image/png": "[encoded data removed]",
            "text/plain": [
              "<Figure size 432x288 with 2 Axes>"
            ]
          },
          "metadata": {
            "needs_background": "light"
          },
          "output_type": "display_data"
        },
        {
          "data": {
            "image/png": "[encoded data removed]",
            "text/plain": [
              "<Figure size 432x288 with 1 Axes>"
            ]
          },
          "metadata": {
            "needs_background": "light"
          },
          "output_type": "display_data"
        }
      ],
      "source": [
        "Plotting(knn_classifier_scaled, X_test, y_test)"
      ]
    },
    {
      "cell_type": "markdown",
      "id": "94c77ca0",
      "metadata": {
        "id": "94c77ca0"
      },
      "source": [
        "## SMOTE - Synthetic Minority Oversampling Technique"
      ]
    },
    {
      "cell_type": "code",
      "execution_count": null,
      "id": "284ed0b5",
      "metadata": {
        "id": "284ed0b5",
        "outputId": "faa0bddd-52f6-4b30-d888-9c6188bfb66c"
      },
      "outputs": [
        {
          "name": "stdout",
          "output_type": "stream",
          "text": [
            "Normal:  Counter({0: 2762196, 1: 8213})\n",
            "SMOTE:  Counter({1: 2762196, 0: 2762196})\n"
          ]
        }
      ],
      "source": [
        "scaled_X = scaling.fit_transform(Random_X)\n",
        "print(\"Normal: \", Counter(y_dim))\n",
        "print(\"SMOTE: \", Counter(Random_y))"
      ]
    },
    {
      "cell_type": "code",
      "execution_count": null,
      "id": "8ee083c4",
      "metadata": {
        "id": "8ee083c4"
      },
      "outputs": [],
      "source": [
        "# Split the data into 70% training and 30% testing, make sure data split is consistent (random_state)\n",
        "X_train, X_test, y_train, y_test = train_test_split(scaled_X, Random_y, test_size = 0.3, random_state = 52)"
      ]
    },
    {
      "cell_type": "code",
      "execution_count": null,
      "id": "4ca0db8e",
      "metadata": {
        "id": "4ca0db8e",
        "outputId": "1a8822b3-a79f-4437-d127-76d5d4d021d7"
      },
      "outputs": [
        {
          "data": {
            "text/plain": [
              "KNeighborsClassifier(weights='distance')"
            ]
          },
          "execution_count": 46,
          "metadata": {},
          "output_type": "execute_result"
        }
      ],
      "source": [
        "knn_smote = KNeighborsClassifier(n_neighbors=5, weights='distance', p=2)\n",
        "knn_smote.fit(X_train, y_train)"
      ]
    },
    {
      "cell_type": "code",
      "execution_count": null,
      "id": "9fb21b0f",
      "metadata": {
        "id": "9fb21b0f"
      },
      "outputs": [],
      "source": [
        "results= knn_smote.predict(X_test)"
      ]
    },
    {
      "cell_type": "code",
      "execution_count": null,
      "id": "c7158b4d",
      "metadata": {
        "id": "c7158b4d",
        "outputId": "74e035a4-7a27-4621-c9e7-2ad5ca26222c"
      },
      "outputs": [
        {
          "name": "stdout",
          "output_type": "stream",
          "text": [
            "True Positive =  825959 \t\t\tFalse Positive =  2591 \n",
            "\n",
            "False Negative =  1117 \t\t\tTrue Negative =  827651 \n",
            "\n",
            "% of Detected Fraud:\t 1.0 ( 0.9986522163017877 )\n",
            "\n",
            "% of Missed Fraud:\t 0.0 ( 0.0013477836982123126 )\n",
            "\n",
            "Average Precision-Recall score:\t 0.9962096260915597\n"
          ]
        }
      ],
      "source": [
        "Detail(y_test, results)"
      ]
    },
    {
      "cell_type": "code",
      "execution_count": null,
      "id": "e651f876",
      "metadata": {
        "id": "e651f876",
        "outputId": "41e20d85-e6a9-4cb7-f864-0a6446a8b85e"
      },
      "outputs": [
        {
          "data": {
            "image/png": "[encoded data removed]",
            "text/plain": [
              "<Figure size 432x288 with 2 Axes>"
            ]
          },
          "metadata": {
            "needs_background": "light"
          },
          "output_type": "display_data"
        },
        {
          "data": {
            "image/png": "[encoded data removed]",
            "text/plain": [
              "<Figure size 432x288 with 1 Axes>"
            ]
          },
          "metadata": {
            "needs_background": "light"
          },
          "output_type": "display_data"
        }
      ],
      "source": [
        "Plotting(knn_smote, X_test, y_test)"
      ]
    },
    {
      "cell_type": "markdown",
      "id": "f8cb5494",
      "metadata": {
        "id": "f8cb5494"
      },
      "source": [
        "## Conclusion"
      ]
    },
    {
      "cell_type": "markdown",
      "id": "e916df0d",
      "metadata": {
        "id": "e916df0d"
      },
      "source": [
        "Using the PaySim dataset, we investigated several machine learning models for fraud detection in this investigation. We tested many algorithms, such as Naive Bayes, Logistic Regression, Random Forest, XGBoost, and k-Nearest Neighbours (KNN).\n",
        "\n",
        "We found that models like Random Forest and XGBoost performed very well in properly identifying fraudulent transactions when paired with methods like Synthetic Minority Over-sampling Technique (SMOTE) and suitable class weights. These models successfully recognised a significant portion of fraudulent actions because to their high True Positive rates.\n",
        "\n",
        "The performance of the model was also considerably enhanced by the application of SMOTE in managing unbalanced data, which decreased the number of missed fraud instances. These models consistently have high Average Precision-Recall scores, which confirms their efficacy by summarising the precision-recall trade-off.\n",
        "\n",
        "It's crucial to remember that the ideal model might be determined by particular company needs, available computing power, and the precision vs. recall trade-off. Each model has advantages and disadvantages, and these things should be taken into account while choosing a model.\n",
        "\n",
        "In summary, this research offers a thorough review of fraud detection strategies and illustrates how cutting-edge machine learning models handle unbalanced datasets. These models provide effective ways to spot fraudulent transactions, including top performers Random Forest and XGBoost with SMOTE.\n",
        "\n"
      ]
    }
  ],
  "metadata": {
    "kernelspec": {
      "display_name": "Python 3 (ipykernel)",
      "language": "python",
      "name": "python3"
    },
    "language_info": {
      "codemirror_mode": {
        "name": "ipython",
        "version": 3
      },
      "file_extension": ".py",
      "mimetype": "text/x-python",
      "name": "python",
      "nbconvert_exporter": "python",
      "pygments_lexer": "ipython3",
      "version": "3.9.12"
    },
    "colab": {
      "provenance": []
    }
  },
  "nbformat": 4,
  "nbformat_minor": 5
}