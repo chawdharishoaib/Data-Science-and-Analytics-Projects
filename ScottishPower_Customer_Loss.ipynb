{
  "nbformat": 4,
  "nbformat_minor": 0,
  "metadata": {
    "colab": {
      "provenance": [],
      "collapsed_sections": [
        "MaFQHYGuBq45"
      ],
      "include_colab_link": true
    },
    "kernelspec": {
      "name": "python3",
      "display_name": "Python 3"
    },
    "language_info": {
      "name": "python"
    }
  },
  "cells": [
    {
      "cell_type": "markdown",
      "metadata": {
        "id": "view-in-github",
        "colab_type": "text"
      },
      "source": [
        "<a href=\"https://colab.research.google.com/github/chawdharishoaib/Data-Science-and-Analytics-Projects/blob/main/ScottishPower_Customer_Loss.ipynb\" target=\"_parent\"><img src=\"https://colab.research.google.com/assets/colab-badge.svg\" alt=\"Open In Colab\"/></a>"
      ]
    },
    {
      "cell_type": "markdown",
      "source": [
        "#Customer loss prediction"
      ],
      "metadata": {
        "id": "mz_pf_hsiGVt"
      }
    },
    {
      "cell_type": "markdown",
      "source": [
        "### **Problem Statement:**\n",
        "Present an analysis why customers have left ScottishPower?"
      ],
      "metadata": {
        "id": "SG0Gtw8fxs2d"
      }
    },
    {
      "cell_type": "markdown",
      "source": [
        "# Introduction:\n",
        "\n",
        "What is Customer Churn?\n",
        "\n",
        "Customer churn is defined as when customers or subscribers discontinue doing business with a firm or service.\n",
        "\n",
        "Customers in the energy industry can choose from a variety of service providers and switch from one to the next. The energy business has an annual churn rate of 11% percent in this highly competitive market.\n",
        "\n",
        "Customer churn is a critical metric because it is much less expensive to retain existing customers than it is to acquire new customers. To reduce customer churn, companies need to predict which customers are at high risk of churn. As a result, by addressing churn, these businesses may not only preserve their market position, but also grow and thrive.\n",
        "\n",
        "Objectives:\n",
        "\n",
        "I will explore the data and try to answer some questions like:\n",
        "* What's the % of Churn Customers and customers that keep in with the active services?\n",
        "* Is there any patterns in Churn Customers based on the tenure?\n",
        "* Is there any patterns/preference in Churn Customers based on the type of payments method?\n",
        "* Many more questions that will arise during the analysis"
      ],
      "metadata": {
        "id": "7icXRHtKtuG-"
      }
    },
    {
      "cell_type": "markdown",
      "source": [
        "## 1. Importing Liabraries"
      ],
      "metadata": {
        "id": "m--CUfJt6cXT"
      }
    },
    {
      "cell_type": "code",
      "source": [
        "# import necessary libraries\n",
        "import pandas as pd\n",
        "import numpy as np\n",
        "import missingno as msno\n",
        "import matplotlib.pyplot as plt\n",
        "import seaborn as sns\n",
        "import plotly.express as px\n",
        "import plotly.graph_objects as go\n",
        "from plotly.subplots import make_subplots\n",
        "import warnings\n",
        "warnings.filterwarnings('ignore')\n",
        "%matplotlib inline"
      ],
      "metadata": {
        "id": "AlK62-DpxsTK"
      },
      "execution_count": null,
      "outputs": []
    },
    {
      "cell_type": "code",
      "source": [
        "import plotly.io as pio\n",
        "pio.renderers.default = 'colab'"
      ],
      "metadata": {
        "id": "ikmDqayr_BLP"
      },
      "execution_count": null,
      "outputs": []
    },
    {
      "cell_type": "markdown",
      "source": [
        "## 2. Loading data from drive"
      ],
      "metadata": {
        "id": "ZXLeP2Mi7ERU"
      }
    },
    {
      "cell_type": "code",
      "execution_count": null,
      "metadata": {
        "colab": {
          "base_uri": "https://localhost:8080/"
        },
        "id": "KirUvgiVgsOg",
        "outputId": "d208a39c-84b4-4fc3-88ec-b89b4bbe6e4d"
      },
      "outputs": [
        {
          "output_type": "stream",
          "name": "stdout",
          "text": [
            "Mounted at /content/drive\n"
          ]
        }
      ],
      "source": [
        "# mounting drive\n",
        "from google.colab import drive\n",
        "drive.mount('/content/drive')"
      ]
    },
    {
      "cell_type": "code",
      "source": [
        "# read files from drive or database\n",
        "df = pd.read_csv('/content/drive/My Drive/database/SP_Loss_Data.csv')"
      ],
      "metadata": {
        "id": "zwOn9xMT-z32"
      },
      "execution_count": null,
      "outputs": []
    },
    {
      "cell_type": "code",
      "source": [
        "# view all the columns in the dataset\n",
        "pd.set_option('display.max_columns', None)"
      ],
      "metadata": {
        "id": "D8IKW9uB_2jz"
      },
      "execution_count": null,
      "outputs": []
    },
    {
      "cell_type": "code",
      "source": [
        "df.head()"
      ],
      "metadata": {
        "colab": {
          "base_uri": "https://localhost:8080/",
          "height": 487
        },
        "id": "kjUBSvqqAAjI",
        "outputId": "f8dc8745-e211-4377-88a3-dd92d8dafa93"
      },
      "execution_count": null,
      "outputs": [
        {
          "output_type": "execute_result",
          "data": {
            "text/plain": [
              "     LossDate  Loss AccountStartdate AccountDeterminationGroup  \\\n",
              "0  08/05/2024     1       20/02/2014                  Domestic   \n",
              "1  15/05/2024     1       19/11/2022                  Domestic   \n",
              "2  29/05/2024     1       31/05/2023                  Domestic   \n",
              "3  06/05/2024     1       24/09/2013                  Domestic   \n",
              "4  16/05/2024     1       06/04/2019                  Domestic   \n",
              "\n",
              "  InstallmentPlan  OffsetValue DebtPlanGroup PaymentFrequency ComplaintType  \\\n",
              "0              No       488.17          Cash          Monthly           NaN   \n",
              "1              No        27.88          Cash          Monthly           NaN   \n",
              "2              No        66.87          Cash          Monthly           NaN   \n",
              "3              No        46.65          Cash        Quarterly           NaN   \n",
              "4              No      1145.62          Cash          Monthly           NaN   \n",
              "\n",
              "  StatusGrouping CustomerCategory        CustomerType PreferredContactMethod  \\\n",
              "0            NaN           Person             Unknown          Post (letter)   \n",
              "1            NaN           Person  Type not available          Post (letter)   \n",
              "2            NaN           Person             Unknown                 E-Mail   \n",
              "3            NaN           Person             Unknown          Post (letter)   \n",
              "4            NaN           Person  Type not available          Post (letter)   \n",
              "\n",
              "        OfgemCodeRisk          MosaicGroup           MosaicType  \\\n",
              "0       PSR_High_Risk        Vintage Value      Pocket Pensions   \n",
              "1  PSR_No_SNEED_Flags  Aspiring Homemakers  Contemporary Starts   \n",
              "2  PSR_No_SNEED_Flags          Rental Hubs        Central Pulse   \n",
              "3  PSR_No_SNEED_Flags    Municipal Tenants       Mature Workers   \n",
              "4  PSR_No_SNEED_Flags        Vintage Value      Pocket Pensions   \n",
              "\n",
              "                                      MosaicTypeDesc MosaicDigitalGroup  \\\n",
              "0  Penny-wise elderly singles renting in developm...   Tentative Elders   \n",
              "1  Young families and singles setting up home in ...  First-Gen Parents   \n",
              "2  City-loving youngsters renting central flats i...   Digital Frontier   \n",
              "3  Older social renters settled in low value home...   Online Escapists   \n",
              "4  Penny-wise elderly singles renting in developm...   Tentative Elders   \n",
              "\n",
              "                              MosaicDigitalGroupDesc   MosaicFSSGroup  \\\n",
              "0  Elderly singles and households with little to ...  Declining Years   \n",
              "1  Members of the first digital generation who ar...     Deal Seekers   \n",
              "2  Young adults with sophisticated online behavio...     Money Makers   \n",
              "3  Singles and families with squeezed finances us...     Cash Economy   \n",
              "4  Elderly singles and households with little to ...  Declining Years   \n",
              "\n",
              "        MosaicFSSType  MosaicHouseholdIncValue MosaicResidenceType  \\\n",
              "0  Elderly Assistance                     9264                Flat   \n",
              "1     Cost Optimisers                    25973       Semi-Detached   \n",
              "2           City Buzz                    54227                Flat   \n",
              "3   Workaday Families                    22953            Terraced   \n",
              "4  Elderly Assistance                     9264                Flat   \n",
              "\n",
              "   MosaicNoAdultsHousehold  \n",
              "0                        1  \n",
              "1                        2  \n",
              "2                        2  \n",
              "3                        2  \n",
              "4                        1  "
            ],
            "text/html": [
              "\n",
              "  <div id=\"df-848a6d37-913c-4cbd-bdc8-88a1c991eddd\" class=\"colab-df-container\">\n",
              "    <div>\n",
              "<style scoped>\n",
              "    .dataframe tbody tr th:only-of-type {\n",
              "        vertical-align: middle;\n",
              "    }\n",
              "\n",
              "    .dataframe tbody tr th {\n",
              "        vertical-align: top;\n",
              "    }\n",
              "\n",
              "    .dataframe thead th {\n",
              "        text-align: right;\n",
              "    }\n",
              "</style>\n",
              "<table border=\"1\" class=\"dataframe\">\n",
              "  <thead>\n",
              "    <tr style=\"text-align: right;\">\n",
              "      <th></th>\n",
              "      <th>LossDate</th>\n",
              "      <th>Loss</th>\n",
              "      <th>AccountStartdate</th>\n",
              "      <th>AccountDeterminationGroup</th>\n",
              "      <th>InstallmentPlan</th>\n",
              "      <th>OffsetValue</th>\n",
              "      <th>DebtPlanGroup</th>\n",
              "      <th>PaymentFrequency</th>\n",
              "      <th>ComplaintType</th>\n",
              "      <th>StatusGrouping</th>\n",
              "      <th>CustomerCategory</th>\n",
              "      <th>CustomerType</th>\n",
              "      <th>PreferredContactMethod</th>\n",
              "      <th>OfgemCodeRisk</th>\n",
              "      <th>MosaicGroup</th>\n",
              "      <th>MosaicType</th>\n",
              "      <th>MosaicTypeDesc</th>\n",
              "      <th>MosaicDigitalGroup</th>\n",
              "      <th>MosaicDigitalGroupDesc</th>\n",
              "      <th>MosaicFSSGroup</th>\n",
              "      <th>MosaicFSSType</th>\n",
              "      <th>MosaicHouseholdIncValue</th>\n",
              "      <th>MosaicResidenceType</th>\n",
              "      <th>MosaicNoAdultsHousehold</th>\n",
              "    </tr>\n",
              "  </thead>\n",
              "  <tbody>\n",
              "    <tr>\n",
              "      <th>0</th>\n",
              "      <td>08/05/2024</td>\n",
              "      <td>1</td>\n",
              "      <td>20/02/2014</td>\n",
              "      <td>Domestic</td>\n",
              "      <td>No</td>\n",
              "      <td>488.17</td>\n",
              "      <td>Cash</td>\n",
              "      <td>Monthly</td>\n",
              "      <td>NaN</td>\n",
              "      <td>NaN</td>\n",
              "      <td>Person</td>\n",
              "      <td>Unknown</td>\n",
              "      <td>Post (letter)</td>\n",
              "      <td>PSR_High_Risk</td>\n",
              "      <td>Vintage Value</td>\n",
              "      <td>Pocket Pensions</td>\n",
              "      <td>Penny-wise elderly singles renting in developm...</td>\n",
              "      <td>Tentative Elders</td>\n",
              "      <td>Elderly singles and households with little to ...</td>\n",
              "      <td>Declining Years</td>\n",
              "      <td>Elderly Assistance</td>\n",
              "      <td>9264</td>\n",
              "      <td>Flat</td>\n",
              "      <td>1</td>\n",
              "    </tr>\n",
              "    <tr>\n",
              "      <th>1</th>\n",
              "      <td>15/05/2024</td>\n",
              "      <td>1</td>\n",
              "      <td>19/11/2022</td>\n",
              "      <td>Domestic</td>\n",
              "      <td>No</td>\n",
              "      <td>27.88</td>\n",
              "      <td>Cash</td>\n",
              "      <td>Monthly</td>\n",
              "      <td>NaN</td>\n",
              "      <td>NaN</td>\n",
              "      <td>Person</td>\n",
              "      <td>Type not available</td>\n",
              "      <td>Post (letter)</td>\n",
              "      <td>PSR_No_SNEED_Flags</td>\n",
              "      <td>Aspiring Homemakers</td>\n",
              "      <td>Contemporary Starts</td>\n",
              "      <td>Young families and singles setting up home in ...</td>\n",
              "      <td>First-Gen Parents</td>\n",
              "      <td>Members of the first digital generation who ar...</td>\n",
              "      <td>Deal Seekers</td>\n",
              "      <td>Cost Optimisers</td>\n",
              "      <td>25973</td>\n",
              "      <td>Semi-Detached</td>\n",
              "      <td>2</td>\n",
              "    </tr>\n",
              "    <tr>\n",
              "      <th>2</th>\n",
              "      <td>29/05/2024</td>\n",
              "      <td>1</td>\n",
              "      <td>31/05/2023</td>\n",
              "      <td>Domestic</td>\n",
              "      <td>No</td>\n",
              "      <td>66.87</td>\n",
              "      <td>Cash</td>\n",
              "      <td>Monthly</td>\n",
              "      <td>NaN</td>\n",
              "      <td>NaN</td>\n",
              "      <td>Person</td>\n",
              "      <td>Unknown</td>\n",
              "      <td>E-Mail</td>\n",
              "      <td>PSR_No_SNEED_Flags</td>\n",
              "      <td>Rental Hubs</td>\n",
              "      <td>Central Pulse</td>\n",
              "      <td>City-loving youngsters renting central flats i...</td>\n",
              "      <td>Digital Frontier</td>\n",
              "      <td>Young adults with sophisticated online behavio...</td>\n",
              "      <td>Money Makers</td>\n",
              "      <td>City Buzz</td>\n",
              "      <td>54227</td>\n",
              "      <td>Flat</td>\n",
              "      <td>2</td>\n",
              "    </tr>\n",
              "    <tr>\n",
              "      <th>3</th>\n",
              "      <td>06/05/2024</td>\n",
              "      <td>1</td>\n",
              "      <td>24/09/2013</td>\n",
              "      <td>Domestic</td>\n",
              "      <td>No</td>\n",
              "      <td>46.65</td>\n",
              "      <td>Cash</td>\n",
              "      <td>Quarterly</td>\n",
              "      <td>NaN</td>\n",
              "      <td>NaN</td>\n",
              "      <td>Person</td>\n",
              "      <td>Unknown</td>\n",
              "      <td>Post (letter)</td>\n",
              "      <td>PSR_No_SNEED_Flags</td>\n",
              "      <td>Municipal Tenants</td>\n",
              "      <td>Mature Workers</td>\n",
              "      <td>Older social renters settled in low value home...</td>\n",
              "      <td>Online Escapists</td>\n",
              "      <td>Singles and families with squeezed finances us...</td>\n",
              "      <td>Cash Economy</td>\n",
              "      <td>Workaday Families</td>\n",
              "      <td>22953</td>\n",
              "      <td>Terraced</td>\n",
              "      <td>2</td>\n",
              "    </tr>\n",
              "    <tr>\n",
              "      <th>4</th>\n",
              "      <td>16/05/2024</td>\n",
              "      <td>1</td>\n",
              "      <td>06/04/2019</td>\n",
              "      <td>Domestic</td>\n",
              "      <td>No</td>\n",
              "      <td>1145.62</td>\n",
              "      <td>Cash</td>\n",
              "      <td>Monthly</td>\n",
              "      <td>NaN</td>\n",
              "      <td>NaN</td>\n",
              "      <td>Person</td>\n",
              "      <td>Type not available</td>\n",
              "      <td>Post (letter)</td>\n",
              "      <td>PSR_No_SNEED_Flags</td>\n",
              "      <td>Vintage Value</td>\n",
              "      <td>Pocket Pensions</td>\n",
              "      <td>Penny-wise elderly singles renting in developm...</td>\n",
              "      <td>Tentative Elders</td>\n",
              "      <td>Elderly singles and households with little to ...</td>\n",
              "      <td>Declining Years</td>\n",
              "      <td>Elderly Assistance</td>\n",
              "      <td>9264</td>\n",
              "      <td>Flat</td>\n",
              "      <td>1</td>\n",
              "    </tr>\n",
              "  </tbody>\n",
              "</table>\n",
              "</div>\n",
              "    <div class=\"colab-df-buttons\">\n",
              "\n",
              "  <div class=\"colab-df-container\">\n",
              "    <button class=\"colab-df-convert\" onclick=\"convertToInteractive('df-848a6d37-913c-4cbd-bdc8-88a1c991eddd')\"\n",
              "            title=\"Convert this dataframe to an interactive table.\"\n",
              "            style=\"display:none;\">\n",
              "\n",
              "  <svg xmlns=\"http://www.w3.org/2000/svg\" height=\"24px\" viewBox=\"0 -960 960 960\">\n",
              "    <path d=\"M120-120v-720h720v720H120Zm60-500h600v-160H180v160Zm220 220h160v-160H400v160Zm0 220h160v-160H400v160ZM180-400h160v-160H180v160Zm440 0h160v-160H620v160ZM180-180h160v-160H180v160Zm440 0h160v-160H620v160Z\"/>\n",
              "  </svg>\n",
              "    </button>\n",
              "\n",
              "  <style>\n",
              "    .colab-df-container {\n",
              "      display:flex;\n",
              "      gap: 12px;\n",
              "    }\n",
              "\n",
              "    .colab-df-convert {\n",
              "      background-color: #E8F0FE;\n",
              "      border: none;\n",
              "      border-radius: 50%;\n",
              "      cursor: pointer;\n",
              "      display: none;\n",
              "      fill: #1967D2;\n",
              "      height: 32px;\n",
              "      padding: 0 0 0 0;\n",
              "      width: 32px;\n",
              "    }\n",
              "\n",
              "    .colab-df-convert:hover {\n",
              "      background-color: #E2EBFA;\n",
              "      box-shadow: 0px 1px 2px rgba(60, 64, 67, 0.3), 0px 1px 3px 1px rgba(60, 64, 67, 0.15);\n",
              "      fill: #174EA6;\n",
              "    }\n",
              "\n",
              "    .colab-df-buttons div {\n",
              "      margin-bottom: 4px;\n",
              "    }\n",
              "\n",
              "    [theme=dark] .colab-df-convert {\n",
              "      background-color: #3B4455;\n",
              "      fill: #D2E3FC;\n",
              "    }\n",
              "\n",
              "    [theme=dark] .colab-df-convert:hover {\n",
              "      background-color: #434B5C;\n",
              "      box-shadow: 0px 1px 3px 1px rgba(0, 0, 0, 0.15);\n",
              "      filter: drop-shadow(0px 1px 2px rgba(0, 0, 0, 0.3));\n",
              "      fill: #FFFFFF;\n",
              "    }\n",
              "  </style>\n",
              "\n",
              "    <script>\n",
              "      const buttonEl =\n",
              "        document.querySelector('#df-848a6d37-913c-4cbd-bdc8-88a1c991eddd button.colab-df-convert');\n",
              "      buttonEl.style.display =\n",
              "        google.colab.kernel.accessAllowed ? 'block' : 'none';\n",
              "\n",
              "      async function convertToInteractive(key) {\n",
              "        const element = document.querySelector('#df-848a6d37-913c-4cbd-bdc8-88a1c991eddd');\n",
              "        const dataTable =\n",
              "          await google.colab.kernel.invokeFunction('convertToInteractive',\n",
              "                                                    [key], {});\n",
              "        if (!dataTable) return;\n",
              "\n",
              "        const docLinkHtml = 'Like what you see? Visit the ' +\n",
              "          '<a target=\"_blank\" href=https://colab.research.google.com/notebooks/data_table.ipynb>data table notebook</a>'\n",
              "          + ' to learn more about interactive tables.';\n",
              "        element.innerHTML = '';\n",
              "        dataTable['output_type'] = 'display_data';\n",
              "        await google.colab.output.renderOutput(dataTable, element);\n",
              "        const docLink = document.createElement('div');\n",
              "        docLink.innerHTML = docLinkHtml;\n",
              "        element.appendChild(docLink);\n",
              "      }\n",
              "    </script>\n",
              "  </div>\n",
              "\n",
              "\n",
              "<div id=\"df-7a41c7aa-d292-4a09-992c-4ae7d7788391\">\n",
              "  <button class=\"colab-df-quickchart\" onclick=\"quickchart('df-7a41c7aa-d292-4a09-992c-4ae7d7788391')\"\n",
              "            title=\"Suggest charts\"\n",
              "            style=\"display:none;\">\n",
              "\n",
              "<svg xmlns=\"http://www.w3.org/2000/svg\" height=\"24px\"viewBox=\"0 0 24 24\"\n",
              "     width=\"24px\">\n",
              "    <g>\n",
              "        <path d=\"M19 3H5c-1.1 0-2 .9-2 2v14c0 1.1.9 2 2 2h14c1.1 0 2-.9 2-2V5c0-1.1-.9-2-2-2zM9 17H7v-7h2v7zm4 0h-2V7h2v10zm4 0h-2v-4h2v4z\"/>\n",
              "    </g>\n",
              "</svg>\n",
              "  </button>\n",
              "\n",
              "<style>\n",
              "  .colab-df-quickchart {\n",
              "      --bg-color: #E8F0FE;\n",
              "      --fill-color: #1967D2;\n",
              "      --hover-bg-color: #E2EBFA;\n",
              "      --hover-fill-color: #174EA6;\n",
              "      --disabled-fill-color: #AAA;\n",
              "      --disabled-bg-color: #DDD;\n",
              "  }\n",
              "\n",
              "  [theme=dark] .colab-df-quickchart {\n",
              "      --bg-color: #3B4455;\n",
              "      --fill-color: #D2E3FC;\n",
              "      --hover-bg-color: #434B5C;\n",
              "      --hover-fill-color: #FFFFFF;\n",
              "      --disabled-bg-color: #3B4455;\n",
              "      --disabled-fill-color: #666;\n",
              "  }\n",
              "\n",
              "  .colab-df-quickchart {\n",
              "    background-color: var(--bg-color);\n",
              "    border: none;\n",
              "    border-radius: 50%;\n",
              "    cursor: pointer;\n",
              "    display: none;\n",
              "    fill: var(--fill-color);\n",
              "    height: 32px;\n",
              "    padding: 0;\n",
              "    width: 32px;\n",
              "  }\n",
              "\n",
              "  .colab-df-quickchart:hover {\n",
              "    background-color: var(--hover-bg-color);\n",
              "    box-shadow: 0 1px 2px rgba(60, 64, 67, 0.3), 0 1px 3px 1px rgba(60, 64, 67, 0.15);\n",
              "    fill: var(--button-hover-fill-color);\n",
              "  }\n",
              "\n",
              "  .colab-df-quickchart-complete:disabled,\n",
              "  .colab-df-quickchart-complete:disabled:hover {\n",
              "    background-color: var(--disabled-bg-color);\n",
              "    fill: var(--disabled-fill-color);\n",
              "    box-shadow: none;\n",
              "  }\n",
              "\n",
              "  .colab-df-spinner {\n",
              "    border: 2px solid var(--fill-color);\n",
              "    border-color: transparent;\n",
              "    border-bottom-color: var(--fill-color);\n",
              "    animation:\n",
              "      spin 1s steps(1) infinite;\n",
              "  }\n",
              "\n",
              "  @keyframes spin {\n",
              "    0% {\n",
              "      border-color: transparent;\n",
              "      border-bottom-color: var(--fill-color);\n",
              "      border-left-color: var(--fill-color);\n",
              "    }\n",
              "    20% {\n",
              "      border-color: transparent;\n",
              "      border-left-color: var(--fill-color);\n",
              "      border-top-color: var(--fill-color);\n",
              "    }\n",
              "    30% {\n",
              "      border-color: transparent;\n",
              "      border-left-color: var(--fill-color);\n",
              "      border-top-color: var(--fill-color);\n",
              "      border-right-color: var(--fill-color);\n",
              "    }\n",
              "    40% {\n",
              "      border-color: transparent;\n",
              "      border-right-color: var(--fill-color);\n",
              "      border-top-color: var(--fill-color);\n",
              "    }\n",
              "    60% {\n",
              "      border-color: transparent;\n",
              "      border-right-color: var(--fill-color);\n",
              "    }\n",
              "    80% {\n",
              "      border-color: transparent;\n",
              "      border-right-color: var(--fill-color);\n",
              "      border-bottom-color: var(--fill-color);\n",
              "    }\n",
              "    90% {\n",
              "      border-color: transparent;\n",
              "      border-bottom-color: var(--fill-color);\n",
              "    }\n",
              "  }\n",
              "</style>\n",
              "\n",
              "  <script>\n",
              "    async function quickchart(key) {\n",
              "      const quickchartButtonEl =\n",
              "        document.querySelector('#' + key + ' button');\n",
              "      quickchartButtonEl.disabled = true;  // To prevent multiple clicks.\n",
              "      quickchartButtonEl.classList.add('colab-df-spinner');\n",
              "      try {\n",
              "        const charts = await google.colab.kernel.invokeFunction(\n",
              "            'suggestCharts', [key], {});\n",
              "      } catch (error) {\n",
              "        console.error('Error during call to suggestCharts:', error);\n",
              "      }\n",
              "      quickchartButtonEl.classList.remove('colab-df-spinner');\n",
              "      quickchartButtonEl.classList.add('colab-df-quickchart-complete');\n",
              "    }\n",
              "    (() => {\n",
              "      let quickchartButtonEl =\n",
              "        document.querySelector('#df-7a41c7aa-d292-4a09-992c-4ae7d7788391 button');\n",
              "      quickchartButtonEl.style.display =\n",
              "        google.colab.kernel.accessAllowed ? 'block' : 'none';\n",
              "    })();\n",
              "  </script>\n",
              "</div>\n",
              "\n",
              "    </div>\n",
              "  </div>\n"
            ],
            "application/vnd.google.colaboratory.intrinsic+json": {
              "type": "dataframe",
              "variable_name": "df"
            }
          },
          "metadata": {},
          "execution_count": 6
        }
      ]
    },
    {
      "cell_type": "code",
      "source": [
        "df_copy = df.copy()"
      ],
      "metadata": {
        "id": "v8A2vdLgVYhX"
      },
      "execution_count": null,
      "outputs": []
    },
    {
      "cell_type": "markdown",
      "source": [
        "### Understanding the data\n",
        "\n",
        "Each row represents a customer, each column contains customer’s attributes.\n",
        "\n",
        "The dataset has a variety of features related to customer demographics, financial status, and behavioral patterns. Here's an overview of some key columns:\n",
        "\n",
        "* **LossDate:** The date when the customer left ScottishPower or 31/12/9999 for those still with the company.\n",
        "* **Loss:** A binary indicator where 1 means the customer has left and 0 means they are still with the company.\n",
        "* **Account Start Date:** The date the customer started their contract.\n",
        "* **Account Determination Group:** Whether the customer is a residential (Domestic) or small business (SME).\n",
        "* **Installment Plan:** Whether the customer is on an installment plan (Yes/No).\n",
        "* **Offset Value:** The amount of money the customer owes.\n",
        "* **Debt Plan Group:** Payment method (e.g., Prepayment Meter, Cash, Direct Debit).\n",
        "* **Complaint Type:** If the customer has had a previous complaint.\n",
        "* **Mosaic Group and Mosaic Type:** These fields contain third-party marketing information about the customer’s postal area.\n",
        "* **Mosaic Household Income Value:** The household income based on the Mosaic group."
      ],
      "metadata": {
        "id": "MaFQHYGuBq45"
      }
    },
    {
      "cell_type": "markdown",
      "source": [
        "The target variable that we will be using to guide the exploration is **Loss**."
      ],
      "metadata": {
        "id": "KoA9wYu-In7e"
      }
    },
    {
      "cell_type": "code",
      "source": [
        "df.shape"
      ],
      "metadata": {
        "colab": {
          "base_uri": "https://localhost:8080/"
        },
        "id": "HyWXB8xHBl03",
        "outputId": "c4202ec4-fdbe-4baa-c984-80d117a5885c"
      },
      "execution_count": null,
      "outputs": [
        {
          "output_type": "execute_result",
          "data": {
            "text/plain": [
              "(5000, 24)"
            ]
          },
          "metadata": {},
          "execution_count": 8
        }
      ]
    },
    {
      "cell_type": "code",
      "source": [
        "df.info()"
      ],
      "metadata": {
        "colab": {
          "base_uri": "https://localhost:8080/"
        },
        "id": "sMiqec0IB5yJ",
        "outputId": "3e976d71-8d42-43ec-d933-94f298f02bad"
      },
      "execution_count": null,
      "outputs": [
        {
          "output_type": "stream",
          "name": "stdout",
          "text": [
            "<class 'pandas.core.frame.DataFrame'>\n",
            "RangeIndex: 5000 entries, 0 to 4999\n",
            "Data columns (total 24 columns):\n",
            " #   Column                     Non-Null Count  Dtype  \n",
            "---  ------                     --------------  -----  \n",
            " 0   LossDate                   5000 non-null   object \n",
            " 1   Loss                       5000 non-null   int64  \n",
            " 2   AccountStartdate           5000 non-null   object \n",
            " 3   AccountDeterminationGroup  5000 non-null   object \n",
            " 4   InstallmentPlan            4946 non-null   object \n",
            " 5   OffsetValue                5000 non-null   float64\n",
            " 6   DebtPlanGroup              5000 non-null   object \n",
            " 7   PaymentFrequency           5000 non-null   object \n",
            " 8   ComplaintType              979 non-null    object \n",
            " 9   StatusGrouping             979 non-null    object \n",
            " 10  CustomerCategory           5000 non-null   object \n",
            " 11  CustomerType               5000 non-null   object \n",
            " 12  PreferredContactMethod     5000 non-null   object \n",
            " 13  OfgemCodeRisk              5000 non-null   object \n",
            " 14  MosaicGroup                5000 non-null   object \n",
            " 15  MosaicType                 5000 non-null   object \n",
            " 16  MosaicTypeDesc             5000 non-null   object \n",
            " 17  MosaicDigitalGroup         5000 non-null   object \n",
            " 18  MosaicDigitalGroupDesc     5000 non-null   object \n",
            " 19  MosaicFSSGroup             5000 non-null   object \n",
            " 20  MosaicFSSType              5000 non-null   object \n",
            " 21  MosaicHouseholdIncValue    5000 non-null   int64  \n",
            " 22  MosaicResidenceType        5000 non-null   object \n",
            " 23  MosaicNoAdultsHousehold    5000 non-null   int64  \n",
            "dtypes: float64(1), int64(3), object(20)\n",
            "memory usage: 937.6+ KB\n"
          ]
        }
      ]
    },
    {
      "cell_type": "code",
      "source": [
        "# visualise the missing values\n",
        "msno.matrix(df, figsize=(16, 8))"
      ],
      "metadata": {
        "colab": {
          "base_uri": "https://localhost:8080/"
        },
        "id": "Yww1iDl2CC9e",
        "outputId": "71e4252b-c5ef-41a0-a941-cdec81dc756f"
      },
      "execution_count": null,
      "outputs": [
        {
          "output_type": "execute_result",
          "data": {
            "text/plain": [
              "<Axes: >"
            ]
          },
          "metadata": {},
          "execution_count": 10
        },
        {
          "output_type": "display_data",
          "data": {
            "text/plain": [
              "<Figure size 1600x800 with 2 Axes>"
            ],
            "image/png": "[encoded data removed]"
          },
          "metadata": {}
        }
      ]
    },
    {
      "cell_type": "markdown",
      "source": [
        "Using this matrix we can quickly find the pattern of missing data in the dataset.\n",
        "\n",
        "From the above visualisation we can observe that columns **InstallmentPlan**, **ComplaintType**, and **StatusGrouping** has missing values"
      ],
      "metadata": {
        "id": "rYwTHBfwNXq8"
      }
    },
    {
      "cell_type": "code",
      "source": [
        "#let's find out exact number of null values\n",
        "df.isnull().sum()"
      ],
      "metadata": {
        "colab": {
          "base_uri": "https://localhost:8080/"
        },
        "id": "DaziJA-VJoup",
        "outputId": "b53bcb14-c18d-4ae5-8187-2f554d1caffa"
      },
      "execution_count": null,
      "outputs": [
        {
          "output_type": "execute_result",
          "data": {
            "text/plain": [
              "LossDate                        0\n",
              "Loss                            0\n",
              "AccountStartdate                0\n",
              "AccountDeterminationGroup       0\n",
              "InstallmentPlan                54\n",
              "OffsetValue                     0\n",
              "DebtPlanGroup                   0\n",
              "PaymentFrequency                0\n",
              "ComplaintType                4021\n",
              "StatusGrouping               4021\n",
              "CustomerCategory                0\n",
              "CustomerType                    0\n",
              "PreferredContactMethod          0\n",
              "OfgemCodeRisk                   0\n",
              "MosaicGroup                     0\n",
              "MosaicType                      0\n",
              "MosaicTypeDesc                  0\n",
              "MosaicDigitalGroup              0\n",
              "MosaicDigitalGroupDesc          0\n",
              "MosaicFSSGroup                  0\n",
              "MosaicFSSType                   0\n",
              "MosaicHouseholdIncValue         0\n",
              "MosaicResidenceType             0\n",
              "MosaicNoAdultsHousehold         0\n",
              "dtype: int64"
            ],
            "text/html": [
              "<div>\n",
              "<style scoped>\n",
              "    .dataframe tbody tr th:only-of-type {\n",
              "        vertical-align: middle;\n",
              "    }\n",
              "\n",
              "    .dataframe tbody tr th {\n",
              "        vertical-align: top;\n",
              "    }\n",
              "\n",
              "    .dataframe thead th {\n",
              "        text-align: right;\n",
              "    }\n",
              "</style>\n",
              "<table border=\"1\" class=\"dataframe\">\n",
              "  <thead>\n",
              "    <tr style=\"text-align: right;\">\n",
              "      <th></th>\n",
              "      <th>0</th>\n",
              "    </tr>\n",
              "  </thead>\n",
              "  <tbody>\n",
              "    <tr>\n",
              "      <th>LossDate</th>\n",
              "      <td>0</td>\n",
              "    </tr>\n",
              "    <tr>\n",
              "      <th>Loss</th>\n",
              "      <td>0</td>\n",
              "    </tr>\n",
              "    <tr>\n",
              "      <th>AccountStartdate</th>\n",
              "      <td>0</td>\n",
              "    </tr>\n",
              "    <tr>\n",
              "      <th>AccountDeterminationGroup</th>\n",
              "      <td>0</td>\n",
              "    </tr>\n",
              "    <tr>\n",
              "      <th>InstallmentPlan</th>\n",
              "      <td>54</td>\n",
              "    </tr>\n",
              "    <tr>\n",
              "      <th>OffsetValue</th>\n",
              "      <td>0</td>\n",
              "    </tr>\n",
              "    <tr>\n",
              "      <th>DebtPlanGroup</th>\n",
              "      <td>0</td>\n",
              "    </tr>\n",
              "    <tr>\n",
              "      <th>PaymentFrequency</th>\n",
              "      <td>0</td>\n",
              "    </tr>\n",
              "    <tr>\n",
              "      <th>ComplaintType</th>\n",
              "      <td>4021</td>\n",
              "    </tr>\n",
              "    <tr>\n",
              "      <th>StatusGrouping</th>\n",
              "      <td>4021</td>\n",
              "    </tr>\n",
              "    <tr>\n",
              "      <th>CustomerCategory</th>\n",
              "      <td>0</td>\n",
              "    </tr>\n",
              "    <tr>\n",
              "      <th>CustomerType</th>\n",
              "      <td>0</td>\n",
              "    </tr>\n",
              "    <tr>\n",
              "      <th>PreferredContactMethod</th>\n",
              "      <td>0</td>\n",
              "    </tr>\n",
              "    <tr>\n",
              "      <th>OfgemCodeRisk</th>\n",
              "      <td>0</td>\n",
              "    </tr>\n",
              "    <tr>\n",
              "      <th>MosaicGroup</th>\n",
              "      <td>0</td>\n",
              "    </tr>\n",
              "    <tr>\n",
              "      <th>MosaicType</th>\n",
              "      <td>0</td>\n",
              "    </tr>\n",
              "    <tr>\n",
              "      <th>MosaicTypeDesc</th>\n",
              "      <td>0</td>\n",
              "    </tr>\n",
              "    <tr>\n",
              "      <th>MosaicDigitalGroup</th>\n",
              "      <td>0</td>\n",
              "    </tr>\n",
              "    <tr>\n",
              "      <th>MosaicDigitalGroupDesc</th>\n",
              "      <td>0</td>\n",
              "    </tr>\n",
              "    <tr>\n",
              "      <th>MosaicFSSGroup</th>\n",
              "      <td>0</td>\n",
              "    </tr>\n",
              "    <tr>\n",
              "      <th>MosaicFSSType</th>\n",
              "      <td>0</td>\n",
              "    </tr>\n",
              "    <tr>\n",
              "      <th>MosaicHouseholdIncValue</th>\n",
              "      <td>0</td>\n",
              "    </tr>\n",
              "    <tr>\n",
              "      <th>MosaicResidenceType</th>\n",
              "      <td>0</td>\n",
              "    </tr>\n",
              "    <tr>\n",
              "      <th>MosaicNoAdultsHousehold</th>\n",
              "      <td>0</td>\n",
              "    </tr>\n",
              "  </tbody>\n",
              "</table>\n",
              "</div><br><label><b>dtype:</b> int64</label>"
            ]
          },
          "metadata": {},
          "execution_count": 11
        }
      ]
    },
    {
      "cell_type": "markdown",
      "source": [
        "# 3. Data Cleaning"
      ],
      "metadata": {
        "id": "fhxK0ZNT8wjb"
      }
    },
    {
      "cell_type": "markdown",
      "source": [
        "### 1. Handling the missing values:"
      ],
      "metadata": {
        "id": "9AtGbre4-5qm"
      }
    },
    {
      "cell_type": "code",
      "source": [
        "missing_values = df.isnull().sum()\n",
        "missing_values[missing_values>0]"
      ],
      "metadata": {
        "colab": {
          "base_uri": "https://localhost:8080/",
          "height": 178
        },
        "id": "T-KLeDMR8yv2",
        "outputId": "67c8698a-e272-495c-9703-0305c0b09ae4"
      },
      "execution_count": null,
      "outputs": [
        {
          "output_type": "execute_result",
          "data": {
            "text/plain": [
              "InstallmentPlan      54\n",
              "ComplaintType      4021\n",
              "StatusGrouping     4021\n",
              "dtype: int64"
            ],
            "text/html": [
              "<div>\n",
              "<style scoped>\n",
              "    .dataframe tbody tr th:only-of-type {\n",
              "        vertical-align: middle;\n",
              "    }\n",
              "\n",
              "    .dataframe tbody tr th {\n",
              "        vertical-align: top;\n",
              "    }\n",
              "\n",
              "    .dataframe thead th {\n",
              "        text-align: right;\n",
              "    }\n",
              "</style>\n",
              "<table border=\"1\" class=\"dataframe\">\n",
              "  <thead>\n",
              "    <tr style=\"text-align: right;\">\n",
              "      <th></th>\n",
              "      <th>0</th>\n",
              "    </tr>\n",
              "  </thead>\n",
              "  <tbody>\n",
              "    <tr>\n",
              "      <th>InstallmentPlan</th>\n",
              "      <td>54</td>\n",
              "    </tr>\n",
              "    <tr>\n",
              "      <th>ComplaintType</th>\n",
              "      <td>4021</td>\n",
              "    </tr>\n",
              "    <tr>\n",
              "      <th>StatusGrouping</th>\n",
              "      <td>4021</td>\n",
              "    </tr>\n",
              "  </tbody>\n",
              "</table>\n",
              "</div><br><label><b>dtype:</b> int64</label>"
            ]
          },
          "metadata": {},
          "execution_count": 12
        }
      ]
    },
    {
      "cell_type": "markdown",
      "source": [
        "1.1. The column Installment plan is a binary feature which indicates that whether a customer is on an installment plan. Since it only has 54 missing values, let's use the mode (most frequent value) to fill these missing values."
      ],
      "metadata": {
        "id": "Ri4fAqqz_nW1"
      }
    },
    {
      "cell_type": "code",
      "source": [
        "# filling missing values for 'Installment Plan'\n",
        "df['InstallmentPlan'].fillna(df['InstallmentPlan'].mode()[0], inplace=True)"
      ],
      "metadata": {
        "id": "puCeQPf38ymn"
      },
      "execution_count": null,
      "outputs": []
    },
    {
      "cell_type": "markdown",
      "source": [
        "1.2. The column **ComplaintType** and **StatusGrouping** has a significant number of missing values, more likely because most of the customers haven't made complaints.\n",
        "* Hence, filling the missing values with \"No Complaints\" and \"No Status\" respectively to indicate that the customer didn’t register a complaint."
      ],
      "metadata": {
        "id": "2oTSOJDEBIo0"
      }
    },
    {
      "cell_type": "code",
      "source": [
        "# filling missing values with \"No Complaints\"\n",
        "df['ComplaintType'].fillna('No Complaint', inplace = True)"
      ],
      "metadata": {
        "id": "6d_JzF0jBC5m"
      },
      "execution_count": null,
      "outputs": []
    },
    {
      "cell_type": "code",
      "source": [
        "# filling missing values with \"No Status\"\n",
        "df['StatusGrouping'].fillna('No Status', inplace = True)"
      ],
      "metadata": {
        "id": "zWwDDojBBC2B"
      },
      "execution_count": null,
      "outputs": []
    },
    {
      "cell_type": "code",
      "source": [
        "df.isnull().sum()"
      ],
      "metadata": {
        "colab": {
          "base_uri": "https://localhost:8080/",
          "height": 837
        },
        "id": "4kZPntw7DU6M",
        "outputId": "fc685869-fd2e-47ba-c300-263afbebb7c9"
      },
      "execution_count": null,
      "outputs": [
        {
          "output_type": "execute_result",
          "data": {
            "text/plain": [
              "LossDate                     0\n",
              "Loss                         0\n",
              "AccountStartdate             0\n",
              "AccountDeterminationGroup    0\n",
              "InstallmentPlan              0\n",
              "OffsetValue                  0\n",
              "DebtPlanGroup                0\n",
              "PaymentFrequency             0\n",
              "ComplaintType                0\n",
              "StatusGrouping               0\n",
              "CustomerCategory             0\n",
              "CustomerType                 0\n",
              "PreferredContactMethod       0\n",
              "OfgemCodeRisk                0\n",
              "MosaicGroup                  0\n",
              "MosaicType                   0\n",
              "MosaicTypeDesc               0\n",
              "MosaicDigitalGroup           0\n",
              "MosaicDigitalGroupDesc       0\n",
              "MosaicFSSGroup               0\n",
              "MosaicFSSType                0\n",
              "MosaicHouseholdIncValue      0\n",
              "MosaicResidenceType          0\n",
              "MosaicNoAdultsHousehold      0\n",
              "dtype: int64"
            ],
            "text/html": [
              "<div>\n",
              "<style scoped>\n",
              "    .dataframe tbody tr th:only-of-type {\n",
              "        vertical-align: middle;\n",
              "    }\n",
              "\n",
              "    .dataframe tbody tr th {\n",
              "        vertical-align: top;\n",
              "    }\n",
              "\n",
              "    .dataframe thead th {\n",
              "        text-align: right;\n",
              "    }\n",
              "</style>\n",
              "<table border=\"1\" class=\"dataframe\">\n",
              "  <thead>\n",
              "    <tr style=\"text-align: right;\">\n",
              "      <th></th>\n",
              "      <th>0</th>\n",
              "    </tr>\n",
              "  </thead>\n",
              "  <tbody>\n",
              "    <tr>\n",
              "      <th>LossDate</th>\n",
              "      <td>0</td>\n",
              "    </tr>\n",
              "    <tr>\n",
              "      <th>Loss</th>\n",
              "      <td>0</td>\n",
              "    </tr>\n",
              "    <tr>\n",
              "      <th>AccountStartdate</th>\n",
              "      <td>0</td>\n",
              "    </tr>\n",
              "    <tr>\n",
              "      <th>AccountDeterminationGroup</th>\n",
              "      <td>0</td>\n",
              "    </tr>\n",
              "    <tr>\n",
              "      <th>InstallmentPlan</th>\n",
              "      <td>0</td>\n",
              "    </tr>\n",
              "    <tr>\n",
              "      <th>OffsetValue</th>\n",
              "      <td>0</td>\n",
              "    </tr>\n",
              "    <tr>\n",
              "      <th>DebtPlanGroup</th>\n",
              "      <td>0</td>\n",
              "    </tr>\n",
              "    <tr>\n",
              "      <th>PaymentFrequency</th>\n",
              "      <td>0</td>\n",
              "    </tr>\n",
              "    <tr>\n",
              "      <th>ComplaintType</th>\n",
              "      <td>0</td>\n",
              "    </tr>\n",
              "    <tr>\n",
              "      <th>StatusGrouping</th>\n",
              "      <td>0</td>\n",
              "    </tr>\n",
              "    <tr>\n",
              "      <th>CustomerCategory</th>\n",
              "      <td>0</td>\n",
              "    </tr>\n",
              "    <tr>\n",
              "      <th>CustomerType</th>\n",
              "      <td>0</td>\n",
              "    </tr>\n",
              "    <tr>\n",
              "      <th>PreferredContactMethod</th>\n",
              "      <td>0</td>\n",
              "    </tr>\n",
              "    <tr>\n",
              "      <th>OfgemCodeRisk</th>\n",
              "      <td>0</td>\n",
              "    </tr>\n",
              "    <tr>\n",
              "      <th>MosaicGroup</th>\n",
              "      <td>0</td>\n",
              "    </tr>\n",
              "    <tr>\n",
              "      <th>MosaicType</th>\n",
              "      <td>0</td>\n",
              "    </tr>\n",
              "    <tr>\n",
              "      <th>MosaicTypeDesc</th>\n",
              "      <td>0</td>\n",
              "    </tr>\n",
              "    <tr>\n",
              "      <th>MosaicDigitalGroup</th>\n",
              "      <td>0</td>\n",
              "    </tr>\n",
              "    <tr>\n",
              "      <th>MosaicDigitalGroupDesc</th>\n",
              "      <td>0</td>\n",
              "    </tr>\n",
              "    <tr>\n",
              "      <th>MosaicFSSGroup</th>\n",
              "      <td>0</td>\n",
              "    </tr>\n",
              "    <tr>\n",
              "      <th>MosaicFSSType</th>\n",
              "      <td>0</td>\n",
              "    </tr>\n",
              "    <tr>\n",
              "      <th>MosaicHouseholdIncValue</th>\n",
              "      <td>0</td>\n",
              "    </tr>\n",
              "    <tr>\n",
              "      <th>MosaicResidenceType</th>\n",
              "      <td>0</td>\n",
              "    </tr>\n",
              "    <tr>\n",
              "      <th>MosaicNoAdultsHousehold</th>\n",
              "      <td>0</td>\n",
              "    </tr>\n",
              "  </tbody>\n",
              "</table>\n",
              "</div><br><label><b>dtype:</b> int64</label>"
            ]
          },
          "metadata": {},
          "execution_count": 16
        }
      ]
    },
    {
      "cell_type": "code",
      "source": [
        "df.groupby('ComplaintType').size()"
      ],
      "metadata": {
        "colab": {
          "base_uri": "https://localhost:8080/",
          "height": 210
        },
        "id": "vVDMwR86DUt4",
        "outputId": "0e69eeee-bc55-4972-f4ba-cf89610b19bb"
      },
      "execution_count": null,
      "outputs": [
        {
          "output_type": "execute_result",
          "data": {
            "text/plain": [
              "ComplaintType\n",
              "Complaint        962\n",
              "No Complaint    4021\n",
              "Ombudsman         17\n",
              "dtype: int64"
            ],
            "text/html": [
              "<div>\n",
              "<style scoped>\n",
              "    .dataframe tbody tr th:only-of-type {\n",
              "        vertical-align: middle;\n",
              "    }\n",
              "\n",
              "    .dataframe tbody tr th {\n",
              "        vertical-align: top;\n",
              "    }\n",
              "\n",
              "    .dataframe thead th {\n",
              "        text-align: right;\n",
              "    }\n",
              "</style>\n",
              "<table border=\"1\" class=\"dataframe\">\n",
              "  <thead>\n",
              "    <tr style=\"text-align: right;\">\n",
              "      <th></th>\n",
              "      <th>0</th>\n",
              "    </tr>\n",
              "    <tr>\n",
              "      <th>ComplaintType</th>\n",
              "      <th></th>\n",
              "    </tr>\n",
              "  </thead>\n",
              "  <tbody>\n",
              "    <tr>\n",
              "      <th>Complaint</th>\n",
              "      <td>962</td>\n",
              "    </tr>\n",
              "    <tr>\n",
              "      <th>No Complaint</th>\n",
              "      <td>4021</td>\n",
              "    </tr>\n",
              "    <tr>\n",
              "      <th>Ombudsman</th>\n",
              "      <td>17</td>\n",
              "    </tr>\n",
              "  </tbody>\n",
              "</table>\n",
              "</div><br><label><b>dtype:</b> int64</label>"
            ]
          },
          "metadata": {},
          "execution_count": 17
        }
      ]
    },
    {
      "cell_type": "code",
      "source": [
        "df.groupby('InstallmentPlan').size()"
      ],
      "metadata": {
        "colab": {
          "base_uri": "https://localhost:8080/",
          "height": 178
        },
        "id": "TaMkWgW_DUrE",
        "outputId": "10ae36fd-adb7-4fde-d3a3-8c03666927e9"
      },
      "execution_count": null,
      "outputs": [
        {
          "output_type": "execute_result",
          "data": {
            "text/plain": [
              "InstallmentPlan\n",
              "No     4490\n",
              "Yes     510\n",
              "dtype: int64"
            ],
            "text/html": [
              "<div>\n",
              "<style scoped>\n",
              "    .dataframe tbody tr th:only-of-type {\n",
              "        vertical-align: middle;\n",
              "    }\n",
              "\n",
              "    .dataframe tbody tr th {\n",
              "        vertical-align: top;\n",
              "    }\n",
              "\n",
              "    .dataframe thead th {\n",
              "        text-align: right;\n",
              "    }\n",
              "</style>\n",
              "<table border=\"1\" class=\"dataframe\">\n",
              "  <thead>\n",
              "    <tr style=\"text-align: right;\">\n",
              "      <th></th>\n",
              "      <th>0</th>\n",
              "    </tr>\n",
              "    <tr>\n",
              "      <th>InstallmentPlan</th>\n",
              "      <th></th>\n",
              "    </tr>\n",
              "  </thead>\n",
              "  <tbody>\n",
              "    <tr>\n",
              "      <th>No</th>\n",
              "      <td>4490</td>\n",
              "    </tr>\n",
              "    <tr>\n",
              "      <th>Yes</th>\n",
              "      <td>510</td>\n",
              "    </tr>\n",
              "  </tbody>\n",
              "</table>\n",
              "</div><br><label><b>dtype:</b> int64</label>"
            ]
          },
          "metadata": {},
          "execution_count": 18
        }
      ]
    },
    {
      "cell_type": "markdown",
      "source": [
        "There is no missing values in the dataset and the changes made are reflecting properly."
      ],
      "metadata": {
        "id": "u2W2i61CEp8e"
      }
    },
    {
      "cell_type": "markdown",
      "source": [
        "### 2. Convert Date Columns:"
      ],
      "metadata": {
        "id": "RV39DeWdFIWA"
      }
    },
    {
      "cell_type": "markdown",
      "source": [
        "2.1 Converting the **LossDate** and **Account Start Date** to proper date formats."
      ],
      "metadata": {
        "id": "qj6L9hmHFQp5"
      }
    },
    {
      "cell_type": "code",
      "source": [
        "df[['LossDate', 'AccountStartdate']].dtypes"
      ],
      "metadata": {
        "colab": {
          "base_uri": "https://localhost:8080/",
          "height": 147
        },
        "id": "GCG0aaBoGfOf",
        "outputId": "d9785171-4215-4b8c-e36c-b4ea943ee24c"
      },
      "execution_count": null,
      "outputs": [
        {
          "output_type": "execute_result",
          "data": {
            "text/plain": [
              "LossDate            object\n",
              "AccountStartdate    object\n",
              "dtype: object"
            ],
            "text/html": [
              "<div>\n",
              "<style scoped>\n",
              "    .dataframe tbody tr th:only-of-type {\n",
              "        vertical-align: middle;\n",
              "    }\n",
              "\n",
              "    .dataframe tbody tr th {\n",
              "        vertical-align: top;\n",
              "    }\n",
              "\n",
              "    .dataframe thead th {\n",
              "        text-align: right;\n",
              "    }\n",
              "</style>\n",
              "<table border=\"1\" class=\"dataframe\">\n",
              "  <thead>\n",
              "    <tr style=\"text-align: right;\">\n",
              "      <th></th>\n",
              "      <th>0</th>\n",
              "    </tr>\n",
              "  </thead>\n",
              "  <tbody>\n",
              "    <tr>\n",
              "      <th>LossDate</th>\n",
              "      <td>object</td>\n",
              "    </tr>\n",
              "    <tr>\n",
              "      <th>AccountStartdate</th>\n",
              "      <td>object</td>\n",
              "    </tr>\n",
              "  </tbody>\n",
              "</table>\n",
              "</div><br><label><b>dtype:</b> object</label>"
            ]
          },
          "metadata": {},
          "execution_count": 19
        }
      ]
    },
    {
      "cell_type": "code",
      "source": [
        "# Converting 'LossDate' and 'Account Start Date' to proper format\n",
        "df['LossDate'] = pd.to_datetime(df['LossDate'], errors='coerce', format='%d/%m/%Y')\n",
        "df['AccountStartdate'] = pd.to_datetime(df['AccountStartdate'], errors='coerce', format='%d/%m/%Y')"
      ],
      "metadata": {
        "id": "f-08pU8jFPJ4"
      },
      "execution_count": null,
      "outputs": []
    },
    {
      "cell_type": "code",
      "source": [
        "# data types after converting into proper date format\n",
        "df[['LossDate', 'AccountStartdate']].dtypes"
      ],
      "metadata": {
        "colab": {
          "base_uri": "https://localhost:8080/",
          "height": 147
        },
        "id": "_4mDRKJqHNBi",
        "outputId": "9b4a7be1-3489-4172-fbda-c086fc5bbbea"
      },
      "execution_count": null,
      "outputs": [
        {
          "output_type": "execute_result",
          "data": {
            "text/plain": [
              "LossDate            datetime64[ns]\n",
              "AccountStartdate    datetime64[ns]\n",
              "dtype: object"
            ],
            "text/html": [
              "<div>\n",
              "<style scoped>\n",
              "    .dataframe tbody tr th:only-of-type {\n",
              "        vertical-align: middle;\n",
              "    }\n",
              "\n",
              "    .dataframe tbody tr th {\n",
              "        vertical-align: top;\n",
              "    }\n",
              "\n",
              "    .dataframe thead th {\n",
              "        text-align: right;\n",
              "    }\n",
              "</style>\n",
              "<table border=\"1\" class=\"dataframe\">\n",
              "  <thead>\n",
              "    <tr style=\"text-align: right;\">\n",
              "      <th></th>\n",
              "      <th>0</th>\n",
              "    </tr>\n",
              "  </thead>\n",
              "  <tbody>\n",
              "    <tr>\n",
              "      <th>LossDate</th>\n",
              "      <td>datetime64[ns]</td>\n",
              "    </tr>\n",
              "    <tr>\n",
              "      <th>AccountStartdate</th>\n",
              "      <td>datetime64[ns]</td>\n",
              "    </tr>\n",
              "  </tbody>\n",
              "</table>\n",
              "</div><br><label><b>dtype:</b> object</label>"
            ]
          },
          "metadata": {},
          "execution_count": 21
        }
      ]
    },
    {
      "cell_type": "code",
      "source": [
        "df[['LossDate', 'AccountStartdate']].head()"
      ],
      "metadata": {
        "colab": {
          "base_uri": "https://localhost:8080/",
          "height": 206
        },
        "id": "CYolvH0FHQ87",
        "outputId": "33ebbe4c-1ddd-4d67-e33e-56844d16f0c2"
      },
      "execution_count": null,
      "outputs": [
        {
          "output_type": "execute_result",
          "data": {
            "text/plain": [
              "    LossDate AccountStartdate\n",
              "0 2024-05-08       2014-02-20\n",
              "1 2024-05-15       2022-11-19\n",
              "2 2024-05-29       2023-05-31\n",
              "3 2024-05-06       2013-09-24\n",
              "4 2024-05-16       2019-04-06"
            ],
            "text/html": [
              "\n",
              "  <div id=\"df-d4e02bbc-0759-4731-b8cb-45de8e3e5634\" class=\"colab-df-container\">\n",
              "    <div>\n",
              "<style scoped>\n",
              "    .dataframe tbody tr th:only-of-type {\n",
              "        vertical-align: middle;\n",
              "    }\n",
              "\n",
              "    .dataframe tbody tr th {\n",
              "        vertical-align: top;\n",
              "    }\n",
              "\n",
              "    .dataframe thead th {\n",
              "        text-align: right;\n",
              "    }\n",
              "</style>\n",
              "<table border=\"1\" class=\"dataframe\">\n",
              "  <thead>\n",
              "    <tr style=\"text-align: right;\">\n",
              "      <th></th>\n",
              "      <th>LossDate</th>\n",
              "      <th>AccountStartdate</th>\n",
              "    </tr>\n",
              "  </thead>\n",
              "  <tbody>\n",
              "    <tr>\n",
              "      <th>0</th>\n",
              "      <td>2024-05-08</td>\n",
              "      <td>2014-02-20</td>\n",
              "    </tr>\n",
              "    <tr>\n",
              "      <th>1</th>\n",
              "      <td>2024-05-15</td>\n",
              "      <td>2022-11-19</td>\n",
              "    </tr>\n",
              "    <tr>\n",
              "      <th>2</th>\n",
              "      <td>2024-05-29</td>\n",
              "      <td>2023-05-31</td>\n",
              "    </tr>\n",
              "    <tr>\n",
              "      <th>3</th>\n",
              "      <td>2024-05-06</td>\n",
              "      <td>2013-09-24</td>\n",
              "    </tr>\n",
              "    <tr>\n",
              "      <th>4</th>\n",
              "      <td>2024-05-16</td>\n",
              "      <td>2019-04-06</td>\n",
              "    </tr>\n",
              "  </tbody>\n",
              "</table>\n",
              "</div>\n",
              "    <div class=\"colab-df-buttons\">\n",
              "\n",
              "  <div class=\"colab-df-container\">\n",
              "    <button class=\"colab-df-convert\" onclick=\"convertToInteractive('df-d4e02bbc-0759-4731-b8cb-45de8e3e5634')\"\n",
              "            title=\"Convert this dataframe to an interactive table.\"\n",
              "            style=\"display:none;\">\n",
              "\n",
              "  <svg xmlns=\"http://www.w3.org/2000/svg\" height=\"24px\" viewBox=\"0 -960 960 960\">\n",
              "    <path d=\"M120-120v-720h720v720H120Zm60-500h600v-160H180v160Zm220 220h160v-160H400v160Zm0 220h160v-160H400v160ZM180-400h160v-160H180v160Zm440 0h160v-160H620v160ZM180-180h160v-160H180v160Zm440 0h160v-160H620v160Z\"/>\n",
              "  </svg>\n",
              "    </button>\n",
              "\n",
              "  <style>\n",
              "    .colab-df-container {\n",
              "      display:flex;\n",
              "      gap: 12px;\n",
              "    }\n",
              "\n",
              "    .colab-df-convert {\n",
              "      background-color: #E8F0FE;\n",
              "      border: none;\n",
              "      border-radius: 50%;\n",
              "      cursor: pointer;\n",
              "      display: none;\n",
              "      fill: #1967D2;\n",
              "      height: 32px;\n",
              "      padding: 0 0 0 0;\n",
              "      width: 32px;\n",
              "    }\n",
              "\n",
              "    .colab-df-convert:hover {\n",
              "      background-color: #E2EBFA;\n",
              "      box-shadow: 0px 1px 2px rgba(60, 64, 67, 0.3), 0px 1px 3px 1px rgba(60, 64, 67, 0.15);\n",
              "      fill: #174EA6;\n",
              "    }\n",
              "\n",
              "    .colab-df-buttons div {\n",
              "      margin-bottom: 4px;\n",
              "    }\n",
              "\n",
              "    [theme=dark] .colab-df-convert {\n",
              "      background-color: #3B4455;\n",
              "      fill: #D2E3FC;\n",
              "    }\n",
              "\n",
              "    [theme=dark] .colab-df-convert:hover {\n",
              "      background-color: #434B5C;\n",
              "      box-shadow: 0px 1px 3px 1px rgba(0, 0, 0, 0.15);\n",
              "      filter: drop-shadow(0px 1px 2px rgba(0, 0, 0, 0.3));\n",
              "      fill: #FFFFFF;\n",
              "    }\n",
              "  </style>\n",
              "\n",
              "    <script>\n",
              "      const buttonEl =\n",
              "        document.querySelector('#df-d4e02bbc-0759-4731-b8cb-45de8e3e5634 button.colab-df-convert');\n",
              "      buttonEl.style.display =\n",
              "        google.colab.kernel.accessAllowed ? 'block' : 'none';\n",
              "\n",
              "      async function convertToInteractive(key) {\n",
              "        const element = document.querySelector('#df-d4e02bbc-0759-4731-b8cb-45de8e3e5634');\n",
              "        const dataTable =\n",
              "          await google.colab.kernel.invokeFunction('convertToInteractive',\n",
              "                                                    [key], {});\n",
              "        if (!dataTable) return;\n",
              "\n",
              "        const docLinkHtml = 'Like what you see? Visit the ' +\n",
              "          '<a target=\"_blank\" href=https://colab.research.google.com/notebooks/data_table.ipynb>data table notebook</a>'\n",
              "          + ' to learn more about interactive tables.';\n",
              "        element.innerHTML = '';\n",
              "        dataTable['output_type'] = 'display_data';\n",
              "        await google.colab.output.renderOutput(dataTable, element);\n",
              "        const docLink = document.createElement('div');\n",
              "        docLink.innerHTML = docLinkHtml;\n",
              "        element.appendChild(docLink);\n",
              "      }\n",
              "    </script>\n",
              "  </div>\n",
              "\n",
              "\n",
              "<div id=\"df-b90eb0b2-93ea-47f2-a0f9-ac2c8e79e313\">\n",
              "  <button class=\"colab-df-quickchart\" onclick=\"quickchart('df-b90eb0b2-93ea-47f2-a0f9-ac2c8e79e313')\"\n",
              "            title=\"Suggest charts\"\n",
              "            style=\"display:none;\">\n",
              "\n",
              "<svg xmlns=\"http://www.w3.org/2000/svg\" height=\"24px\"viewBox=\"0 0 24 24\"\n",
              "     width=\"24px\">\n",
              "    <g>\n",
              "        <path d=\"M19 3H5c-1.1 0-2 .9-2 2v14c0 1.1.9 2 2 2h14c1.1 0 2-.9 2-2V5c0-1.1-.9-2-2-2zM9 17H7v-7h2v7zm4 0h-2V7h2v10zm4 0h-2v-4h2v4z\"/>\n",
              "    </g>\n",
              "</svg>\n",
              "  </button>\n",
              "\n",
              "<style>\n",
              "  .colab-df-quickchart {\n",
              "      --bg-color: #E8F0FE;\n",
              "      --fill-color: #1967D2;\n",
              "      --hover-bg-color: #E2EBFA;\n",
              "      --hover-fill-color: #174EA6;\n",
              "      --disabled-fill-color: #AAA;\n",
              "      --disabled-bg-color: #DDD;\n",
              "  }\n",
              "\n",
              "  [theme=dark] .colab-df-quickchart {\n",
              "      --bg-color: #3B4455;\n",
              "      --fill-color: #D2E3FC;\n",
              "      --hover-bg-color: #434B5C;\n",
              "      --hover-fill-color: #FFFFFF;\n",
              "      --disabled-bg-color: #3B4455;\n",
              "      --disabled-fill-color: #666;\n",
              "  }\n",
              "\n",
              "  .colab-df-quickchart {\n",
              "    background-color: var(--bg-color);\n",
              "    border: none;\n",
              "    border-radius: 50%;\n",
              "    cursor: pointer;\n",
              "    display: none;\n",
              "    fill: var(--fill-color);\n",
              "    height: 32px;\n",
              "    padding: 0;\n",
              "    width: 32px;\n",
              "  }\n",
              "\n",
              "  .colab-df-quickchart:hover {\n",
              "    background-color: var(--hover-bg-color);\n",
              "    box-shadow: 0 1px 2px rgba(60, 64, 67, 0.3), 0 1px 3px 1px rgba(60, 64, 67, 0.15);\n",
              "    fill: var(--button-hover-fill-color);\n",
              "  }\n",
              "\n",
              "  .colab-df-quickchart-complete:disabled,\n",
              "  .colab-df-quickchart-complete:disabled:hover {\n",
              "    background-color: var(--disabled-bg-color);\n",
              "    fill: var(--disabled-fill-color);\n",
              "    box-shadow: none;\n",
              "  }\n",
              "\n",
              "  .colab-df-spinner {\n",
              "    border: 2px solid var(--fill-color);\n",
              "    border-color: transparent;\n",
              "    border-bottom-color: var(--fill-color);\n",
              "    animation:\n",
              "      spin 1s steps(1) infinite;\n",
              "  }\n",
              "\n",
              "  @keyframes spin {\n",
              "    0% {\n",
              "      border-color: transparent;\n",
              "      border-bottom-color: var(--fill-color);\n",
              "      border-left-color: var(--fill-color);\n",
              "    }\n",
              "    20% {\n",
              "      border-color: transparent;\n",
              "      border-left-color: var(--fill-color);\n",
              "      border-top-color: var(--fill-color);\n",
              "    }\n",
              "    30% {\n",
              "      border-color: transparent;\n",
              "      border-left-color: var(--fill-color);\n",
              "      border-top-color: var(--fill-color);\n",
              "      border-right-color: var(--fill-color);\n",
              "    }\n",
              "    40% {\n",
              "      border-color: transparent;\n",
              "      border-right-color: var(--fill-color);\n",
              "      border-top-color: var(--fill-color);\n",
              "    }\n",
              "    60% {\n",
              "      border-color: transparent;\n",
              "      border-right-color: var(--fill-color);\n",
              "    }\n",
              "    80% {\n",
              "      border-color: transparent;\n",
              "      border-right-color: var(--fill-color);\n",
              "      border-bottom-color: var(--fill-color);\n",
              "    }\n",
              "    90% {\n",
              "      border-color: transparent;\n",
              "      border-bottom-color: var(--fill-color);\n",
              "    }\n",
              "  }\n",
              "</style>\n",
              "\n",
              "  <script>\n",
              "    async function quickchart(key) {\n",
              "      const quickchartButtonEl =\n",
              "        document.querySelector('#' + key + ' button');\n",
              "      quickchartButtonEl.disabled = true;  // To prevent multiple clicks.\n",
              "      quickchartButtonEl.classList.add('colab-df-spinner');\n",
              "      try {\n",
              "        const charts = await google.colab.kernel.invokeFunction(\n",
              "            'suggestCharts', [key], {});\n",
              "      } catch (error) {\n",
              "        console.error('Error during call to suggestCharts:', error);\n",
              "      }\n",
              "      quickchartButtonEl.classList.remove('colab-df-spinner');\n",
              "      quickchartButtonEl.classList.add('colab-df-quickchart-complete');\n",
              "    }\n",
              "    (() => {\n",
              "      let quickchartButtonEl =\n",
              "        document.querySelector('#df-b90eb0b2-93ea-47f2-a0f9-ac2c8e79e313 button');\n",
              "      quickchartButtonEl.style.display =\n",
              "        google.colab.kernel.accessAllowed ? 'block' : 'none';\n",
              "    })();\n",
              "  </script>\n",
              "</div>\n",
              "\n",
              "    </div>\n",
              "  </div>\n"
            ],
            "application/vnd.google.colaboratory.intrinsic+json": {
              "type": "dataframe",
              "summary": "{\n  \"name\": \"df[['LossDate', 'AccountStartdate']]\",\n  \"rows\": 5,\n  \"fields\": [\n    {\n      \"column\": \"LossDate\",\n      \"properties\": {\n        \"dtype\": \"date\",\n        \"min\": \"2024-05-06 00:00:00\",\n        \"max\": \"2024-05-29 00:00:00\",\n        \"num_unique_values\": 5,\n        \"samples\": [\n          \"2024-05-15 00:00:00\",\n          \"2024-05-16 00:00:00\",\n          \"2024-05-29 00:00:00\"\n        ],\n        \"semantic_type\": \"\",\n        \"description\": \"\"\n      }\n    },\n    {\n      \"column\": \"AccountStartdate\",\n      \"properties\": {\n        \"dtype\": \"date\",\n        \"min\": \"2013-09-24 00:00:00\",\n        \"max\": \"2023-05-31 00:00:00\",\n        \"num_unique_values\": 5,\n        \"samples\": [\n          \"2022-11-19 00:00:00\",\n          \"2019-04-06 00:00:00\",\n          \"2023-05-31 00:00:00\"\n        ],\n        \"semantic_type\": \"\",\n        \"description\": \"\"\n      }\n    }\n  ]\n}"
            }
          },
          "metadata": {},
          "execution_count": 22
        }
      ]
    },
    {
      "cell_type": "markdown",
      "source": [
        "2.2 Handling \"31/12/9999\" for customers who haven't left yet, because it's out of bounds for the standard date range. To handle this, let's treat this specific date as a flag for customers who are still with ScottishPower, but instead of converting it to a date, I'll handle it separately as a categorical variable."
      ],
      "metadata": {
        "id": "4_oU578wIv22"
      }
    },
    {
      "cell_type": "code",
      "source": [
        "# creating a new column\n",
        "df['Still_with_ScottishPower'] = df['LossDate'].isna()"
      ],
      "metadata": {
        "id": "d4FNFV3uIDyK"
      },
      "execution_count": null,
      "outputs": []
    },
    {
      "cell_type": "code",
      "source": [
        "df.groupby('Still_with_ScottishPower').size()"
      ],
      "metadata": {
        "colab": {
          "base_uri": "https://localhost:8080/",
          "height": 178
        },
        "id": "ew1aYx4EWW-8",
        "outputId": "47596dd9-48b8-48f0-e4cd-a3fdf464a4ae"
      },
      "execution_count": null,
      "outputs": [
        {
          "output_type": "execute_result",
          "data": {
            "text/plain": [
              "Still_with_ScottishPower\n",
              "False    1000\n",
              "True     4000\n",
              "dtype: int64"
            ],
            "text/html": [
              "<div>\n",
              "<style scoped>\n",
              "    .dataframe tbody tr th:only-of-type {\n",
              "        vertical-align: middle;\n",
              "    }\n",
              "\n",
              "    .dataframe tbody tr th {\n",
              "        vertical-align: top;\n",
              "    }\n",
              "\n",
              "    .dataframe thead th {\n",
              "        text-align: right;\n",
              "    }\n",
              "</style>\n",
              "<table border=\"1\" class=\"dataframe\">\n",
              "  <thead>\n",
              "    <tr style=\"text-align: right;\">\n",
              "      <th></th>\n",
              "      <th>0</th>\n",
              "    </tr>\n",
              "    <tr>\n",
              "      <th>Still_with_ScottishPower</th>\n",
              "      <th></th>\n",
              "    </tr>\n",
              "  </thead>\n",
              "  <tbody>\n",
              "    <tr>\n",
              "      <th>False</th>\n",
              "      <td>1000</td>\n",
              "    </tr>\n",
              "    <tr>\n",
              "      <th>True</th>\n",
              "      <td>4000</td>\n",
              "    </tr>\n",
              "  </tbody>\n",
              "</table>\n",
              "</div><br><label><b>dtype:</b> int64</label>"
            ]
          },
          "metadata": {},
          "execution_count": 24
        }
      ]
    },
    {
      "cell_type": "code",
      "source": [
        "# converting 'Installment Plan' to binary (Yes -1 and No 0)\n",
        "df['InstallmentPlan'] = df['InstallmentPlan'].map({'Yes': 1, 'No': 0})"
      ],
      "metadata": {
        "id": "N6U1xIblWswU"
      },
      "execution_count": null,
      "outputs": []
    },
    {
      "cell_type": "code",
      "source": [
        "# converting 'Still_with_ScottishPower' to binary (true - 1 and false - 0)\n",
        "df['Still_with_ScottishPower'] = df['Still_with_ScottishPower'].map({True: 1, False: 0})"
      ],
      "metadata": {
        "id": "kn1wA0JlYIEU"
      },
      "execution_count": null,
      "outputs": []
    },
    {
      "cell_type": "code",
      "source": [
        "df['Still_with_ScottishPower'].dtypes"
      ],
      "metadata": {
        "colab": {
          "base_uri": "https://localhost:8080/"
        },
        "id": "bDpgEGlxYfaS",
        "outputId": "f27a73f4-e071-462f-90af-165ec77cba2c"
      },
      "execution_count": null,
      "outputs": [
        {
          "output_type": "execute_result",
          "data": {
            "text/plain": [
              "dtype('int64')"
            ]
          },
          "metadata": {},
          "execution_count": 27
        }
      ]
    },
    {
      "cell_type": "code",
      "source": [
        "# cleaned data\n",
        "df.head()"
      ],
      "metadata": {
        "colab": {
          "base_uri": "https://localhost:8080/",
          "height": 487
        },
        "id": "Zyj-tKB2WspM",
        "outputId": "939a0e3f-1923-43d7-da2a-7741a83c048c"
      },
      "execution_count": null,
      "outputs": [
        {
          "output_type": "execute_result",
          "data": {
            "text/plain": [
              "    LossDate  Loss AccountStartdate AccountDeterminationGroup  \\\n",
              "0 2024-05-08     1       2014-02-20                  Domestic   \n",
              "1 2024-05-15     1       2022-11-19                  Domestic   \n",
              "2 2024-05-29     1       2023-05-31                  Domestic   \n",
              "3 2024-05-06     1       2013-09-24                  Domestic   \n",
              "4 2024-05-16     1       2019-04-06                  Domestic   \n",
              "\n",
              "   InstallmentPlan  OffsetValue DebtPlanGroup PaymentFrequency ComplaintType  \\\n",
              "0                0       488.17          Cash          Monthly  No Complaint   \n",
              "1                0        27.88          Cash          Monthly  No Complaint   \n",
              "2                0        66.87          Cash          Monthly  No Complaint   \n",
              "3                0        46.65          Cash        Quarterly  No Complaint   \n",
              "4                0      1145.62          Cash          Monthly  No Complaint   \n",
              "\n",
              "  StatusGrouping CustomerCategory        CustomerType PreferredContactMethod  \\\n",
              "0      No Status           Person             Unknown          Post (letter)   \n",
              "1      No Status           Person  Type not available          Post (letter)   \n",
              "2      No Status           Person             Unknown                 E-Mail   \n",
              "3      No Status           Person             Unknown          Post (letter)   \n",
              "4      No Status           Person  Type not available          Post (letter)   \n",
              "\n",
              "        OfgemCodeRisk          MosaicGroup           MosaicType  \\\n",
              "0       PSR_High_Risk        Vintage Value      Pocket Pensions   \n",
              "1  PSR_No_SNEED_Flags  Aspiring Homemakers  Contemporary Starts   \n",
              "2  PSR_No_SNEED_Flags          Rental Hubs        Central Pulse   \n",
              "3  PSR_No_SNEED_Flags    Municipal Tenants       Mature Workers   \n",
              "4  PSR_No_SNEED_Flags        Vintage Value      Pocket Pensions   \n",
              "\n",
              "                                      MosaicTypeDesc MosaicDigitalGroup  \\\n",
              "0  Penny-wise elderly singles renting in developm...   Tentative Elders   \n",
              "1  Young families and singles setting up home in ...  First-Gen Parents   \n",
              "2  City-loving youngsters renting central flats i...   Digital Frontier   \n",
              "3  Older social renters settled in low value home...   Online Escapists   \n",
              "4  Penny-wise elderly singles renting in developm...   Tentative Elders   \n",
              "\n",
              "                              MosaicDigitalGroupDesc   MosaicFSSGroup  \\\n",
              "0  Elderly singles and households with little to ...  Declining Years   \n",
              "1  Members of the first digital generation who ar...     Deal Seekers   \n",
              "2  Young adults with sophisticated online behavio...     Money Makers   \n",
              "3  Singles and families with squeezed finances us...     Cash Economy   \n",
              "4  Elderly singles and households with little to ...  Declining Years   \n",
              "\n",
              "        MosaicFSSType  MosaicHouseholdIncValue MosaicResidenceType  \\\n",
              "0  Elderly Assistance                     9264                Flat   \n",
              "1     Cost Optimisers                    25973       Semi-Detached   \n",
              "2           City Buzz                    54227                Flat   \n",
              "3   Workaday Families                    22953            Terraced   \n",
              "4  Elderly Assistance                     9264                Flat   \n",
              "\n",
              "   MosaicNoAdultsHousehold  Still_with_ScottishPower  \n",
              "0                        1                         0  \n",
              "1                        2                         0  \n",
              "2                        2                         0  \n",
              "3                        2                         0  \n",
              "4                        1                         0  "
            ],
            "text/html": [
              "\n",
              "  <div id=\"df-089ea701-7421-4bcf-a55a-ce0eedd4e337\" class=\"colab-df-container\">\n",
              "    <div>\n",
              "<style scoped>\n",
              "    .dataframe tbody tr th:only-of-type {\n",
              "        vertical-align: middle;\n",
              "    }\n",
              "\n",
              "    .dataframe tbody tr th {\n",
              "        vertical-align: top;\n",
              "    }\n",
              "\n",
              "    .dataframe thead th {\n",
              "        text-align: right;\n",
              "    }\n",
              "</style>\n",
              "<table border=\"1\" class=\"dataframe\">\n",
              "  <thead>\n",
              "    <tr style=\"text-align: right;\">\n",
              "      <th></th>\n",
              "      <th>LossDate</th>\n",
              "      <th>Loss</th>\n",
              "      <th>AccountStartdate</th>\n",
              "      <th>AccountDeterminationGroup</th>\n",
              "      <th>InstallmentPlan</th>\n",
              "      <th>OffsetValue</th>\n",
              "      <th>DebtPlanGroup</th>\n",
              "      <th>PaymentFrequency</th>\n",
              "      <th>ComplaintType</th>\n",
              "      <th>StatusGrouping</th>\n",
              "      <th>CustomerCategory</th>\n",
              "      <th>CustomerType</th>\n",
              "      <th>PreferredContactMethod</th>\n",
              "      <th>OfgemCodeRisk</th>\n",
              "      <th>MosaicGroup</th>\n",
              "      <th>MosaicType</th>\n",
              "      <th>MosaicTypeDesc</th>\n",
              "      <th>MosaicDigitalGroup</th>\n",
              "      <th>MosaicDigitalGroupDesc</th>\n",
              "      <th>MosaicFSSGroup</th>\n",
              "      <th>MosaicFSSType</th>\n",
              "      <th>MosaicHouseholdIncValue</th>\n",
              "      <th>MosaicResidenceType</th>\n",
              "      <th>MosaicNoAdultsHousehold</th>\n",
              "      <th>Still_with_ScottishPower</th>\n",
              "    </tr>\n",
              "  </thead>\n",
              "  <tbody>\n",
              "    <tr>\n",
              "      <th>0</th>\n",
              "      <td>2024-05-08</td>\n",
              "      <td>1</td>\n",
              "      <td>2014-02-20</td>\n",
              "      <td>Domestic</td>\n",
              "      <td>0</td>\n",
              "      <td>488.17</td>\n",
              "      <td>Cash</td>\n",
              "      <td>Monthly</td>\n",
              "      <td>No Complaint</td>\n",
              "      <td>No Status</td>\n",
              "      <td>Person</td>\n",
              "      <td>Unknown</td>\n",
              "      <td>Post (letter)</td>\n",
              "      <td>PSR_High_Risk</td>\n",
              "      <td>Vintage Value</td>\n",
              "      <td>Pocket Pensions</td>\n",
              "      <td>Penny-wise elderly singles renting in developm...</td>\n",
              "      <td>Tentative Elders</td>\n",
              "      <td>Elderly singles and households with little to ...</td>\n",
              "      <td>Declining Years</td>\n",
              "      <td>Elderly Assistance</td>\n",
              "      <td>9264</td>\n",
              "      <td>Flat</td>\n",
              "      <td>1</td>\n",
              "      <td>0</td>\n",
              "    </tr>\n",
              "    <tr>\n",
              "      <th>1</th>\n",
              "      <td>2024-05-15</td>\n",
              "      <td>1</td>\n",
              "      <td>2022-11-19</td>\n",
              "      <td>Domestic</td>\n",
              "      <td>0</td>\n",
              "      <td>27.88</td>\n",
              "      <td>Cash</td>\n",
              "      <td>Monthly</td>\n",
              "      <td>No Complaint</td>\n",
              "      <td>No Status</td>\n",
              "      <td>Person</td>\n",
              "      <td>Type not available</td>\n",
              "      <td>Post (letter)</td>\n",
              "      <td>PSR_No_SNEED_Flags</td>\n",
              "      <td>Aspiring Homemakers</td>\n",
              "      <td>Contemporary Starts</td>\n",
              "      <td>Young families and singles setting up home in ...</td>\n",
              "      <td>First-Gen Parents</td>\n",
              "      <td>Members of the first digital generation who ar...</td>\n",
              "      <td>Deal Seekers</td>\n",
              "      <td>Cost Optimisers</td>\n",
              "      <td>25973</td>\n",
              "      <td>Semi-Detached</td>\n",
              "      <td>2</td>\n",
              "      <td>0</td>\n",
              "    </tr>\n",
              "    <tr>\n",
              "      <th>2</th>\n",
              "      <td>2024-05-29</td>\n",
              "      <td>1</td>\n",
              "      <td>2023-05-31</td>\n",
              "      <td>Domestic</td>\n",
              "      <td>0</td>\n",
              "      <td>66.87</td>\n",
              "      <td>Cash</td>\n",
              "      <td>Monthly</td>\n",
              "      <td>No Complaint</td>\n",
              "      <td>No Status</td>\n",
              "      <td>Person</td>\n",
              "      <td>Unknown</td>\n",
              "      <td>E-Mail</td>\n",
              "      <td>PSR_No_SNEED_Flags</td>\n",
              "      <td>Rental Hubs</td>\n",
              "      <td>Central Pulse</td>\n",
              "      <td>City-loving youngsters renting central flats i...</td>\n",
              "      <td>Digital Frontier</td>\n",
              "      <td>Young adults with sophisticated online behavio...</td>\n",
              "      <td>Money Makers</td>\n",
              "      <td>City Buzz</td>\n",
              "      <td>54227</td>\n",
              "      <td>Flat</td>\n",
              "      <td>2</td>\n",
              "      <td>0</td>\n",
              "    </tr>\n",
              "    <tr>\n",
              "      <th>3</th>\n",
              "      <td>2024-05-06</td>\n",
              "      <td>1</td>\n",
              "      <td>2013-09-24</td>\n",
              "      <td>Domestic</td>\n",
              "      <td>0</td>\n",
              "      <td>46.65</td>\n",
              "      <td>Cash</td>\n",
              "      <td>Quarterly</td>\n",
              "      <td>No Complaint</td>\n",
              "      <td>No Status</td>\n",
              "      <td>Person</td>\n",
              "      <td>Unknown</td>\n",
              "      <td>Post (letter)</td>\n",
              "      <td>PSR_No_SNEED_Flags</td>\n",
              "      <td>Municipal Tenants</td>\n",
              "      <td>Mature Workers</td>\n",
              "      <td>Older social renters settled in low value home...</td>\n",
              "      <td>Online Escapists</td>\n",
              "      <td>Singles and families with squeezed finances us...</td>\n",
              "      <td>Cash Economy</td>\n",
              "      <td>Workaday Families</td>\n",
              "      <td>22953</td>\n",
              "      <td>Terraced</td>\n",
              "      <td>2</td>\n",
              "      <td>0</td>\n",
              "    </tr>\n",
              "    <tr>\n",
              "      <th>4</th>\n",
              "      <td>2024-05-16</td>\n",
              "      <td>1</td>\n",
              "      <td>2019-04-06</td>\n",
              "      <td>Domestic</td>\n",
              "      <td>0</td>\n",
              "      <td>1145.62</td>\n",
              "      <td>Cash</td>\n",
              "      <td>Monthly</td>\n",
              "      <td>No Complaint</td>\n",
              "      <td>No Status</td>\n",
              "      <td>Person</td>\n",
              "      <td>Type not available</td>\n",
              "      <td>Post (letter)</td>\n",
              "      <td>PSR_No_SNEED_Flags</td>\n",
              "      <td>Vintage Value</td>\n",
              "      <td>Pocket Pensions</td>\n",
              "      <td>Penny-wise elderly singles renting in developm...</td>\n",
              "      <td>Tentative Elders</td>\n",
              "      <td>Elderly singles and households with little to ...</td>\n",
              "      <td>Declining Years</td>\n",
              "      <td>Elderly Assistance</td>\n",
              "      <td>9264</td>\n",
              "      <td>Flat</td>\n",
              "      <td>1</td>\n",
              "      <td>0</td>\n",
              "    </tr>\n",
              "  </tbody>\n",
              "</table>\n",
              "</div>\n",
              "    <div class=\"colab-df-buttons\">\n",
              "\n",
              "  <div class=\"colab-df-container\">\n",
              "    <button class=\"colab-df-convert\" onclick=\"convertToInteractive('df-089ea701-7421-4bcf-a55a-ce0eedd4e337')\"\n",
              "            title=\"Convert this dataframe to an interactive table.\"\n",
              "            style=\"display:none;\">\n",
              "\n",
              "  <svg xmlns=\"http://www.w3.org/2000/svg\" height=\"24px\" viewBox=\"0 -960 960 960\">\n",
              "    <path d=\"M120-120v-720h720v720H120Zm60-500h600v-160H180v160Zm220 220h160v-160H400v160Zm0 220h160v-160H400v160ZM180-400h160v-160H180v160Zm440 0h160v-160H620v160ZM180-180h160v-160H180v160Zm440 0h160v-160H620v160Z\"/>\n",
              "  </svg>\n",
              "    </button>\n",
              "\n",
              "  <style>\n",
              "    .colab-df-container {\n",
              "      display:flex;\n",
              "      gap: 12px;\n",
              "    }\n",
              "\n",
              "    .colab-df-convert {\n",
              "      background-color: #E8F0FE;\n",
              "      border: none;\n",
              "      border-radius: 50%;\n",
              "      cursor: pointer;\n",
              "      display: none;\n",
              "      fill: #1967D2;\n",
              "      height: 32px;\n",
              "      padding: 0 0 0 0;\n",
              "      width: 32px;\n",
              "    }\n",
              "\n",
              "    .colab-df-convert:hover {\n",
              "      background-color: #E2EBFA;\n",
              "      box-shadow: 0px 1px 2px rgba(60, 64, 67, 0.3), 0px 1px 3px 1px rgba(60, 64, 67, 0.15);\n",
              "      fill: #174EA6;\n",
              "    }\n",
              "\n",
              "    .colab-df-buttons div {\n",
              "      margin-bottom: 4px;\n",
              "    }\n",
              "\n",
              "    [theme=dark] .colab-df-convert {\n",
              "      background-color: #3B4455;\n",
              "      fill: #D2E3FC;\n",
              "    }\n",
              "\n",
              "    [theme=dark] .colab-df-convert:hover {\n",
              "      background-color: #434B5C;\n",
              "      box-shadow: 0px 1px 3px 1px rgba(0, 0, 0, 0.15);\n",
              "      filter: drop-shadow(0px 1px 2px rgba(0, 0, 0, 0.3));\n",
              "      fill: #FFFFFF;\n",
              "    }\n",
              "  </style>\n",
              "\n",
              "    <script>\n",
              "      const buttonEl =\n",
              "        document.querySelector('#df-089ea701-7421-4bcf-a55a-ce0eedd4e337 button.colab-df-convert');\n",
              "      buttonEl.style.display =\n",
              "        google.colab.kernel.accessAllowed ? 'block' : 'none';\n",
              "\n",
              "      async function convertToInteractive(key) {\n",
              "        const element = document.querySelector('#df-089ea701-7421-4bcf-a55a-ce0eedd4e337');\n",
              "        const dataTable =\n",
              "          await google.colab.kernel.invokeFunction('convertToInteractive',\n",
              "                                                    [key], {});\n",
              "        if (!dataTable) return;\n",
              "\n",
              "        const docLinkHtml = 'Like what you see? Visit the ' +\n",
              "          '<a target=\"_blank\" href=https://colab.research.google.com/notebooks/data_table.ipynb>data table notebook</a>'\n",
              "          + ' to learn more about interactive tables.';\n",
              "        element.innerHTML = '';\n",
              "        dataTable['output_type'] = 'display_data';\n",
              "        await google.colab.output.renderOutput(dataTable, element);\n",
              "        const docLink = document.createElement('div');\n",
              "        docLink.innerHTML = docLinkHtml;\n",
              "        element.appendChild(docLink);\n",
              "      }\n",
              "    </script>\n",
              "  </div>\n",
              "\n",
              "\n",
              "<div id=\"df-e066672a-2a5a-4b1b-8199-fbfcf791664c\">\n",
              "  <button class=\"colab-df-quickchart\" onclick=\"quickchart('df-e066672a-2a5a-4b1b-8199-fbfcf791664c')\"\n",
              "            title=\"Suggest charts\"\n",
              "            style=\"display:none;\">\n",
              "\n",
              "<svg xmlns=\"http://www.w3.org/2000/svg\" height=\"24px\"viewBox=\"0 0 24 24\"\n",
              "     width=\"24px\">\n",
              "    <g>\n",
              "        <path d=\"M19 3H5c-1.1 0-2 .9-2 2v14c0 1.1.9 2 2 2h14c1.1 0 2-.9 2-2V5c0-1.1-.9-2-2-2zM9 17H7v-7h2v7zm4 0h-2V7h2v10zm4 0h-2v-4h2v4z\"/>\n",
              "    </g>\n",
              "</svg>\n",
              "  </button>\n",
              "\n",
              "<style>\n",
              "  .colab-df-quickchart {\n",
              "      --bg-color: #E8F0FE;\n",
              "      --fill-color: #1967D2;\n",
              "      --hover-bg-color: #E2EBFA;\n",
              "      --hover-fill-color: #174EA6;\n",
              "      --disabled-fill-color: #AAA;\n",
              "      --disabled-bg-color: #DDD;\n",
              "  }\n",
              "\n",
              "  [theme=dark] .colab-df-quickchart {\n",
              "      --bg-color: #3B4455;\n",
              "      --fill-color: #D2E3FC;\n",
              "      --hover-bg-color: #434B5C;\n",
              "      --hover-fill-color: #FFFFFF;\n",
              "      --disabled-bg-color: #3B4455;\n",
              "      --disabled-fill-color: #666;\n",
              "  }\n",
              "\n",
              "  .colab-df-quickchart {\n",
              "    background-color: var(--bg-color);\n",
              "    border: none;\n",
              "    border-radius: 50%;\n",
              "    cursor: pointer;\n",
              "    display: none;\n",
              "    fill: var(--fill-color);\n",
              "    height: 32px;\n",
              "    padding: 0;\n",
              "    width: 32px;\n",
              "  }\n",
              "\n",
              "  .colab-df-quickchart:hover {\n",
              "    background-color: var(--hover-bg-color);\n",
              "    box-shadow: 0 1px 2px rgba(60, 64, 67, 0.3), 0 1px 3px 1px rgba(60, 64, 67, 0.15);\n",
              "    fill: var(--button-hover-fill-color);\n",
              "  }\n",
              "\n",
              "  .colab-df-quickchart-complete:disabled,\n",
              "  .colab-df-quickchart-complete:disabled:hover {\n",
              "    background-color: var(--disabled-bg-color);\n",
              "    fill: var(--disabled-fill-color);\n",
              "    box-shadow: none;\n",
              "  }\n",
              "\n",
              "  .colab-df-spinner {\n",
              "    border: 2px solid var(--fill-color);\n",
              "    border-color: transparent;\n",
              "    border-bottom-color: var(--fill-color);\n",
              "    animation:\n",
              "      spin 1s steps(1) infinite;\n",
              "  }\n",
              "\n",
              "  @keyframes spin {\n",
              "    0% {\n",
              "      border-color: transparent;\n",
              "      border-bottom-color: var(--fill-color);\n",
              "      border-left-color: var(--fill-color);\n",
              "    }\n",
              "    20% {\n",
              "      border-color: transparent;\n",
              "      border-left-color: var(--fill-color);\n",
              "      border-top-color: var(--fill-color);\n",
              "    }\n",
              "    30% {\n",
              "      border-color: transparent;\n",
              "      border-left-color: var(--fill-color);\n",
              "      border-top-color: var(--fill-color);\n",
              "      border-right-color: var(--fill-color);\n",
              "    }\n",
              "    40% {\n",
              "      border-color: transparent;\n",
              "      border-right-color: var(--fill-color);\n",
              "      border-top-color: var(--fill-color);\n",
              "    }\n",
              "    60% {\n",
              "      border-color: transparent;\n",
              "      border-right-color: var(--fill-color);\n",
              "    }\n",
              "    80% {\n",
              "      border-color: transparent;\n",
              "      border-right-color: var(--fill-color);\n",
              "      border-bottom-color: var(--fill-color);\n",
              "    }\n",
              "    90% {\n",
              "      border-color: transparent;\n",
              "      border-bottom-color: var(--fill-color);\n",
              "    }\n",
              "  }\n",
              "</style>\n",
              "\n",
              "  <script>\n",
              "    async function quickchart(key) {\n",
              "      const quickchartButtonEl =\n",
              "        document.querySelector('#' + key + ' button');\n",
              "      quickchartButtonEl.disabled = true;  // To prevent multiple clicks.\n",
              "      quickchartButtonEl.classList.add('colab-df-spinner');\n",
              "      try {\n",
              "        const charts = await google.colab.kernel.invokeFunction(\n",
              "            'suggestCharts', [key], {});\n",
              "      } catch (error) {\n",
              "        console.error('Error during call to suggestCharts:', error);\n",
              "      }\n",
              "      quickchartButtonEl.classList.remove('colab-df-spinner');\n",
              "      quickchartButtonEl.classList.add('colab-df-quickchart-complete');\n",
              "    }\n",
              "    (() => {\n",
              "      let quickchartButtonEl =\n",
              "        document.querySelector('#df-e066672a-2a5a-4b1b-8199-fbfcf791664c button');\n",
              "      quickchartButtonEl.style.display =\n",
              "        google.colab.kernel.accessAllowed ? 'block' : 'none';\n",
              "    })();\n",
              "  </script>\n",
              "</div>\n",
              "\n",
              "    </div>\n",
              "  </div>\n"
            ],
            "application/vnd.google.colaboratory.intrinsic+json": {
              "type": "dataframe",
              "variable_name": "df"
            }
          },
          "metadata": {},
          "execution_count": 28
        }
      ]
    },
    {
      "cell_type": "markdown",
      "source": [
        "### The dataset has been successfully cleaned and prepared for further analysis:\n",
        "\n",
        "* **LossDate** and **Account Start Date** have been converted to proper date formats.\n",
        "* The **LossDate** field for customers still with the company (previously 31/12/9999) has been handled by creating a new boolean column, Still_with_ScottishPower. Additionally, the date \"31/12/9999\" is replaced by NaT or null values to handle theh analysis properly.\n",
        "* The **Installment Plan** column is replaced to a binary numeric field (1 for Yes, 0 for No)."
      ],
      "metadata": {
        "id": "uSQvGmiWHwLM"
      }
    },
    {
      "cell_type": "markdown",
      "source": [
        "### 3. Feature Engineering for Tenure:\n",
        "\n",
        "Creating a new Feature or Column named Customer_Tenure_Days, Months, and Years based on \"LossDate\" and \"Account Start Date\" to perform analysis based on number of days customer stayed with the company.\n"
      ],
      "metadata": {
        "id": "tH7NCkbpbVNx"
      }
    },
    {
      "cell_type": "code",
      "source": [
        "# calculating customer tenure as the difference between LossDate and AccountStartdate (in days)\n",
        "df['Customer_Tenure_Days'] = (df['LossDate'] - df['AccountStartdate']).dt.days\n",
        "\n",
        "# Checking for missing values in tenure, which will occur if the customer hasn't left (LossDate is NaT)\n",
        "df['Customer_Tenure_Days'].fillna((pd.Timestamp('2024-09-01') - df['AccountStartdate']).dt.days, inplace=True)"
      ],
      "metadata": {
        "id": "eKjPuFCrEk6z"
      },
      "execution_count": null,
      "outputs": []
    },
    {
      "cell_type": "code",
      "source": [
        "df.head()"
      ],
      "metadata": {
        "colab": {
          "base_uri": "https://localhost:8080/",
          "height": 487
        },
        "id": "_6yvNKOkgBmb",
        "outputId": "c96a5fe2-57fc-4a60-e548-c995639cfcfb"
      },
      "execution_count": null,
      "outputs": [
        {
          "output_type": "execute_result",
          "data": {
            "text/plain": [
              "    LossDate  Loss AccountStartdate AccountDeterminationGroup  \\\n",
              "0 2024-05-08     1       2014-02-20                  Domestic   \n",
              "1 2024-05-15     1       2022-11-19                  Domestic   \n",
              "2 2024-05-29     1       2023-05-31                  Domestic   \n",
              "3 2024-05-06     1       2013-09-24                  Domestic   \n",
              "4 2024-05-16     1       2019-04-06                  Domestic   \n",
              "\n",
              "   InstallmentPlan  OffsetValue DebtPlanGroup PaymentFrequency ComplaintType  \\\n",
              "0                0       488.17          Cash          Monthly  No Complaint   \n",
              "1                0        27.88          Cash          Monthly  No Complaint   \n",
              "2                0        66.87          Cash          Monthly  No Complaint   \n",
              "3                0        46.65          Cash        Quarterly  No Complaint   \n",
              "4                0      1145.62          Cash          Monthly  No Complaint   \n",
              "\n",
              "  StatusGrouping CustomerCategory        CustomerType PreferredContactMethod  \\\n",
              "0      No Status           Person             Unknown          Post (letter)   \n",
              "1      No Status           Person  Type not available          Post (letter)   \n",
              "2      No Status           Person             Unknown                 E-Mail   \n",
              "3      No Status           Person             Unknown          Post (letter)   \n",
              "4      No Status           Person  Type not available          Post (letter)   \n",
              "\n",
              "        OfgemCodeRisk          MosaicGroup           MosaicType  \\\n",
              "0       PSR_High_Risk        Vintage Value      Pocket Pensions   \n",
              "1  PSR_No_SNEED_Flags  Aspiring Homemakers  Contemporary Starts   \n",
              "2  PSR_No_SNEED_Flags          Rental Hubs        Central Pulse   \n",
              "3  PSR_No_SNEED_Flags    Municipal Tenants       Mature Workers   \n",
              "4  PSR_No_SNEED_Flags        Vintage Value      Pocket Pensions   \n",
              "\n",
              "                                      MosaicTypeDesc MosaicDigitalGroup  \\\n",
              "0  Penny-wise elderly singles renting in developm...   Tentative Elders   \n",
              "1  Young families and singles setting up home in ...  First-Gen Parents   \n",
              "2  City-loving youngsters renting central flats i...   Digital Frontier   \n",
              "3  Older social renters settled in low value home...   Online Escapists   \n",
              "4  Penny-wise elderly singles renting in developm...   Tentative Elders   \n",
              "\n",
              "                              MosaicDigitalGroupDesc   MosaicFSSGroup  \\\n",
              "0  Elderly singles and households with little to ...  Declining Years   \n",
              "1  Members of the first digital generation who ar...     Deal Seekers   \n",
              "2  Young adults with sophisticated online behavio...     Money Makers   \n",
              "3  Singles and families with squeezed finances us...     Cash Economy   \n",
              "4  Elderly singles and households with little to ...  Declining Years   \n",
              "\n",
              "        MosaicFSSType  MosaicHouseholdIncValue MosaicResidenceType  \\\n",
              "0  Elderly Assistance                     9264                Flat   \n",
              "1     Cost Optimisers                    25973       Semi-Detached   \n",
              "2           City Buzz                    54227                Flat   \n",
              "3   Workaday Families                    22953            Terraced   \n",
              "4  Elderly Assistance                     9264                Flat   \n",
              "\n",
              "   MosaicNoAdultsHousehold  Still_with_ScottishPower  Customer_Tenure_Days  \n",
              "0                        1                         0                3730.0  \n",
              "1                        2                         0                 543.0  \n",
              "2                        2                         0                 364.0  \n",
              "3                        2                         0                3877.0  \n",
              "4                        1                         0                1867.0  "
            ],
            "text/html": [
              "\n",
              "  <div id=\"df-d851c6d6-4180-4686-a7aa-e2e50dbaca26\" class=\"colab-df-container\">\n",
              "    <div>\n",
              "<style scoped>\n",
              "    .dataframe tbody tr th:only-of-type {\n",
              "        vertical-align: middle;\n",
              "    }\n",
              "\n",
              "    .dataframe tbody tr th {\n",
              "        vertical-align: top;\n",
              "    }\n",
              "\n",
              "    .dataframe thead th {\n",
              "        text-align: right;\n",
              "    }\n",
              "</style>\n",
              "<table border=\"1\" class=\"dataframe\">\n",
              "  <thead>\n",
              "    <tr style=\"text-align: right;\">\n",
              "      <th></th>\n",
              "      <th>LossDate</th>\n",
              "      <th>Loss</th>\n",
              "      <th>AccountStartdate</th>\n",
              "      <th>AccountDeterminationGroup</th>\n",
              "      <th>InstallmentPlan</th>\n",
              "      <th>OffsetValue</th>\n",
              "      <th>DebtPlanGroup</th>\n",
              "      <th>PaymentFrequency</th>\n",
              "      <th>ComplaintType</th>\n",
              "      <th>StatusGrouping</th>\n",
              "      <th>CustomerCategory</th>\n",
              "      <th>CustomerType</th>\n",
              "      <th>PreferredContactMethod</th>\n",
              "      <th>OfgemCodeRisk</th>\n",
              "      <th>MosaicGroup</th>\n",
              "      <th>MosaicType</th>\n",
              "      <th>MosaicTypeDesc</th>\n",
              "      <th>MosaicDigitalGroup</th>\n",
              "      <th>MosaicDigitalGroupDesc</th>\n",
              "      <th>MosaicFSSGroup</th>\n",
              "      <th>MosaicFSSType</th>\n",
              "      <th>MosaicHouseholdIncValue</th>\n",
              "      <th>MosaicResidenceType</th>\n",
              "      <th>MosaicNoAdultsHousehold</th>\n",
              "      <th>Still_with_ScottishPower</th>\n",
              "      <th>Customer_Tenure_Days</th>\n",
              "    </tr>\n",
              "  </thead>\n",
              "  <tbody>\n",
              "    <tr>\n",
              "      <th>0</th>\n",
              "      <td>2024-05-08</td>\n",
              "      <td>1</td>\n",
              "      <td>2014-02-20</td>\n",
              "      <td>Domestic</td>\n",
              "      <td>0</td>\n",
              "      <td>488.17</td>\n",
              "      <td>Cash</td>\n",
              "      <td>Monthly</td>\n",
              "      <td>No Complaint</td>\n",
              "      <td>No Status</td>\n",
              "      <td>Person</td>\n",
              "      <td>Unknown</td>\n",
              "      <td>Post (letter)</td>\n",
              "      <td>PSR_High_Risk</td>\n",
              "      <td>Vintage Value</td>\n",
              "      <td>Pocket Pensions</td>\n",
              "      <td>Penny-wise elderly singles renting in developm...</td>\n",
              "      <td>Tentative Elders</td>\n",
              "      <td>Elderly singles and households with little to ...</td>\n",
              "      <td>Declining Years</td>\n",
              "      <td>Elderly Assistance</td>\n",
              "      <td>9264</td>\n",
              "      <td>Flat</td>\n",
              "      <td>1</td>\n",
              "      <td>0</td>\n",
              "      <td>3730.0</td>\n",
              "    </tr>\n",
              "    <tr>\n",
              "      <th>1</th>\n",
              "      <td>2024-05-15</td>\n",
              "      <td>1</td>\n",
              "      <td>2022-11-19</td>\n",
              "      <td>Domestic</td>\n",
              "      <td>0</td>\n",
              "      <td>27.88</td>\n",
              "      <td>Cash</td>\n",
              "      <td>Monthly</td>\n",
              "      <td>No Complaint</td>\n",
              "      <td>No Status</td>\n",
              "      <td>Person</td>\n",
              "      <td>Type not available</td>\n",
              "      <td>Post (letter)</td>\n",
              "      <td>PSR_No_SNEED_Flags</td>\n",
              "      <td>Aspiring Homemakers</td>\n",
              "      <td>Contemporary Starts</td>\n",
              "      <td>Young families and singles setting up home in ...</td>\n",
              "      <td>First-Gen Parents</td>\n",
              "      <td>Members of the first digital generation who ar...</td>\n",
              "      <td>Deal Seekers</td>\n",
              "      <td>Cost Optimisers</td>\n",
              "      <td>25973</td>\n",
              "      <td>Semi-Detached</td>\n",
              "      <td>2</td>\n",
              "      <td>0</td>\n",
              "      <td>543.0</td>\n",
              "    </tr>\n",
              "    <tr>\n",
              "      <th>2</th>\n",
              "      <td>2024-05-29</td>\n",
              "      <td>1</td>\n",
              "      <td>2023-05-31</td>\n",
              "      <td>Domestic</td>\n",
              "      <td>0</td>\n",
              "      <td>66.87</td>\n",
              "      <td>Cash</td>\n",
              "      <td>Monthly</td>\n",
              "      <td>No Complaint</td>\n",
              "      <td>No Status</td>\n",
              "      <td>Person</td>\n",
              "      <td>Unknown</td>\n",
              "      <td>E-Mail</td>\n",
              "      <td>PSR_No_SNEED_Flags</td>\n",
              "      <td>Rental Hubs</td>\n",
              "      <td>Central Pulse</td>\n",
              "      <td>City-loving youngsters renting central flats i...</td>\n",
              "      <td>Digital Frontier</td>\n",
              "      <td>Young adults with sophisticated online behavio...</td>\n",
              "      <td>Money Makers</td>\n",
              "      <td>City Buzz</td>\n",
              "      <td>54227</td>\n",
              "      <td>Flat</td>\n",
              "      <td>2</td>\n",
              "      <td>0</td>\n",
              "      <td>364.0</td>\n",
              "    </tr>\n",
              "    <tr>\n",
              "      <th>3</th>\n",
              "      <td>2024-05-06</td>\n",
              "      <td>1</td>\n",
              "      <td>2013-09-24</td>\n",
              "      <td>Domestic</td>\n",
              "      <td>0</td>\n",
              "      <td>46.65</td>\n",
              "      <td>Cash</td>\n",
              "      <td>Quarterly</td>\n",
              "      <td>No Complaint</td>\n",
              "      <td>No Status</td>\n",
              "      <td>Person</td>\n",
              "      <td>Unknown</td>\n",
              "      <td>Post (letter)</td>\n",
              "      <td>PSR_No_SNEED_Flags</td>\n",
              "      <td>Municipal Tenants</td>\n",
              "      <td>Mature Workers</td>\n",
              "      <td>Older social renters settled in low value home...</td>\n",
              "      <td>Online Escapists</td>\n",
              "      <td>Singles and families with squeezed finances us...</td>\n",
              "      <td>Cash Economy</td>\n",
              "      <td>Workaday Families</td>\n",
              "      <td>22953</td>\n",
              "      <td>Terraced</td>\n",
              "      <td>2</td>\n",
              "      <td>0</td>\n",
              "      <td>3877.0</td>\n",
              "    </tr>\n",
              "    <tr>\n",
              "      <th>4</th>\n",
              "      <td>2024-05-16</td>\n",
              "      <td>1</td>\n",
              "      <td>2019-04-06</td>\n",
              "      <td>Domestic</td>\n",
              "      <td>0</td>\n",
              "      <td>1145.62</td>\n",
              "      <td>Cash</td>\n",
              "      <td>Monthly</td>\n",
              "      <td>No Complaint</td>\n",
              "      <td>No Status</td>\n",
              "      <td>Person</td>\n",
              "      <td>Type not available</td>\n",
              "      <td>Post (letter)</td>\n",
              "      <td>PSR_No_SNEED_Flags</td>\n",
              "      <td>Vintage Value</td>\n",
              "      <td>Pocket Pensions</td>\n",
              "      <td>Penny-wise elderly singles renting in developm...</td>\n",
              "      <td>Tentative Elders</td>\n",
              "      <td>Elderly singles and households with little to ...</td>\n",
              "      <td>Declining Years</td>\n",
              "      <td>Elderly Assistance</td>\n",
              "      <td>9264</td>\n",
              "      <td>Flat</td>\n",
              "      <td>1</td>\n",
              "      <td>0</td>\n",
              "      <td>1867.0</td>\n",
              "    </tr>\n",
              "  </tbody>\n",
              "</table>\n",
              "</div>\n",
              "    <div class=\"colab-df-buttons\">\n",
              "\n",
              "  <div class=\"colab-df-container\">\n",
              "    <button class=\"colab-df-convert\" onclick=\"convertToInteractive('df-d851c6d6-4180-4686-a7aa-e2e50dbaca26')\"\n",
              "            title=\"Convert this dataframe to an interactive table.\"\n",
              "            style=\"display:none;\">\n",
              "\n",
              "  <svg xmlns=\"http://www.w3.org/2000/svg\" height=\"24px\" viewBox=\"0 -960 960 960\">\n",
              "    <path d=\"M120-120v-720h720v720H120Zm60-500h600v-160H180v160Zm220 220h160v-160H400v160Zm0 220h160v-160H400v160ZM180-400h160v-160H180v160Zm440 0h160v-160H620v160ZM180-180h160v-160H180v160Zm440 0h160v-160H620v160Z\"/>\n",
              "  </svg>\n",
              "    </button>\n",
              "\n",
              "  <style>\n",
              "    .colab-df-container {\n",
              "      display:flex;\n",
              "      gap: 12px;\n",
              "    }\n",
              "\n",
              "    .colab-df-convert {\n",
              "      background-color: #E8F0FE;\n",
              "      border: none;\n",
              "      border-radius: 50%;\n",
              "      cursor: pointer;\n",
              "      display: none;\n",
              "      fill: #1967D2;\n",
              "      height: 32px;\n",
              "      padding: 0 0 0 0;\n",
              "      width: 32px;\n",
              "    }\n",
              "\n",
              "    .colab-df-convert:hover {\n",
              "      background-color: #E2EBFA;\n",
              "      box-shadow: 0px 1px 2px rgba(60, 64, 67, 0.3), 0px 1px 3px 1px rgba(60, 64, 67, 0.15);\n",
              "      fill: #174EA6;\n",
              "    }\n",
              "\n",
              "    .colab-df-buttons div {\n",
              "      margin-bottom: 4px;\n",
              "    }\n",
              "\n",
              "    [theme=dark] .colab-df-convert {\n",
              "      background-color: #3B4455;\n",
              "      fill: #D2E3FC;\n",
              "    }\n",
              "\n",
              "    [theme=dark] .colab-df-convert:hover {\n",
              "      background-color: #434B5C;\n",
              "      box-shadow: 0px 1px 3px 1px rgba(0, 0, 0, 0.15);\n",
              "      filter: drop-shadow(0px 1px 2px rgba(0, 0, 0, 0.3));\n",
              "      fill: #FFFFFF;\n",
              "    }\n",
              "  </style>\n",
              "\n",
              "    <script>\n",
              "      const buttonEl =\n",
              "        document.querySelector('#df-d851c6d6-4180-4686-a7aa-e2e50dbaca26 button.colab-df-convert');\n",
              "      buttonEl.style.display =\n",
              "        google.colab.kernel.accessAllowed ? 'block' : 'none';\n",
              "\n",
              "      async function convertToInteractive(key) {\n",
              "        const element = document.querySelector('#df-d851c6d6-4180-4686-a7aa-e2e50dbaca26');\n",
              "        const dataTable =\n",
              "          await google.colab.kernel.invokeFunction('convertToInteractive',\n",
              "                                                    [key], {});\n",
              "        if (!dataTable) return;\n",
              "\n",
              "        const docLinkHtml = 'Like what you see? Visit the ' +\n",
              "          '<a target=\"_blank\" href=https://colab.research.google.com/notebooks/data_table.ipynb>data table notebook</a>'\n",
              "          + ' to learn more about interactive tables.';\n",
              "        element.innerHTML = '';\n",
              "        dataTable['output_type'] = 'display_data';\n",
              "        await google.colab.output.renderOutput(dataTable, element);\n",
              "        const docLink = document.createElement('div');\n",
              "        docLink.innerHTML = docLinkHtml;\n",
              "        element.appendChild(docLink);\n",
              "      }\n",
              "    </script>\n",
              "  </div>\n",
              "\n",
              "\n",
              "<div id=\"df-74972299-3f55-474e-9fdf-63f572246524\">\n",
              "  <button class=\"colab-df-quickchart\" onclick=\"quickchart('df-74972299-3f55-474e-9fdf-63f572246524')\"\n",
              "            title=\"Suggest charts\"\n",
              "            style=\"display:none;\">\n",
              "\n",
              "<svg xmlns=\"http://www.w3.org/2000/svg\" height=\"24px\"viewBox=\"0 0 24 24\"\n",
              "     width=\"24px\">\n",
              "    <g>\n",
              "        <path d=\"M19 3H5c-1.1 0-2 .9-2 2v14c0 1.1.9 2 2 2h14c1.1 0 2-.9 2-2V5c0-1.1-.9-2-2-2zM9 17H7v-7h2v7zm4 0h-2V7h2v10zm4 0h-2v-4h2v4z\"/>\n",
              "    </g>\n",
              "</svg>\n",
              "  </button>\n",
              "\n",
              "<style>\n",
              "  .colab-df-quickchart {\n",
              "      --bg-color: #E8F0FE;\n",
              "      --fill-color: #1967D2;\n",
              "      --hover-bg-color: #E2EBFA;\n",
              "      --hover-fill-color: #174EA6;\n",
              "      --disabled-fill-color: #AAA;\n",
              "      --disabled-bg-color: #DDD;\n",
              "  }\n",
              "\n",
              "  [theme=dark] .colab-df-quickchart {\n",
              "      --bg-color: #3B4455;\n",
              "      --fill-color: #D2E3FC;\n",
              "      --hover-bg-color: #434B5C;\n",
              "      --hover-fill-color: #FFFFFF;\n",
              "      --disabled-bg-color: #3B4455;\n",
              "      --disabled-fill-color: #666;\n",
              "  }\n",
              "\n",
              "  .colab-df-quickchart {\n",
              "    background-color: var(--bg-color);\n",
              "    border: none;\n",
              "    border-radius: 50%;\n",
              "    cursor: pointer;\n",
              "    display: none;\n",
              "    fill: var(--fill-color);\n",
              "    height: 32px;\n",
              "    padding: 0;\n",
              "    width: 32px;\n",
              "  }\n",
              "\n",
              "  .colab-df-quickchart:hover {\n",
              "    background-color: var(--hover-bg-color);\n",
              "    box-shadow: 0 1px 2px rgba(60, 64, 67, 0.3), 0 1px 3px 1px rgba(60, 64, 67, 0.15);\n",
              "    fill: var(--button-hover-fill-color);\n",
              "  }\n",
              "\n",
              "  .colab-df-quickchart-complete:disabled,\n",
              "  .colab-df-quickchart-complete:disabled:hover {\n",
              "    background-color: var(--disabled-bg-color);\n",
              "    fill: var(--disabled-fill-color);\n",
              "    box-shadow: none;\n",
              "  }\n",
              "\n",
              "  .colab-df-spinner {\n",
              "    border: 2px solid var(--fill-color);\n",
              "    border-color: transparent;\n",
              "    border-bottom-color: var(--fill-color);\n",
              "    animation:\n",
              "      spin 1s steps(1) infinite;\n",
              "  }\n",
              "\n",
              "  @keyframes spin {\n",
              "    0% {\n",
              "      border-color: transparent;\n",
              "      border-bottom-color: var(--fill-color);\n",
              "      border-left-color: var(--fill-color);\n",
              "    }\n",
              "    20% {\n",
              "      border-color: transparent;\n",
              "      border-left-color: var(--fill-color);\n",
              "      border-top-color: var(--fill-color);\n",
              "    }\n",
              "    30% {\n",
              "      border-color: transparent;\n",
              "      border-left-color: var(--fill-color);\n",
              "      border-top-color: var(--fill-color);\n",
              "      border-right-color: var(--fill-color);\n",
              "    }\n",
              "    40% {\n",
              "      border-color: transparent;\n",
              "      border-right-color: var(--fill-color);\n",
              "      border-top-color: var(--fill-color);\n",
              "    }\n",
              "    60% {\n",
              "      border-color: transparent;\n",
              "      border-right-color: var(--fill-color);\n",
              "    }\n",
              "    80% {\n",
              "      border-color: transparent;\n",
              "      border-right-color: var(--fill-color);\n",
              "      border-bottom-color: var(--fill-color);\n",
              "    }\n",
              "    90% {\n",
              "      border-color: transparent;\n",
              "      border-bottom-color: var(--fill-color);\n",
              "    }\n",
              "  }\n",
              "</style>\n",
              "\n",
              "  <script>\n",
              "    async function quickchart(key) {\n",
              "      const quickchartButtonEl =\n",
              "        document.querySelector('#' + key + ' button');\n",
              "      quickchartButtonEl.disabled = true;  // To prevent multiple clicks.\n",
              "      quickchartButtonEl.classList.add('colab-df-spinner');\n",
              "      try {\n",
              "        const charts = await google.colab.kernel.invokeFunction(\n",
              "            'suggestCharts', [key], {});\n",
              "      } catch (error) {\n",
              "        console.error('Error during call to suggestCharts:', error);\n",
              "      }\n",
              "      quickchartButtonEl.classList.remove('colab-df-spinner');\n",
              "      quickchartButtonEl.classList.add('colab-df-quickchart-complete');\n",
              "    }\n",
              "    (() => {\n",
              "      let quickchartButtonEl =\n",
              "        document.querySelector('#df-74972299-3f55-474e-9fdf-63f572246524 button');\n",
              "      quickchartButtonEl.style.display =\n",
              "        google.colab.kernel.accessAllowed ? 'block' : 'none';\n",
              "    })();\n",
              "  </script>\n",
              "</div>\n",
              "\n",
              "    </div>\n",
              "  </div>\n"
            ],
            "application/vnd.google.colaboratory.intrinsic+json": {
              "type": "dataframe",
              "variable_name": "df"
            }
          },
          "metadata": {},
          "execution_count": 30
        }
      ]
    },
    {
      "cell_type": "markdown",
      "source": [
        "#4. Exploratory Data Analysis (EDA):"
      ],
      "metadata": {
        "id": "orLiv6Fz8zNR"
      }
    },
    {
      "cell_type": "markdown",
      "source": [
        "### 4.1 Let's dive deep into dataset to investigate the key factors driving customer churn (Churn - customer leaving the Scottish Power).\n",
        "* Analyzing customer tenure, offset values, and demographics to identify any trends and patterns."
      ],
      "metadata": {
        "id": "xqxM9YSnQSHV"
      }
    },
    {
      "cell_type": "code",
      "source": [
        "# Visualize churn distribution\n",
        "churn_distribution = df['Loss'].value_counts(normalize=True) * 100\n",
        "churn_distribution"
      ],
      "metadata": {
        "colab": {
          "base_uri": "https://localhost:8080/",
          "height": 178
        },
        "id": "KOJIXvjQ80ga",
        "outputId": "5fae010c-b43b-4445-fe79-55f51adc3809"
      },
      "execution_count": null,
      "outputs": [
        {
          "output_type": "execute_result",
          "data": {
            "text/plain": [
              "Loss\n",
              "0    80.0\n",
              "1    20.0\n",
              "Name: proportion, dtype: float64"
            ],
            "text/html": [
              "<div>\n",
              "<style scoped>\n",
              "    .dataframe tbody tr th:only-of-type {\n",
              "        vertical-align: middle;\n",
              "    }\n",
              "\n",
              "    .dataframe tbody tr th {\n",
              "        vertical-align: top;\n",
              "    }\n",
              "\n",
              "    .dataframe thead th {\n",
              "        text-align: right;\n",
              "    }\n",
              "</style>\n",
              "<table border=\"1\" class=\"dataframe\">\n",
              "  <thead>\n",
              "    <tr style=\"text-align: right;\">\n",
              "      <th></th>\n",
              "      <th>proportion</th>\n",
              "    </tr>\n",
              "    <tr>\n",
              "      <th>Loss</th>\n",
              "      <th></th>\n",
              "    </tr>\n",
              "  </thead>\n",
              "  <tbody>\n",
              "    <tr>\n",
              "      <th>0</th>\n",
              "      <td>80.0</td>\n",
              "    </tr>\n",
              "    <tr>\n",
              "      <th>1</th>\n",
              "      <td>20.0</td>\n",
              "    </tr>\n",
              "  </tbody>\n",
              "</table>\n",
              "</div><br><label><b>dtype:</b> float64</label>"
            ]
          },
          "metadata": {},
          "execution_count": 31
        }
      ]
    },
    {
      "cell_type": "code",
      "source": [
        "c_labels = ['No', 'Yes']\n",
        "\n",
        "# Create subplots: use 'domain' type for Pie subplot\n",
        "fig =go.Figure(go.Pie(labels=c_labels, values=df['Loss'].value_counts(), name=\"Churn\"))\n",
        "\n",
        "# Use `hole` to create a donut-like pie chart\n",
        "fig.update_traces(hole=.4, hoverinfo=\"label+percent+name\", textfont_size=16)\n",
        "\n",
        "fig.update_layout(\n",
        "    title_text=\"Churn Distributions\",\n",
        "    annotations=[dict(text='Churn', x=0.50, y=0.5, font_size=15, showarrow=False)],\n",
        "    width=600, height=400)\n",
        "fig.show()"
      ],
      "metadata": {
        "colab": {
          "base_uri": "https://localhost:8080/",
          "height": 417
        },
        "id": "Od3BJf3zkd53",
        "outputId": "507f6439-0bd5-41bb-cbde-fe7f9f7a8d83"
      },
      "execution_count": null,
      "outputs": [
        {
          "output_type": "display_data",
          "data": {
            "text/html": [
              "<html>\n",
              "<head><meta charset=\"utf-8\" /></head>\n",
              "<body>\n",
              "    <div>            <script src=\"https://cdnjs.cloudflare.com/ajax/libs/mathjax/2.7.5/MathJax.js?config=TeX-AMS-MML_SVG\"></script><script type=\"text/javascript\">if (window.MathJax && window.MathJax.Hub && window.MathJax.Hub.Config) {window.MathJax.Hub.Config({SVG: {font: \"STIX-Web\"}});}</script>                <script type=\"text/javascript\">window.PlotlyConfig = {MathJaxConfig: 'local'};</script>\n",
              "        <script charset=\"utf-8\" src=\"https://cdn.plot.ly/plotly-2.24.1.min.js\"></script>                <div id=\"4ae826fa-ef6a-45a6-8f7b-7d2601bd31c1\" class=\"plotly-graph-div\" style=\"height:400px; width:600px;\"></div>            <script type=\"text/javascript\">                                    window.PLOTLYENV=window.PLOTLYENV || {};                                    if (document.getElementById(\"4ae826fa-ef6a-45a6-8f7b-7d2601bd31c1\")) {                    Plotly.newPlot(                        \"4ae826fa-ef6a-45a6-8f7b-7d2601bd31c1\",                        [{\"labels\":[\"No\",\"Yes\"],\"name\":\"Churn\",\"values\":[4000,1000],\"type\":\"pie\",\"textfont\":{\"size\":16},\"hole\":0.4,\"hoverinfo\":\"label+percent+name\"}],                        {\"template\":{\"data\":{\"histogram2dcontour\":[{\"type\":\"histogram2dcontour\",\"colorbar\":{\"outlinewidth\":0,\"ticks\":\"\"},\"colorscale\":[[0.0,\"#0d0887\"],[0.1111111111111111,\"#46039f\"],[0.2222222222222222,\"#7201a8\"],[0.3333333333333333,\"#9c179e\"],[0.4444444444444444,\"#bd3786\"],[0.5555555555555556,\"#d8576b\"],[0.6666666666666666,\"#ed7953\"],[0.7777777777777778,\"#fb9f3a\"],[0.8888888888888888,\"#fdca26\"],[1.0,\"#f0f921\"]]}],\"choropleth\":[{\"type\":\"choropleth\",\"colorbar\":{\"outlinewidth\":0,\"ticks\":\"\"}}],\"histogram2d\":[{\"type\":\"histogram2d\",\"colorbar\":{\"outlinewidth\":0,\"ticks\":\"\"},\"colorscale\":[[0.0,\"#0d0887\"],[0.1111111111111111,\"#46039f\"],[0.2222222222222222,\"#7201a8\"],[0.3333333333333333,\"#9c179e\"],[0.4444444444444444,\"#bd3786\"],[0.5555555555555556,\"#d8576b\"],[0.6666666666666666,\"#ed7953\"],[0.7777777777777778,\"#fb9f3a\"],[0.8888888888888888,\"#fdca26\"],[1.0,\"#f0f921\"]]}],\"heatmap\":[{\"type\":\"heatmap\",\"colorbar\":{\"outlinewidth\":0,\"ticks\":\"\"},\"colorscale\":[[0.0,\"#0d0887\"],[0.1111111111111111,\"#46039f\"],[0.2222222222222222,\"#7201a8\"],[0.3333333333333333,\"#9c179e\"],[0.4444444444444444,\"#bd3786\"],[0.5555555555555556,\"#d8576b\"],[0.6666666666666666,\"#ed7953\"],[0.7777777777777778,\"#fb9f3a\"],[0.8888888888888888,\"#fdca26\"],[1.0,\"#f0f921\"]]}],\"heatmapgl\":[{\"type\":\"heatmapgl\",\"colorbar\":{\"outlinewidth\":0,\"ticks\":\"\"},\"colorscale\":[[0.0,\"#0d0887\"],[0.1111111111111111,\"#46039f\"],[0.2222222222222222,\"#7201a8\"],[0.3333333333333333,\"#9c179e\"],[0.4444444444444444,\"#bd3786\"],[0.5555555555555556,\"#d8576b\"],[0.6666666666666666,\"#ed7953\"],[0.7777777777777778,\"#fb9f3a\"],[0.8888888888888888,\"#fdca26\"],[1.0,\"#f0f921\"]]}],\"contourcarpet\":[{\"type\":\"contourcarpet\",\"colorbar\":{\"outlinewidth\":0,\"ticks\":\"\"}}],\"contour\":[{\"type\":\"contour\",\"colorbar\":{\"outlinewidth\":0,\"ticks\":\"\"},\"colorscale\":[[0.0,\"#0d0887\"],[0.1111111111111111,\"#46039f\"],[0.2222222222222222,\"#7201a8\"],[0.3333333333333333,\"#9c179e\"],[0.4444444444444444,\"#bd3786\"],[0.5555555555555556,\"#d8576b\"],[0.6666666666666666,\"#ed7953\"],[0.7777777777777778,\"#fb9f3a\"],[0.8888888888888888,\"#fdca26\"],[1.0,\"#f0f921\"]]}],\"surface\":[{\"type\":\"surface\",\"colorbar\":{\"outlinewidth\":0,\"ticks\":\"\"},\"colorscale\":[[0.0,\"#0d0887\"],[0.1111111111111111,\"#46039f\"],[0.2222222222222222,\"#7201a8\"],[0.3333333333333333,\"#9c179e\"],[0.4444444444444444,\"#bd3786\"],[0.5555555555555556,\"#d8576b\"],[0.6666666666666666,\"#ed7953\"],[0.7777777777777778,\"#fb9f3a\"],[0.8888888888888888,\"#fdca26\"],[1.0,\"#f0f921\"]]}],\"mesh3d\":[{\"type\":\"mesh3d\",\"colorbar\":{\"outlinewidth\":0,\"ticks\":\"\"}}],\"scatter\":[{\"fillpattern\":{\"fillmode\":\"overlay\",\"size\":10,\"solidity\":0.2},\"type\":\"scatter\"}],\"parcoords\":[{\"type\":\"parcoords\",\"line\":{\"colorbar\":{\"outlinewidth\":0,\"ticks\":\"\"}}}],\"scatterpolargl\":[{\"type\":\"scatterpolargl\",\"marker\":{\"colorbar\":{\"outlinewidth\":0,\"ticks\":\"\"}}}],\"bar\":[{\"error_x\":{\"color\":\"#2a3f5f\"},\"error_y\":{\"color\":\"#2a3f5f\"},\"marker\":{\"line\":{\"color\":\"#E5ECF6\",\"width\":0.5},\"pattern\":{\"fillmode\":\"overlay\",\"size\":10,\"solidity\":0.2}},\"type\":\"bar\"}],\"scattergeo\":[{\"type\":\"scattergeo\",\"marker\":{\"colorbar\":{\"outlinewidth\":0,\"ticks\":\"\"}}}],\"scatterpolar\":[{\"type\":\"scatterpolar\",\"marker\":{\"colorbar\":{\"outlinewidth\":0,\"ticks\":\"\"}}}],\"histogram\":[{\"marker\":{\"pattern\":{\"fillmode\":\"overlay\",\"size\":10,\"solidity\":0.2}},\"type\":\"histogram\"}],\"scattergl\":[{\"type\":\"scattergl\",\"marker\":{\"colorbar\":{\"outlinewidth\":0,\"ticks\":\"\"}}}],\"scatter3d\":[{\"type\":\"scatter3d\",\"line\":{\"colorbar\":{\"outlinewidth\":0,\"ticks\":\"\"}},\"marker\":{\"colorbar\":{\"outlinewidth\":0,\"ticks\":\"\"}}}],\"scattermapbox\":[{\"type\":\"scattermapbox\",\"marker\":{\"colorbar\":{\"outlinewidth\":0,\"ticks\":\"\"}}}],\"scatterternary\":[{\"type\":\"scatterternary\",\"marker\":{\"colorbar\":{\"outlinewidth\":0,\"ticks\":\"\"}}}],\"scattercarpet\":[{\"type\":\"scattercarpet\",\"marker\":{\"colorbar\":{\"outlinewidth\":0,\"ticks\":\"\"}}}],\"carpet\":[{\"aaxis\":{\"endlinecolor\":\"#2a3f5f\",\"gridcolor\":\"white\",\"linecolor\":\"white\",\"minorgridcolor\":\"white\",\"startlinecolor\":\"#2a3f5f\"},\"baxis\":{\"endlinecolor\":\"#2a3f5f\",\"gridcolor\":\"white\",\"linecolor\":\"white\",\"minorgridcolor\":\"white\",\"startlinecolor\":\"#2a3f5f\"},\"type\":\"carpet\"}],\"table\":[{\"cells\":{\"fill\":{\"color\":\"#EBF0F8\"},\"line\":{\"color\":\"white\"}},\"header\":{\"fill\":{\"color\":\"#C8D4E3\"},\"line\":{\"color\":\"white\"}},\"type\":\"table\"}],\"barpolar\":[{\"marker\":{\"line\":{\"color\":\"#E5ECF6\",\"width\":0.5},\"pattern\":{\"fillmode\":\"overlay\",\"size\":10,\"solidity\":0.2}},\"type\":\"barpolar\"}],\"pie\":[{\"automargin\":true,\"type\":\"pie\"}]},\"layout\":{\"autotypenumbers\":\"strict\",\"colorway\":[\"#636efa\",\"#EF553B\",\"#00cc96\",\"#ab63fa\",\"#FFA15A\",\"#19d3f3\",\"#FF6692\",\"#B6E880\",\"#FF97FF\",\"#FECB52\"],\"font\":{\"color\":\"#2a3f5f\"},\"hovermode\":\"closest\",\"hoverlabel\":{\"align\":\"left\"},\"paper_bgcolor\":\"white\",\"plot_bgcolor\":\"#E5ECF6\",\"polar\":{\"bgcolor\":\"#E5ECF6\",\"angularaxis\":{\"gridcolor\":\"white\",\"linecolor\":\"white\",\"ticks\":\"\"},\"radialaxis\":{\"gridcolor\":\"white\",\"linecolor\":\"white\",\"ticks\":\"\"}},\"ternary\":{\"bgcolor\":\"#E5ECF6\",\"aaxis\":{\"gridcolor\":\"white\",\"linecolor\":\"white\",\"ticks\":\"\"},\"baxis\":{\"gridcolor\":\"white\",\"linecolor\":\"white\",\"ticks\":\"\"},\"caxis\":{\"gridcolor\":\"white\",\"linecolor\":\"white\",\"ticks\":\"\"}},\"coloraxis\":{\"colorbar\":{\"outlinewidth\":0,\"ticks\":\"\"}},\"colorscale\":{\"sequential\":[[0.0,\"#0d0887\"],[0.1111111111111111,\"#46039f\"],[0.2222222222222222,\"#7201a8\"],[0.3333333333333333,\"#9c179e\"],[0.4444444444444444,\"#bd3786\"],[0.5555555555555556,\"#d8576b\"],[0.6666666666666666,\"#ed7953\"],[0.7777777777777778,\"#fb9f3a\"],[0.8888888888888888,\"#fdca26\"],[1.0,\"#f0f921\"]],\"sequentialminus\":[[0.0,\"#0d0887\"],[0.1111111111111111,\"#46039f\"],[0.2222222222222222,\"#7201a8\"],[0.3333333333333333,\"#9c179e\"],[0.4444444444444444,\"#bd3786\"],[0.5555555555555556,\"#d8576b\"],[0.6666666666666666,\"#ed7953\"],[0.7777777777777778,\"#fb9f3a\"],[0.8888888888888888,\"#fdca26\"],[1.0,\"#f0f921\"]],\"diverging\":[[0,\"#8e0152\"],[0.1,\"#c51b7d\"],[0.2,\"#de77ae\"],[0.3,\"#f1b6da\"],[0.4,\"#fde0ef\"],[0.5,\"#f7f7f7\"],[0.6,\"#e6f5d0\"],[0.7,\"#b8e186\"],[0.8,\"#7fbc41\"],[0.9,\"#4d9221\"],[1,\"#276419\"]]},\"xaxis\":{\"gridcolor\":\"white\",\"linecolor\":\"white\",\"ticks\":\"\",\"title\":{\"standoff\":15},\"zerolinecolor\":\"white\",\"automargin\":true,\"zerolinewidth\":2},\"yaxis\":{\"gridcolor\":\"white\",\"linecolor\":\"white\",\"ticks\":\"\",\"title\":{\"standoff\":15},\"zerolinecolor\":\"white\",\"automargin\":true,\"zerolinewidth\":2},\"scene\":{\"xaxis\":{\"backgroundcolor\":\"#E5ECF6\",\"gridcolor\":\"white\",\"linecolor\":\"white\",\"showbackground\":true,\"ticks\":\"\",\"zerolinecolor\":\"white\",\"gridwidth\":2},\"yaxis\":{\"backgroundcolor\":\"#E5ECF6\",\"gridcolor\":\"white\",\"linecolor\":\"white\",\"showbackground\":true,\"ticks\":\"\",\"zerolinecolor\":\"white\",\"gridwidth\":2},\"zaxis\":{\"backgroundcolor\":\"#E5ECF6\",\"gridcolor\":\"white\",\"linecolor\":\"white\",\"showbackground\":true,\"ticks\":\"\",\"zerolinecolor\":\"white\",\"gridwidth\":2}},\"shapedefaults\":{\"line\":{\"color\":\"#2a3f5f\"}},\"annotationdefaults\":{\"arrowcolor\":\"#2a3f5f\",\"arrowhead\":0,\"arrowwidth\":1},\"geo\":{\"bgcolor\":\"white\",\"landcolor\":\"#E5ECF6\",\"subunitcolor\":\"white\",\"showland\":true,\"showlakes\":true,\"lakecolor\":\"white\"},\"title\":{\"x\":0.05},\"mapbox\":{\"style\":\"light\"}}},\"title\":{\"text\":\"Churn Distributions\"},\"annotations\":[{\"showarrow\":false,\"text\":\"Churn\",\"x\":0.5,\"y\":0.5,\"font\":{\"size\":15}}],\"width\":600,\"height\":400},                        {\"responsive\": true}                    ).then(function(){\n",
              "                            \n",
              "var gd = document.getElementById('4ae826fa-ef6a-45a6-8f7b-7d2601bd31c1');\n",
              "var x = new MutationObserver(function (mutations, observer) {{\n",
              "        var display = window.getComputedStyle(gd).display;\n",
              "        if (!display || display === 'none') {{\n",
              "            console.log([gd, 'removed!']);\n",
              "            Plotly.purge(gd);\n",
              "            observer.disconnect();\n",
              "        }}\n",
              "}});\n",
              "\n",
              "// Listen for the removal of the full notebook cells\n",
              "var notebookContainer = gd.closest('#notebook-container');\n",
              "if (notebookContainer) {{\n",
              "    x.observe(notebookContainer, {childList: true});\n",
              "}}\n",
              "\n",
              "// Listen for the clearing of the current output cell\n",
              "var outputEl = gd.closest('.output');\n",
              "if (outputEl) {{\n",
              "    x.observe(outputEl, {childList: true});\n",
              "}}\n",
              "\n",
              "                        })                };                            </script>        </div>\n",
              "</body>\n",
              "</html>"
            ]
          },
          "metadata": {}
        }
      ]
    },
    {
      "cell_type": "code",
      "source": [
        "# analyzing relationship between 'Offset Value' and churn ('Loss')\n",
        "churn_vs_offset = df.groupby('Loss')['OffsetValue'].mean()\n",
        "churn_vs_offset"
      ],
      "metadata": {
        "colab": {
          "base_uri": "https://localhost:8080/",
          "height": 178
        },
        "id": "d5mIOhCdk_df",
        "outputId": "5bba07c2-5b51-492e-fdc6-1c1f23e651b8"
      },
      "execution_count": null,
      "outputs": [
        {
          "output_type": "execute_result",
          "data": {
            "text/plain": [
              "Loss\n",
              "0    397.347365\n",
              "1    197.746810\n",
              "Name: OffsetValue, dtype: float64"
            ],
            "text/html": [
              "<div>\n",
              "<style scoped>\n",
              "    .dataframe tbody tr th:only-of-type {\n",
              "        vertical-align: middle;\n",
              "    }\n",
              "\n",
              "    .dataframe tbody tr th {\n",
              "        vertical-align: top;\n",
              "    }\n",
              "\n",
              "    .dataframe thead th {\n",
              "        text-align: right;\n",
              "    }\n",
              "</style>\n",
              "<table border=\"1\" class=\"dataframe\">\n",
              "  <thead>\n",
              "    <tr style=\"text-align: right;\">\n",
              "      <th></th>\n",
              "      <th>OffsetValue</th>\n",
              "    </tr>\n",
              "    <tr>\n",
              "      <th>Loss</th>\n",
              "      <th></th>\n",
              "    </tr>\n",
              "  </thead>\n",
              "  <tbody>\n",
              "    <tr>\n",
              "      <th>0</th>\n",
              "      <td>397.347365</td>\n",
              "    </tr>\n",
              "    <tr>\n",
              "      <th>1</th>\n",
              "      <td>197.746810</td>\n",
              "    </tr>\n",
              "  </tbody>\n",
              "</table>\n",
              "</div><br><label><b>dtype:</b> float64</label>"
            ]
          },
          "metadata": {},
          "execution_count": 33
        }
      ]
    },
    {
      "cell_type": "code",
      "source": [
        "import plotly.express as px\n",
        "c_labels = ['No', 'Yes']\n",
        "plt.figure(figsize = (6,5))\n",
        "# Calculate the mean OffsetValue grouped by 'Loss'\n",
        "df_grouped = df.groupby(['Loss'])['OffsetValue'].mean().reset_index()\n",
        "\n",
        "# Create an interactive bar chart using Plotly\n",
        "fig = px.bar(df_grouped, x='Loss', y='OffsetValue',\n",
        "             labels={'Loss': 'Churn', 'OffsetValue': 'Value (GBP)'},\n",
        "             title='Offset Value and Churn')\n",
        "\n",
        "# Customize layout for better presentation\n",
        "fig.update_layout( yaxis_title=\"Value (GBP)\", xaxis_title=\"Churn\",\n",
        "    title_x=0.5, width=600, height=400\n",
        ")\n",
        "\n",
        "fig.show()\n"
      ],
      "metadata": {
        "colab": {
          "base_uri": "https://localhost:8080/",
          "height": 434
        },
        "id": "MxVZFU5krT_h",
        "outputId": "1e993700-a8a6-4bdd-a434-e3911b7e1c37"
      },
      "execution_count": null,
      "outputs": [
        {
          "output_type": "display_data",
          "data": {
            "text/html": [
              "<html>\n",
              "<head><meta charset=\"utf-8\" /></head>\n",
              "<body>\n",
              "    <div>            <script src=\"https://cdnjs.cloudflare.com/ajax/libs/mathjax/2.7.5/MathJax.js?config=TeX-AMS-MML_SVG\"></script><script type=\"text/javascript\">if (window.MathJax && window.MathJax.Hub && window.MathJax.Hub.Config) {window.MathJax.Hub.Config({SVG: {font: \"STIX-Web\"}});}</script>                <script type=\"text/javascript\">window.PlotlyConfig = {MathJaxConfig: 'local'};</script>\n",
              "        <script charset=\"utf-8\" src=\"https://cdn.plot.ly/plotly-2.24.1.min.js\"></script>                <div id=\"5d83c24c-6ad2-4f62-8013-6e2f5f4174ea\" class=\"plotly-graph-div\" style=\"height:400px; width:600px;\"></div>            <script type=\"text/javascript\">                                    window.PLOTLYENV=window.PLOTLYENV || {};                                    if (document.getElementById(\"5d83c24c-6ad2-4f62-8013-6e2f5f4174ea\")) {                    Plotly.newPlot(                        \"5d83c24c-6ad2-4f62-8013-6e2f5f4174ea\",                        [{\"alignmentgroup\":\"True\",\"hovertemplate\":\"Churn=%{x}\\u003cbr\\u003eValue (GBP)=%{y}\\u003cextra\\u003e\\u003c\\u002fextra\\u003e\",\"legendgroup\":\"\",\"marker\":{\"color\":\"#636efa\",\"pattern\":{\"shape\":\"\"}},\"name\":\"\",\"offsetgroup\":\"\",\"orientation\":\"v\",\"showlegend\":false,\"textposition\":\"auto\",\"x\":[0,1],\"xaxis\":\"x\",\"y\":[397.34736499999997,197.74681],\"yaxis\":\"y\",\"type\":\"bar\"}],                        {\"template\":{\"data\":{\"histogram2dcontour\":[{\"type\":\"histogram2dcontour\",\"colorbar\":{\"outlinewidth\":0,\"ticks\":\"\"},\"colorscale\":[[0.0,\"#0d0887\"],[0.1111111111111111,\"#46039f\"],[0.2222222222222222,\"#7201a8\"],[0.3333333333333333,\"#9c179e\"],[0.4444444444444444,\"#bd3786\"],[0.5555555555555556,\"#d8576b\"],[0.6666666666666666,\"#ed7953\"],[0.7777777777777778,\"#fb9f3a\"],[0.8888888888888888,\"#fdca26\"],[1.0,\"#f0f921\"]]}],\"choropleth\":[{\"type\":\"choropleth\",\"colorbar\":{\"outlinewidth\":0,\"ticks\":\"\"}}],\"histogram2d\":[{\"type\":\"histogram2d\",\"colorbar\":{\"outlinewidth\":0,\"ticks\":\"\"},\"colorscale\":[[0.0,\"#0d0887\"],[0.1111111111111111,\"#46039f\"],[0.2222222222222222,\"#7201a8\"],[0.3333333333333333,\"#9c179e\"],[0.4444444444444444,\"#bd3786\"],[0.5555555555555556,\"#d8576b\"],[0.6666666666666666,\"#ed7953\"],[0.7777777777777778,\"#fb9f3a\"],[0.8888888888888888,\"#fdca26\"],[1.0,\"#f0f921\"]]}],\"heatmap\":[{\"type\":\"heatmap\",\"colorbar\":{\"outlinewidth\":0,\"ticks\":\"\"},\"colorscale\":[[0.0,\"#0d0887\"],[0.1111111111111111,\"#46039f\"],[0.2222222222222222,\"#7201a8\"],[0.3333333333333333,\"#9c179e\"],[0.4444444444444444,\"#bd3786\"],[0.5555555555555556,\"#d8576b\"],[0.6666666666666666,\"#ed7953\"],[0.7777777777777778,\"#fb9f3a\"],[0.8888888888888888,\"#fdca26\"],[1.0,\"#f0f921\"]]}],\"heatmapgl\":[{\"type\":\"heatmapgl\",\"colorbar\":{\"outlinewidth\":0,\"ticks\":\"\"},\"colorscale\":[[0.0,\"#0d0887\"],[0.1111111111111111,\"#46039f\"],[0.2222222222222222,\"#7201a8\"],[0.3333333333333333,\"#9c179e\"],[0.4444444444444444,\"#bd3786\"],[0.5555555555555556,\"#d8576b\"],[0.6666666666666666,\"#ed7953\"],[0.7777777777777778,\"#fb9f3a\"],[0.8888888888888888,\"#fdca26\"],[1.0,\"#f0f921\"]]}],\"contourcarpet\":[{\"type\":\"contourcarpet\",\"colorbar\":{\"outlinewidth\":0,\"ticks\":\"\"}}],\"contour\":[{\"type\":\"contour\",\"colorbar\":{\"outlinewidth\":0,\"ticks\":\"\"},\"colorscale\":[[0.0,\"#0d0887\"],[0.1111111111111111,\"#46039f\"],[0.2222222222222222,\"#7201a8\"],[0.3333333333333333,\"#9c179e\"],[0.4444444444444444,\"#bd3786\"],[0.5555555555555556,\"#d8576b\"],[0.6666666666666666,\"#ed7953\"],[0.7777777777777778,\"#fb9f3a\"],[0.8888888888888888,\"#fdca26\"],[1.0,\"#f0f921\"]]}],\"surface\":[{\"type\":\"surface\",\"colorbar\":{\"outlinewidth\":0,\"ticks\":\"\"},\"colorscale\":[[0.0,\"#0d0887\"],[0.1111111111111111,\"#46039f\"],[0.2222222222222222,\"#7201a8\"],[0.3333333333333333,\"#9c179e\"],[0.4444444444444444,\"#bd3786\"],[0.5555555555555556,\"#d8576b\"],[0.6666666666666666,\"#ed7953\"],[0.7777777777777778,\"#fb9f3a\"],[0.8888888888888888,\"#fdca26\"],[1.0,\"#f0f921\"]]}],\"mesh3d\":[{\"type\":\"mesh3d\",\"colorbar\":{\"outlinewidth\":0,\"ticks\":\"\"}}],\"scatter\":[{\"fillpattern\":{\"fillmode\":\"overlay\",\"size\":10,\"solidity\":0.2},\"type\":\"scatter\"}],\"parcoords\":[{\"type\":\"parcoords\",\"line\":{\"colorbar\":{\"outlinewidth\":0,\"ticks\":\"\"}}}],\"scatterpolargl\":[{\"type\":\"scatterpolargl\",\"marker\":{\"colorbar\":{\"outlinewidth\":0,\"ticks\":\"\"}}}],\"bar\":[{\"error_x\":{\"color\":\"#2a3f5f\"},\"error_y\":{\"color\":\"#2a3f5f\"},\"marker\":{\"line\":{\"color\":\"#E5ECF6\",\"width\":0.5},\"pattern\":{\"fillmode\":\"overlay\",\"size\":10,\"solidity\":0.2}},\"type\":\"bar\"}],\"scattergeo\":[{\"type\":\"scattergeo\",\"marker\":{\"colorbar\":{\"outlinewidth\":0,\"ticks\":\"\"}}}],\"scatterpolar\":[{\"type\":\"scatterpolar\",\"marker\":{\"colorbar\":{\"outlinewidth\":0,\"ticks\":\"\"}}}],\"histogram\":[{\"marker\":{\"pattern\":{\"fillmode\":\"overlay\",\"size\":10,\"solidity\":0.2}},\"type\":\"histogram\"}],\"scattergl\":[{\"type\":\"scattergl\",\"marker\":{\"colorbar\":{\"outlinewidth\":0,\"ticks\":\"\"}}}],\"scatter3d\":[{\"type\":\"scatter3d\",\"line\":{\"colorbar\":{\"outlinewidth\":0,\"ticks\":\"\"}},\"marker\":{\"colorbar\":{\"outlinewidth\":0,\"ticks\":\"\"}}}],\"scattermapbox\":[{\"type\":\"scattermapbox\",\"marker\":{\"colorbar\":{\"outlinewidth\":0,\"ticks\":\"\"}}}],\"scatterternary\":[{\"type\":\"scatterternary\",\"marker\":{\"colorbar\":{\"outlinewidth\":0,\"ticks\":\"\"}}}],\"scattercarpet\":[{\"type\":\"scattercarpet\",\"marker\":{\"colorbar\":{\"outlinewidth\":0,\"ticks\":\"\"}}}],\"carpet\":[{\"aaxis\":{\"endlinecolor\":\"#2a3f5f\",\"gridcolor\":\"white\",\"linecolor\":\"white\",\"minorgridcolor\":\"white\",\"startlinecolor\":\"#2a3f5f\"},\"baxis\":{\"endlinecolor\":\"#2a3f5f\",\"gridcolor\":\"white\",\"linecolor\":\"white\",\"minorgridcolor\":\"white\",\"startlinecolor\":\"#2a3f5f\"},\"type\":\"carpet\"}],\"table\":[{\"cells\":{\"fill\":{\"color\":\"#EBF0F8\"},\"line\":{\"color\":\"white\"}},\"header\":{\"fill\":{\"color\":\"#C8D4E3\"},\"line\":{\"color\":\"white\"}},\"type\":\"table\"}],\"barpolar\":[{\"marker\":{\"line\":{\"color\":\"#E5ECF6\",\"width\":0.5},\"pattern\":{\"fillmode\":\"overlay\",\"size\":10,\"solidity\":0.2}},\"type\":\"barpolar\"}],\"pie\":[{\"automargin\":true,\"type\":\"pie\"}]},\"layout\":{\"autotypenumbers\":\"strict\",\"colorway\":[\"#636efa\",\"#EF553B\",\"#00cc96\",\"#ab63fa\",\"#FFA15A\",\"#19d3f3\",\"#FF6692\",\"#B6E880\",\"#FF97FF\",\"#FECB52\"],\"font\":{\"color\":\"#2a3f5f\"},\"hovermode\":\"closest\",\"hoverlabel\":{\"align\":\"left\"},\"paper_bgcolor\":\"white\",\"plot_bgcolor\":\"#E5ECF6\",\"polar\":{\"bgcolor\":\"#E5ECF6\",\"angularaxis\":{\"gridcolor\":\"white\",\"linecolor\":\"white\",\"ticks\":\"\"},\"radialaxis\":{\"gridcolor\":\"white\",\"linecolor\":\"white\",\"ticks\":\"\"}},\"ternary\":{\"bgcolor\":\"#E5ECF6\",\"aaxis\":{\"gridcolor\":\"white\",\"linecolor\":\"white\",\"ticks\":\"\"},\"baxis\":{\"gridcolor\":\"white\",\"linecolor\":\"white\",\"ticks\":\"\"},\"caxis\":{\"gridcolor\":\"white\",\"linecolor\":\"white\",\"ticks\":\"\"}},\"coloraxis\":{\"colorbar\":{\"outlinewidth\":0,\"ticks\":\"\"}},\"colorscale\":{\"sequential\":[[0.0,\"#0d0887\"],[0.1111111111111111,\"#46039f\"],[0.2222222222222222,\"#7201a8\"],[0.3333333333333333,\"#9c179e\"],[0.4444444444444444,\"#bd3786\"],[0.5555555555555556,\"#d8576b\"],[0.6666666666666666,\"#ed7953\"],[0.7777777777777778,\"#fb9f3a\"],[0.8888888888888888,\"#fdca26\"],[1.0,\"#f0f921\"]],\"sequentialminus\":[[0.0,\"#0d0887\"],[0.1111111111111111,\"#46039f\"],[0.2222222222222222,\"#7201a8\"],[0.3333333333333333,\"#9c179e\"],[0.4444444444444444,\"#bd3786\"],[0.5555555555555556,\"#d8576b\"],[0.6666666666666666,\"#ed7953\"],[0.7777777777777778,\"#fb9f3a\"],[0.8888888888888888,\"#fdca26\"],[1.0,\"#f0f921\"]],\"diverging\":[[0,\"#8e0152\"],[0.1,\"#c51b7d\"],[0.2,\"#de77ae\"],[0.3,\"#f1b6da\"],[0.4,\"#fde0ef\"],[0.5,\"#f7f7f7\"],[0.6,\"#e6f5d0\"],[0.7,\"#b8e186\"],[0.8,\"#7fbc41\"],[0.9,\"#4d9221\"],[1,\"#276419\"]]},\"xaxis\":{\"gridcolor\":\"white\",\"linecolor\":\"white\",\"ticks\":\"\",\"title\":{\"standoff\":15},\"zerolinecolor\":\"white\",\"automargin\":true,\"zerolinewidth\":2},\"yaxis\":{\"gridcolor\":\"white\",\"linecolor\":\"white\",\"ticks\":\"\",\"title\":{\"standoff\":15},\"zerolinecolor\":\"white\",\"automargin\":true,\"zerolinewidth\":2},\"scene\":{\"xaxis\":{\"backgroundcolor\":\"#E5ECF6\",\"gridcolor\":\"white\",\"linecolor\":\"white\",\"showbackground\":true,\"ticks\":\"\",\"zerolinecolor\":\"white\",\"gridwidth\":2},\"yaxis\":{\"backgroundcolor\":\"#E5ECF6\",\"gridcolor\":\"white\",\"linecolor\":\"white\",\"showbackground\":true,\"ticks\":\"\",\"zerolinecolor\":\"white\",\"gridwidth\":2},\"zaxis\":{\"backgroundcolor\":\"#E5ECF6\",\"gridcolor\":\"white\",\"linecolor\":\"white\",\"showbackground\":true,\"ticks\":\"\",\"zerolinecolor\":\"white\",\"gridwidth\":2}},\"shapedefaults\":{\"line\":{\"color\":\"#2a3f5f\"}},\"annotationdefaults\":{\"arrowcolor\":\"#2a3f5f\",\"arrowhead\":0,\"arrowwidth\":1},\"geo\":{\"bgcolor\":\"white\",\"landcolor\":\"#E5ECF6\",\"subunitcolor\":\"white\",\"showland\":true,\"showlakes\":true,\"lakecolor\":\"white\"},\"title\":{\"x\":0.05},\"mapbox\":{\"style\":\"light\"}}},\"xaxis\":{\"anchor\":\"y\",\"domain\":[0.0,1.0],\"title\":{\"text\":\"Churn\"}},\"yaxis\":{\"anchor\":\"x\",\"domain\":[0.0,1.0],\"title\":{\"text\":\"Value (GBP)\"}},\"legend\":{\"tracegroupgap\":0},\"title\":{\"text\":\"Offset Value and Churn\",\"x\":0.5},\"barmode\":\"relative\",\"width\":600,\"height\":400},                        {\"responsive\": true}                    ).then(function(){\n",
              "                            \n",
              "var gd = document.getElementById('5d83c24c-6ad2-4f62-8013-6e2f5f4174ea');\n",
              "var x = new MutationObserver(function (mutations, observer) {{\n",
              "        var display = window.getComputedStyle(gd).display;\n",
              "        if (!display || display === 'none') {{\n",
              "            console.log([gd, 'removed!']);\n",
              "            Plotly.purge(gd);\n",
              "            observer.disconnect();\n",
              "        }}\n",
              "}});\n",
              "\n",
              "// Listen for the removal of the full notebook cells\n",
              "var notebookContainer = gd.closest('#notebook-container');\n",
              "if (notebookContainer) {{\n",
              "    x.observe(notebookContainer, {childList: true});\n",
              "}}\n",
              "\n",
              "// Listen for the clearing of the current output cell\n",
              "var outputEl = gd.closest('.output');\n",
              "if (outputEl) {{\n",
              "    x.observe(outputEl, {childList: true});\n",
              "}}\n",
              "\n",
              "                        })                };                            </script>        </div>\n",
              "</body>\n",
              "</html>"
            ]
          },
          "metadata": {}
        },
        {
          "output_type": "display_data",
          "data": {
            "text/plain": [
              "<Figure size 600x500 with 0 Axes>"
            ]
          },
          "metadata": {}
        }
      ]
    },
    {
      "cell_type": "code",
      "source": [
        "# analyzing relationship between 'Installment Plan' and 'Loss'\n",
        "churn_vs_installment_plan = df.groupby('Loss')['InstallmentPlan'].mean()\n",
        "churn_vs_installment_plan"
      ],
      "metadata": {
        "colab": {
          "base_uri": "https://localhost:8080/",
          "height": 178
        },
        "id": "TX3XySkzrt2k",
        "outputId": "1c77e69a-d127-48f6-ef57-cb167cec92d3"
      },
      "execution_count": null,
      "outputs": [
        {
          "output_type": "execute_result",
          "data": {
            "text/plain": [
              "Loss\n",
              "0    0.12475\n",
              "1    0.01100\n",
              "Name: InstallmentPlan, dtype: float64"
            ],
            "text/html": [
              "<div>\n",
              "<style scoped>\n",
              "    .dataframe tbody tr th:only-of-type {\n",
              "        vertical-align: middle;\n",
              "    }\n",
              "\n",
              "    .dataframe tbody tr th {\n",
              "        vertical-align: top;\n",
              "    }\n",
              "\n",
              "    .dataframe thead th {\n",
              "        text-align: right;\n",
              "    }\n",
              "</style>\n",
              "<table border=\"1\" class=\"dataframe\">\n",
              "  <thead>\n",
              "    <tr style=\"text-align: right;\">\n",
              "      <th></th>\n",
              "      <th>InstallmentPlan</th>\n",
              "    </tr>\n",
              "    <tr>\n",
              "      <th>Loss</th>\n",
              "      <th></th>\n",
              "    </tr>\n",
              "  </thead>\n",
              "  <tbody>\n",
              "    <tr>\n",
              "      <th>0</th>\n",
              "      <td>0.12475</td>\n",
              "    </tr>\n",
              "    <tr>\n",
              "      <th>1</th>\n",
              "      <td>0.01100</td>\n",
              "    </tr>\n",
              "  </tbody>\n",
              "</table>\n",
              "</div><br><label><b>dtype:</b> float64</label>"
            ]
          },
          "metadata": {},
          "execution_count": 35
        }
      ]
    },
    {
      "cell_type": "code",
      "source": [
        "fig = px.histogram(df, x=\"Loss\", color=\"InstallmentPlan\", barmode=\"group\", title=\"<b>Installment Plan distribution<b>\")\n",
        "fig.update_layout(width=700, height=500, bargap=0.1)\n",
        "fig.show()"
      ],
      "metadata": {
        "colab": {
          "base_uri": "https://localhost:8080/",
          "height": 517
        },
        "id": "hO4uoInf3qIL",
        "outputId": "0144b1e1-ce43-4756-b7a7-0199739daebd"
      },
      "execution_count": null,
      "outputs": [
        {
          "output_type": "display_data",
          "data": {
            "text/html": [
              "<html>\n",
              "<head><meta charset=\"utf-8\" /></head>\n",
              "<body>\n",
              "    <div>            <script src=\"https://cdnjs.cloudflare.com/ajax/libs/mathjax/2.7.5/MathJax.js?config=TeX-AMS-MML_SVG\"></script><script type=\"text/javascript\">if (window.MathJax && window.MathJax.Hub && window.MathJax.Hub.Config) {window.MathJax.Hub.Config({SVG: {font: \"STIX-Web\"}});}</script>                <script type=\"text/javascript\">window.PlotlyConfig = {MathJaxConfig: 'local'};</script>\n",
              "        <script charset=\"utf-8\" src=\"https://cdn.plot.ly/plotly-2.24.1.min.js\"></script>                <div id=\"2b32d1dd-21f8-49c4-8fd0-93b49b42c6fc\" class=\"plotly-graph-div\" style=\"height:500px; width:700px;\"></div>            <script type=\"text/javascript\">                                    window.PLOTLYENV=window.PLOTLYENV || {};                                    if (document.getElementById(\"2b32d1dd-21f8-49c4-8fd0-93b49b42c6fc\")) {                    Plotly.newPlot(                        \"2b32d1dd-21f8-49c4-8fd0-93b49b42c6fc\",                        [{\"alignmentgroup\":\"True\",\"bingroup\":\"x\",\"hovertemplate\":\"InstallmentPlan=0\\u003cbr\\u003eLoss=%{x}\\u003cbr\\u003ecount=%{y}\\u003cextra\\u003e\\u003c\\u002fextra\\u003e\",\"legendgroup\":\"0\",\"marker\":{\"color\":\"#636efa\",\"pattern\":{\"shape\":\"\"}},\"name\":\"0\",\"offsetgroup\":\"0\",\"orientation\":\"v\",\"showlegend\":true,\"x\":[1,1,1,1,1,1,1,1,1,1,1,1,1,1,1,1,1,1,1,1,1,1,1,1,1,1,1,1,1,1,1,1,1,1,1,1,1,1,1,1,1,1,1,1,1,1,1,1,1,1,1,1,1,1,1,1,1,1,1,1,1,1,1,1,1,1,1,1,1,1,1,1,1,1,1,1,1,1,1,1,1,1,1,1,1,1,1,1,1,1,1,1,1,1,1,1,1,1,1,1,1,1,1,1,1,1,1,1,1,1,1,1,1,1,1,1,1,1,1,1,1,1,1,1,1,1,1,1,1,1,1,1,1,1,1,1,1,1,1,1,1,1,1,1,1,1,1,1,1,1,1,1,1,1,1,1,1,1,1,1,1,1,1,1,1,1,1,1,1,1,1,1,1,1,1,1,1,1,1,1,1,1,1,1,1,1,1,1,1,1,1,1,1,1,1,1,1,1,1,1,1,1,1,1,1,1,1,1,1,1,1,1,1,1,1,1,1,1,1,1,1,1,1,1,1,1,1,1,1,1,1,1,1,1,1,1,1,1,1,1,1,1,1,1,1,1,1,1,1,1,1,1,1,1,1,1,1,1,1,1,1,1,1,1,1,1,1,1,1,1,1,1,1,1,1,1,1,1,1,1,1,1,1,1,1,1,1,1,1,1,1,1,1,1,1,1,1,1,1,1,1,1,1,1,1,1,1,1,1,1,1,1,1,1,1,1,1,1,1,1,1,1,1,1,1,1,1,1,1,1,1,1,1,1,1,1,1,1,1,1,1,1,1,1,1,1,1,1,1,1,1,1,1,1,1,1,1,1,1,1,1,1,1,1,1,1,1,1,1,1,1,1,1,1,1,1,1,1,1,1,1,1,1,1,1,1,1,1,1,1,1,1,1,1,1,1,1,1,1,1,1,1,1,1,1,1,1,1,1,1,1,1,1,1,1,1,1,1,1,1,1,1,1,1,1,1,1,1,1,1,1,1,1,1,1,1,1,1,1,1,1,1,1,1,1,1,1,1,1,1,1,1,1,1,1,1,1,1,1,1,1,1,1,1,1,1,1,1,1,1,1,1,1,1,1,1,1,1,1,1,1,1,1,1,1,1,1,1,1,1,1,1,1,1,1,1,1,1,1,1,1,1,1,1,1,1,1,1,1,1,1,1,1,1,1,1,1,1,1,1,1,1,1,1,1,1,1,1,1,1,1,1,1,1,1,1,1,1,1,1,1,1,1,1,1,1,1,1,1,1,1,1,1,1,1,1,1,1,1,1,1,1,1,1,1,1,1,1,1,1,1,1,1,1,1,1,1,1,1,1,1,1,1,1,1,1,1,1,1,1,1,1,1,1,1,1,1,1,1,1,1,1,1,1,1,1,1,1,1,1,1,1,1,1,1,1,1,1,1,1,1,1,1,1,1,1,1,1,1,1,1,1,1,1,1,1,1,1,1,1,1,1,1,1,1,1,1,1,1,1,1,1,1,1,1,1,1,1,1,1,1,1,1,1,1,1,1,1,1,1,1,1,1,1,1,1,1,1,1,1,1,1,1,1,1,1,1,1,1,1,1,1,1,1,1,1,1,1,1,1,1,1,1,1,1,1,1,1,1,1,1,1,1,1,1,1,1,1,1,1,1,1,1,1,1,1,1,1,1,1,1,1,1,1,1,1,1,1,1,1,1,1,1,1,1,1,1,1,1,1,1,1,1,1,1,1,1,1,1,1,1,1,1,1,1,1,1,1,1,1,1,1,1,1,1,1,1,1,1,1,1,1,1,1,1,1,1,1,1,1,1,1,1,1,1,1,1,1,1,1,1,1,1,1,1,1,1,1,1,1,1,1,1,1,1,1,1,1,1,1,1,1,1,1,1,1,1,1,1,1,1,1,1,1,1,1,1,1,1,1,1,1,1,1,1,1,1,1,1,1,1,1,1,1,1,1,1,1,1,1,1,1,1,1,1,1,1,1,1,1,1,1,1,1,1,1,1,1,1,1,1,1,1,1,1,1,1,1,1,1,1,1,1,1,1,1,1,1,1,1,1,1,1,1,1,1,1,1,1,1,1,1,1,1,1,1,1,1,1,1,1,1,1,1,1,1,1,1,1,1,1,1,1,1,1,1,1,1,1,1,1,1,1,1,1,1,1,1,1,1,1,1,1,1,1,1,1,1,1,1,1,1,1,1,1,1,1,1,1,1,1,1,1,1,1,1,1,1,1,1,1,1,1,1,1,1,1,1,1,0,0,0,0,0,0,0,0,0,0,0,0,0,0,0,0,0,0,0,0,0,0,0,0,0,0,0,0,0,0,0,0,0,0,0,0,0,0,0,0,0,0,0,0,0,0,0,0,0,0,0,0,0,0,0,0,0,0,0,0,0,0,0,0,0,0,0,0,0,0,0,0,0,0,0,0,0,0,0,0,0,0,0,0,0,0,0,0,0,0,0,0,0,0,0,0,0,0,0,0,0,0,0,0,0,0,0,0,0,0,0,0,0,0,0,0,0,0,0,0,0,0,0,0,0,0,0,0,0,0,0,0,0,0,0,0,0,0,0,0,0,0,0,0,0,0,0,0,0,0,0,0,0,0,0,0,0,0,0,0,0,0,0,0,0,0,0,0,0,0,0,0,0,0,0,0,0,0,0,0,0,0,0,0,0,0,0,0,0,0,0,0,0,0,0,0,0,0,0,0,0,0,0,0,0,0,0,0,0,0,0,0,0,0,0,0,0,0,0,0,0,0,0,0,0,0,0,0,0,0,0,0,0,0,0,0,0,0,0,0,0,0,0,0,0,0,0,0,0,0,0,0,0,0,0,0,0,0,0,0,0,0,0,0,0,0,0,0,0,0,0,0,0,0,0,0,0,0,0,0,0,0,0,0,0,0,0,0,0,0,0,0,0,0,0,0,0,0,0,0,0,0,0,0,0,0,0,0,0,0,0,0,0,0,0,0,0,0,0,0,0,0,0,0,0,0,0,0,0,0,0,0,0,0,0,0,0,0,0,0,0,0,0,0,0,0,0,0,0,0,0,0,0,0,0,0,0,0,0,0,0,0,0,0,0,0,0,0,0,0,0,0,0,0,0,0,0,0,0,0,0,0,0,0,0,0,0,0,0,0,0,0,0,0,0,0,0,0,0,0,0,0,0,0,0,0,0,0,0,0,0,0,0,0,0,0,0,0,0,0,0,0,0,0,0,0,0,0,0,0,0,0,0,0,0,0,0,0,0,0,0,0,0,0,0,0,0,0,0,0,0,0,0,0,0,0,0,0,0,0,0,0,0,0,0,0,0,0,0,0,0,0,0,0,0,0,0,0,0,0,0,0,0,0,0,0,0,0,0,0,0,0,0,0,0,0,0,0,0,0,0,0,0,0,0,0,0,0,0,0,0,0,0,0,0,0,0,0,0,0,0,0,0,0,0,0,0,0,0,0,0,0,0,0,0,0,0,0,0,0,0,0,0,0,0,0,0,0,0,0,0,0,0,0,0,0,0,0,0,0,0,0,0,0,0,0,0,0,0,0,0,0,0,0,0,0,0,0,0,0,0,0,0,0,0,0,0,0,0,0,0,0,0,0,0,0,0,0,0,0,0,0,0,0,0,0,0,0,0,0,0,0,0,0,0,0,0,0,0,0,0,0,0,0,0,0,0,0,0,0,0,0,0,0,0,0,0,0,0,0,0,0,0,0,0,0,0,0,0,0,0,0,0,0,0,0,0,0,0,0,0,0,0,0,0,0,0,0,0,0,0,0,0,0,0,0,0,0,0,0,0,0,0,0,0,0,0,0,0,0,0,0,0,0,0,0,0,0,0,0,0,0,0,0,0,0,0,0,0,0,0,0,0,0,0,0,0,0,0,0,0,0,0,0,0,0,0,0,0,0,0,0,0,0,0,0,0,0,0,0,0,0,0,0,0,0,0,0,0,0,0,0,0,0,0,0,0,0,0,0,0,0,0,0,0,0,0,0,0,0,0,0,0,0,0,0,0,0,0,0,0,0,0,0,0,0,0,0,0,0,0,0,0,0,0,0,0,0,0,0,0,0,0,0,0,0,0,0,0,0,0,0,0,0,0,0,0,0,0,0,0,0,0,0,0,0,0,0,0,0,0,0,0,0,0,0,0,0,0,0,0,0,0,0,0,0,0,0,0,0,0,0,0,0,0,0,0,0,0,0,0,0,0,0,0,0,0,0,0,0,0,0,0,0,0,0,0,0,0,0,0,0,0,0,0,0,0,0,0,0,0,0,0,0,0,0,0,0,0,0,0,0,0,0,0,0,0,0,0,0,0,0,0,0,0,0,0,0,0,0,0,0,0,0,0,0,0,0,0,0,0,0,0,0,0,0,0,0,0,0,0,0,0,0,0,0,0,0,0,0,0,0,0,0,0,0,0,0,0,0,0,0,0,0,0,0,0,0,0,0,0,0,0,0,0,0,0,0,0,0,0,0,0,0,0,0,0,0,0,0,0,0,0,0,0,0,0,0,0,0,0,0,0,0,0,0,0,0,0,0,0,0,0,0,0,0,0,0,0,0,0,0,0,0,0,0,0,0,0,0,0,0,0,0,0,0,0,0,0,0,0,0,0,0,0,0,0,0,0,0,0,0,0,0,0,0,0,0,0,0,0,0,0,0,0,0,0,0,0,0,0,0,0,0,0,0,0,0,0,0,0,0,0,0,0,0,0,0,0,0,0,0,0,0,0,0,0,0,0,0,0,0,0,0,0,0,0,0,0,0,0,0,0,0,0,0,0,0,0,0,0,0,0,0,0,0,0,0,0,0,0,0,0,0,0,0,0,0,0,0,0,0,0,0,0,0,0,0,0,0,0,0,0,0,0,0,0,0,0,0,0,0,0,0,0,0,0,0,0,0,0,0,0,0,0,0,0,0,0,0,0,0,0,0,0,0,0,0,0,0,0,0,0,0,0,0,0,0,0,0,0,0,0,0,0,0,0,0,0,0,0,0,0,0,0,0,0,0,0,0,0,0,0,0,0,0,0,0,0,0,0,0,0,0,0,0,0,0,0,0,0,0,0,0,0,0,0,0,0,0,0,0,0,0,0,0,0,0,0,0,0,0,0,0,0,0,0,0,0,0,0,0,0,0,0,0,0,0,0,0,0,0,0,0,0,0,0,0,0,0,0,0,0,0,0,0,0,0,0,0,0,0,0,0,0,0,0,0,0,0,0,0,0,0,0,0,0,0,0,0,0,0,0,0,0,0,0,0,0,0,0,0,0,0,0,0,0,0,0,0,0,0,0,0,0,0,0,0,0,0,0,0,0,0,0,0,0,0,0,0,0,0,0,0,0,0,0,0,0,0,0,0,0,0,0,0,0,0,0,0,0,0,0,0,0,0,0,0,0,0,0,0,0,0,0,0,0,0,0,0,0,0,0,0,0,0,0,0,0,0,0,0,0,0,0,0,0,0,0,0,0,0,0,0,0,0,0,0,0,0,0,0,0,0,0,0,0,0,0,0,0,0,0,0,0,0,0,0,0,0,0,0,0,0,0,0,0,0,0,0,0,0,0,0,0,0,0,0,0,0,0,0,0,0,0,0,0,0,0,0,0,0,0,0,0,0,0,0,0,0,0,0,0,0,0,0,0,0,0,0,0,0,0,0,0,0,0,0,0,0,0,0,0,0,0,0,0,0,0,0,0,0,0,0,0,0,0,0,0,0,0,0,0,0,0,0,0,0,0,0,0,0,0,0,0,0,0,0,0,0,0,0,0,0,0,0,0,0,0,0,0,0,0,0,0,0,0,0,0,0,0,0,0,0,0,0,0,0,0,0,0,0,0,0,0,0,0,0,0,0,0,0,0,0,0,0,0,0,0,0,0,0,0,0,0,0,0,0,0,0,0,0,0,0,0,0,0,0,0,0,0,0,0,0,0,0,0,0,0,0,0,0,0,0,0,0,0,0,0,0,0,0,0,0,0,0,0,0,0,0,0,0,0,0,0,0,0,0,0,0,0,0,0,0,0,0,0,0,0,0,0,0,0,0,0,0,0,0,0,0,0,0,0,0,0,0,0,0,0,0,0,0,0,0,0,0,0,0,0,0,0,0,0,0,0,0,0,0,0,0,0,0,0,0,0,0,0,0,0,0,0,0,0,0,0,0,0,0,0,0,0,0,0,0,0,0,0,0,0,0,0,0,0,0,0,0,0,0,0,0,0,0,0,0,0,0,0,0,0,0,0,0,0,0,0,0,0,0,0,0,0,0,0,0,0,0,0,0,0,0,0,0,0,0,0,0,0,0,0,0,0,0,0,0,0,0,0,0,0,0,0,0,0,0,0,0,0,0,0,0,0,0,0,0,0,0,0,0,0,0,0,0,0,0,0,0,0,0,0,0,0,0,0,0,0,0,0,0,0,0,0,0,0,0,0,0,0,0,0,0,0,0,0,0,0,0,0,0,0,0,0,0,0,0,0,0,0,0,0,0,0,0,0,0,0,0,0,0,0,0,0,0,0,0,0,0,0,0,0,0,0,0,0,0,0,0,0,0,0,0,0,0,0,0,0,0,0,0,0,0,0,0,0,0,0,0,0,0,0,0,0,0,0,0,0,0,0,0,0,0,0,0,0,0,0,0,0,0,0,0,0,0,0,0,0,0,0,0,0,0,0,0,0,0,0,0,0,0,0,0,0,0,0,0,0,0,0,0,0,0,0,0,0,0,0,0,0,0,0,0,0,0,0,0,0,0,0,0,0,0,0,0,0,0,0,0,0,0,0,0,0,0,0,0,0,0,0,0,0,0,0,0,0,0,0,0,0,0,0,0,0,0,0,0,0,0,0,0,0,0,0,0,0,0,0,0,0,0,0,0,0,0,0,0,0,0,0,0,0,0,0,0,0,0,0,0,0,0,0,0,0,0,0,0,0,0,0,0,0,0,0,0,0,0,0,0,0,0,0,0,0,0,0,0,0,0,0,0,0,0,0,0,0,0,0,0,0,0,0,0,0,0,0,0,0,0,0,0,0,0,0,0,0,0,0,0,0,0,0,0,0,0,0,0,0,0,0,0,0,0,0,0,0,0,0,0,0,0,0,0,0,0,0,0,0,0,0,0,0,0,0,0,0,0,0,0,0,0,0,0,0,0,0,0,0,0,0,0,0,0,0,0,0,0,0,0,0,0,0,0,0,0,0,0,0,0,0,0,0,0,0,0,0,0,0,0,0,0,0,0,0,0,0,0,0,0,0,0,0,0,0,0,0,0,0,0,0,0,0,0,0,0,0,0,0,0,0,0,0,0,0,0,0,0,0,0,0,0,0,0,0,0,0,0,0,0,0,0,0,0,0,0,0,0,0,0,0,0,0,0,0,0,0,0,0,0,0,0,0,0,0,0,0,0,0,0,0,0,0,0,0,0,0,0,0,0,0,0,0,0,0,0,0,0,0,0,0,0,0,0,0,0,0,0,0,0,0,0,0,0,0,0,0,0,0,0,0,0,0,0,0,0,0,0,0,0,0,0,0,0,0,0,0,0,0,0,0,0,0,0,0,0,0,0,0,0,0,0,0,0,0,0,0,0,0,0,0,0,0,0,0,0,0,0,0,0,0,0,0,0,0,0,0,0,0,0,0,0,0,0,0,0,0,0,0,0,0,0,0,0,0,0,0,0,0,0,0,0,0,0,0,0,0,0,0,0,0,0,0,0,0,0,0,0,0,0,0,0,0,0,0,0,0,0,0,0,0,0,0,0,0,0,0,0,0,0,0,0,0,0,0,0,0,0,0,0,0,0,0,0,0,0,0,0,0,0,0,0,0,0,0,0,0,0,0,0,0,0,0,0,0,0,0,0,0,0,0,0,0,0,0,0,0,0,0,0,0,0,0,0,0,0,0,0,0,0,0,0,0,0,0,0,0,0,0,0,0,0,0,0,0,0,0,0,0,0,0,0,0,0,0,0,0,0,0,0,0,0,0,0,0,0,0,0,0,0,0,0,0,0,0,0,0,0,0,0,0,0,0,0,0,0,0,0,0,0,0,0,0,0,0,0,0,0,0,0,0,0,0,0,0,0,0,0,0,0,0,0,0,0,0,0,0,0,0,0,0,0,0,0,0,0,0,0,0,0,0,0,0,0,0,0,0,0,0,0,0,0,0,0,0,0,0,0,0,0,0,0,0,0,0,0,0,0,0,0,0,0,0,0,0,0,0,0,0,0,0,0,0,0,0,0,0,0,0,0,0,0,0,0,0,0,0,0,0,0,0,0,0,0,0,0,0,0,0,0,0,0,0,0,0,0,0,0,0,0,0,0,0,0,0,0,0,0,0,0,0,0,0,0,0,0,0,0,0,0,0,0,0,0,0,0,0,0,0,0,0,0,0,0,0,0,0,0,0,0,0,0,0,0,0,0,0,0,0,0,0,0,0,0,0,0,0,0,0,0,0,0,0,0,0,0,0,0,0,0,0,0,0,0,0,0,0,0,0,0,0,0,0,0,0,0,0,0,0,0,0,0,0,0,0,0,0,0,0,0,0,0,0,0,0,0,0,0,0,0,0,0,0,0,0,0,0,0,0,0,0,0,0,0,0,0,0,0,0,0,0,0,0,0,0,0,0,0,0,0,0,0,0,0,0,0,0,0,0,0,0,0,0,0,0,0,0,0,0,0,0,0,0,0,0,0,0,0,0,0,0,0,0,0,0,0,0,0,0,0,0,0,0,0,0,0,0,0,0,0,0,0,0,0,0,0,0,0,0,0,0,0,0,0,0,0,0,0,0,0,0,0,0,0,0,0,0,0,0,0,0,0,0,0,0,0,0,0,0,0,0,0,0,0,0,0,0,0,0,0,0,0,0,0,0,0,0,0,0,0,0,0,0,0,0,0,0,0,0,0,0,0,0,0,0,0,0,0,0,0,0,0,0,0,0,0,0,0,0,0,0,0,0,0,0,0,0,0,0,0,0,0,0,0,0,0,0,0,0,0,0,0,0,0,0,0,0,0,0,0,0,0,0,0,0,0,0,0,0,0,0,0,0,0,0,0,0,0,0,0,0,0,0,0,0,0,0,0,0,0,0,0,0,0,0,0,0,0,0,0,0,0,0,0,0,0,0,0,0,0,0,0,0,0,0,0,0,0,0,0,0,0,0,0,0,0,0,0,0,0,0,0,0,0,0,0,0,0,0,0,0,0,0,0,0,0,0,0,0,0,0,0,0,0,0,0,0,0,0,0,0,0,0,0,0,0,0,0,0,0,0,0,0,0,0,0,0,0,0,0,0,0,0,0,0,0,0,0,0,0,0,0,0,0,0,0,0,0,0,0,0,0,0,0,0,0,0,0,0,0,0,0,0,0,0,0,0,0,0,0,0,0,0,0,0,0,0,0,0,0,0,0,0,0,0,0,0,0,0,0,0,0,0,0,0,0,0,0,0,0,0,0,0,0,0,0,0,0,0,0,0,0,0,0,0,0,0,0,0,0,0,0,0,0,0,0,0,0,0,0,0,0,0,0,0,0,0,0,0,0,0,0,0,0,0,0,0,0,0,0,0,0,0,0,0,0,0,0,0,0,0,0,0,0,0,0,0,0,0,0,0,0,0,0,0,0,0,0,0,0,0,0,0,0,0,0,0,0,0,0,0,0,0,0,0,0,0,0,0,0,0,0,0,0,0,0,0,0,0,0,0,0,0,0,0,0,0,0,0,0,0,0,0,0,0,0,0,0,0,0,0,0,0,0,0,0,0,0,0,0,0,0,0,0,0,0,0,0,0,0,0,0,0,0,0,0,0,0,0,0,0,0,0,0,0,0,0,0,0,0,0,0,0,0,0,0,0,0,0,0,0,0,0,0,0,0,0,0,0,0,0,0,0,0,0,0,0,0,0,0,0,0,0,0,0,0,0,0,0,0,0,0,0,0,0,0,0,0,0,0,0,0,0,0,0,0,0,0,0,0,0,0,0,0,0,0,0,0,0,0,0,0,0,0,0,0,0,0,0,0,0,0,0,0,0,0,0,0,0,0,0,0,0,0,0,0,0,0,0,0,0,0,0,0,0,0,0,0,0,0,0,0,0,0,0,0,0,0,0,0,0,0,0,0,0,0,0,0,0,0,0,0,0,0,0,0,0,0,0,0,0,0,0,0,0,0,0,0,0,0,0,0,0,0,0],\"xaxis\":\"x\",\"yaxis\":\"y\",\"type\":\"histogram\"},{\"alignmentgroup\":\"True\",\"bingroup\":\"x\",\"hovertemplate\":\"InstallmentPlan=1\\u003cbr\\u003eLoss=%{x}\\u003cbr\\u003ecount=%{y}\\u003cextra\\u003e\\u003c\\u002fextra\\u003e\",\"legendgroup\":\"1\",\"marker\":{\"color\":\"#EF553B\",\"pattern\":{\"shape\":\"\"}},\"name\":\"1\",\"offsetgroup\":\"1\",\"orientation\":\"v\",\"showlegend\":true,\"x\":[1,1,1,1,1,1,1,1,1,1,1,0,0,0,0,0,0,0,0,0,0,0,0,0,0,0,0,0,0,0,0,0,0,0,0,0,0,0,0,0,0,0,0,0,0,0,0,0,0,0,0,0,0,0,0,0,0,0,0,0,0,0,0,0,0,0,0,0,0,0,0,0,0,0,0,0,0,0,0,0,0,0,0,0,0,0,0,0,0,0,0,0,0,0,0,0,0,0,0,0,0,0,0,0,0,0,0,0,0,0,0,0,0,0,0,0,0,0,0,0,0,0,0,0,0,0,0,0,0,0,0,0,0,0,0,0,0,0,0,0,0,0,0,0,0,0,0,0,0,0,0,0,0,0,0,0,0,0,0,0,0,0,0,0,0,0,0,0,0,0,0,0,0,0,0,0,0,0,0,0,0,0,0,0,0,0,0,0,0,0,0,0,0,0,0,0,0,0,0,0,0,0,0,0,0,0,0,0,0,0,0,0,0,0,0,0,0,0,0,0,0,0,0,0,0,0,0,0,0,0,0,0,0,0,0,0,0,0,0,0,0,0,0,0,0,0,0,0,0,0,0,0,0,0,0,0,0,0,0,0,0,0,0,0,0,0,0,0,0,0,0,0,0,0,0,0,0,0,0,0,0,0,0,0,0,0,0,0,0,0,0,0,0,0,0,0,0,0,0,0,0,0,0,0,0,0,0,0,0,0,0,0,0,0,0,0,0,0,0,0,0,0,0,0,0,0,0,0,0,0,0,0,0,0,0,0,0,0,0,0,0,0,0,0,0,0,0,0,0,0,0,0,0,0,0,0,0,0,0,0,0,0,0,0,0,0,0,0,0,0,0,0,0,0,0,0,0,0,0,0,0,0,0,0,0,0,0,0,0,0,0,0,0,0,0,0,0,0,0,0,0,0,0,0,0,0,0,0,0,0,0,0,0,0,0,0,0,0,0,0,0,0,0,0,0,0,0,0,0,0,0,0,0,0,0,0,0,0,0,0,0,0,0,0,0,0,0,0,0,0,0,0,0,0,0,0,0,0,0,0,0,0,0,0,0,0,0,0,0,0,0,0,0,0,0,0,0,0,0,0,0,0,0,0,0,0,0,0,0,0,0,0,0,0,0,0,0,0,0,0,0,0,0,0,0,0,0,0,0,0],\"xaxis\":\"x\",\"yaxis\":\"y\",\"type\":\"histogram\"}],                        {\"template\":{\"data\":{\"histogram2dcontour\":[{\"type\":\"histogram2dcontour\",\"colorbar\":{\"outlinewidth\":0,\"ticks\":\"\"},\"colorscale\":[[0.0,\"#0d0887\"],[0.1111111111111111,\"#46039f\"],[0.2222222222222222,\"#7201a8\"],[0.3333333333333333,\"#9c179e\"],[0.4444444444444444,\"#bd3786\"],[0.5555555555555556,\"#d8576b\"],[0.6666666666666666,\"#ed7953\"],[0.7777777777777778,\"#fb9f3a\"],[0.8888888888888888,\"#fdca26\"],[1.0,\"#f0f921\"]]}],\"choropleth\":[{\"type\":\"choropleth\",\"colorbar\":{\"outlinewidth\":0,\"ticks\":\"\"}}],\"histogram2d\":[{\"type\":\"histogram2d\",\"colorbar\":{\"outlinewidth\":0,\"ticks\":\"\"},\"colorscale\":[[0.0,\"#0d0887\"],[0.1111111111111111,\"#46039f\"],[0.2222222222222222,\"#7201a8\"],[0.3333333333333333,\"#9c179e\"],[0.4444444444444444,\"#bd3786\"],[0.5555555555555556,\"#d8576b\"],[0.6666666666666666,\"#ed7953\"],[0.7777777777777778,\"#fb9f3a\"],[0.8888888888888888,\"#fdca26\"],[1.0,\"#f0f921\"]]}],\"heatmap\":[{\"type\":\"heatmap\",\"colorbar\":{\"outlinewidth\":0,\"ticks\":\"\"},\"colorscale\":[[0.0,\"#0d0887\"],[0.1111111111111111,\"#46039f\"],[0.2222222222222222,\"#7201a8\"],[0.3333333333333333,\"#9c179e\"],[0.4444444444444444,\"#bd3786\"],[0.5555555555555556,\"#d8576b\"],[0.6666666666666666,\"#ed7953\"],[0.7777777777777778,\"#fb9f3a\"],[0.8888888888888888,\"#fdca26\"],[1.0,\"#f0f921\"]]}],\"heatmapgl\":[{\"type\":\"heatmapgl\",\"colorbar\":{\"outlinewidth\":0,\"ticks\":\"\"},\"colorscale\":[[0.0,\"#0d0887\"],[0.1111111111111111,\"#46039f\"],[0.2222222222222222,\"#7201a8\"],[0.3333333333333333,\"#9c179e\"],[0.4444444444444444,\"#bd3786\"],[0.5555555555555556,\"#d8576b\"],[0.6666666666666666,\"#ed7953\"],[0.7777777777777778,\"#fb9f3a\"],[0.8888888888888888,\"#fdca26\"],[1.0,\"#f0f921\"]]}],\"contourcarpet\":[{\"type\":\"contourcarpet\",\"colorbar\":{\"outlinewidth\":0,\"ticks\":\"\"}}],\"contour\":[{\"type\":\"contour\",\"colorbar\":{\"outlinewidth\":0,\"ticks\":\"\"},\"colorscale\":[[0.0,\"#0d0887\"],[0.1111111111111111,\"#46039f\"],[0.2222222222222222,\"#7201a8\"],[0.3333333333333333,\"#9c179e\"],[0.4444444444444444,\"#bd3786\"],[0.5555555555555556,\"#d8576b\"],[0.6666666666666666,\"#ed7953\"],[0.7777777777777778,\"#fb9f3a\"],[0.8888888888888888,\"#fdca26\"],[1.0,\"#f0f921\"]]}],\"surface\":[{\"type\":\"surface\",\"colorbar\":{\"outlinewidth\":0,\"ticks\":\"\"},\"colorscale\":[[0.0,\"#0d0887\"],[0.1111111111111111,\"#46039f\"],[0.2222222222222222,\"#7201a8\"],[0.3333333333333333,\"#9c179e\"],[0.4444444444444444,\"#bd3786\"],[0.5555555555555556,\"#d8576b\"],[0.6666666666666666,\"#ed7953\"],[0.7777777777777778,\"#fb9f3a\"],[0.8888888888888888,\"#fdca26\"],[1.0,\"#f0f921\"]]}],\"mesh3d\":[{\"type\":\"mesh3d\",\"colorbar\":{\"outlinewidth\":0,\"ticks\":\"\"}}],\"scatter\":[{\"fillpattern\":{\"fillmode\":\"overlay\",\"size\":10,\"solidity\":0.2},\"type\":\"scatter\"}],\"parcoords\":[{\"type\":\"parcoords\",\"line\":{\"colorbar\":{\"outlinewidth\":0,\"ticks\":\"\"}}}],\"scatterpolargl\":[{\"type\":\"scatterpolargl\",\"marker\":{\"colorbar\":{\"outlinewidth\":0,\"ticks\":\"\"}}}],\"bar\":[{\"error_x\":{\"color\":\"#2a3f5f\"},\"error_y\":{\"color\":\"#2a3f5f\"},\"marker\":{\"line\":{\"color\":\"#E5ECF6\",\"width\":0.5},\"pattern\":{\"fillmode\":\"overlay\",\"size\":10,\"solidity\":0.2}},\"type\":\"bar\"}],\"scattergeo\":[{\"type\":\"scattergeo\",\"marker\":{\"colorbar\":{\"outlinewidth\":0,\"ticks\":\"\"}}}],\"scatterpolar\":[{\"type\":\"scatterpolar\",\"marker\":{\"colorbar\":{\"outlinewidth\":0,\"ticks\":\"\"}}}],\"histogram\":[{\"marker\":{\"pattern\":{\"fillmode\":\"overlay\",\"size\":10,\"solidity\":0.2}},\"type\":\"histogram\"}],\"scattergl\":[{\"type\":\"scattergl\",\"marker\":{\"colorbar\":{\"outlinewidth\":0,\"ticks\":\"\"}}}],\"scatter3d\":[{\"type\":\"scatter3d\",\"line\":{\"colorbar\":{\"outlinewidth\":0,\"ticks\":\"\"}},\"marker\":{\"colorbar\":{\"outlinewidth\":0,\"ticks\":\"\"}}}],\"scattermapbox\":[{\"type\":\"scattermapbox\",\"marker\":{\"colorbar\":{\"outlinewidth\":0,\"ticks\":\"\"}}}],\"scatterternary\":[{\"type\":\"scatterternary\",\"marker\":{\"colorbar\":{\"outlinewidth\":0,\"ticks\":\"\"}}}],\"scattercarpet\":[{\"type\":\"scattercarpet\",\"marker\":{\"colorbar\":{\"outlinewidth\":0,\"ticks\":\"\"}}}],\"carpet\":[{\"aaxis\":{\"endlinecolor\":\"#2a3f5f\",\"gridcolor\":\"white\",\"linecolor\":\"white\",\"minorgridcolor\":\"white\",\"startlinecolor\":\"#2a3f5f\"},\"baxis\":{\"endlinecolor\":\"#2a3f5f\",\"gridcolor\":\"white\",\"linecolor\":\"white\",\"minorgridcolor\":\"white\",\"startlinecolor\":\"#2a3f5f\"},\"type\":\"carpet\"}],\"table\":[{\"cells\":{\"fill\":{\"color\":\"#EBF0F8\"},\"line\":{\"color\":\"white\"}},\"header\":{\"fill\":{\"color\":\"#C8D4E3\"},\"line\":{\"color\":\"white\"}},\"type\":\"table\"}],\"barpolar\":[{\"marker\":{\"line\":{\"color\":\"#E5ECF6\",\"width\":0.5},\"pattern\":{\"fillmode\":\"overlay\",\"size\":10,\"solidity\":0.2}},\"type\":\"barpolar\"}],\"pie\":[{\"automargin\":true,\"type\":\"pie\"}]},\"layout\":{\"autotypenumbers\":\"strict\",\"colorway\":[\"#636efa\",\"#EF553B\",\"#00cc96\",\"#ab63fa\",\"#FFA15A\",\"#19d3f3\",\"#FF6692\",\"#B6E880\",\"#FF97FF\",\"#FECB52\"],\"font\":{\"color\":\"#2a3f5f\"},\"hovermode\":\"closest\",\"hoverlabel\":{\"align\":\"left\"},\"paper_bgcolor\":\"white\",\"plot_bgcolor\":\"#E5ECF6\",\"polar\":{\"bgcolor\":\"#E5ECF6\",\"angularaxis\":{\"gridcolor\":\"white\",\"linecolor\":\"white\",\"ticks\":\"\"},\"radialaxis\":{\"gridcolor\":\"white\",\"linecolor\":\"white\",\"ticks\":\"\"}},\"ternary\":{\"bgcolor\":\"#E5ECF6\",\"aaxis\":{\"gridcolor\":\"white\",\"linecolor\":\"white\",\"ticks\":\"\"},\"baxis\":{\"gridcolor\":\"white\",\"linecolor\":\"white\",\"ticks\":\"\"},\"caxis\":{\"gridcolor\":\"white\",\"linecolor\":\"white\",\"ticks\":\"\"}},\"coloraxis\":{\"colorbar\":{\"outlinewidth\":0,\"ticks\":\"\"}},\"colorscale\":{\"sequential\":[[0.0,\"#0d0887\"],[0.1111111111111111,\"#46039f\"],[0.2222222222222222,\"#7201a8\"],[0.3333333333333333,\"#9c179e\"],[0.4444444444444444,\"#bd3786\"],[0.5555555555555556,\"#d8576b\"],[0.6666666666666666,\"#ed7953\"],[0.7777777777777778,\"#fb9f3a\"],[0.8888888888888888,\"#fdca26\"],[1.0,\"#f0f921\"]],\"sequentialminus\":[[0.0,\"#0d0887\"],[0.1111111111111111,\"#46039f\"],[0.2222222222222222,\"#7201a8\"],[0.3333333333333333,\"#9c179e\"],[0.4444444444444444,\"#bd3786\"],[0.5555555555555556,\"#d8576b\"],[0.6666666666666666,\"#ed7953\"],[0.7777777777777778,\"#fb9f3a\"],[0.8888888888888888,\"#fdca26\"],[1.0,\"#f0f921\"]],\"diverging\":[[0,\"#8e0152\"],[0.1,\"#c51b7d\"],[0.2,\"#de77ae\"],[0.3,\"#f1b6da\"],[0.4,\"#fde0ef\"],[0.5,\"#f7f7f7\"],[0.6,\"#e6f5d0\"],[0.7,\"#b8e186\"],[0.8,\"#7fbc41\"],[0.9,\"#4d9221\"],[1,\"#276419\"]]},\"xaxis\":{\"gridcolor\":\"white\",\"linecolor\":\"white\",\"ticks\":\"\",\"title\":{\"standoff\":15},\"zerolinecolor\":\"white\",\"automargin\":true,\"zerolinewidth\":2},\"yaxis\":{\"gridcolor\":\"white\",\"linecolor\":\"white\",\"ticks\":\"\",\"title\":{\"standoff\":15},\"zerolinecolor\":\"white\",\"automargin\":true,\"zerolinewidth\":2},\"scene\":{\"xaxis\":{\"backgroundcolor\":\"#E5ECF6\",\"gridcolor\":\"white\",\"linecolor\":\"white\",\"showbackground\":true,\"ticks\":\"\",\"zerolinecolor\":\"white\",\"gridwidth\":2},\"yaxis\":{\"backgroundcolor\":\"#E5ECF6\",\"gridcolor\":\"white\",\"linecolor\":\"white\",\"showbackground\":true,\"ticks\":\"\",\"zerolinecolor\":\"white\",\"gridwidth\":2},\"zaxis\":{\"backgroundcolor\":\"#E5ECF6\",\"gridcolor\":\"white\",\"linecolor\":\"white\",\"showbackground\":true,\"ticks\":\"\",\"zerolinecolor\":\"white\",\"gridwidth\":2}},\"shapedefaults\":{\"line\":{\"color\":\"#2a3f5f\"}},\"annotationdefaults\":{\"arrowcolor\":\"#2a3f5f\",\"arrowhead\":0,\"arrowwidth\":1},\"geo\":{\"bgcolor\":\"white\",\"landcolor\":\"#E5ECF6\",\"subunitcolor\":\"white\",\"showland\":true,\"showlakes\":true,\"lakecolor\":\"white\"},\"title\":{\"x\":0.05},\"mapbox\":{\"style\":\"light\"}}},\"xaxis\":{\"anchor\":\"y\",\"domain\":[0.0,1.0],\"title\":{\"text\":\"Loss\"}},\"yaxis\":{\"anchor\":\"x\",\"domain\":[0.0,1.0],\"title\":{\"text\":\"count\"}},\"legend\":{\"title\":{\"text\":\"InstallmentPlan\"},\"tracegroupgap\":0},\"title\":{\"text\":\"\\u003cb\\u003eInstallment Plan distribution\\u003cb\\u003e\"},\"barmode\":\"group\",\"width\":700,\"height\":500,\"bargap\":0.1},                        {\"responsive\": true}                    ).then(function(){\n",
              "                            \n",
              "var gd = document.getElementById('2b32d1dd-21f8-49c4-8fd0-93b49b42c6fc');\n",
              "var x = new MutationObserver(function (mutations, observer) {{\n",
              "        var display = window.getComputedStyle(gd).display;\n",
              "        if (!display || display === 'none') {{\n",
              "            console.log([gd, 'removed!']);\n",
              "            Plotly.purge(gd);\n",
              "            observer.disconnect();\n",
              "        }}\n",
              "}});\n",
              "\n",
              "// Listen for the removal of the full notebook cells\n",
              "var notebookContainer = gd.closest('#notebook-container');\n",
              "if (notebookContainer) {{\n",
              "    x.observe(notebookContainer, {childList: true});\n",
              "}}\n",
              "\n",
              "// Listen for the clearing of the current output cell\n",
              "var outputEl = gd.closest('.output');\n",
              "if (outputEl) {{\n",
              "    x.observe(outputEl, {childList: true});\n",
              "}}\n",
              "\n",
              "                        })                };                            </script>        </div>\n",
              "</body>\n",
              "</html>"
            ]
          },
          "metadata": {}
        }
      ]
    },
    {
      "cell_type": "markdown",
      "source": [
        "**Insights.**\n",
        "\n",
        "1. Churn Distribution:\n",
        "\n",
        "  * 80% of the customers in the dataset are still with ScottishPower, while 20% of customers have left.\n",
        "2. Offset Value and Churn:\n",
        "  * Customers who stay with ScottishPower have a higher average \"Offset Value\" (approximately £397) compared to those who have left (approximately £198). This could suggest that customers who owe more tend to stay with the company, possibly due to unresolved payments.\n",
        "3. Installment Plan and Churn:\n",
        "  * The percentage of customers on an installment plan is higher for those who stay (12.5%) compared to those who leave (1.1%). This suggests that being on an installment plan may help in customer retention.\n",
        "\n",
        "### 4.2  Let's dive deep to explore other factors such as the impact of **Debt Plan Group, Tenure, Complaint Type and demographics.**"
      ],
      "metadata": {
        "id": "7JMBBiXVFXJX"
      }
    },
    {
      "cell_type": "code",
      "source": [
        "df[df['Loss'] == 0].groupby('DebtPlanGroup')['Loss'].count()"
      ],
      "metadata": {
        "colab": {
          "base_uri": "https://localhost:8080/",
          "height": 210
        },
        "id": "Mw0E4gBlvElt",
        "outputId": "60dfe0aa-e2b3-431a-e929-5842225e1c05"
      },
      "execution_count": null,
      "outputs": [
        {
          "output_type": "execute_result",
          "data": {
            "text/plain": [
              "DebtPlanGroup\n",
              "Cash    2433\n",
              "DD      1291\n",
              "PP       276\n",
              "Name: Loss, dtype: int64"
            ],
            "text/html": [
              "<div>\n",
              "<style scoped>\n",
              "    .dataframe tbody tr th:only-of-type {\n",
              "        vertical-align: middle;\n",
              "    }\n",
              "\n",
              "    .dataframe tbody tr th {\n",
              "        vertical-align: top;\n",
              "    }\n",
              "\n",
              "    .dataframe thead th {\n",
              "        text-align: right;\n",
              "    }\n",
              "</style>\n",
              "<table border=\"1\" class=\"dataframe\">\n",
              "  <thead>\n",
              "    <tr style=\"text-align: right;\">\n",
              "      <th></th>\n",
              "      <th>Loss</th>\n",
              "    </tr>\n",
              "    <tr>\n",
              "      <th>DebtPlanGroup</th>\n",
              "      <th></th>\n",
              "    </tr>\n",
              "  </thead>\n",
              "  <tbody>\n",
              "    <tr>\n",
              "      <th>Cash</th>\n",
              "      <td>2433</td>\n",
              "    </tr>\n",
              "    <tr>\n",
              "      <th>DD</th>\n",
              "      <td>1291</td>\n",
              "    </tr>\n",
              "    <tr>\n",
              "      <th>PP</th>\n",
              "      <td>276</td>\n",
              "    </tr>\n",
              "  </tbody>\n",
              "</table>\n",
              "</div><br><label><b>dtype:</b> int64</label>"
            ]
          },
          "metadata": {},
          "execution_count": 37
        }
      ]
    },
    {
      "cell_type": "code",
      "source": [
        "df[df['Loss'] == 1].groupby('DebtPlanGroup')['Loss'].count()"
      ],
      "metadata": {
        "colab": {
          "base_uri": "https://localhost:8080/",
          "height": 210
        },
        "id": "FIbaXvBmQfV2",
        "outputId": "60a25f5a-1762-4385-fd8a-4dcdb9e4bd81"
      },
      "execution_count": null,
      "outputs": [
        {
          "output_type": "execute_result",
          "data": {
            "text/plain": [
              "DebtPlanGroup\n",
              "Cash    300\n",
              "DD      514\n",
              "PP      186\n",
              "Name: Loss, dtype: int64"
            ],
            "text/html": [
              "<div>\n",
              "<style scoped>\n",
              "    .dataframe tbody tr th:only-of-type {\n",
              "        vertical-align: middle;\n",
              "    }\n",
              "\n",
              "    .dataframe tbody tr th {\n",
              "        vertical-align: top;\n",
              "    }\n",
              "\n",
              "    .dataframe thead th {\n",
              "        text-align: right;\n",
              "    }\n",
              "</style>\n",
              "<table border=\"1\" class=\"dataframe\">\n",
              "  <thead>\n",
              "    <tr style=\"text-align: right;\">\n",
              "      <th></th>\n",
              "      <th>Loss</th>\n",
              "    </tr>\n",
              "    <tr>\n",
              "      <th>DebtPlanGroup</th>\n",
              "      <th></th>\n",
              "    </tr>\n",
              "  </thead>\n",
              "  <tbody>\n",
              "    <tr>\n",
              "      <th>Cash</th>\n",
              "      <td>300</td>\n",
              "    </tr>\n",
              "    <tr>\n",
              "      <th>DD</th>\n",
              "      <td>514</td>\n",
              "    </tr>\n",
              "    <tr>\n",
              "      <th>PP</th>\n",
              "      <td>186</td>\n",
              "    </tr>\n",
              "  </tbody>\n",
              "</table>\n",
              "</div><br><label><b>dtype:</b> int64</label>"
            ]
          },
          "metadata": {},
          "execution_count": 38
        }
      ]
    },
    {
      "cell_type": "code",
      "source": [
        "plt.figure(figsize=(6, 6))\n",
        "\n",
        "labels_loss = [\"Loss: NO\", \"Loss: Yes\"]\n",
        "values_loss = [4000,1000]\n",
        "colors_loss = ['#66b3ff', '#ff6666']\n",
        "explode_loss = (0.3, 0.3)\n",
        "\n",
        "labels_debt = [\"Cash\", \"DD\", \"PP\", \"Cash\", \"PP\", \"DD\"]\n",
        "sizes_debt = [2433, 1291, 276, 300, 186, 514]\n",
        "colors_debt = ['#c2c2f0', '#ffb3e6', '#ffcc99', '#c2c2f0', '#ffcc99', '#ffb3e6']\n",
        "explode_debt = (0.1, 0.1, 0.1, 0.1, 0.1, 0.1)\n",
        "\n",
        "textprops = {\"fontsize\": 15}\n",
        "# plot pie chart\n",
        "plt.pie(values_loss, labels=labels_loss, autopct='%1.1f%%', pctdistance=1.08, labeldistance=0.9, colors=colors_loss,\n",
        "        startangle=90, frame=True, explode=explode_loss, radius=10, textprops=textprops, counterclock=True)\n",
        "\n",
        "plt.pie(sizes_debt, labels=labels_debt, autopct='%1.1f%%', pctdistance=1.07, labeldistance=0.6, colors=colors_debt,\n",
        "        startangle=90, explode=explode_debt, radius=7, textprops={\"fontsize\": 13}, counterclock=True)\n",
        "\n",
        "# draw center circle\n",
        "centre_circle = plt.Circle((0, 0), 5, color='black', fc='white', linewidth=0)\n",
        "fig = plt.gcf()\n",
        "fig.gca().add_artist(centre_circle)\n",
        "\n",
        "# Show plot\n",
        "plt.title('Loss Distribution w.r.t Debt Plan Group', fontsize=15, y=1.1)\n",
        "plt.axis('equal')\n",
        "plt.tight_layout()\n",
        "plt.show()\n"
      ],
      "metadata": {
        "colab": {
          "base_uri": "https://localhost:8080/",
          "height": 610
        },
        "id": "79OOFDghJaUZ",
        "outputId": "46a02587-3c1a-4827-fc6a-cc4a96e0ca32"
      },
      "execution_count": null,
      "outputs": [
        {
          "output_type": "display_data",
          "data": {
            "text/plain": [
              "<Figure size 600x600 with 1 Axes>"
            ],
            "image/png": "[encoded data removed]"
          },
          "metadata": {}
        }
      ]
    },
    {
      "cell_type": "markdown",
      "source": [
        "Customers with the DD debt plan have highest churn rate which is approximately 50% of total customers who left."
      ],
      "metadata": {
        "id": "fKKThBpFX_Gf"
      }
    },
    {
      "cell_type": "code",
      "source": [
        "# churn rate by 'Debt Plan Group'\n",
        "churn_vs_debt_plan = df.groupby('DebtPlanGroup')['Loss'].mean()\n",
        "print(churn_vs_debt_plan*100)"
      ],
      "metadata": {
        "id": "utTUnCKUJaH-",
        "colab": {
          "base_uri": "https://localhost:8080/"
        },
        "outputId": "1e0c4fdc-18ce-4455-8515-16191a6b357b"
      },
      "execution_count": null,
      "outputs": [
        {
          "output_type": "stream",
          "name": "stdout",
          "text": [
            "DebtPlanGroup\n",
            "Cash    10.976948\n",
            "DD      28.476454\n",
            "PP      40.259740\n",
            "Name: Loss, dtype: float64\n"
          ]
        }
      ]
    },
    {
      "cell_type": "markdown",
      "source": [
        "Churn by Debt Plan Group:\n",
        "  * Cash customers have the lowest churn rate (approximately 10.9%).\n",
        "  * Direct Debit (DD) customers have a higher churn rate (28.5%).\n",
        "  * Prepayment Meter (PP) customers have the highest churn rate (40.3%)."
      ],
      "metadata": {
        "id": "Jm-nyZwSP48N"
      }
    },
    {
      "cell_type": "code",
      "source": [
        "# churn rate by 'Complaint Type'\n",
        "churn_vs_complaint = df.groupby('ComplaintType')['Loss'].mean()\n",
        "print(churn_vs_complaint*100)"
      ],
      "metadata": {
        "colab": {
          "base_uri": "https://localhost:8080/"
        },
        "id": "pVNKJiMAuWCA",
        "outputId": "88dbe48c-9a05-4a24-bebc-3b04e12d1981"
      },
      "execution_count": null,
      "outputs": [
        {
          "output_type": "stream",
          "name": "stdout",
          "text": [
            "ComplaintType\n",
            "Complaint       12.474012\n",
            "No Complaint    21.735887\n",
            "Ombudsman       35.294118\n",
            "Name: Loss, dtype: float64\n"
          ]
        }
      ]
    },
    {
      "cell_type": "markdown",
      "source": [
        "Churn by Complaint Type:\n",
        "  * Customers with regular complaints have a churn rate of 12.5%, which is slightly higher than the overall churn rate.\n",
        "  * Customers with complaints escalated to the Ombudsman have a significantly higher churn rate (35.3%).\n",
        "\n",
        "**Insights:**\n",
        "* **Prepayment (PP) customers** and those with **Ombudsman complaints** are more likely to leave ScottishPower.\n",
        "* **Cash payment** appears to correlate with higher retention"
      ],
      "metadata": {
        "id": "zBJ4G342WqCm"
      }
    },
    {
      "cell_type": "markdown",
      "source": [
        "### 4.3 Churn Behaviour by Tenure\n",
        "\n",
        "By examining the length of time customers stay before leaving, we can identify patterns related to churn, such as:\n",
        "\n",
        "* Customers who are likely to leave within the first few months.\n",
        "* Differences in churn behavior based on tenure, e.g., short-term vs long-term customers."
      ],
      "metadata": {
        "id": "k80OaroNszo6"
      }
    },
    {
      "cell_type": "code",
      "source": [
        "# tenure in months and years\n",
        "df['Customer_Tenure_Months'] = df['Customer_Tenure_Days'] / 30.44\n",
        "df['Customer_Tenure_Years'] = df['Customer_Tenure_Days'] / 365.25\n",
        "\n",
        "# customer group\n",
        "bins = [0, 1, 3, 5, df['Customer_Tenure_Years'].max()]\n",
        "labels = ['< 1 year', '1-3 years', '3-5 years', '> 5 years']\n",
        "df['Tenure_Group'] = pd.cut(df['Customer_Tenure_Years'], bins=bins, labels=labels, right=False)"
      ],
      "metadata": {
        "id": "zMizajRUQhn2"
      },
      "execution_count": null,
      "outputs": []
    },
    {
      "cell_type": "code",
      "source": [
        "fig = px.box(df, x='Loss', y = 'Customer_Tenure_Months')\n",
        "\n",
        "# Update yaxis properties\n",
        "fig.update_yaxes(title_text='Tenure (Months)', row=1, col=1)\n",
        "# Update xaxis properties\n",
        "fig.update_xaxes(title_text='Churn', row=1, col=1)\n",
        "\n",
        "# Update size and title\n",
        "fig.update_layout(autosize=True, width=750, height=600,\n",
        "    title_font=dict(size=25, family='Courier'),\n",
        "    title='<b>Tenure vs Churn</b>',\n",
        ")\n",
        "\n",
        "fig.show()"
      ],
      "metadata": {
        "colab": {
          "base_uri": "https://localhost:8080/",
          "height": 617
        },
        "id": "ko2rqxm0MlpI",
        "outputId": "7e5d5262-f763-4527-8a00-a51b5bd5a29c"
      },
      "execution_count": null,
      "outputs": [
        {
          "output_type": "display_data",
          "data": {
            "text/html": [
              "<html>\n",
              "<head><meta charset=\"utf-8\" /></head>\n",
              "<body>\n",
              "    <div>            <script src=\"https://cdnjs.cloudflare.com/ajax/libs/mathjax/2.7.5/MathJax.js?config=TeX-AMS-MML_SVG\"></script><script type=\"text/javascript\">if (window.MathJax && window.MathJax.Hub && window.MathJax.Hub.Config) {window.MathJax.Hub.Config({SVG: {font: \"STIX-Web\"}});}</script>                <script type=\"text/javascript\">window.PlotlyConfig = {MathJaxConfig: 'local'};</script>\n",
              "        <script charset=\"utf-8\" src=\"https://cdn.plot.ly/plotly-2.24.1.min.js\"></script>                <div id=\"93a0906a-551e-49bc-a03a-69fbadfc1987\" class=\"plotly-graph-div\" style=\"height:600px; width:750px;\"></div>            <script type=\"text/javascript\">                                    window.PLOTLYENV=window.PLOTLYENV || {};                                    if (document.getElementById(\"93a0906a-551e-49bc-a03a-69fbadfc1987\")) {                    Plotly.newPlot(                        \"93a0906a-551e-49bc-a03a-69fbadfc1987\",                        [{\"alignmentgroup\":\"True\",\"hovertemplate\":\"Loss=%{x}\\u003cbr\\u003eCustomer_Tenure_Months=%{y}\\u003cextra\\u003e\\u003c\\u002fextra\\u003e\",\"legendgroup\":\"\",\"marker\":{\"color\":\"#636efa\"},\"name\":\"\",\"notched\":false,\"offsetgroup\":\"\",\"orientation\":\"v\",\"showlegend\":false,\"x\":[1,1,1,1,1,1,1,1,1,1,1,1,1,1,1,1,1,1,1,1,1,1,1,1,1,1,1,1,1,1,1,1,1,1,1,1,1,1,1,1,1,1,1,1,1,1,1,1,1,1,1,1,1,1,1,1,1,1,1,1,1,1,1,1,1,1,1,1,1,1,1,1,1,1,1,1,1,1,1,1,1,1,1,1,1,1,1,1,1,1,1,1,1,1,1,1,1,1,1,1,1,1,1,1,1,1,1,1,1,1,1,1,1,1,1,1,1,1,1,1,1,1,1,1,1,1,1,1,1,1,1,1,1,1,1,1,1,1,1,1,1,1,1,1,1,1,1,1,1,1,1,1,1,1,1,1,1,1,1,1,1,1,1,1,1,1,1,1,1,1,1,1,1,1,1,1,1,1,1,1,1,1,1,1,1,1,1,1,1,1,1,1,1,1,1,1,1,1,1,1,1,1,1,1,1,1,1,1,1,1,1,1,1,1,1,1,1,1,1,1,1,1,1,1,1,1,1,1,1,1,1,1,1,1,1,1,1,1,1,1,1,1,1,1,1,1,1,1,1,1,1,1,1,1,1,1,1,1,1,1,1,1,1,1,1,1,1,1,1,1,1,1,1,1,1,1,1,1,1,1,1,1,1,1,1,1,1,1,1,1,1,1,1,1,1,1,1,1,1,1,1,1,1,1,1,1,1,1,1,1,1,1,1,1,1,1,1,1,1,1,1,1,1,1,1,1,1,1,1,1,1,1,1,1,1,1,1,1,1,1,1,1,1,1,1,1,1,1,1,1,1,1,1,1,1,1,1,1,1,1,1,1,1,1,1,1,1,1,1,1,1,1,1,1,1,1,1,1,1,1,1,1,1,1,1,1,1,1,1,1,1,1,1,1,1,1,1,1,1,1,1,1,1,1,1,1,1,1,1,1,1,1,1,1,1,1,1,1,1,1,1,1,1,1,1,1,1,1,1,1,1,1,1,1,1,1,1,1,1,1,1,1,1,1,1,1,1,1,1,1,1,1,1,1,1,1,1,1,1,1,1,1,1,1,1,1,1,1,1,1,1,1,1,1,1,1,1,1,1,1,1,1,1,1,1,1,1,1,1,1,1,1,1,1,1,1,1,1,1,1,1,1,1,1,1,1,1,1,1,1,1,1,1,1,1,1,1,1,1,1,1,1,1,1,1,1,1,1,1,1,1,1,1,1,1,1,1,1,1,1,1,1,1,1,1,1,1,1,1,1,1,1,1,1,1,1,1,1,1,1,1,1,1,1,1,1,1,1,1,1,1,1,1,1,1,1,1,1,1,1,1,1,1,1,1,1,1,1,1,1,1,1,1,1,1,1,1,1,1,1,1,1,1,1,1,1,1,1,1,1,1,1,1,1,1,1,1,1,1,1,1,1,1,1,1,1,1,1,1,1,1,1,1,1,1,1,1,1,1,1,1,1,1,1,1,1,1,1,1,1,1,1,1,1,1,1,1,1,1,1,1,1,1,1,1,1,1,1,1,1,1,1,1,1,1,1,1,1,1,1,1,1,1,1,1,1,1,1,1,1,1,1,1,1,1,1,1,1,1,1,1,1,1,1,1,1,1,1,1,1,1,1,1,1,1,1,1,1,1,1,1,1,1,1,1,1,1,1,1,1,1,1,1,1,1,1,1,1,1,1,1,1,1,1,1,1,1,1,1,1,1,1,1,1,1,1,1,1,1,1,1,1,1,1,1,1,1,1,1,1,1,1,1,1,1,1,1,1,1,1,1,1,1,1,1,1,1,1,1,1,1,1,1,1,1,1,1,1,1,1,1,1,1,1,1,1,1,1,1,1,1,1,1,1,1,1,1,1,1,1,1,1,1,1,1,1,1,1,1,1,1,1,1,1,1,1,1,1,1,1,1,1,1,1,1,1,1,1,1,1,1,1,1,1,1,1,1,1,1,1,1,1,1,1,1,1,1,1,1,1,1,1,1,1,1,1,1,1,1,1,1,1,1,1,1,1,1,1,1,1,1,1,1,1,1,1,1,1,1,1,1,1,1,1,1,1,1,1,1,1,1,1,1,1,1,1,1,1,1,1,1,1,1,1,1,1,1,1,1,1,1,1,1,1,1,1,1,1,1,1,1,1,1,1,1,1,1,1,1,1,1,1,1,1,1,1,1,1,1,1,1,1,1,1,1,1,1,1,1,1,1,1,1,1,1,1,1,1,1,1,1,1,1,1,1,1,1,1,1,1,1,1,1,1,1,1,1,1,1,1,0,0,0,0,0,0,0,0,0,0,0,0,0,0,0,0,0,0,0,0,0,0,0,0,0,0,0,0,0,0,0,0,0,0,0,0,0,0,0,0,0,0,0,0,0,0,0,0,0,0,0,0,0,0,0,0,0,0,0,0,0,0,0,0,0,0,0,0,0,0,0,0,0,0,0,0,0,0,0,0,0,0,0,0,0,0,0,0,0,0,0,0,0,0,0,0,0,0,0,0,0,0,0,0,0,0,0,0,0,0,0,0,0,0,0,0,0,0,0,0,0,0,0,0,0,0,0,0,0,0,0,0,0,0,0,0,0,0,0,0,0,0,0,0,0,0,0,0,0,0,0,0,0,0,0,0,0,0,0,0,0,0,0,0,0,0,0,0,0,0,0,0,0,0,0,0,0,0,0,0,0,0,0,0,0,0,0,0,0,0,0,0,0,0,0,0,0,0,0,0,0,0,0,0,0,0,0,0,0,0,0,0,0,0,0,0,0,0,0,0,0,0,0,0,0,0,0,0,0,0,0,0,0,0,0,0,0,0,0,0,0,0,0,0,0,0,0,0,0,0,0,0,0,0,0,0,0,0,0,0,0,0,0,0,0,0,0,0,0,0,0,0,0,0,0,0,0,0,0,0,0,0,0,0,0,0,0,0,0,0,0,0,0,0,0,0,0,0,0,0,0,0,0,0,0,0,0,0,0,0,0,0,0,0,0,0,0,0,0,0,0,0,0,0,0,0,0,0,0,0,0,0,0,0,0,0,0,0,0,0,0,0,0,0,0,0,0,0,0,0,0,0,0,0,0,0,0,0,0,0,0,0,0,0,0,0,0,0,0,0,0,0,0,0,0,0,0,0,0,0,0,0,0,0,0,0,0,0,0,0,0,0,0,0,0,0,0,0,0,0,0,0,0,0,0,0,0,0,0,0,0,0,0,0,0,0,0,0,0,0,0,0,0,0,0,0,0,0,0,0,0,0,0,0,0,0,0,0,0,0,0,0,0,0,0,0,0,0,0,0,0,0,0,0,0,0,0,0,0,0,0,0,0,0,0,0,0,0,0,0,0,0,0,0,0,0,0,0,0,0,0,0,0,0,0,0,0,0,0,0,0,0,0,0,0,0,0,0,0,0,0,0,0,0,0,0,0,0,0,0,0,0,0,0,0,0,0,0,0,0,0,0,0,0,0,0,0,0,0,0,0,0,0,0,0,0,0,0,0,0,0,0,0,0,0,0,0,0,0,0,0,0,0,0,0,0,0,0,0,0,0,0,0,0,0,0,0,0,0,0,0,0,0,0,0,0,0,0,0,0,0,0,0,0,0,0,0,0,0,0,0,0,0,0,0,0,0,0,0,0,0,0,0,0,0,0,0,0,0,0,0,0,0,0,0,0,0,0,0,0,0,0,0,0,0,0,0,0,0,0,0,0,0,0,0,0,0,0,0,0,0,0,0,0,0,0,0,0,0,0,0,0,0,0,0,0,0,0,0,0,0,0,0,0,0,0,0,0,0,0,0,0,0,0,0,0,0,0,0,0,0,0,0,0,0,0,0,0,0,0,0,0,0,0,0,0,0,0,0,0,0,0,0,0,0,0,0,0,0,0,0,0,0,0,0,0,0,0,0,0,0,0,0,0,0,0,0,0,0,0,0,0,0,0,0,0,0,0,0,0,0,0,0,0,0,0,0,0,0,0,0,0,0,0,0,0,0,0,0,0,0,0,0,0,0,0,0,0,0,0,0,0,0,0,0,0,0,0,0,0,0,0,0,0,0,0,0,0,0,0,0,0,0,0,0,0,0,0,0,0,0,0,0,0,0,0,0,0,0,0,0,0,0,0,0,0,0,0,0,0,0,0,0,0,0,0,0,0,0,0,0,0,0,0,0,0,0,0,0,0,0,0,0,0,0,0,0,0,0,0,0,0,0,0,0,0,0,0,0,0,0,0,0,0,0,0,0,0,0,0,0,0,0,0,0,0,0,0,0,0,0,0,0,0,0,0,0,0,0,0,0,0,0,0,0,0,0,0,0,0,0,0,0,0,0,0,0,0,0,0,0,0,0,0,0,0,0,0,0,0,0,0,0,0,0,0,0,0,0,0,0,0,0,0,0,0,0,0,0,0,0,0,0,0,0,0,0,0,0,0,0,0,0,0,0,0,0,0,0,0,0,0,0,0,0,0,0,0,0,0,0,0,0,0,0,0,0,0,0,0,0,0,0,0,0,0,0,0,0,0,0,0,0,0,0,0,0,0,0,0,0,0,0,0,0,0,0,0,0,0,0,0,0,0,0,0,0,0,0,0,0,0,0,0,0,0,0,0,0,0,0,0,0,0,0,0,0,0,0,0,0,0,0,0,0,0,0,0,0,0,0,0,0,0,0,0,0,0,0,0,0,0,0,0,0,0,0,0,0,0,0,0,0,0,0,0,0,0,0,0,0,0,0,0,0,0,0,0,0,0,0,0,0,0,0,0,0,0,0,0,0,0,0,0,0,0,0,0,0,0,0,0,0,0,0,0,0,0,0,0,0,0,0,0,0,0,0,0,0,0,0,0,0,0,0,0,0,0,0,0,0,0,0,0,0,0,0,0,0,0,0,0,0,0,0,0,0,0,0,0,0,0,0,0,0,0,0,0,0,0,0,0,0,0,0,0,0,0,0,0,0,0,0,0,0,0,0,0,0,0,0,0,0,0,0,0,0,0,0,0,0,0,0,0,0,0,0,0,0,0,0,0,0,0,0,0,0,0,0,0,0,0,0,0,0,0,0,0,0,0,0,0,0,0,0,0,0,0,0,0,0,0,0,0,0,0,0,0,0,0,0,0,0,0,0,0,0,0,0,0,0,0,0,0,0,0,0,0,0,0,0,0,0,0,0,0,0,0,0,0,0,0,0,0,0,0,0,0,0,0,0,0,0,0,0,0,0,0,0,0,0,0,0,0,0,0,0,0,0,0,0,0,0,0,0,0,0,0,0,0,0,0,0,0,0,0,0,0,0,0,0,0,0,0,0,0,0,0,0,0,0,0,0,0,0,0,0,0,0,0,0,0,0,0,0,0,0,0,0,0,0,0,0,0,0,0,0,0,0,0,0,0,0,0,0,0,0,0,0,0,0,0,0,0,0,0,0,0,0,0,0,0,0,0,0,0,0,0,0,0,0,0,0,0,0,0,0,0,0,0,0,0,0,0,0,0,0,0,0,0,0,0,0,0,0,0,0,0,0,0,0,0,0,0,0,0,0,0,0,0,0,0,0,0,0,0,0,0,0,0,0,0,0,0,0,0,0,0,0,0,0,0,0,0,0,0,0,0,0,0,0,0,0,0,0,0,0,0,0,0,0,0,0,0,0,0,0,0,0,0,0,0,0,0,0,0,0,0,0,0,0,0,0,0,0,0,0,0,0,0,0,0,0,0,0,0,0,0,0,0,0,0,0,0,0,0,0,0,0,0,0,0,0,0,0,0,0,0,0,0,0,0,0,0,0,0,0,0,0,0,0,0,0,0,0,0,0,0,0,0,0,0,0,0,0,0,0,0,0,0,0,0,0,0,0,0,0,0,0,0,0,0,0,0,0,0,0,0,0,0,0,0,0,0,0,0,0,0,0,0,0,0,0,0,0,0,0,0,0,0,0,0,0,0,0,0,0,0,0,0,0,0,0,0,0,0,0,0,0,0,0,0,0,0,0,0,0,0,0,0,0,0,0,0,0,0,0,0,0,0,0,0,0,0,0,0,0,0,0,0,0,0,0,0,0,0,0,0,0,0,0,0,0,0,0,0,0,0,0,0,0,0,0,0,0,0,0,0,0,0,0,0,0,0,0,0,0,0,0,0,0,0,0,0,0,0,0,0,0,0,0,0,0,0,0,0,0,0,0,0,0,0,0,0,0,0,0,0,0,0,0,0,0,0,0,0,0,0,0,0,0,0,0,0,0,0,0,0,0,0,0,0,0,0,0,0,0,0,0,0,0,0,0,0,0,0,0,0,0,0,0,0,0,0,0,0,0,0,0,0,0,0,0,0,0,0,0,0,0,0,0,0,0,0,0,0,0,0,0,0,0,0,0,0,0,0,0,0,0,0,0,0,0,0,0,0,0,0,0,0,0,0,0,0,0,0,0,0,0,0,0,0,0,0,0,0,0,0,0,0,0,0,0,0,0,0,0,0,0,0,0,0,0,0,0,0,0,0,0,0,0,0,0,0,0,0,0,0,0,0,0,0,0,0,0,0,0,0,0,0,0,0,0,0,0,0,0,0,0,0,0,0,0,0,0,0,0,0,0,0,0,0,0,0,0,0,0,0,0,0,0,0,0,0,0,0,0,0,0,0,0,0,0,0,0,0,0,0,0,0,0,0,0,0,0,0,0,0,0,0,0,0,0,0,0,0,0,0,0,0,0,0,0,0,0,0,0,0,0,0,0,0,0,0,0,0,0,0,0,0,0,0,0,0,0,0,0,0,0,0,0,0,0,0,0,0,0,0,0,0,0,0,0,0,0,0,0,0,0,0,0,0,0,0,0,0,0,0,0,0,0,0,0,0,0,0,0,0,0,0,0,0,0,0,0,0,0,0,0,0,0,0,0,0,0,0,0,0,0,0,0,0,0,0,0,0,0,0,0,0,0,0,0,0,0,0,0,0,0,0,0,0,0,0,0,0,0,0,0,0,0,0,0,0,0,0,0,0,0,0,0,0,0,0,0,0,0,0,0,0,0,0,0,0,0,0,0,0,0,0,0,0,0,0,0,0,0,0,0,0,0,0,0,0,0,0,0,0,0,0,0,0,0,0,0,0,0,0,0,0,0,0,0,0,0,0,0,0,0,0,0,0,0,0,0,0,0,0,0,0,0,0,0,0,0,0,0,0,0,0,0,0,0,0,0,0,0,0,0,0,0,0,0,0,0,0,0,0,0,0,0,0,0,0,0,0,0,0,0,0,0,0,0,0,0,0,0,0,0,0,0,0,0,0,0,0,0,0,0,0,0,0,0,0,0,0,0,0,0,0,0,0,0,0,0,0,0,0,0,0,0,0,0,0,0,0,0,0,0,0,0,0,0,0,0,0,0,0,0,0,0,0,0,0,0,0,0,0,0,0,0,0,0,0,0,0,0,0,0,0,0,0,0,0,0,0,0,0,0,0,0,0,0,0,0,0,0,0,0,0,0,0,0,0,0,0,0,0,0,0,0,0,0,0,0,0,0,0,0,0,0,0,0,0,0,0,0,0,0,0,0,0,0,0,0,0,0,0,0,0,0,0,0,0,0,0,0,0,0,0,0,0,0,0,0,0,0,0,0,0,0,0,0,0,0,0,0,0,0,0,0,0,0,0,0,0,0,0,0,0,0,0,0,0,0,0,0,0,0,0,0,0,0,0,0,0,0,0,0,0,0,0,0,0,0,0,0,0,0,0,0,0,0,0,0,0,0,0,0,0,0,0,0,0,0,0,0,0,0,0,0,0,0,0,0,0,0,0,0,0,0,0,0,0,0,0,0,0,0,0,0,0,0,0,0,0,0,0,0,0,0,0,0,0,0,0,0,0,0,0,0,0,0,0,0,0,0,0,0,0,0,0,0,0,0,0,0,0,0,0,0,0,0,0,0,0,0,0,0,0,0,0,0,0,0,0,0,0,0,0,0,0,0,0,0,0,0,0,0,0,0,0,0,0,0,0,0,0,0,0,0,0,0,0,0,0,0,0,0,0,0,0,0,0,0,0,0,0,0,0,0,0,0,0,0,0,0,0,0,0,0,0,0,0,0,0,0,0,0,0,0,0,0,0,0,0,0,0,0,0,0,0,0,0,0,0,0,0,0,0,0,0,0,0,0,0,0,0,0,0,0,0,0,0,0,0,0,0,0,0,0,0,0,0,0,0,0,0,0,0,0,0,0,0,0,0,0,0,0,0,0,0,0,0,0,0,0,0,0,0,0,0,0,0,0,0,0,0,0,0,0,0,0,0,0,0,0,0,0,0,0,0,0,0,0,0,0,0,0,0,0,0,0,0,0,0,0,0,0,0,0,0,0,0,0,0,0,0,0,0,0,0,0,0,0,0,0,0,0,0,0,0,0,0,0,0,0,0,0,0,0,0,0,0,0,0,0,0,0,0,0,0,0,0,0,0,0,0,0,0,0,0,0,0,0,0,0,0,0,0,0,0,0,0,0,0,0,0,0,0,0,0,0,0,0,0,0,0,0,0,0,0,0,0,0,0,0,0,0,0,0,0,0,0,0,0,0,0,0,0,0,0,0,0,0,0,0,0,0,0,0,0,0,0,0,0,0,0,0,0,0,0,0,0,0,0,0,0,0,0,0,0,0,0,0,0,0,0,0,0,0,0,0,0,0,0,0,0,0,0,0,0,0,0,0,0,0,0,0,0,0,0,0,0,0,0,0,0,0,0,0,0,0,0,0,0,0,0,0,0,0,0,0,0,0,0,0,0,0,0,0,0,0,0,0,0,0,0,0,0,0,0,0,0,0,0,0,0,0,0,0,0,0,0,0,0,0,0,0,0,0,0,0,0,0,0,0,0,0,0,0,0,0,0,0,0,0,0,0,0,0,0,0,0,0,0,0,0,0,0,0,0,0,0,0,0,0,0,0,0,0,0,0,0,0,0,0,0,0,0,0,0,0,0,0,0,0,0,0,0,0,0,0,0,0,0,0,0,0,0,0,0,0,0,0,0,0,0,0,0,0,0,0,0,0,0,0,0,0,0,0,0,0,0,0,0,0,0,0,0,0,0,0,0,0,0,0,0,0,0,0,0,0,0,0,0,0,0,0,0,0,0,0,0,0,0,0,0,0,0,0,0,0,0,0,0,0,0,0,0,0,0,0,0,0,0,0,0,0,0,0,0,0,0,0,0,0,0,0,0,0,0,0,0,0,0,0,0,0,0,0,0,0,0,0,0,0,0,0,0,0,0,0,0,0,0,0,0,0,0,0,0,0,0,0,0,0,0,0,0,0,0,0,0,0,0,0,0,0,0,0,0,0,0,0,0,0,0,0,0,0,0,0,0,0,0,0,0,0,0,0,0,0,0,0,0,0,0,0,0,0,0,0,0,0,0,0,0,0,0,0,0,0,0,0,0,0,0,0,0,0,0,0,0,0,0,0,0,0,0,0,0,0,0,0,0,0,0,0,0,0,0,0,0,0,0,0,0,0,0,0,0,0,0,0,0,0,0,0,0,0,0,0,0,0,0,0,0,0,0,0,0,0,0,0,0,0,0,0,0,0,0,0,0,0,0,0,0,0,0,0,0,0,0,0,0,0,0,0,0,0,0,0,0,0,0,0,0,0,0,0,0,0,0,0,0,0,0,0,0,0,0,0,0,0,0,0,0,0,0,0,0,0,0,0,0,0,0,0,0,0,0,0,0,0,0,0,0,0,0,0,0,0,0,0,0,0,0,0,0,0,0,0,0,0,0,0,0,0,0,0,0,0,0,0,0,0,0,0,0,0,0,0,0,0,0,0,0,0,0,0,0,0,0,0,0,0,0,0,0,0,0,0,0,0,0,0,0,0,0,0,0,0,0,0,0,0,0,0,0,0,0,0,0,0,0,0,0,0,0,0,0,0,0,0,0,0,0,0,0,0,0,0,0,0,0,0,0,0,0,0,0,0,0,0,0,0,0,0,0,0,0,0,0,0,0,0,0,0,0,0,0,0,0,0,0,0,0,0,0,0,0,0,0,0,0,0,0,0,0,0,0,0,0,0,0,0,0,0,0,0,0,0,0,0,0,0,0,0,0,0,0,0,0,0,0,0,0,0,0,0,0,0,0,0,0,0,0,0,0,0,0,0,0,0,0,0,0,0,0,0,0,0,0,0,0,0,0,0,0,0,0,0,0,0,0,0,0,0,0,0,0,0,0,0,0,0,0,0,0,0,0,0,0,0,0,0,0,0,0,0,0,0,0,0,0,0,0,0,0,0,0,0,0,0,0,0,0,0,0,0,0,0,0,0,0,0,0,0,0,0,0,0,0,0,0,0,0,0,0,0,0,0,0,0,0,0,0,0,0,0,0,0,0,0,0,0,0,0,0,0,0,0,0,0,0,0,0,0,0,0,0,0,0,0,0,0,0,0,0,0,0,0,0,0,0,0,0,0,0,0,0,0,0,0,0,0,0,0,0,0,0,0,0,0,0,0,0,0,0,0,0,0,0,0,0,0,0,0,0,0,0,0,0,0,0,0,0,0,0,0,0,0,0,0,0,0,0,0,0,0,0,0,0,0,0,0,0,0,0,0,0,0,0,0,0,0,0,0,0,0,0,0,0,0,0,0,0,0,0,0,0,0,0,0,0,0,0,0,0,0,0,0,0,0,0,0,0,0,0,0,0,0,0,0,0,0,0,0,0,0,0,0,0,0,0,0,0,0,0,0,0,0,0,0,0,0,0,0,0,0,0,0,0,0,0,0,0,0,0,0,0,0,0,0,0,0,0,0,0,0,0,0,0,0,0,0,0,0,0,0,0,0,0,0,0,0,0,0,0,0,0,0,0,0,0,0,0,0,0,0,0,0,0,0,0,0,0,0,0,0,0,0,0,0,0,0,0,0,0,0,0,0,0,0,0,0,0,0,0,0,0,0,0,0,0,0,0,0,0,0,0,0,0,0,0,0,0,0,0,0,0,0,0,0,0,0,0,0,0,0,0,0,0,0,0,0,0,0,0,0,0,0,0,0,0,0,0,0,0,0,0,0,0,0,0,0,0,0,0,0,0,0,0,0,0,0,0,0,0,0,0,0,0,0,0,0,0,0,0,0,0,0,0,0,0,0,0,0,0,0,0,0,0,0,0,0,0,0,0,0,0,0,0,0,0,0,0,0,0,0,0,0,0,0,0,0,0,0,0,0,0,0,0,0,0,0,0,0,0,0,0,0,0,0,0,0,0,0,0,0,0,0,0,0,0,0,0,0,0,0,0,0,0,0,0,0,0,0,0,0,0,0,0,0,0,0,0,0,0,0,0,0,0,0,0,0,0,0,0,0,0,0,0,0,0,0,0,0,0],\"x0\":\" \",\"xaxis\":\"x\",\"y\":[122.53613666228647,17.83837056504599,11.957950065703022,127.36530880420499,61.333771353482256,118.52825229960578,0.7227332457293035,69.48094612352168,22.043363994743757,37.943495400788436,102.03679369250985,123.06176084099869,79.56636005256242,25.29566360052562,73.22601839684626,19.152431011826543,31.373193166885674,0.45992115637319314,1.8725361366622864,4.829172141918528,20.17082785808147,53.679369250985545,125.82128777923784,9.625492772667542,63.17345597897503,65.63731931668856,66.39290407358739,100.13140604467804,14.224704336399475,25.952693823915897,7.917214191852825,28.38370565045992,49.24441524310118,99.57293035479631,27.201051248357423,27.726675427069644,1.445466491458607,4.6320630749014455,54.204993429697765,25.854139290407357,1.9710906701708277,17.21419185282523,42.70696452036793,8.672798948751643,22.141918528252297,126.4454664914586,21.090670170827856,1.0840998685939554,7.588699080157687,27.201051248357423,45.86070959264126,37.516425755584756,127.69382391590013,29.467805519053876,29.00788436268068,33.8042049934297,41.52431011826544,65.40735873850197,61.333771353482256,31.898817345597895,0.8869908015768725,35.611038107752954,40.40735873850197,45.236530880420496,26.576872536136662,39.15900131406045,61.432325886990796,29.00788436268068,44.645203679369246,43.36399474375821,10.972404730617608,73.5545335085414,76.74113009198423,64.48751642575559,30.223390275952692,37.680683311432325,27.825229960578184,0.36136662286465177,54.007884362680684,9.198423127463863,10.446780551905388,12.056504599211562,8.04862023653088,127.33245729303547,37.97634691195795,42.08278580814717,22.010512483574242,14.45466491458607,27.792378449408673,69.84231274638633,91.75427069645204,29.59921156373193,29.96057818659658,10.019710906701707,35.05256241787122,117.24704336399473,50.9526938239159,26.346911957950066,16.031537450722734,65.63731931668856,10.74244415243101,17.279894875164256,10.413929040735873,1.1826544021024967,6.865965834428383,9.264126149802891,96.58344283837056,59.13272010512483,11.629434954007884,9.658344283837057,58.93561103810775,25.919842312746386,30.716162943495398,29.69776609724047,16.392904073587385,24.704336399474375,27.102496714848883,25.657030223390276,41.4257555847569,34.46123521681997,17.608409986859396,29.00788436268068,36.333771353482256,58.37713534822601,10.019710906701707,26.511169513797633,0.2628120893561104,10.052562417871222,33.73850197109067,106.07752956636004,111.30091984231274,29.664914586070957,8.935611038107753,108.37713534822602,41.59001314060447,128.41655716162944,46.747700394218136,123.12746386333771,69.84231274638633,44.283837056504595,79.5006570302234,38.07490144546649,30.28909329829172,50.06570302233902,1.7411300919842312,37.680683311432325,29.00788436268068,8.5742444152431,59.26412614980289,46.254927726675426,13.567674113009199,21.22207621550591,58.90275952693823,30.913272010512483,40.01314060446781,2.0696452036793693,28.942181340341655,50.32851511169513,27.989487516425754,104.99342969776609,5.978975032851511,76.64257555847568,1.6754270696452036,125.9855453350854,29.632063074901446,1.281208935611038,125.82128777923784,1.5111695137976346,60.74244415243101,128.67936925098553,8.21287779237845,11.038107752956636,25.657030223390276,29.96057818659658,30.420499342969777,82.16162943495401,126.77398160315374,21.353482260183966,11.892247043363994,58.47568988173456,33.44283837056504,16.4257555847569,125.78843626806832,36.4323258869908,13.797634691195794,30.781865965834427,6.3731931668856765,55.584756898817346,75.16425755584757,128.74507227332458,93.16688567674113,24.93429697766097,53.285151116951376,1.5440210249671484,30.55190538764783,5.519053876478318,8.015768725361367,125.62417871222075,38.83048620236531,34.32982917214192,29.86202365308804,0.0657030223390276,7.752956636005256,69.90801576872536,10.085413929040735,31.40604467805519,35.282522996057814,93.72536136662286,18.298291721419183,10.11826544021025,86.62943495400788,14.060446780551905,127.03679369250985,36.399474375821285,123.55453350854138,8.902759526938238,10.74244415243101,29.00788436268068,130.35479632063075,57.49014454664914,47.66754270696452,103.97503285151116,39.71747700394218,29.00788436268068,49.73718791064389,9.099868593955321,13.896189224704337,89.5203679369251,56.47174770039422,126.80683311432325,37.680683311432325,122.04336399474376,26.544021024967147,37.81208935611038,24.113009198423125,15.374507227332456,57.81865965834428,51.18265440210249,27.299605781865964,7.687253613666228,8.21287779237845,102.20105124835742,66.26149802890933,30.12483574244415,123.19316688567673,60.381077529566355,8.902759526938238,33.14717477003942,128.51511169513796,121.9119579500657,127.8909329829172,103.41655716162943,54.33639947437582,52.69382391590013,26.248357424441522,29.139290407358736,41.9185282522996,103.08804204993429,92.24704336399473,1.6754270696452036,1.149802890932983,79.0407358738502,37.614980289093296,18.593955321944808,0.657030223390276,24.802890932982915,5.124835742444152,133.1471747700394,14.684625492772668,9.986859395532194,30.157687253613666,29.402102496714846,19.678055190538764,125.85413929040736,40.83442838370565,20.565045992115635,20.66360052562418,51.77398160315374,37.187910643889616,121.4520367936925,33.50854139290407,20.105124835742444,128.87647831800263,65.21024967148489,127.03679369250985,22.24047306176084,33.37713534822602,49.60578186596583,7.128777923784494,75.68988173455979,0.6898817345597897,88.73193166885676,19.415243101182654,8.968462549277266,5.5847568988173455,15.210249671484888,25.328515111695136,93.72536136662286,19.38239159001314,48.02890932982917,29.730617608409986,126.97109067017082,25.03285151116951,36.16951379763469,30.157687253613666,30.157687253613666,73.0946123521682,38.534822601839686,33.3442838370565,30.847568988173453,126.60972404730617,57.58869908015768,124.50722733245729,28.777923784494085,106.86596583442838,40.83442838370565,51.77398160315374,41.16294349540079,97.10906701708278,37.089356110381075,27.233902759526938,58.63994743758212,34.32982917214192,112.81208935611038,52.26675427069645,30.453350854139288,42.70696452036793,15.932982917214192,31.044678055190538,17.969776609724047,12.352168199737187,40.76872536136662,14.224704336399475,68.13403416557162,8.245729303547963,1.609724047306176,8.935611038107753,7.917214191852825,16.98423127463863,37.71353482260184,24.638633377135346,17.57555847568988,65.2431011826544,48.12746386333771,103.44940867279894,131.83311432325885,24.901445466491456,29.00788436268068,56.14323258869908,45.729303547963205,107.8515111695138,39.65177398160315,40.83442838370565,44.448094612352165,53.679369250985545,28.679369250985545,15.374507227332456,11.038107752956636,27.069645203679368,11.432325886990801,3.1865965834428382,57.32588699080157,61.530880420499344,88.14060446780552,121.6819973718791,8.73850197109067,27.398160315374508,59.32982917214191,40.44021024967148,42.70696452036793,20.105124835742444,0.2956636005256242,33.93561103810775,1.2483574244415243,29.106438896189225,20.992115637319316,23.258869908015768,25.62417871222076,56.73455978975033,39.2904073587385,132.26018396846254,29.467805519053876,1.9710906701708277,48.02890932982917,19.185282522996058,20.565045992115635,53.383705650459916,12.3850197109067,1.609724047306176,52.233902759526934,125.85413929040736,123.52168199737187,18.626806833114323,29.00788436268068,34.00131406044678,38.042049934296976,10.151116951379763,32.95006570302234,44.710906701708275,65.21024967148489,8.081471747700395,6.438896189224704,49.96714848883048,16.327201051248355,60.939553219448094,39.94743758212878,127.33245729303547,22.339027595269382,37.220762155059134,0.22996057818659657,84.95400788436268,13.206307490144546,29.00788436268068,24.868593955321945,8.47568988173456,32.26018396846255,22.07621550591327,132.78580814717478,19.185282522996058,65.57161629434954,45.59789750328515,65.17739816031538,29.07358738501971,90.60446780551905,7.128777923784494,33.24572930354796,90.37450722733246,18.85676741130092,101.4454664914586,25.09855453350854,21.1892247043364,57.49014454664914,23.258869908015768,39.060446780551906,65.40735873850197,40.83442838370565,25.821287779237842,13.042049934296976,34.26412614980289,62.3850197109067,107.52299605781866,103.94218134034165,10.052562417871222,75.2628120893561,37.746386333771355,132.09592641261497,8.04862023653088,40.11169513797635,62.877792378449406,9.592641261498029,40.04599211563732,128.0880420499343,40.83442838370565,32.52299605781866,12.3850197109067,25.492772667542706,1.2155059132720105,109.46123521681997,25.558475689881732,21.517739816031536,120.59789750328514,124.57293035479631,41.9185282522996,40.83442838370565,33.31143232588699,57.32588699080157,29.07358738501971,23.324572930354794,54.50065703022339,68.5611038107753,52.299605781865964,95.20367936925098,99.14586070959264,11.235216819973719,25.03285151116951,128.02233902759525,42.93692509855453,32.95006570302234,109.2969776609724,26.21550591327201,111.00525624178712,26.084099868593952,55.45335085413929,27.102496714848883,27.43101182654402,19.97371879106439,125.39421813403416,35.08541392904073,5.256241787122208,40.86727989487516,26.149802890932982,8.869908015768726,15.210249671484888,67.70696452036793,35.11826544021025,125.85413929040736,38.23915900131406,40.14454664914586,127.59526938239158,55.059132720105126,52.52956636005256,54.96057818659658,28.679369250985545,25.26281208935611,31.208935611038108,43.495400788436264,59.95400788436268,31.6688567674113,30.650459921156372,64.68462549277267,9.921156373193167,32.09592641261498,9.658344283837057,40.14454664914586,120.36793692509855,41.52431011826544,38.43626806833114,0.0657030223390276,7.3258869908015765,34.62549277266754,49.70433639947437,0.1314060446780552,52.496714848883045,30.02628120893561,130.22339027595268,15.735873850197109,121.87910643889619,131.6360052562418,49.93429697766097,105.81471747700394,38.042049934296976,126.54402102496714,11.300919842312746,21.12352168199737,77.29960578186596,30.880420499342968,84.82260183968462,21.616294349540077,80.38764783180027,52.52956636005256,16.031537450722734,35.57818659658344,127.82522996057818,33.83705650459921,19.64520367936925,33.11432325886991,52.923784494086725,23.98160315374507,29.00788436268068,34.62549277266754,27.825229960578184,22.174770039421812,7.7858081471747695,65.37450722733246,43.232588699080154,32.91721419185282,34.49408672798948,25.164257555847566,58.44283837056504,111.9250985545335,86.13666228646517,42.57555847568988,0.6898817345597897,86.30091984231274,28.64651773981603,54.369250985545335,127.75952693823915,95.43363994743758,60.21681997371879,35.019710906701704,34.55978975032851,42.24704336399474,28.97503285151117,50.22996057818659,29.040735873850196,25.19710906701708,26.116951379763467,38.07490144546649,61.070959264126145,89.09329829172141,29.040735873850196,59.78975032851511,68.92247043363994,57.06307490144546,12.943495400788436,36.727989487516425,0.328515111695138,131.99737187910642,3.1865965834428382,15.341655716162943,38.469119579500656,128.41655716162944,34.82260183968462,37.450722733245726,34.88830486202365,131.11038107752955,22.07621550591327,28.515111695137975,65.27595269382391,87.31931668856767,51.51116951379763,132.03022339027595,17.904073587385017,74.24441524310117,20.105124835742444,25.919842312746386,40.37450722733246,61.333771353482256,64.35611038107753,134.36268068331142,37.056504599211564,32.45729303547963,56.47174770039422,36.333771353482256,122.40473061760841,18.593955321944808,31.208935611038108,126.97109067017082,44.185282522996054,122.3718791064389,14.947437582128778,38.30486202365309,11.300919842312746,12.155059132720105,68.00262812089356,40.17739816031537,58.44283837056504,0.42706964520367935,44.940867279894874,11.136662286465176,53.90932982917214,58.21287779237845,89.48751642575559,39.38896189224704,20.17082785808147,131.4388961892247,32.75295663600526,25.36136662286465,17.969776609724047,41.75427069645203,41.55716162943495,41.95137976346912,39.45466491458607,99.17871222076215,34.42838370565046,123.55453350854138,132.03022339027595,40.50591327201051,10.709592641261498,93.00262812089356,126.87253613666228,120.69645203679369,13.206307490144546,17.115637319316686,19.316688567674113,35.31537450722733,38.43626806833114,27.299605781865964,57.91721419185282,127.82522996057818,53.843626806833115,64.38896189224704,26.971090670170828,35.183968462549274,10.282522996057818,28.613666228646515,12.64783180026281,30.453350854139288,23.68593955321945,45.663600525624176,4.664914586070959,26.609724047306177,18.626806833114323,42.8712220762155,30.946123521681997,37.516425755584756,61.465177398160314,8.5742444152431,29.139290407358736,44.15243101182654,130.81471747700394,88.60052562417872,35.545335085413925,29.040735873850196,35.51248357424441,70.20367936925098,27.16819973718791,20.13797634691196,20.532194480946124,42.73981603153745,38.272010512483575,11.957950065703022,35.08541392904073,30.321944809461232,32.26018396846255,41.88567674113009,14.09329829172142,126.60972404730617,67.73981603153744,38.633377135348226,40.86727989487516,125.65703022339027,29.204993429697765,123.22601839684624,34.78975032851511,2.9566360052562417,42.73981603153745,45.105124835742444,29.17214191852825,43.331143232588694,18.035479632063073,29.00788436268068,7.752956636005256,33.18002628120893,28.318002628120894,30.55190538764783,36.202365308804204,44.973718791064385,126.4454664914586,29.59921156373193,10.709592641261498,13.074901445466491,40.99868593955322,36.10381077529566,65.40735873850197,42.73981603153745,26.084099868593952,28.8107752956636,7.128777923784494,11.300919842312746,0.164257555847569,38.07490144546649,18.331143232588698,42.8712220762155,44.612352168199735,26.05124835742444,45.302233902759525,35.019710906701704,84.23127463863338,15.243101182654401,66.16294349540078,26.248357424441522,35.709592641261494,34.85545335085414,48.48883048620236,29.106438896189225,11.333771353482259,131.53745072273324,42.83837056504599,38.206307490144546,26.21550591327201,15.078843626806833,40.67017082785808,32.3915900131406,38.83048620236531,21.911957950065702,32.22733245729303,128.90932982917212,10.578186596583443,20.203679369250985,52.79237844940867,129.0735873850197,81.47174770039422,1.1169513797634691,92.47700394218134,12.877792378449408,29.040735873850196,24.14586070959264,85.80814717477004,121.9119579500657,52.168199737187905,42.73981603153745,29.17214191852825,29.7634691195795,52.10249671484888,42.73981603153745,47.47043363994744,13.66622864651774,130.81471747700394,1.2483574244415243,52.299605781865964,121.78055190538764,120.7293035479632,51.28120893561103,66.26149802890933,40.44021024967148,22.634691195795007,131.73455978975034,29.204993429697765,9.559789750328514,21.090670170827856,123.45597897503285,127.00394218134034,12.253613666228645,9.329829172141919,18.823915900131404,128.6136662286465,8.180026281208935,37.516425755584756,56.14323258869908,33.5742444152431,39.98028909329829,29.204993429697765,63.5676741130092,26.938239159001313,38.009198423127465,93.8239159001314,40.27595269382392,42.83837056504599,51.971090670170824,70.17082785808147,23.19316688567674,37.319316688567675,18.331143232588698,121.87910643889619,10.085413929040735,129.5663600525624,129.5335085413929,35.41392904073587,21.517739816031536,9.95400788436268,35.282522996057814,122.76609724047306,102.43101182654402,35.05256241787122,42.24704336399474,71.78055190538764,75.7227332457293,25.131406044678055,30.354796320630747,42.21419185282523,65.63731931668856,29.17214191852825,18.232588699080157,27.43101182654402,5.7490144546649145,40.11169513797635,27.069645203679368,70.59789750328515,124.14586070959264,42.90407358738502,14.35611038107753,24.441524310118265,45.86070959264126,35.05256241787122,15.078843626806833,25.78843626806833,42.8712220762155,49.7700394218134,34.59264126149803,18.85676741130092,126.41261498028909,57.91721419185282,51.21550591327201,10.611038107752956,9.592641261498029,79.89487516425756,39.91458607095926,25.492772667542706,29.17214191852825,91.75427069645204,53.745072273324574,59.19842312746386,31.208935611038108,20.203679369250985,43.232588699080154,126.57687253613666,125.13140604467804,37.877792378449406,25.755584756898816,29.17214191852825,31.99737187910644,46.61629434954008,72.20762155059133,9.034165571616294,123.3574244415243,30.97897503285151,41.22864651773981,65.53876478318003,37.089356110381075,87.48357424441524,42.8712220762155,26.346911957950066,35.41392904073587,53.777923784494085,89.55321944809461,36.465177398160314,69.67805519053876,28.318002628120894,10.939553219448094,29.369250985545335,122.20762155059133,38.17345597897503,103.67936925098554,130.42049934296978,39.45466491458607,7.522996057818659,25.985545335085412,10.512483574244415,126.51116951379763,96.02496714848883,62.779237844940866,30.650459921156372,41.03153745072273,34.2969776609724,34.526938239159,1.8068331143232588,22.273324572930353,47.73324572930355,7.7858081471747695,56.93166885676741,7.260183968462549,125.45992115637318,42.90407358738502,61.596583442838366,84.95400788436268,29.204993429697765,10.972404730617608,27.792378449408673,127.1353482260184,89.42181340341655,41.06438896189225,65.44021024967148,81.99737187910644,23.68593955321945,33.04862023653088,51.116951379763464,74.37582128777923,71.84625492772668,40.50591327201051,123.45597897503285,42.21419185282523,19.185282522996058,41.72141918528252,109.19842312746385,33.93561103810775,16.09724047306176,40.01314060446781,110.41392904073587,31.800262812089354,35.019710906701704,117.34559789750328,36.957950065703024,43.69250985545335,65.37450722733246,54.993429697766096,32.95006570302234,37.516425755584756,37.54927726675427,42.54270696452036,14.159001314060447,46.222076215505915,35.67674113009198,43.42969776609724,31.24178712220762,12.844940867279893,61.333771353482256,7.851511169513797,34.82260183968462,9.888304862023652,27.069645203679368,0.328515111695138,134.26412614980288,56.04467805519054,81.70170827858081,0.19710906701708278,14.98028909329829,7.621550591327201,35.31537450722733,19.316688567674113,38.73193166885677,16.16294349540079,17.706964520367936,130.7818659658344,35.183968462549274,132.49014454664913,34.65834428383705,37.516425755584756,33.86990801576872,93.03547963206307,0.49277266754270693,35.183968462549274,38.5676741130092,18.331143232588698,127.3981603153745,48.39027595269382,80.4862023653088,19.678055190538764,48.78449408672799,50.45992115637319,86.62943495400788,32.06307490144547,26.31406044678055,11.366622864651774,77.75952693823916,38.92904073587385,0.19710906701708278,54.303547963206306,126.21550591327201,24.21156373193167,48.39027595269382,20.43363994743758,133.31143232588698,31.800262812089354,45.039421813403415,64.75032851511169,58.40998685939553,30.97897503285151,128.21944809461235,93.72536136662286,33.47568988173456,87.6149802890933,69.21813403416557,32.91721419185282,59.75689881734559,25.591327201051246,67.47700394218134,33.01576872536137,57.55584756898817,97.79894875164257,129.10643889618922,48.52168199737188,83.5742444152431,59.0670170827858,41.03153745072273,133.73850197109067,90.30880420499342,30.321944809461232,19.87516425755585,128.8107752956636,47.40473061760841,134.3298291721419,32.95006570302234,57.49014454664914,26.05124835742444,124.83574244415243,125.22996057818659,20.86070959264126,97.93035479632063,61.859395532194476,24.24441524310118,27.75952693823916,134.55978975032852,32.3915900131406,34.55978975032851,57.65440210249671,129.3363994743758,132.78580814717478,129.63206307490145,29.86202365308804,118.88961892247043,63.30486202365309,21.64914586070959,36.727989487516425,78.97503285151117,29.303547963206306,132.32588699080156,39.61892247043364,44.842312746386334,84.36268068331142,129.17214191852824,37.779237844940866,29.59921156373193,94.41524310118265,36.465177398160314,53.843626806833115,46.484888304862025,89.98028909329828,135.41392904073587,129.59921156373193,96.55059132720105,68.39684625492772,33.08147174770039,129.3035479632063,135.64388961892246,134.42838370565045,95.03942181340341,33.01576872536137,29.5335085413929,27.562417871222074,70.10512483574244,37.844940867279895,23.52168199737188,23.78449408672799,120.40078843626806,57.3915900131406,37.253613666228645,90.67017082785807,51.51116951379763,23.061760840998684,35.21681997371879,34.09986859395532,66.26149802890933,25.952693823915897,60.709592641261494,45.827858081471746,54.07358738501971,34.00131406044678,33.01576872536137,126.87253613666228,39.22470433639947,83.5742444152431,26.47831800262812,59.19842312746386,46.517739816031536,65.17739816031538,129.3035479632063,99.83574244415243,130.45335085413927,26.576872536136662,54.040735873850196,88.69908015768725,70.89356110381077,33.01576872536137,83.96846254927726,82.95006570302233,129.20499342969777,70.89356110381077,32.8515111695138,67.54270696452036,39.98028909329829,65.21024967148489,31.110381077529563,46.419185282522996,85.18396846254927,56.80026281208935,61.596583442838366,26.675427069645202,81.96452036793693,32.12877792378449,133.31143232588698,132.98291721419184,28.777923784494085,133.27858081471746,36.26806833114323,86.892247043364,53.383705650459916,83.44283837056504,34.2969776609724,35.15111695137976,23.390275952693823,53.515111695137975,39.2904073587385,35.972404730617605,131.66885676741128,39.2904073587385,37.877792378449406,29.993429697766096,57.16162943495401,130.2890932982917,47.99605781865966,133.0814717477004,130.9789750328515,70.4664914586071,128.74507227332458,46.71484888304862,47.83180026281209,133.96846254927726,134.8226018396846,90.7030223390276,46.71484888304862,135.61103810775296,102.29960578186596,72.83180026281208,125.19710906701708,136.53088042049933,58.24572930354796,35.90670170827858,57.75295663600525,38.69908015768725,43.52825229960578,126.54402102496714,133.27858081471746,41.39290407358738,120.0065703022339,92.96977660972405,39.2904073587385,19.97371879106439,127.00394218134034,42.77266754270696,43.98817345597897,135.38107752956634,28.843626806833115,111.66228646517739,101.05124835742444,131.73455978975034,39.5203679369251,26.511169513797633,132.49014454664913,69.21813403416557,37.3850197109067,32.12877792378449,44.612352168199735,83.44283837056504,126.41261498028909,34.75689881734559,135.0197109067017,74.34296977660972,35.972404730617605,97.17477003942182,135.64388961892246,44.086727989487514,78.84362680683311,25.065703022339026,133.50854139290408,35.31537450722733,70.2365308804205,38.83048620236531,131.8988173455979,51.28120893561103,127.03679369250985,25.26281208935611,27.233902759526938,20.795006570302235,46.156373193166885,47.53613666228647,38.60052562417871,19.250985545335084,61.990801576872535,27.233902759526938,69.21813403416557,20.49934296977661,39.68462549277267,72.93035479632063,66.688567674113,99.90144546649145,58.31143232588699,31.340341655716163,43.593955321944804,38.60052562417871,126.83968462549277,131.60315374507226,99.34296977660972,125.16425755584757,47.50328515111695,52.95663600525624,37.81208935611038,45.203679369250985,86.66228646517739,30.55190538764783,129.17214191852824,33.01576872536137,95.0065703022339,38.50197109067017,21.02496714848883,130.51905387647832,42.57555847568988,105.15768725361366,85.97240473061761,28.088042049934295,56.93166885676741,102.52956636005256,47.8646517739816,54.270696452036795,37.3850197109067,131.37319316688567,132.58869908015768,47.96320630749014,21.38633377135348,69.34954007884362,39.2904073587385,109.36268068331142,65.80157687253613,20.039421813403415,28.580814717477004,46.87910643889619,127.1353482260184,31.701708278580814,73.71879106438895,55.88042049934297,39.22470433639947,56.37319316688568,70.10512483574244,35.873850197109064,41.59001314060447,29.7634691195795,98.55453350854138,31.471747700394218,48.68593955321945,129.63206307490145,131.57030223390277,48.68593955321945,77.33245729303547,102.1353482260184,57.81865965834428,22.141918528252297,27.102496714848883,131.14323258869908,30.12483574244415,43.856767411300915,53.712220762155056,40.14454664914586,130.65045992115637,46.71484888304862,108.93561103810775,107.06307490144546,52.890932982917214,131.73455978975034,130.02628120893561,33.01576872536137,37.023653088042046,115.40735873850197,131.47174770039422,42.77266754270696,40.83442838370565,70.26938239159001,46.747700394218136,111.00525624178712,56.53745072273324,59.55978975032851,31.865965834428383,24.178712220762154,130.55190538764782,30.716162943495398,120.36793692509855,131.4388961892247,132.6544021024967,31.898817345597895,34.55978975032851,22.667542706964518,38.43626806833114,127.69382391590013,58.50854139290407,41.22864651773981,127.10249671484888,42.80551905387647,63.23915900131406,89.88173455978975,132.1287779237845,131.96452036793693,20.40078843626807,34.42838370565046,34.36268068331143,127.56241787122207,81.07752956636006,47.50328515111695,45.236530880420496,125.29566360052561,28.679369250985545,30.12483574244415,37.187910643889616,35.4796320630749,41.49145860709592,71.58344283837056,28.416557161629434,37.680683311432325,24.967148488830485,38.69908015768725,128.90932982917212,126.37976346911958,85.93955321944809,87.31931668856767,25.492772667542706,25.03285151116951,47.24047306176084,131.8988173455979,123.12746386333771,53.975032851511166,134.23127463863338,110.11826544021025,34.19842312746386,132.3587385019711,40.21024967148489,19.349540078843624,31.99737187910644,32.06307490144547,127.82522996057818,40.473061760841,30.354796320630747,113.99474375821288,38.206307490144546,22.667542706964518,130.74901445466492,42.3784494086728,51.379763469119574,124.73718791064388,60.183968462549274,36.990801576872535,104.66491458607095,22.404730617608408,112.81208935611038,131.4388961892247,47.79894875164258,37.680683311432325,133.67279894875165,53.120893561103806,47.24047306176084,130.02628120893561,131.24178712220763,33.01576872536137,49.83574244415243,75.7227332457293,130.88042049934296,94.3166885676741,49.47437582128778,101.31406044678054,46.71484888304862,58.14717477003942,23.0946123521682,95.20367936925098,85.7095926412615,47.010512483574246,49.24441524310118,55.88042049934297,23.587385019710904,85.4796320630749,74.67148488830486,44.546649145860705,22.996057818659658,129.86202365308804,35.84099868593955,54.7634691195795,122.83180026281208,19.11957950065703,128.38370565045992,74.40867279894874,33.11432325886991,59.16557161629435,119.71090670170827,45.795006570302235,50.52562417871222,64.0604467805519,27.398160315374508,39.78318002628121,33.90275952693824,136.2023653088042,44.710906701708275,27.266754270696453,21.97766097240473,106.14323258869908,36.793692509855454,137.9106438896189,38.69908015768725,20.203679369250985,45.762155059132716,24.014454664914584,57.06307490144546,35.67674113009198,34.82260183968462,64.94743758212877,38.3377135348226,130.94612352168198,69.21813403416557,119.48094612352168,23.127463863337713,94.54664914586071,79.56636005256242,33.01576872536137,58.24572930354796,129.36925098554534,73.98160315374507,21.353482260183966,30.683311432325887,76.97109067017082,34.36268068331143,125.65703022339027,129.63206307490145,24.67148488830486,69.57950065703022,38.30486202365309,30.453350854139288,57.09592641261498,58.54139290407358,19.678055190538764,33.01576872536137,23.52168199737188,36.235216819973715,43.52825229960578,23.751642575558474,30.781865965834427,29.993429697766096,26.642575558475688,27.266754270696453,48.55453350854139,46.71484888304862,112.08935611038108,129.59921156373193,42.64126149802891,131.14323258869908,72.73324572930355,73.5545335085414,46.71484888304862,39.5203679369251,131.73455978975034,102.03679369250985,38.633377135348226,57.98291721419185,47.30617608409987,41.49145860709592,33.11432325886991,43.95532194480946,136.07095926412615,29.303547963206306,30.321944809461232,129.79632063074902,37.286465177398156,128.51511169513796,87.97634691195795,89.75032851511169,31.57030223390276,42.90407358738502,33.86990801576872,126.80683311432325,39.35611038107753,96.71484888304862,86.07095926412615,21.45203679369251,135.11826544021025,49.50722733245729,69.84231274638633,32.32588699080158,29.139290407358736,46.090670170827856,38.370565045992116,56.50459921156373,26.47831800262812,48.19316688567674,33.01576872536137,117.77266754270696,25.821287779237842,127.03679369250985,130.45335085413927,39.71747700394218,45.69645203679369,129.63206307490145,37.844940867279895,114.09329829172141,29.730617608409986,69.21813403416557,103.87647831800263,114.61892247043363,85.28252299605782,133.0814717477004,57.91721419185282,45.43363994743758,75.45992115637318,44.842312746386334,85.87385019710906,95.59789750328515,25.52562417871222,125.62417871222075,103.08804204993429,130.45335085413927,97.56898817345598,129.36925098554534,35.57818659658344,58.31143232588699,39.35611038107753,24.50722733245729,129.89487516425754,69.053876478318,20.9592641261498,21.911957950065702,27.792378449408673,74.37582128777923,67.77266754270696,25.88699080157687,133.27858081471746,132.72010512483573,45.072273324572926,127.72667542706964,36.070959264126145,121.84625492772668,93.3311432325887,135.0197109067017,130.09198423127464,130.94612352168198,122.70039421813402,42.70696452036793,20.33508541392904,30.880420499342968,24.014454664914584,94.67805519053876,136.00525624178712,136.23521681997372,28.48226018396846,35.808147174770035,96.61629434954007,33.37713534822602,39.98028909329829,115.80157687253613,115.37450722733246,125.52562417871222,126.74113009198423,20.893561103810775,129.89487516425754,20.9592641261498,34.59264126149803,28.21944809461235,129.79632063074902,62.286465177398156,49.11300919842313,39.45466491458607,30.814717477003942,47.17477003942181,65.90013140604468,120.53219448094612,79.5006570302234,69.21813403416557,20.532194480946124,46.681997371879106,129.89487516425754,48.3245729303548,32.6215505913272,131.27463863337712,30.059132720105122,115.11169513797634,35.545335085413925,48.94875164257556,27.529566360052563,112.31931668856767,27.398160315374508,29.7634691195795,46.38633377135348,111.4323258869908,58.21287779237845,129.7634691195795,58.83705650459921,125.85413929040736,39.5203679369251,90.93298291721419,58.96846254927726,129.9934296977661,97.04336399474376,92.3784494086728,44.382391590013135,38.60052562417871,56.76741130091984,42.54270696452036,33.83705650459921,97.20762155059133,131.47174770039422,57.91721419185282,27.890932982917214,94.44809461235216,25.821287779237842,99.7700394218134,37.155059132720105,133.04862023653087,46.64914586070959,130.6833114323259,131.27463863337712,129.66491458607095,44.119579500657025,70.2365308804205,125.9855453350854,115.21024967148489,43.03547963206307,64.25755584756898,69.21813403416557,110.15111695137976,39.22470433639947,93.29829172141918,67.04993429697765,28.876478318002626,27.43101182654402,44.842312746386334,86.2023653088042,22.371879106438897,97.79894875164257,39.68462549277267,46.71484888304862,128.90932982917212,30.97897503285151,98.8173455978975,38.3377135348226,108.21287779237845,30.781865965834427,58.83705650459921,25.03285151116951,48.85019710906702,113.00919842312746,89.15900131406045,132.6544021024967,29.730617608409986,21.747700394218132,65.63731931668856,102.29960578186596,33.04862023653088,136.62943495400788,83.80420499342969,68.79106438896189,19.021024967148488,55.157687253613666,131.9316688567674,24.21156373193167,58.40998685939553,76.6754270696452,135.38107752956634,33.5742444152431,33.14717477003942,77.36530880420499,75.13140604467806,59.13272010512483,48.22601839684625,30.02628120893561,98.48883048620236,28.90932982917214,132.49014454664913,128.28515111695137,55.74901445466491,56.86596583442838,34.82260183968462,52.595269382391585,55.51905387647832,141.62286465177397,49.63863337713535,44.513797634691194,118.85676741130092,30.97897503285151,23.98160315374507,36.038107752956634,97.83180026281208,119.5466491458607,135.05256241787123,135.61103810775296,37.483574244415244,32.52299605781866,47.89750328515112,113.92904073587384,62.286465177398156,112.18791064388961,36.859395532194476,38.633377135348226,106.40604467805518,24.21156373193167,33.01576872536137,27.726675427069644,22.470433639947437,83.01576872536137,21.71484888304862,61.826544021024965,102.46386333771353,34.95400788436268,93.1011826544021,40.04599211563732,129.79632063074902,130.35479632063075,57.06307490144546,27.398160315374508,26.839684625492772,51.47831800262812,131.6360052562418,59.19842312746386,134.46123521681997,129.7634691195795,95.10512483574244,129.86202365308804,30.946123521681997,30.02628120893561,56.80026281208935,56.34034165571616,65.67017082785807,131.47174770039422,93.75821287779237,94.64520367936925,84.03416557161628,57.16162943495401,35.11826544021025,109.85545335085413,33.14717477003942,133.27858081471746,89.65177398160316,62.3850197109067,28.416557161629434,93.42969776609723,20.893561103810775,33.01576872536137,130.45335085413927,87.97634691195795,104.17214191852825,131.34034165571614,71.02496714848883,64.65177398160316,33.01576872536137,41.1957950065703,46.71484888304862,114.61892247043363,136.10381077529567,122.27332457293035,25.558475689881732,35.709592641261494,62.253613666228645,137.68068331143232,52.332457293035475,65.21024967148489,31.438896189224703,47.66754270696452,33.01576872536137,122.50328515111694,34.42838370565046,48.85019710906702,44.645203679369246,69.21813403416557,54.303547963206306,117.90407358738501,25.26281208935611,46.71484888304862,73.42312746386334,102.33245729303547,49.80289093298291,90.44021024967148,28.12089356110381,134.16557161629436,131.17608409986858,58.14717477003942,102.72667542706964,60.446780551905384,32.35873850197109,128.90932982917212,72.17477003942182,130.09198423127464,20.532194480946124,26.642575558475688,69.38239159001314,47.83180026281209,132.3587385019711,32.81865965834428,36.235216819973715,25.229960578186596,78.51511169513797,72.3718791064389,130.19053876478318,60.21681997371879,50.91984231274638,131.2089356110381,30.091984231274637,98.78449408672799,29.632063074901446,35.64388961892247,131.24178712220763,88.20630749014454,55.321944809461236,86.85939553219448,36.563731931668855,105.51905387647831,25.03285151116951,29.040735873850196,81.50459921156373,130.58475689881735,80.68331143232588,34.26412614980289,92.11563731931669,64.88173455978975,89.42181340341655,33.27858081471748,67.47700394218134,35.2496714848883,39.98028909329829,131.4388961892247,132.95006570302235,78.54796320630749,86.16951379763469,61.235216819973715,72.60183968462549,74.24441524310117,19.97371879106439,38.042049934296976,29.664914586070957,38.60052562417871,36.00525624178712,34.06701708278581,33.5742444152431,81.11038107752957,32.3915900131406,23.98160315374507,134.55978975032852,76.70827858081472,135.9724047306176,132.32588699080156,56.30749014454665,112.97634691195795,136.30091984231274,51.01839684625492,131.73455978975034,131.34034165571614,132.8515111695138,30.256241787122207,131.37319316688567,38.07490144546649,135.84099868593955,37.64783180026281,28.055190538764784,69.34954007884362,60.381077529566355,101.64257555847568,63.43626806833114,70.26938239159001,32.91721419185282,29.369250985545335,133.96846254927726,110.0197109067017,133.24572930354796,29.7634691195795,130.9789750328515,35.34822601839684,69.08672798948751,101.31406044678054,129.79632063074902,33.01576872536137,98.12746386333771,66.29434954007884,30.190538764783177,135.64388961892246,38.3377135348226,36.925098554533506,30.650459921156372,71.4520367936925,31.83311432325887,48.06176084099869,129.66491458607095,131.24178712220763,23.0946123521682,131.4388961892247,32.35873850197109,21.944809461235216,131.60315374507226,55.55190538764783,68.92247043363994,55.09198423127464,55.68331143232589,50.9526938239159,79.17214191852825,54.139290407358736,131.37319316688567,32.45729303547963,35.84099868593955,29.17214191852825,42.18134034165571,90.2431011826544,54.270696452036795,37.91064388961892,52.20105124835742,63.23915900131406,30.02628120893561,102.1353482260184,84.69119579500656,62.74638633377135,23.061760840998684,33.01576872536137,52.890932982917214,130.4862023653088,109.59264126149803,56.60315374507227,58.54139290407358,130.7161629434954,69.21813403416557,57.6215505913272,37.746386333771355,44.021024967148485,86.62943495400788,19.48094612352168,87.25361366622865,84.59264126149803,33.63994743758213,129.5335085413929,73.02890932982918,53.153745072273324,123.42312746386334,86.16951379763469,76.77398160315374,127.52956636005256,25.854139290407357,39.5203679369251,131.86596583442838,46.71484888304862,127.1353482260184,38.43626806833114,44.645203679369246,32.09592641261498,75.0,96.61629434954007,45.302233902759525,40.40735873850197,38.534822601839686,130.94612352168198,129.5663600525624,59.03416557161629,28.74507227332457,21.97766097240473,60.808147174770035,85.80814717477004,129.0735873850197,38.633377135348226,21.81340341655716,95.4993429697766,130.51905387647832,34.39553219448094,67.50985545335085,104.50065703022338,125.68988173455979,83.5742444152431,95.30223390275953,29.467805519053876,41.55716162943495,50.03285151116951,127.03679369250985,129.7634691195795,74.70433639947437,113.50197109067017,41.81997371879106,31.800262812089354,135.64388961892246,58.24572930354796,44.645203679369246,39.81603153745072,130.0591327201051,29.07358738501971,40.04599211563732,45.663600525624176,131.01182654402103,97.43758212877792,37.516425755584756,45.69645203679369,56.96452036793692,53.482260183968464,28.777923784494085,100.09855453350853,53.876478318002626,59.36268068331143,110.34822601839684,131.01182654402103,21.419185282522996,66.75427069645204,54.369250985545335,57.22733245729303,21.1892247043364,105.71616294349539,46.71484888304862,126.77398160315374,124.93429697766096,129.3363994743758,130.02628120893561,129.86202365308804,129.86202365308804,34.00131406044678,37.844940867279895,27.792378449408673,122.07621550591327,38.66622864651774,23.587385019710904,56.40604467805519,58.08147174770039,51.31406044678055,34.69119579500657,23.488830486202364,48.55453350854139,107.45729303547962,24.014454664914584,78.02233902759527,135.2496714848883,25.821287779237842,57.03022339027595,27.036793692509853,38.370565045992116,136.03810775295662,72.56898817345598,104.7634691195795,55.78186596583443,101.01839684625493,30.650459921156372,78.48226018396846,71.74770039421813,20.006570302233904,46.02496714848883,131.73455978975034,128.25229960578187,124.83574244415243,127.23390275952693,128.1208935611038,26.248357424441522,35.545335085413925,26.084099868593952,37.81208935611038,38.534822601839686,60.183968462549274,40.57161629434954,20.532194480946124,39.78318002628121,33.01576872536137,45.203679369250985,32.72010512483574,68.19973718791064,60.446780551905384,19.021024967148488,69.38239159001314,130.32194480946123,27.59526938239159,46.71484888304862,70.69645203679369,88.17345597897503,122.14191852825229,46.71484888304862,104.3035479632063,23.751642575558474,30.321944809461232,78.15374507227332,20.893561103810775,24.67148488830486,135.5124835742444,24.342969776609724,30.683311432325887,138.107752956636,131.80026281208936,71.55059132720105,129.82917214191852,64.19185282522996,69.18528252299606,116.95137976346912,57.78580814717477,130.7818659658344,123.32457293035479,65.44021024967148,71.58344283837056,133.50854139290408,38.66622864651774,83.40998685939553,36.990801576872535,36.300919842312744,43.068331143232584,35.84099868593955,133.90275952693824,58.1143232588699,55.91327201051248,53.383705650459916,104.43495400788436,127.06964520367936,135.34822601839684,127.75952693823915,55.74901445466491,28.088042049934295,128.87647831800263,84.26412614980289,130.81471747700394,34.49408672798948,30.059132720105122,33.01576872536137,31.077529566360052,128.51511169513796,20.9592641261498,22.371879106438897,29.43495400788436,21.55059132720105,33.01576872536137,73.19316688567673,132.49014454664913,21.616294349540077,37.877792378449406,61.366622864651774,65.60446780551905,53.745072273324574,42.18134034165571,41.32720105124836,49.67148488830486,35.08541392904073,83.01576872536137,114.58607095926412,130.45335085413927,104.89487516425756,131.50459921156371,19.678055190538764,37.483574244415244,72.70039421813404,127.56241787122207,51.708278580814714,136.6951379763469,35.38107752956636,41.03153745072273,49.96714848883048,33.01576872536137,59.46123521681997,130.9132720105125,89.42181340341655,121.05781865965834,130.22339027595268,125.75558475689881,28.416557161629434,26.018396846254927,133.8042049934297,24.375821287779235,43.331143232588694,35.41392904073587,47.56898817345598,42.57555847568988,32.52299605781866,77.8580814717477,80.55190538764784,133.96846254927726,30.519053876478317,130.32194480946123,27.890932982917214,20.76215505913272,41.09724047306176,89.58607095926412,105.2562417871222,129.5335085413929,133.77135348226017,135.61103810775296,23.817345597897503,60.381077529566355,53.449408672798945,85.18396846254927,36.202365308804204,112.28646517739816,127.98948751642575,25.09855453350854,34.06701708278581,114.0604467805519,58.14717477003942,88.107752956636,33.01576872536137,32.16162943495401,26.05124835742444,39.91458607095926,125.29566360052561,33.01576872536137,27.069645203679368,131.47174770039422,49.7700394218134,58.14717477003942,33.01576872536137,134.62549277266754,131.80026281208936,117.47700394218134,46.419185282522996,31.176084099868593,131.83311432325885,111.26806833114323,31.99737187910644,40.80157687253614,44.349540078843624,40.21024967148489,57.85151116951379,45.302233902759525,80.61760840998686,45.729303547963205,40.21024967148489,64.48751642575559,133.0814717477004,120.56504599211563,126.87253613666228,20.69645203679369,72.3718791064389,24.014454664914584,122.14191852825229,130.2890932982917,52.69382391590013,37.155059132720105,86.10381077529566,131.8988173455979,58.93561103810775,131.8988173455979,54.07358738501971,101.54402102496715,105.68331143232588,41.95137976346912,30.847568988173453,23.258869908015768,127.33245729303547,57.22733245729303,132.6544021024967,134.16557161629436,69.41524310118265,39.2904073587385,36.563731931668855,90.07884362680683,130.74901445466492,33.44283837056504,128.51511169513796,59.592641261498024,36.16951379763469,132.98291721419184,24.014454664914584,35.57818659658344,22.831800262812088,39.22470433639947,47.53613666228647,129.73061760840997,128.8436268068331,63.73193166885677,112.58212877792378,41.1957950065703,56.60315374507227,29.96057818659658,33.01576872536137,20.893561103810775,67.04993429697765,36.892247043363994,125.2628120893561,74.01445466491458,50.78843626806833,129.82917214191852,65.67017082785807,33.18002628120893,60.808147174770035,72.40473061760841,24.40867279894875,22.831800262812088,45.992115637319316,62.056504599211564,30.354796320630747,66.26149802890933,39.84888304862024,61.826544021024965,37.844940867279895,131.4060446780552,54.007884362680684,36.498028909329825,78.21944809461235,59.46123521681997,35.67674113009198,42.18134034165571,22.766097240473062,108.90275952693824,91.55716162943494,35.611038107752954,81.60315374507228,135.80814717477003,131.01182654402103,135.41392904073587,137.1550591327201,21.419185282522996,129.9934296977661,52.95663600525624,23.554533508541393,129.9934296977661,29.927726675427067,104.20499342969777,69.21813403416557,53.416557161629434,46.71484888304862,29.50065703022339,129.43495400788436,64.68462549277267,99.14586070959264,132.29303547963207,23.94875164257556,68.36399474375821,33.77135348226018,27.792378449408673,88.89618922470433,112.41787122207622,57.52299605781866,100.49277266754271,35.31537450722733,46.94480946123522,26.642575558475688,69.2838370565046,58.80420499342969,44.448094612352165,131.04467805519053,22.897503285151117,130.94612352168198,25.229960578186596,22.700394218134033,28.64651773981603,19.513797634691194,38.633377135348226,22.831800262812088,90.9658344283837,128.3508541392904,68.88961892247043,34.00131406044678,33.01576872536137,108.67279894875163,68.5611038107753,53.777923784494085,118.16688567674113,121.94480946123521,131.17608409986858,38.272010512483575,41.49145860709592,68.42969776609723,79.10643889618922,135.38107752956634,135.57818659658344,111.16951379763469,36.498028909329825,29.86202365308804,31.537450722733244,33.01576872536137,64.88173455978975,117.21419185282522,31.110381077529563,101.11695137976346,30.12483574244415,27.135348226018397,44.15243101182654,41.59001314060447,38.30486202365309,39.060446780551906,36.925098554533506,43.922470433639944,23.98160315374507,55.12483574244415,131.4388961892247,136.76084099868592,36.596583442838366,34.23127463863337,43.823915900131404,45.269382391590014,126.87253613666228,132.06307490144548,28.350854139290405,20.105124835742444,35.38107752956636,124.50722733245729,33.01576872536137,130.45335085413927,71.94480946123521,24.704336399474375,128.97503285151117,92.04993429697765,44.053876478318,98.94875164257556,119.94086727989487,36.136662286465175,63.469119579500656,24.342969776609724,114.48751642575559,38.96189224704336,28.843626806833115,137.25361366622863,35.21681997371879,69.21813403416557,19.612352168199735,130.2890932982917,97.01051248357425,45.335085413929036,36.235216819973715,27.299605781865964,36.662286465177395,46.71484888304862,126.4454664914586,91.1957950065703,29.17214191852825,129.3035479632063,33.04862023653088,135.0197109067017,97.24047306176084,27.75952693823916,129.3363994743758,133.24572930354796,55.02628120893561,64.75032851511169,132.09592641261497,60.972404730617605,95.53219448094612,99.2772667542707,134.49408672798947,40.21024967148489,77.23390275952694,23.35742444152431,119.11957950065703,126.54402102496714,88.96189224704337,99.44152431011827,135.5453350854139,131.14323258869908,132.6215505913272,30.584756898817343,30.256241787122207,84.98685939553219,38.76478318002628,37.614980289093296,78.97503285151117,96.1892247043364,26.576872536136662,74.24441524310117,104.50065703022338,137.22076215505913,29.566360052562416,46.71484888304862,53.745072273324574,39.78318002628121,42.70696452036793,29.040735873850196,27.562417871222074,115.37450722733246,78.05519053876478,43.19973718791064,96.4520367936925,39.02759526938239,40.04599211563732,26.182654402102497,63.370565045992116,22.174770039421812,128.97503285151117,53.810775295663596,76.08409986859395,78.90932982917214,130.12483574244413,31.274638633377133,131.83311432325885,37.582128777923785,130.4862023653088,69.7437582128778,133.01576872536137,45.170827858081466,32.42444152431012,33.01576872536137,59.0670170827858,36.727989487516425,69.21813403416557,34.2969776609724,54.040735873850196,32.68725361366623,29.467805519053876,60.446780551905384,40.50591327201051,44.349540078843624,57.49014454664914,87.08935611038108,63.96189224704336,108.93561103810775,40.27595269382392,34.32982917214192,73.5545335085414,19.316688567674113,120.69645203679369,126.08409986859395,131.4388961892247,55.45335085413929,56.96452036793692,31.110381077529563,19.940867279894874,31.143232588699078,133.73850197109067,37.12220762155059,29.730617608409986,29.86202365308804,21.45203679369251,48.48883048620236,87.31931668856767,47.04336399474376,130.7818659658344,38.83048620236531,41.68856767411301,53.318002628120894,76.1826544021025,55.7161629434954,43.29829172141918,31.93166885676741,85.87385019710906,36.465177398160314,129.36925098554534,64.58607095926412,26.839684625492772,42.1484888304862,91.13009198423127,132.6544021024967,130.94612352168198,108.47568988173455,36.333771353482256,28.843626806833115,58.60709592641261,76.97109067017082,38.96189224704336,125.75558475689881,68.5611038107753,28.777923784494085,28.71222076215506,36.826544021024965,23.52168199737188,36.760840998685936,25.328515111695136,35.446780551905384,33.01576872536137,24.342969776609724,119.61235216819973,91.36005256241786,126.05124835742444,130.7161629434954,95.59789750328515,126.34691195795006,55.42049934296978,59.2969776609724,69.21813403416557,121.55059132720105,73.52168199737187,32.81865965834428,93.06833114323258,133.01576872536137,47.76609724047306,39.68462549277267,55.74901445466491,21.583442838370566,26.116951379763467,59.03416557161629,107.81865965834427,45.466491458607095,63.00919842312746,47.83180026281209,130.45335085413927,19.250985545335084,129.3035479632063,125.52562417871222,40.17739816031537,116.65571616294349,36.00525624178712,111.82654402102496,71.22207621550591,44.283837056504595,47.07621550591327,81.89881734559789,130.9132720105125,46.71484888304862,132.52299605781866,90.2431011826544,29.07358738501971,33.11432325886991,124.73718791064388,25.591327201051246,35.019710906701704,124.60578186596582,88.7976346911958,49.01445466491458,35.775295663600524,32.6215505913272,22.339027595269382,19.87516425755585,60.21681997371879,126.14980289093297,78.8107752956636,86.13666228646517,38.042049934296976,30.55190538764783,122.43758212877792,71.6819973718791,34.92115637319316,77.69382391590013,133.90275952693824,33.01576872536137,32.55584756898817,56.4388961892247,62.74638633377135,130.02628120893561,37.056504599211564,49.63863337713535,53.482260183968464,23.0946123521682,42.41130091984231,64.88173455978975,107.26018396846254,78.71222076215506,24.704336399474375,78.48226018396846,133.31143232588698,29.993429697766096,22.174770039421812,129.40210249671483,37.746386333771355,57.12877792378449,41.98423127463863,37.582128777923785,32.8515111695138,73.78449408672799,31.24178712220762,129.7634691195795,46.71484888304862,36.235216819973715,28.153745072273324,39.09329829172142,66.62286465177398,69.11957950065703,69.7437582128778,29.632063074901446,33.01576872536137,126.57687253613666,42.44415243101182,79.0735873850197,58.77135348226018,70.33508541392904,33.01576872536137,119.64520367936925,30.749014454664913,59.09986859395532,30.28909329829172,86.79369250985545,131.50459921156371,21.48488830486202,22.568988173455978,31.208935611038108,43.69250985545335,22.568988173455978,34.95400788436268,57.19448094612352,62.71353482260184,53.712220762155056,27.16819973718791,125.68988173455979,47.50328515111695,26.839684625492772,90.30880420499342,46.583442838370566,132.06307490144548,40.86727989487516,135.31537450722732,108.96846254927726,82.78580814717476,131.47174770039422,72.47043363994743,53.350854139290405,130.55190538764782,78.3508541392904,33.01576872536137,21.320630749014455,115.17739816031536,33.01576872536137,77.59526938239159,68.46254927726675,69.25098554533508,33.01576872536137,34.75689881734559,101.83968462549277,42.11563731931669,19.021024967148488,63.89618922470434,128.64651773981603,65.2431011826544,36.202365308804204,56.76741130091984,105.2233902759527,112.74638633377135,126.80683311432325,47.60183968462549,131.66885676741128,65.57161629434954,38.69908015768725,28.153745072273324,46.38633377135348,44.776609724047304,108.31143232588698,37.779237844940866,73.32457293035479,106.80026281208936,33.01576872536137,39.15900131406045,53.712220762155056,41.45860709592641,107.03022339027595,33.73850197109067,44.842312746386334,23.850197109067015,25.0,61.10381077529566,40.21024967148489,68.88961892247043,51.83968462549277,47.17477003942181,104.73061760840999,19.152431011826543,112.05650459921156,48.91590013140604,130.65045992115637,100.78843626806832,135.742444152431,138.107752956636,42.31274638633377,24.67148488830486,125.68988173455979,96.25492772667542,89.61892247043363,22.273324572930353,53.022339027595265,53.416557161629434,21.55059132720105,28.055190538764784,37.450722733245726,65.99868593955321,24.7700394218134,20.367936925098554,38.206307490144546,62.3850197109067,43.62680683311432,127.20105124835742,19.678055190538764,132.09592641261497,37.12220762155059,47.43758212877792,41.06438896189225,53.252299605781864,92.50985545335085,27.16819973718791,53.580814717477004,20.76215505913272,90.93298291721419,31.471747700394218,134.69119579500656,51.93823915900131,133.21287779237844,72.50328515111696,127.26675427069645,69.15243101182654,19.54664914586071,123.32457293035479,48.45597897503285,54.59921156373193,57.45729303547963,33.8042049934297,79.17214191852825,49.67148488830486,61.235216819973715,22.437582128777922,61.498028909329825,36.070959264126145,55.7161629434954,75.03285151116951,26.116951379763467,130.2562417871222,128.97503285151117,36.826544021024965,53.777923784494085,38.534822601839686,27.398160315374508,126.14980289093297,53.843626806833115,35.90670170827858,137.28646517739816,124.86859395532194,40.17739816031537,57.75295663600525,19.152431011826543,134.49408672798947,127.59526938239158,21.28777923784494,29.106438896189225,135.64388961892246,35.183968462549274,105.2233902759527,131.7017082785808,32.32588699080158,112.8777923784494,85.38107752956635,113.50197109067017,66.1957950065703,127.82522996057818,130.9789750328515,98.12746386333771,39.5203679369251,42.24704336399474,118.1340341655716,43.98817345597897,38.206307490144546,135.9724047306176,90.93298291721419,20.13797634691196,25.52562417871222,95.53219448094612,60.21681997371879,31.800262812089354,31.340341655716163,95.79500657030223,33.01576872536137,135.80814717477003,44.448094612352165,56.93166885676741,21.780551905387647,21.747700394218132,62.54927726675427,125.75558475689881,42.47700394218134,80.946123521682,36.596583442838366,26.018396846254927,54.96057818659658,110.77529566360052,53.153745072273324,132.6544021024967,34.65834428383705,44.415243101182654,29.040735873850196,41.9185282522996,135.15111695137975,132.161629434954,53.285151116951376,39.5203679369251,48.06176084099869,52.69382391590013,137.71353482260184,132.09592641261497,41.29434954007884,62.352168199737186,21.090670170827856,49.40867279894875,35.775295663600524,32.81865965834428,29.00788436268068,125.52562417871222,134.19842312746385,31.701708278580814,98.71879106438895,39.42181340341656,57.19448094612352,130.45335085413927,82.62155059132719,103.81077529566359,134.92115637319316,33.01576872536137,64.35611038107753,64.12614980289094,28.876478318002626,31.471747700394218,20.039421813403415,33.01576872536137,131.8988173455979,47.60183968462549,52.890932982917214,129.63206307490145,42.60840998685939,30.157687253613666,20.466491458607095,83.86990801576871,68.88961892247043,130.9789750328515,34.42838370565046,126.24835742444152,128.8107752956636,136.1695137976347,55.12483574244415,126.51116951379763,53.613666228646515,115.30880420499342,26.511169513797633,130.35479632063075,35.64388961892247,25.03285151116951,37.97634691195795,44.710906701708275,79.63206307490144,129.59921156373193,117.67411300919842,40.53876478318003,134.88830486202366,57.45729303547963,99.5400788436268,88.14060446780552,59.13272010512483,29.96057818659658,36.333771353482256,24.14586070959264,123.45597897503285,131.27463863337712,40.99868593955322,64.75032851511169,26.412614980289092,61.202365308804204,81.53745072273324,123.75164257555846,117.01708278580814,69.21813403416557,85.57818659658344,41.55716162943495,76.41261498028909,124.37582128777923,121.25492772667542,42.21419185282523,50.62417871222076,131.04467805519053,120.89356110381077,25.131406044678055,57.09592641261498,45.466491458607095,122.76609724047306,86.4323258869908,36.300919842312744,75.7227332457293,29.993429697766096,35.775295663600524,23.291721419185283,138.27201051248358,89.98028909329828,113.30486202365309,135.05256241787123,31.898817345597895,135.11826544021025,41.13009198423127,96.25492772667542,58.37713534822601,23.817345597897503,95.53219448094612,136.76084099868592,133.24572930354796,45.466491458607095,33.04862023653088,91.16294349540078,20.466491458607095,125.13140604467804,27.628120893561103,60.019710906701704,60.446780551905384,33.01576872536137,29.993429697766096,129.40210249671483,134.88830486202366,98.29172141918528,26.281208935611037,38.66622864651774,24.57293035479632,70.9592641261498,121.32063074901446,128.90932982917212,24.31011826544021,92.67411300919842,27.95663600525624,129.86202365308804,110.21681997371878,34.39553219448094,78.28515111695138,41.22864651773981,101.80683311432325,98.39027595269383,29.27069645203679,39.060446780551906,83.60709592641261,87.25361366622865,44.842312746386334,26.938239159001313,129.40210249671483,129.96057818659656,131.66885676741128,56.50459921156373,29.369250985545335,19.021024967148488,54.894875164257556,37.3850197109067,38.83048620236531,41.22864651773981,21.780551905387647,114.81603153745071,131.27463863337712,63.107752956636006,66.06438896189225,25.62417871222076,47.04336399474376,99.21156373193166,130.0591327201051,32.55584756898817,76.41261498028909,38.07490144546649,30.059132720105122,134.69119579500656,30.354796320630747,60.51248357424441,43.068331143232584,21.45203679369251,25.45992115637319,33.27858081471748,51.77398160315374,115.27595269382391,33.93561103810775,133.90275952693824,131.01182654402103,126.37976346911958,38.40341655716163,38.370565045992116,34.00131406044678,33.01576872536137,137.1222076215506,46.71484888304862,54.040735873850196,37.056504599211564,59.82260183968462,47.93035479632063,62.056504599211564,135.31537450722732,48.12746386333771,63.27201051248357,115.34165571616293,122.99605781865965,104.92772667542707,32.16162943495401,135.57818659658344,114.02759526938239,132.55584756898816,131.8988173455979,35.019710906701704,42.77266754270696,127.46386333771353,131.27463863337712,97.79894875164257,33.01576872536137,107.32588699080158,118.75821287779237,20.795006570302235,102.29960578186596,57.42444152431012,136.03810775295662,28.71222076215506,44.875164257555845,135.41392904073587,45.269382391590014,36.530880420499344,19.513797634691194,35.05256241787122,32.09592641261498,34.06701708278581,85.64388961892247,129.17214191852824,96.4520367936925,26.544021024967147,29.23784494086728,37.64783180026281,53.975032851511166,101.37976346911958,130.7818659658344,127.26675427069645,45.269382391590014,135.0197109067017,131.11038107752955,20.59789750328515,25.131406044678055,131.2089356110381,37.54927726675427,36.333771353482256,132.03022339027595,107.09592641261497,33.21287779237845,131.50459921156371,132.161629434954,53.547963206307486,131.50459921156371,28.613666228646515,21.583442838370566,33.67279894875164,51.60972404730617,98.3574244415243,69.21813403416557,72.60183968462549,30.617608409986858,71.1892247043364,111.72798948751642,62.844940867279895,130.51905387647832,26.018396846254927,101.01839684625493,125.85413929040736,25.427069645203677,26.149802890932982,127.23390275952693,26.511169513797633,23.423127463863338,94.61235216819973,55.09198423127464,25.229960578186596,137.8777923784494,28.38370565045992,30.321944809461232,49.11300919842313,53.745072273324574,130.02628120893561,58.5742444152431,129.36925098554534,127.03679369250985,30.97897503285151,114.12614980289092,35.775295663600524,61.629434954007884,28.97503285151117,79.13929040735873,123.32457293035479,46.94480946123522,126.74113009198423,74.17871222076215,47.79894875164258,55.91327201051248,19.152431011826543,30.486202365308802,40.90013140604468,26.149802890932982,132.161629434954,53.482260183968464,32.95006570302234,96.97766097240472,29.796320630749012,94.61235216819973,29.86202365308804,53.515111695137975,129.10643889618922,24.901445466491456,97.86465177398159,126.60972404730617,38.206307490144546,31.471747700394218,45.893561103810775,86.33377135348226,28.843626806833115,103.41655716162943,126.34691195795006,132.55584756898816,33.67279894875164,135.41392904073587,49.57293035479632,27.562417871222074,32.6215505913272,34.23127463863337,134.49408672798947,31.176084099868593,130.0591327201051,131.4388961892247,35.545335085413925,58.44283837056504,84.23127463863338,129.7634691195795,66.91852825229961,26.47831800262812,20.532194480946124,109.26412614980289,44.31668856767411,35.67674113009198,113.17345597897503,33.70565045992115,126.31406044678054,26.544021024967147,98.75164257555848,129.0407358738502,130.19053876478318,46.02496714848883,36.00525624178712,57.45729303547963,113.69908015768725,25.229960578186596,22.733245729303547,39.35611038107753,89.0604467805519,30.650459921156372,36.859395532194476,33.01576872536137,49.01445466491458,33.47568988173456,129.36925098554534,73.29172141918528,34.92115637319316,89.38896189224704,131.86596583442838,129.69776609724047,84.00131406044677,43.95532194480946,35.38107752956636,81.99737187910644,28.318002628120894,126.4454664914586,42.18134034165571,51.905387647831795,31.208935611038108,54.204993429697765,37.877792378449406,54.69776609724047,46.71484888304862,135.15111695137975,99.24441524310117,124.47437582128778,103.28515111695137,113.66622864651774,38.40341655716163,35.972404730617605,19.90801576872536,133.31143232588698,21.02496714848883,37.516425755584756,22.207621550591327,127.79237844940867,73.42312746386334,33.11432325886991,41.9185282522996,47.109067017082786,131.96452036793693,37.023653088042046,27.8580814717477,30.946123521681997,128.44940867279894,28.97503285151117,105.84756898817345,133.21287779237844,32.95006570302234,130.22339027595268,73.88304862023652,29.139290407358736,129.50065703022338,57.81865965834428,37.877792378449406,21.81340341655716,44.57950065703022,67.57555847568987,132.75295663600525,33.31143232588699,120.59789750328514,59.855453350854134,131.80026281208936,70.43363994743758,42.04993429697766,48.16031537450723,48.94875164257556,37.187910643889616,33.01576872536137,38.83048620236531,26.773981603153743,74.01445466491458,61.530880420499344,95.86070959264126,28.580814717477004,116.9185282522996,84.26412614980289,47.8646517739816,81.01182654402102,129.3363994743758,119.7437582128778,68.79106438896189,58.21287779237845,70.4664914586071,42.04993429697766,77.98948751642575,47.96320630749014,38.5676741130092,63.50197109067017,40.14454664914586,22.601839684625492,40.34165571616294,135.11826544021025,130.9789750328515,33.24572930354796,33.01576872536137,46.71484888304862,129.82917214191852,43.922470433639944,46.87910643889619,21.02496714848883,53.777923784494085,88.43626806833115,39.19185282522996,57.19448094612352,22.24047306176084,34.526938239159,29.204993429697765,126.14980289093297,39.98028909329829,130.45335085413927,41.65571616294349,35.611038107752954,127.23390275952693,38.66622864651774,132.81865965834427,27.201051248357423,69.21813403416557,46.419185282522996,32.58869908015769,79.27069645203679,22.174770039421812,37.187910643889616,55.946123521682,135.11826544021025,131.7017082785808,92.08278580814716,125.19710906701708,21.02496714848883,40.83442838370565,64.42181340341655,24.967148488830485,33.01576872536137,129.13929040735874,23.98160315374507,135.90670170827858,44.678055190538764,23.88304862023653,30.12483574244415,63.042049934296976,131.14323258869908,85.93955321944809,61.793692509855454,71.25492772667542,83.8370565045992,36.662286465177395,64.84888304862024,67.6084099868594,35.05256241787122,27.792378449408673,131.4388961892247,106.86596583442838,126.08409986859395,130.19053876478318,38.3377135348226,111.16951379763469,81.9316688567674,127.06964520367936,133.24572930354796,33.18002628120893,52.95663600525624,53.350854139290405,57.42444152431012,130.45335085413927,22.536136662286463,53.022339027595265,58.14717477003942,47.1419185282523,43.46254927726675,136.10381077529567,129.36925098554534,38.73193166885677,59.526938239159,26.511169513797633,58.14717477003942,33.54139290407359,28.055190538764784,44.053876478318,30.716162943495398,131.86596583442838,21.320630749014455,36.16951379763469,30.28909329829172,84.32982917214191,25.492772667542706,131.24178712220763,41.78712220762155,28.153745072273324,124.5400788436268,66.81997371879106,131.11038107752955,38.272010512483575,91.59001314060447,127.03679369250985,94.02102496714849,126.74113009198423,21.02496714848883,21.02496714848883,125.9526938239159,46.156373193166885,128.8436268068331,134.36268068331142,45.006570302233904,31.800262812089354,30.321944809461232,22.963206307490143,30.781865965834427,132.3587385019711,77.23390275952694,21.81340341655716,132.75295663600525,136.62943495400788,131.86596583442838,62.450722733245726,93.95532194480946,138.3377135348226,111.46517739816031,28.21944809461235,46.71484888304862,39.48751642575559,35.4796320630749,60.118265440210244,46.057818659658345,77.56241787122207,29.369250985545335,47.96320630749014,46.71484888304862,72.56898817345598,129.7634691195795,119.44809461235216,36.760840998685936,44.086727989487514,80.45335085413929,37.516425755584756,52.923784494086725,37.943495400788436,129.63206307490145,22.24047306176084,83.90275952693824,23.0946123521682,107.26018396846254,135.5453350854139,45.466491458607095,30.091984231274637,67.18134034165571,137.1879106438896,28.843626806833115,27.95663600525624,56.24178712220762,129.50065703022338,91.49145860709592,137.3850197109067,77.82522996057818,118.03547963206307,56.73455978975033,66.52431011826543,33.01576872536137,110.05256241787121,44.349540078843624,39.35611038107753,134.7897503285151,136.23521681997372,129.10643889618922,48.88304862023653,83.21287779237845,126.18265440210249,66.13009198423127,46.71484888304862,20.893561103810775,19.152431011826543,83.01576872536137,55.321944809461236,40.93298291721419,69.67805519053876,51.77398160315374,45.663600525624176,131.8988173455979,134.65834428383704,131.60315374507226,129.86202365308804,23.423127463863338,35.05256241787122,28.153745072273324,131.57030223390277,27.529566360052563,45.203679369250985,130.9132720105125,134.69119579500656,129.63206307490145,21.057818659658345,48.71879106438896,30.091984231274637,79.63206307490144,36.629434954007884,46.97766097240473,129.3363994743758,41.22864651773981,62.155059132720105,93.98817345597897,56.86596583442838,47.63469119579501,47.010512483574246,113.99474375821288,104.96057818659658,135.41392904073587,133.31143232588698,133.47568988173455,109.92115637319316,21.55059132720105,45.236530880420496,66.09724047306176,131.47174770039422,135.11826544021025,55.28909329829172,98.19316688567673,30.749014454664913,40.86727989487516,30.97897503285151,34.06701708278581,19.053876478318003,128.67936925098553,51.83968462549277,103.15374507227332,57.3915900131406,77.46386333771353,57.03022339027595,20.76215505913272,53.613666228646515,43.72536136662286,34.82260183968462,28.055190538764784,141.1957950065703,38.14060446780552,123.78449408672799,31.24178712220762,42.60840998685939,129.9934296977661,126.11695137976346,134.7240473061761,63.3377135348226,111.9250985545335,66.75427069645204,61.26806833114323,33.27858081471748,39.5203679369251,57.85151116951379,60.2496714848883,96.05781865965834,38.07490144546649,43.068331143232584,129.82917214191852,52.989487516425754,48.29172141918528,21.419185282522996,130.94612352168198,53.088042049934295,128.15374507227332,33.11432325886991,111.62943495400788,127.06964520367936,108.37713534822602,40.90013140604468,75.62417871222075,48.68593955321945,80.84756898817345,133.5742444152431,126.18265440210249,36.333771353482256,44.875164257555845,64.88173455978975,106.50459921156373,131.11038107752955,125.13140604467804,26.806833114323258,38.83048620236531,83.21287779237845,33.14717477003942,25.26281208935611,86.99080157687253,51.83968462549277,97.83180026281208,64.09329829172141,129.36925098554534,130.09198423127464,135.15111695137975,131.60315374507226,95.30223390275953,131.27463863337712,84.78975032851511,45.532194480946124,21.353482260183966,34.26412614980289,57.09592641261498,62.97634691195795,26.773981603153743,31.76741130091984,64.02759526938239,34.88830486202365,119.84231274638633,27.266754270696453,133.93561103810774,35.545335085413925,41.26149802890933,129.73061760840997,129.3363994743758,129.86202365308804,42.47700394218134,134.23127463863338,30.880420499342968,27.726675427069644,131.30749014454665,90.21024967148489,21.156373193166885,129.40210249671483,40.21024967148489,79.99342969776609,30.059132720105122,20.17082785808147,56.76741130091984,69.053876478318,32.8515111695138,57.3915900131406,66.03153745072274,46.254927726675426,72.30617608409986,48.3245729303548,33.50854139290407,22.700394218134033,130.35479632063075,37.54927726675427,69.25098554533508,88.46911957950066,35.64388961892247,41.59001314060447,45.959264126149804,57.42444152431012,30.749014454664913,22.700394218134033,92.73981603153744,70.30223390275953,47.47043363994744,34.69119579500657,23.061760840998684,130.35479632063075,130.88042049934296,30.97897503285151,88.46911957950066,47.273324572930356,29.829172141918527,129.3035479632063,75.03285151116951,127.52956636005256,34.42838370565046,129.3363994743758,135.28252299605782,46.71484888304862,83.63994743758212,131.96452036793693,91.16294349540078,23.751642575558474,29.829172141918527,124.57293035479631,19.71090670170828,21.71484888304862,22.207621550591327,130.65045992115637,60.15111695137976,124.44152431011825,34.88830486202365,127.92378449408672,63.40341655716163,39.94743758212878,32.8515111695138,33.31143232588699,126.41261498028909,124.47437582128778,134.3298291721419,21.97766097240473,78.3180026281209,30.847568988173453,131.4388961892247,107.55584756898817,41.75427069645203,125.19710906701708,38.633377135348226,62.680683311432325,34.59264126149803,134.62549277266754,92.47700394218134,33.01576872536137,33.86990801576872,53.975032851511166,115.57161629434954,110.31537450722733,73.19316688567673,30.781865965834427,136.23521681997372,37.286465177398156,131.34034165571614,27.43101182654402,63.042049934296976,121.25492772667542,129.10643889618922,89.61892247043363,58.44283837056504,106.96452036793693,21.254927726675426,131.24178712220763,76.51116951379763,26.445466491458607,134.62549277266754,23.554533508541393,104.82917214191852,31.471747700394218,19.250985545335084,56.63600525624179,116.32720105124835,38.797634691195796,33.01576872536137,138.6333771353482,35.183968462549274,132.6215505913272,25.19710906701708,39.61892247043364,121.22207621550591,42.44415243101182,30.946123521681997,45.236530880420496,22.141918528252297,131.60315374507226,96.02496714848883,24.67148488830486,35.21681997371879,47.109067017082786,98.58738501971091,42.73981603153745,39.02759526938239,33.01576872536137,26.741130091984232,128.87647831800263,31.044678055190538,75.55847568988173,108.31143232588698,42.18134034165571,82.22733245729303,37.614980289093296,131.96452036793693,46.71484888304862,71.84625492772668,44.053876478318,37.877792378449406,93.5611038107753,25.919842312746386,111.33377135348225,127.59526938239158,129.36925098554534,129.63206307490145,22.733245729303547,31.734559789750328,132.55584756898816,21.944809461235216,126.87253613666228,32.8515111695138,68.39684625492772,71.61629434954007,40.9658344283837,125.9526938239159,31.471747700394218,59.75689881734559,30.190538764783177,107.81865965834427,103.21944809461235,33.11432325886991,66.06438896189225,24.704336399474375,47.66754270696452,62.286465177398156,65.30880420499342,123.19316688567673,36.00525624178712,89.71747700394218,126.37976346911958,44.809461235216816,132.03022339027595,89.98028909329828,87.77923784494087,124.83574244415243,33.83705650459921,130.9789750328515,39.22470433639947,41.75427069645203,53.580814717477004,137.71353482260184,128.94218134034165,97.3718791064389,47.109067017082786,33.01576872536137,104.92772667542707,129.10643889618922,46.71484888304862,130.55190538764782,126.9053876478318,126.87253613666228,135.05256241787123,25.03285151116951,127.10249671484888,130.35479632063075,137.81208935611036,36.793692509855454,122.53613666228647,77.56241787122207,130.7818659658344,29.040735873850196,23.850197109067015,126.14980289093297,62.582128777923785,70.17082785808147,101.08409986859395,36.990801576872535,89.15900131406045,28.613666228646515,129.36925098554534,24.93429697766097,123.88304862023652,129.10643889618922,40.63731931668857,33.50854139290407,30.519053876478317,31.964520367936924,65.86727989487517,37.023653088042046,111.99080157687253,23.0946123521682,78.51511169513797,26.642575558475688,131.60315374507226,37.97634691195795,25.854139290407357,38.60052562417871,59.19842312746386,76.9053876478318,61.530880420499344,27.33245729303548,30.716162943495398,26.971090670170828,89.58607095926412,29.796320630749012,24.802890932982915,127.66097240473061,129.9934296977661,31.438896189224703,52.858081471747695,46.71484888304862,101.97109067017082,124.04730617608409,128.8107752956636,48.39027595269382,67.54270696452036,130.84756898817346,32.3915900131406,131.11038107752955,19.97371879106439,132.32588699080156,40.90013140604468,134.36268068331142,33.27858081471748,69.21813403416557,29.50065703022339,53.285151116951376,130.94612352168198,56.47174770039422,107.78580814717476,43.068331143232584,36.69513797634691,134.3298291721419,70.43363994743758,33.01576872536137,131.50459921156371,32.68725361366623,132.3915900131406,128.67936925098553,107.81865965834427,67.8712220762155,35.08541392904073,31.701708278580814,129.9934296977661,24.24441524310118,33.01576872536137,48.55453350854139,127.06964520367936,66.65571616294349,114.15900131406045,64.75032851511169,45.006570302233904,44.283837056504595,29.50065703022339,66.59001314060447,39.02759526938239,124.7700394218134,134.65834428383704,24.67148488830486,130.12483574244413,35.05256241787122,34.85545335085414,36.727989487516425,35.90670170827858,29.07358738501971,135.28252299605782,36.10381077529566,76.47831800262811,129.13929040735874,20.532194480946124,121.94480946123521,51.4454664914586,45.795006570302235,40.14454664914586,55.584756898817346,56.60315374507227,136.76084099868592,50.16425755584757,120.7293035479632,74.40867279894874,39.12614980289093,27.726675427069644,37.64783180026281,24.901445466491456,49.11300919842313,56.57030223390276,61.695137976346906,50.39421813403416,130.74901445466492,62.582128777923785,39.09329829172142,41.88567674113009,134.65834428383704,133.93561103810774,132.58869908015768,131.24178712220763,28.8107752956636,55.12483574244415,31.044678055190538,34.46123521681997,128.8436268068331,30.12483574244415,130.32194480946123,48.52168199737188,87.18791064388961,35.611038107752954,35.38107752956636,22.897503285151117,138.30486202365307,59.2969776609724,71.48488830486203,131.14323258869908,131.14323258869908,26.116951379763467,37.023653088042046,27.69382391590013,126.05124835742444,52.989487516425754,25.7227332457293,34.85545335085414,30.519053876478317,136.9250985545335,137.6478318002628,39.48751642575559,58.40998685939553,108.60709592641261,130.02628120893561,40.73587385019711,115.70302233902758,38.43626806833114,20.006570302233904,132.58869908015768,131.01182654402103,68.06833114323258,128.97503285151117,131.6360052562418,101.7082785808147,85.18396846254927,25.854139290407357,129.43495400788436,29.86202365308804,62.844940867279895,50.0,24.40867279894875,131.7017082785808,28.153745072273324,91.88567674113008,78.08804204993429,20.9592641261498,34.16557161629435,46.9119579500657,40.17739816031537,35.4796320630749,43.068331143232584,34.13272010512483,29.664914586070957,36.465177398160314,48.62023653088042,46.517739816031536,134.42838370565045,131.4388961892247,29.43495400788436,71.15637319316689,69.21813403416557,42.54270696452036,38.3377135348226,90.17739816031538,129.9934296977661,103.08804204993429,128.71222076215506,34.526938239159,21.090670170827856,19.250985545335084,43.922470433639944,135.64388961892246,129.36925098554534,100.91984231274638,21.97766097240473,98.52168199737187,130.9132720105125,54.69776609724047,35.183968462549274,131.60315374507226,54.106438896189225,135.05256241787123,126.77398160315374,129.86202365308804,89.75032851511169,134.7240473061761,131.4060446780552,109.88830486202365,30.519053876478317,39.12614980289093,35.90670170827858,135.11826544021025,99.01445466491458,133.11432325886992,56.86596583442838,39.45466491458607,67.77266754270696,104.36925098554534,128.94218134034165,115.67017082785807,97.83180026281208,109.65834428383705,42.90407358738502,127.79237844940867,27.463863337713533,101.60972404730617,122.30617608409986,68.65965834428384,135.28252299605782,135.15111695137975,19.48094612352168,48.02890932982917,64.12614980289094,107.68725361366623,32.91721419185282,65.11169513797634,46.02496714848883,62.54927726675427,47.07621550591327,36.333771353482256,24.342969776609724,68.42969776609723,112.31931668856767,46.71484888304862,125.16425755584757,82.88436268068331,30.716162943495398,40.76872536136662,53.777923784494085,43.26544021024967,31.99737187910644,59.39553219448094,90.34165571616293,97.70039421813404,75.29566360052561,55.68331143232589,25.591327201051246,135.84099868593955,27.299605781865964,136.2023653088042,32.68725361366623,128.87647831800263,39.68462549277267,43.593955321944804,129.2706964520368,47.79894875164258,130.55190538764782,134.42838370565045,31.471747700394218,49.5400788436268,63.00919842312746,46.057818659658345,52.46386333771353,127.06964520367936,69.11957950065703,60.15111695137976,37.81208935611038,82.62155059132719,34.88830486202365,62.91064388961892,40.37450722733246,129.10643889618922,59.23127463863337,27.75952693823916,32.72010512483574,69.21813403416557,30.97897503285151,42.08278580814717,81.6688567674113,54.92772667542707,28.90932982917214,46.71484888304862,131.27463863337712,130.74901445466492,121.25492772667542,99.04730617608409,46.71484888304862,74.14586070959264,62.056504599211564,19.152431011826543,134.65834428383704,131.9316688567674,132.32588699080156,34.42838370565046,126.21550591327201,31.340341655716163,33.14717477003942,83.90275952693824,52.26675427069645,129.36925098554534,133.6070959264126,125.22996057818659,31.274638633377133,56.63600525624179,101.05124835742444,48.22601839684625,60.906701708278575,102.00394218134034,41.98423127463863,130.2890932982917,30.059132720105122,41.88567674113009,132.26018396846254,101.51116951379763,135.64388961892246,126.77398160315374,90.04599211563732,129.59921156373193,32.95006570302234,135.84099868593955,33.44283837056504,31.603153745072273,59.49408672798948,65.04599211563732,47.04336399474376,38.14060446780552,136.03810775295662,21.747700394218132,125.39421813403416,37.746386333771355,41.88567674113009,134.19842312746385,94.41524310118265,19.152431011826543,34.55978975032851,69.21813403416557,49.5400788436268,124.5400788436268,30.617608409986858,90.99868593955321,112.6149802890933,43.39684625492772,104.3035479632063,90.9658344283837,81.24178712220761,21.1892247043364,26.182654402102497,129.10643889618922,41.1957950065703,33.47568988173456,132.8843626806833,59.88830486202365,57.06307490144546,73.25886990801577,35.282522996057814,136.99080157687254,131.96452036793693,36.793692509855454,20.49934296977661,33.01576872536137,136.03810775295662,33.01576872536137,46.71484888304862,132.6544021024967,25.19710906701708,36.760840998685936,32.16162943495401,89.48751642575559,134.39553219448095,38.14060446780552,83.67279894875163,102.06964520367937,116.55716162943494,112.77923784494087,35.019710906701704,129.63206307490145,69.21813403416557,98.06176084099869,28.71222076215506,20.13797634691196,29.993429697766096,59.49408672798948,96.71484888304862,25.03285151116951,34.46123521681997,34.82260183968462,36.629434954007884,22.437582128777922,130.2562417871222,81.30749014454665,115.40735873850197,57.65440210249671,77.75952693823916,30.814717477003942,37.155059132720105,129.3363994743758,135.15111695137975,72.10906701708278,56.53745072273324,126.74113009198423,34.55978975032851,57.95006570302234,130.4862023653088,46.81340341655716,125.29566360052561,44.185282522996054,69.21813403416557,130.51905387647832,56.86596583442838,129.9934296977661,130.19053876478318,26.31406044678055,28.153745072273324,73.02890932982918,66.49145860709592,131.4060446780552,125.75558475689881,35.38107752956636,75.7227332457293,40.60446780551905,58.67279894875164,74.63863337713535,23.68593955321945,130.12483574244413,61.333771353482256,133.3442838370565,106.99737187910644,20.49934296977661,58.67279894875164,78.51511169513797,85.18396846254927,38.206307490144546,33.11432325886991,103.84362680683311,107.6544021024967,34.95400788436268,129.63206307490145,126.05124835742444,25.62417871222076,46.71484888304862,91.1957950065703,41.72141918528252,23.52168199737188,75.06570302233902,112.28646517739816,44.842312746386334,95.69645203679369,56.93166885676741,134.98685939553218,31.603153745072273,24.83574244415243,34.65834428383705,34.78975032851511,25.26281208935611,129.63206307490145,134.92115637319316,113.76478318002627,29.796320630749012,31.307490144546648,38.633377135348226,50.42706964520368,44.119579500657025,35.282522996057814,73.94875164257556,69.02102496714849,71.58344283837056,55.157687253613666,44.021024967148485,49.37582128777924,37.155059132720105,63.30486202365309,135.64388961892246,125.75558475689881,96.6819973718791,72.3718791064389,21.12352168199737,35.15111695137976,61.990801576872535,34.46123521681997,33.01576872536137,35.873850197109064,54.139290407358736,29.69776609724047,126.34691195795006,27.266754270696453,34.00131406044678,38.60052562417871,27.43101182654402,46.846254927726676,39.58607095926413,66.09724047306176,129.86202365308804,129.63206307490145,35.84099868593955,33.90275952693824,59.36268068331143,131.83311432325885,130.94612352168198,92.31274638633377,135.61103810775296,60.775295663600524,75.45992115637318,89.88173455978975,51.971090670170824,113.92904073587384,130.51905387647832,46.64914586070959,32.6215505913272,130.74901445466492,21.12352168199737,19.415243101182654,28.71222076215506,45.466491458607095,44.776609724047304,61.760840998685936,127.26675427069645,128.90932982917212,26.773981603153743,46.71484888304862,42.67411300919842,60.643889618922465,44.710906701708275,57.75295663600525,23.390275952693823,130.7818659658344,61.070959264126145,114.58607095926412,22.141918528252297,25.26281208935611,69.21813403416557,28.777923784494085,133.73850197109067,78.94218134034165,40.80157687253614,39.98028909329829,35.282522996057814,73.98160315374507,40.90013140604468,34.46123521681997,35.90670170827858,36.990801576872535,39.060446780551906,22.700394218134033,27.660972404730618,136.2023653088042,39.98028909329829,132.1287779237845,130.32194480946123,135.742444152431,127.69382391590013,139.4875164257556,136.30091984231274,130.6833114323259,60.611038107752954,34.46123521681997,36.00525624178712,133.67279894875165,131.60315374507226,24.0473061760841,126.08409986859395,73.52168199737187,73.02890932982918,133.0814717477004,133.11432325886992,44.448094612352165,38.60052562417871,58.90275952693823,58.14717477003942,129.13929040735874,64.98028909329828,24.50722733245729,26.379763469119577,45.006570302233904,42.70696452036793,85.41392904073587,61.859395532194476,59.72404730617608,57.26018396846255,66.72141918528251,44.086727989487514,85.51248357424441,42.64126149802891,61.300919842312744,111.03810775295663,129.9934296977661,38.73193166885677,130.0591327201051,21.780551905387647,40.17739816031537,40.21024967148489,38.797634691195796,103.84362680683311,52.20105124835742,64.25755584756898,19.54664914586071,26.576872536136662,131.4060446780552,54.007884362680684,47.63469119579501,61.760840998685936,72.56898817345598,21.64914586070959,23.160315374507228,33.01576872536137,41.45860709592641,36.859395532194476,31.373193166885674,84.46123521681997,118.72536136662286,101.37976346911958,26.084099868593952,21.28777923784494,131.4388961892247,38.797634691195796,48.25886990801577,46.71484888304862,43.88961892247043,127.46386333771353,135.34822601839684,28.252299605781864,132.3587385019711,126.4454664914586,31.701708278580814,48.0946123521682,68.49540078843627,25.45992115637319,47.47043363994744,28.28515111695138,53.482260183968464,36.235216819973715,24.014454664914584,134.65834428383704,20.40078843626807,30.321944809461232,105.946123521682,65.83442838370564,73.02890932982918,25.03285151116951,39.68462549277267,34.09986859395532,81.83311432325887,48.42312746386334,66.98423127463863,83.67279894875163,54.139290407358736,86.99080157687253,41.65571616294349,33.01576872536137,19.38239159001314,33.01576872536137,35.84099868593955,134.23127463863338,64.65177398160316,46.38633377135348,39.060446780551906,35.019710906701704,22.371879106438897,34.72404730617608,30.02628120893561,41.88567674113009,31.176084099868593,30.453350854139288,21.97766097240473,25.36136662286465,53.876478318002626,45.006570302233904,29.139290407358736,19.415243101182654,57.06307490144546,83.37713534822602,114.09329829172141,23.52168199737188,108.96846254927726,42.11563731931669,69.21813403416557,37.12220762155059,90.76872536136662,27.43101182654402,130.51905387647832,41.68856767411301,23.35742444152431,56.96452036793692,28.942181340341655,38.40341655716163,35.84099868593955,59.00131406044678,41.26149802890933,130.74901445466492,50.22996057818659,33.01576872536137,22.733245729303547,42.80551905387647,44.842312746386334,95.99211563731932,86.85939553219448,68.88961892247043,36.530880420499344,47.76609724047306,39.2904073587385,41.39290407358738,134.36268068331142,22.601839684625492,47.8646517739816,46.71484888304862,133.77135348226017,50.75558475689881,40.90013140604468,109.26412614980289,28.843626806833115,71.61629434954007,57.49014454664914,137.1222076215506,39.68462549277267,129.63206307490145,34.62549277266754,129.86202365308804,31.83311432325887,23.653088042049934,128.71222076215506,42.34559789750328,112.54927726675426,29.69776609724047,55.7161629434954,132.95006570302235,135.38107752956634,35.67674113009198,20.17082785808147,127.66097240473061,19.185282522996058,58.70565045992115,137.1879106438896,65.01314060446781,75.75558475689881,45.105124835742444,33.11432325886991,25.821287779237842,135.61103810775296,46.71484888304862,136.03810775295662,131.66885676741128,38.797634691195796,21.583442838370566,118.36399474375821,63.96189224704336,47.73324572930355,33.01576872536137,130.7161629434954,57.68725361366623,105.91327201051249,125.42706964520367,132.32588699080156,20.105124835742444,41.62286465177398,71.84625492772668,33.01576872536137,97.66754270696451,132.8843626806833,56.11038107752957,27.266754270696453,132.32588699080156,112.28646517739816,49.96714848883048,29.96057818659658,138.23915900131405,36.300919842312744,34.09986859395532,37.155059132720105,21.22207621550591,21.97766097240473,131.66885676741128,26.47831800262812,23.160315374507228,66.1957950065703,58.18002628120893,133.01576872536137,131.6360052562418,39.25755584756899,129.3363994743758,45.795006570302235,32.6215505913272,30.354796320630747,42.67411300919842,41.72141918528252,94.3166885676741,49.0473061760841,45.959264126149804,19.021024967148488,121.48488830486203,24.21156373193167,28.21944809461235,127.26675427069645,130.9789750328515,131.80026281208936,130.81471747700394,132.52299605781866,129.50065703022338,104.36925098554534,63.43626806833114,72.27332457293035,129.2706964520368,45.762155059132716,127.75952693823915,37.12220762155059,32.55584756898817,44.283837056504595,69.08672798948751,124.57293035479631,75.9855453350854,127.03679369250985,131.4060446780552,82.3915900131406,39.32325886990802,75.09855453350853,26.31406044678055,115.27595269382391,19.316688567674113,129.66491458607095,130.51905387647832,97.14191852825229,35.446780551905384,81.37319316688567,47.73324572930355,68.1011826544021,66.13009198423127,72.14191852825229,131.86596583442838,70.03942181340341,130.7161629434954,136.1695137976347,67.8712220762155,46.71484888304862,27.989487516425754,33.01576872536137,128.94218134034165,22.207621550591327,53.975032851511166,133.54139290407358,30.059132720105122,35.709592641261494,129.96057818659656,34.19842312746386,37.516425755584756,130.0591327201051,130.2890932982917,128.21944809461235,84.526938239159,29.59921156373193,137.8777923784494,58.77135348226018,40.21024967148489,100.42706964520367,41.85282522996058,24.802890932982915,112.02365308804204,95.07227332457293,46.71484888304862,133.44283837056503,37.155059132720105,127.66097240473061,135.64388961892246,24.342969776609724,109.82260183968462,124.60578186596582,132.3587385019711,33.14717477003942,143.8239159001314,22.831800262812088,54.59921156373193,66.95137976346912,88.46911957950066,101.01839684625493,131.83311432325885,124.63863337713535,21.45203679369251,130.7161629434954,43.39684625492772,89.5203679369251,90.44021024967148,49.67148488830486,39.55321944809461,127.6281208935611,107.32588699080158,33.77135348226018,30.28909329829172,77.59526938239159,38.86333771353482,68.88961892247043,97.50328515111694,108.14717477003941,29.894875164257556,19.38239159001314,23.390275952693823,24.802890932982915,38.66622864651774,26.576872536136662,30.781865965834427,133.67279894875165,33.01576872536137,50.22996057818659,72.33902759526939,26.346911957950066,20.992115637319316,132.75295663600525,49.34296977660972,125.85413929040736,73.02890932982918,112.35216819973718,27.989487516425754,38.107752956636006,131.73455978975034,130.12483574244413,93.95532194480946,129.17214191852824,42.31274638633377,23.554533508541393,34.55978975032851,54.82917214191853,19.513797634691194,120.56504599211563,96.94480946123521,125.75558475689881,42.01708278580814,53.383705650459916,22.963206307490143,22.536136662286463,31.044678055190538,33.96846254927726,92.8712220762155,83.40998685939553,57.78580814717477,60.08541392904073,25.427069645203677,57.29303547963206,47.53613666228647,87.68068331143232,56.34034165571616,109.16557161629434,46.02496714848883,31.307490144546648,88.43626806833115,134.7568988173456,72.56898817345598,52.069645203679364,49.86859395532194,37.680683311432325,105.4862023653088,66.55716162943496,104.5335085413929,78.44940867279894,70.40078843626806,33.40998685939553,30.321944809461232,77.69382391590013,42.21419185282523,25.0,51.971090670170824,29.07358738501971,47.53613666228647,21.81340341655716,42.18134034165571,95.0065703022339,64.7831800262812,20.86070959264126,53.120893561103806,37.91064388961892,95.9592641261498,99.67148488830486,20.33508541392904,19.48094612352168,60.2496714848883,30.256241787122207,35.019710906701704,38.89618922470434,129.5663600525624,42.57555847568988,134.46123521681997,125.29566360052561,94.87516425755584,131.01182654402103,33.50854139290407,94.21813403416557,61.530880420499344,37.680683311432325,63.206307490144546,25.591327201051246,21.38633377135348,19.678055190538764,129.3363994743758,25.065703022339026,131.50459921156371,80.55190538764784,31.701708278580814,127.98948751642575,31.93166885676741,100.59132720105124,56.63600525624179,21.681997371879106,45.105124835742444,37.450722733245726,79.63206307490144,132.95006570302235,102.75952693823915,100.52562417871222,35.282522996057814,33.01576872536137,56.47174770039422,136.00525624178712,45.236530880420496,70.0065703022339,20.40078843626807,23.850197109067015,114.42181340341655,137.1222076215506,61.760840998685936,41.9185282522996,47.04336399474376,105.19053876478317,20.565045992115635,33.01576872536137,72.10906701708278,127.46386333771353,110.64388961892247,31.603153745072273,92.11563731931669,135.77529566360053,61.136662286465175,69.21813403416557,69.34954007884362,60.019710906701704,39.55321944809461,130.7818659658344,83.01576872536137,47.66754270696452,26.773981603153743,56.57030223390276,37.746386333771355,19.743758212877793,126.08409986859395,87.71353482260183,110.21681997371878,129.9934296977661,21.057818659658345,69.25098554533508,46.81340341655716,88.7976346911958,69.21813403416557,136.9250985545335,81.37319316688567,41.98423127463863,41.16294349540079,126.80683311432325,126.4454664914586,22.010512483574242,31.274638633377133,131.2089356110381,45.795006570302235,130.2890932982917,27.463863337713533,136.43232588699078,19.44809461235217,42.57555847568988,121.97766097240472,47.20762155059133,28.64651773981603,67.8712220762155,34.78975032851511,46.71484888304862,131.86596583442838,129.9934296977661,22.010512483574242,38.469119579500656,44.973718791064385,115.17739816031536,124.67148488830486,54.303547963206306,135.84099868593955,19.21813403416557,51.21550591327201,69.21813403416557,60.05256241787122,19.250985545335084,132.3915900131406,34.2969776609724,37.352168199737186,19.415243101182654,98.85019710906701,130.09198423127464,44.776609724047304,22.897503285151117,21.97766097240473,134.69119579500656,131.37319316688567,135.31537450722732,27.562417871222074,114.02759526938239,72.17477003942182,126.18265440210249,115.04599211563732,22.404730617608408,46.419185282522996,31.964520367936924,116.29434954007884,59.03416557161629,131.60315374507226,34.72404730617608,44.185282522996054,29.27069645203679,132.09592641261497,134.39553219448095,80.78186596583443,129.59921156373193,131.01182654402103,22.043363994743757,46.94480946123522,129.96057818659656,40.07884362680683,126.34691195795006,135.70959264126148,47.010512483574246,95.40078843626806,19.64520367936925,135.64388961892246,97.20762155059133,81.30749014454665,93.06833114323258,88.69908015768725,90.01314060446781,26.938239159001313,137.35216819973718,66.13009198423127,131.01182654402103,41.65571616294349,128.6136662286465,135.41392904073587,37.614980289093296,24.802890932982915,110.54533508541392,90.34165571616293,36.563731931668855],\"y0\":\" \",\"yaxis\":\"y\",\"type\":\"box\"}],                        {\"template\":{\"data\":{\"histogram2dcontour\":[{\"type\":\"histogram2dcontour\",\"colorbar\":{\"outlinewidth\":0,\"ticks\":\"\"},\"colorscale\":[[0.0,\"#0d0887\"],[0.1111111111111111,\"#46039f\"],[0.2222222222222222,\"#7201a8\"],[0.3333333333333333,\"#9c179e\"],[0.4444444444444444,\"#bd3786\"],[0.5555555555555556,\"#d8576b\"],[0.6666666666666666,\"#ed7953\"],[0.7777777777777778,\"#fb9f3a\"],[0.8888888888888888,\"#fdca26\"],[1.0,\"#f0f921\"]]}],\"choropleth\":[{\"type\":\"choropleth\",\"colorbar\":{\"outlinewidth\":0,\"ticks\":\"\"}}],\"histogram2d\":[{\"type\":\"histogram2d\",\"colorbar\":{\"outlinewidth\":0,\"ticks\":\"\"},\"colorscale\":[[0.0,\"#0d0887\"],[0.1111111111111111,\"#46039f\"],[0.2222222222222222,\"#7201a8\"],[0.3333333333333333,\"#9c179e\"],[0.4444444444444444,\"#bd3786\"],[0.5555555555555556,\"#d8576b\"],[0.6666666666666666,\"#ed7953\"],[0.7777777777777778,\"#fb9f3a\"],[0.8888888888888888,\"#fdca26\"],[1.0,\"#f0f921\"]]}],\"heatmap\":[{\"type\":\"heatmap\",\"colorbar\":{\"outlinewidth\":0,\"ticks\":\"\"},\"colorscale\":[[0.0,\"#0d0887\"],[0.1111111111111111,\"#46039f\"],[0.2222222222222222,\"#7201a8\"],[0.3333333333333333,\"#9c179e\"],[0.4444444444444444,\"#bd3786\"],[0.5555555555555556,\"#d8576b\"],[0.6666666666666666,\"#ed7953\"],[0.7777777777777778,\"#fb9f3a\"],[0.8888888888888888,\"#fdca26\"],[1.0,\"#f0f921\"]]}],\"heatmapgl\":[{\"type\":\"heatmapgl\",\"colorbar\":{\"outlinewidth\":0,\"ticks\":\"\"},\"colorscale\":[[0.0,\"#0d0887\"],[0.1111111111111111,\"#46039f\"],[0.2222222222222222,\"#7201a8\"],[0.3333333333333333,\"#9c179e\"],[0.4444444444444444,\"#bd3786\"],[0.5555555555555556,\"#d8576b\"],[0.6666666666666666,\"#ed7953\"],[0.7777777777777778,\"#fb9f3a\"],[0.8888888888888888,\"#fdca26\"],[1.0,\"#f0f921\"]]}],\"contourcarpet\":[{\"type\":\"contourcarpet\",\"colorbar\":{\"outlinewidth\":0,\"ticks\":\"\"}}],\"contour\":[{\"type\":\"contour\",\"colorbar\":{\"outlinewidth\":0,\"ticks\":\"\"},\"colorscale\":[[0.0,\"#0d0887\"],[0.1111111111111111,\"#46039f\"],[0.2222222222222222,\"#7201a8\"],[0.3333333333333333,\"#9c179e\"],[0.4444444444444444,\"#bd3786\"],[0.5555555555555556,\"#d8576b\"],[0.6666666666666666,\"#ed7953\"],[0.7777777777777778,\"#fb9f3a\"],[0.8888888888888888,\"#fdca26\"],[1.0,\"#f0f921\"]]}],\"surface\":[{\"type\":\"surface\",\"colorbar\":{\"outlinewidth\":0,\"ticks\":\"\"},\"colorscale\":[[0.0,\"#0d0887\"],[0.1111111111111111,\"#46039f\"],[0.2222222222222222,\"#7201a8\"],[0.3333333333333333,\"#9c179e\"],[0.4444444444444444,\"#bd3786\"],[0.5555555555555556,\"#d8576b\"],[0.6666666666666666,\"#ed7953\"],[0.7777777777777778,\"#fb9f3a\"],[0.8888888888888888,\"#fdca26\"],[1.0,\"#f0f921\"]]}],\"mesh3d\":[{\"type\":\"mesh3d\",\"colorbar\":{\"outlinewidth\":0,\"ticks\":\"\"}}],\"scatter\":[{\"fillpattern\":{\"fillmode\":\"overlay\",\"size\":10,\"solidity\":0.2},\"type\":\"scatter\"}],\"parcoords\":[{\"type\":\"parcoords\",\"line\":{\"colorbar\":{\"outlinewidth\":0,\"ticks\":\"\"}}}],\"scatterpolargl\":[{\"type\":\"scatterpolargl\",\"marker\":{\"colorbar\":{\"outlinewidth\":0,\"ticks\":\"\"}}}],\"bar\":[{\"error_x\":{\"color\":\"#2a3f5f\"},\"error_y\":{\"color\":\"#2a3f5f\"},\"marker\":{\"line\":{\"color\":\"#E5ECF6\",\"width\":0.5},\"pattern\":{\"fillmode\":\"overlay\",\"size\":10,\"solidity\":0.2}},\"type\":\"bar\"}],\"scattergeo\":[{\"type\":\"scattergeo\",\"marker\":{\"colorbar\":{\"outlinewidth\":0,\"ticks\":\"\"}}}],\"scatterpolar\":[{\"type\":\"scatterpolar\",\"marker\":{\"colorbar\":{\"outlinewidth\":0,\"ticks\":\"\"}}}],\"histogram\":[{\"marker\":{\"pattern\":{\"fillmode\":\"overlay\",\"size\":10,\"solidity\":0.2}},\"type\":\"histogram\"}],\"scattergl\":[{\"type\":\"scattergl\",\"marker\":{\"colorbar\":{\"outlinewidth\":0,\"ticks\":\"\"}}}],\"scatter3d\":[{\"type\":\"scatter3d\",\"line\":{\"colorbar\":{\"outlinewidth\":0,\"ticks\":\"\"}},\"marker\":{\"colorbar\":{\"outlinewidth\":0,\"ticks\":\"\"}}}],\"scattermapbox\":[{\"type\":\"scattermapbox\",\"marker\":{\"colorbar\":{\"outlinewidth\":0,\"ticks\":\"\"}}}],\"scatterternary\":[{\"type\":\"scatterternary\",\"marker\":{\"colorbar\":{\"outlinewidth\":0,\"ticks\":\"\"}}}],\"scattercarpet\":[{\"type\":\"scattercarpet\",\"marker\":{\"colorbar\":{\"outlinewidth\":0,\"ticks\":\"\"}}}],\"carpet\":[{\"aaxis\":{\"endlinecolor\":\"#2a3f5f\",\"gridcolor\":\"white\",\"linecolor\":\"white\",\"minorgridcolor\":\"white\",\"startlinecolor\":\"#2a3f5f\"},\"baxis\":{\"endlinecolor\":\"#2a3f5f\",\"gridcolor\":\"white\",\"linecolor\":\"white\",\"minorgridcolor\":\"white\",\"startlinecolor\":\"#2a3f5f\"},\"type\":\"carpet\"}],\"table\":[{\"cells\":{\"fill\":{\"color\":\"#EBF0F8\"},\"line\":{\"color\":\"white\"}},\"header\":{\"fill\":{\"color\":\"#C8D4E3\"},\"line\":{\"color\":\"white\"}},\"type\":\"table\"}],\"barpolar\":[{\"marker\":{\"line\":{\"color\":\"#E5ECF6\",\"width\":0.5},\"pattern\":{\"fillmode\":\"overlay\",\"size\":10,\"solidity\":0.2}},\"type\":\"barpolar\"}],\"pie\":[{\"automargin\":true,\"type\":\"pie\"}]},\"layout\":{\"autotypenumbers\":\"strict\",\"colorway\":[\"#636efa\",\"#EF553B\",\"#00cc96\",\"#ab63fa\",\"#FFA15A\",\"#19d3f3\",\"#FF6692\",\"#B6E880\",\"#FF97FF\",\"#FECB52\"],\"font\":{\"color\":\"#2a3f5f\"},\"hovermode\":\"closest\",\"hoverlabel\":{\"align\":\"left\"},\"paper_bgcolor\":\"white\",\"plot_bgcolor\":\"#E5ECF6\",\"polar\":{\"bgcolor\":\"#E5ECF6\",\"angularaxis\":{\"gridcolor\":\"white\",\"linecolor\":\"white\",\"ticks\":\"\"},\"radialaxis\":{\"gridcolor\":\"white\",\"linecolor\":\"white\",\"ticks\":\"\"}},\"ternary\":{\"bgcolor\":\"#E5ECF6\",\"aaxis\":{\"gridcolor\":\"white\",\"linecolor\":\"white\",\"ticks\":\"\"},\"baxis\":{\"gridcolor\":\"white\",\"linecolor\":\"white\",\"ticks\":\"\"},\"caxis\":{\"gridcolor\":\"white\",\"linecolor\":\"white\",\"ticks\":\"\"}},\"coloraxis\":{\"colorbar\":{\"outlinewidth\":0,\"ticks\":\"\"}},\"colorscale\":{\"sequential\":[[0.0,\"#0d0887\"],[0.1111111111111111,\"#46039f\"],[0.2222222222222222,\"#7201a8\"],[0.3333333333333333,\"#9c179e\"],[0.4444444444444444,\"#bd3786\"],[0.5555555555555556,\"#d8576b\"],[0.6666666666666666,\"#ed7953\"],[0.7777777777777778,\"#fb9f3a\"],[0.8888888888888888,\"#fdca26\"],[1.0,\"#f0f921\"]],\"sequentialminus\":[[0.0,\"#0d0887\"],[0.1111111111111111,\"#46039f\"],[0.2222222222222222,\"#7201a8\"],[0.3333333333333333,\"#9c179e\"],[0.4444444444444444,\"#bd3786\"],[0.5555555555555556,\"#d8576b\"],[0.6666666666666666,\"#ed7953\"],[0.7777777777777778,\"#fb9f3a\"],[0.8888888888888888,\"#fdca26\"],[1.0,\"#f0f921\"]],\"diverging\":[[0,\"#8e0152\"],[0.1,\"#c51b7d\"],[0.2,\"#de77ae\"],[0.3,\"#f1b6da\"],[0.4,\"#fde0ef\"],[0.5,\"#f7f7f7\"],[0.6,\"#e6f5d0\"],[0.7,\"#b8e186\"],[0.8,\"#7fbc41\"],[0.9,\"#4d9221\"],[1,\"#276419\"]]},\"xaxis\":{\"gridcolor\":\"white\",\"linecolor\":\"white\",\"ticks\":\"\",\"title\":{\"standoff\":15},\"zerolinecolor\":\"white\",\"automargin\":true,\"zerolinewidth\":2},\"yaxis\":{\"gridcolor\":\"white\",\"linecolor\":\"white\",\"ticks\":\"\",\"title\":{\"standoff\":15},\"zerolinecolor\":\"white\",\"automargin\":true,\"zerolinewidth\":2},\"scene\":{\"xaxis\":{\"backgroundcolor\":\"#E5ECF6\",\"gridcolor\":\"white\",\"linecolor\":\"white\",\"showbackground\":true,\"ticks\":\"\",\"zerolinecolor\":\"white\",\"gridwidth\":2},\"yaxis\":{\"backgroundcolor\":\"#E5ECF6\",\"gridcolor\":\"white\",\"linecolor\":\"white\",\"showbackground\":true,\"ticks\":\"\",\"zerolinecolor\":\"white\",\"gridwidth\":2},\"zaxis\":{\"backgroundcolor\":\"#E5ECF6\",\"gridcolor\":\"white\",\"linecolor\":\"white\",\"showbackground\":true,\"ticks\":\"\",\"zerolinecolor\":\"white\",\"gridwidth\":2}},\"shapedefaults\":{\"line\":{\"color\":\"#2a3f5f\"}},\"annotationdefaults\":{\"arrowcolor\":\"#2a3f5f\",\"arrowhead\":0,\"arrowwidth\":1},\"geo\":{\"bgcolor\":\"white\",\"landcolor\":\"#E5ECF6\",\"subunitcolor\":\"white\",\"showland\":true,\"showlakes\":true,\"lakecolor\":\"white\"},\"title\":{\"x\":0.05},\"mapbox\":{\"style\":\"light\"}}},\"xaxis\":{\"anchor\":\"y\",\"domain\":[0.0,1.0],\"title\":{\"text\":\"Churn\"}},\"yaxis\":{\"anchor\":\"x\",\"domain\":[0.0,1.0],\"title\":{\"text\":\"Tenure (Months)\"}},\"legend\":{\"tracegroupgap\":0},\"margin\":{\"t\":60},\"boxmode\":\"group\",\"title\":{\"text\":\"\\u003cb\\u003eTenure vs Churn\\u003c\\u002fb\\u003e\"},\"autosize\":true,\"width\":750,\"height\":600},                        {\"responsive\": true}                    ).then(function(){\n",
              "                            \n",
              "var gd = document.getElementById('93a0906a-551e-49bc-a03a-69fbadfc1987');\n",
              "var x = new MutationObserver(function (mutations, observer) {{\n",
              "        var display = window.getComputedStyle(gd).display;\n",
              "        if (!display || display === 'none') {{\n",
              "            console.log([gd, 'removed!']);\n",
              "            Plotly.purge(gd);\n",
              "            observer.disconnect();\n",
              "        }}\n",
              "}});\n",
              "\n",
              "// Listen for the removal of the full notebook cells\n",
              "var notebookContainer = gd.closest('#notebook-container');\n",
              "if (notebookContainer) {{\n",
              "    x.observe(notebookContainer, {childList: true});\n",
              "}}\n",
              "\n",
              "// Listen for the clearing of the current output cell\n",
              "var outputEl = gd.closest('.output');\n",
              "if (outputEl) {{\n",
              "    x.observe(outputEl, {childList: true});\n",
              "}}\n",
              "\n",
              "                        })                };                            </script>        </div>\n",
              "</body>\n",
              "</html>"
            ]
          },
          "metadata": {}
        }
      ]
    },
    {
      "cell_type": "markdown",
      "source": [
        "New customers are more likely to churn"
      ],
      "metadata": {
        "id": "LF4Ocr9ENe42"
      }
    },
    {
      "cell_type": "code",
      "source": [
        "churn_by_tenure = df.groupby('Tenure_Group')['Loss'].mean().reset_index()\n",
        "#plot\n",
        "fig = px.bar(churn_by_tenure, x='Tenure_Group', y='Loss', title='<b>Churn Rate by Customer Tenure Group</b>',\n",
        "             labels={'Loss': 'Churn Rate', 'Tenure_Group': 'Tenure Group (Years)'})\n",
        "fig.update_layout(width=700, height=500, bargap=0.1)\n",
        "fig.show()\n"
      ],
      "metadata": {
        "colab": {
          "base_uri": "https://localhost:8080/",
          "height": 517
        },
        "id": "CoYj0bxPaq95",
        "outputId": "53a9e3fb-2d56-4541-bb04-eae2f5df48e4"
      },
      "execution_count": null,
      "outputs": [
        {
          "output_type": "display_data",
          "data": {
            "text/html": [
              "<html>\n",
              "<head><meta charset=\"utf-8\" /></head>\n",
              "<body>\n",
              "    <div>            <script src=\"https://cdnjs.cloudflare.com/ajax/libs/mathjax/2.7.5/MathJax.js?config=TeX-AMS-MML_SVG\"></script><script type=\"text/javascript\">if (window.MathJax && window.MathJax.Hub && window.MathJax.Hub.Config) {window.MathJax.Hub.Config({SVG: {font: \"STIX-Web\"}});}</script>                <script type=\"text/javascript\">window.PlotlyConfig = {MathJaxConfig: 'local'};</script>\n",
              "        <script charset=\"utf-8\" src=\"https://cdn.plot.ly/plotly-2.24.1.min.js\"></script>                <div id=\"ce1cbf3c-d544-4da7-9a26-9f6ccdda093b\" class=\"plotly-graph-div\" style=\"height:500px; width:700px;\"></div>            <script type=\"text/javascript\">                                    window.PLOTLYENV=window.PLOTLYENV || {};                                    if (document.getElementById(\"ce1cbf3c-d544-4da7-9a26-9f6ccdda093b\")) {                    Plotly.newPlot(                        \"ce1cbf3c-d544-4da7-9a26-9f6ccdda093b\",                        [{\"alignmentgroup\":\"True\",\"hovertemplate\":\"Tenure Group (Years)=%{x}\\u003cbr\\u003eChurn Rate=%{y}\\u003cextra\\u003e\\u003c\\u002fextra\\u003e\",\"legendgroup\":\"\",\"marker\":{\"color\":\"#636efa\",\"pattern\":{\"shape\":\"\"}},\"name\":\"\",\"offsetgroup\":\"\",\"orientation\":\"v\",\"showlegend\":false,\"textposition\":\"auto\",\"x\":[\"\\u003c 1 year\",\"1-3 years\",\"3-5 years\",\"\\u003e 5 years\"],\"xaxis\":\"x\",\"y\":[1.0,0.2521246458923513,0.18974751338944146,0.11921458625525946],\"yaxis\":\"y\",\"type\":\"bar\"}],                        {\"template\":{\"data\":{\"histogram2dcontour\":[{\"type\":\"histogram2dcontour\",\"colorbar\":{\"outlinewidth\":0,\"ticks\":\"\"},\"colorscale\":[[0.0,\"#0d0887\"],[0.1111111111111111,\"#46039f\"],[0.2222222222222222,\"#7201a8\"],[0.3333333333333333,\"#9c179e\"],[0.4444444444444444,\"#bd3786\"],[0.5555555555555556,\"#d8576b\"],[0.6666666666666666,\"#ed7953\"],[0.7777777777777778,\"#fb9f3a\"],[0.8888888888888888,\"#fdca26\"],[1.0,\"#f0f921\"]]}],\"choropleth\":[{\"type\":\"choropleth\",\"colorbar\":{\"outlinewidth\":0,\"ticks\":\"\"}}],\"histogram2d\":[{\"type\":\"histogram2d\",\"colorbar\":{\"outlinewidth\":0,\"ticks\":\"\"},\"colorscale\":[[0.0,\"#0d0887\"],[0.1111111111111111,\"#46039f\"],[0.2222222222222222,\"#7201a8\"],[0.3333333333333333,\"#9c179e\"],[0.4444444444444444,\"#bd3786\"],[0.5555555555555556,\"#d8576b\"],[0.6666666666666666,\"#ed7953\"],[0.7777777777777778,\"#fb9f3a\"],[0.8888888888888888,\"#fdca26\"],[1.0,\"#f0f921\"]]}],\"heatmap\":[{\"type\":\"heatmap\",\"colorbar\":{\"outlinewidth\":0,\"ticks\":\"\"},\"colorscale\":[[0.0,\"#0d0887\"],[0.1111111111111111,\"#46039f\"],[0.2222222222222222,\"#7201a8\"],[0.3333333333333333,\"#9c179e\"],[0.4444444444444444,\"#bd3786\"],[0.5555555555555556,\"#d8576b\"],[0.6666666666666666,\"#ed7953\"],[0.7777777777777778,\"#fb9f3a\"],[0.8888888888888888,\"#fdca26\"],[1.0,\"#f0f921\"]]}],\"heatmapgl\":[{\"type\":\"heatmapgl\",\"colorbar\":{\"outlinewidth\":0,\"ticks\":\"\"},\"colorscale\":[[0.0,\"#0d0887\"],[0.1111111111111111,\"#46039f\"],[0.2222222222222222,\"#7201a8\"],[0.3333333333333333,\"#9c179e\"],[0.4444444444444444,\"#bd3786\"],[0.5555555555555556,\"#d8576b\"],[0.6666666666666666,\"#ed7953\"],[0.7777777777777778,\"#fb9f3a\"],[0.8888888888888888,\"#fdca26\"],[1.0,\"#f0f921\"]]}],\"contourcarpet\":[{\"type\":\"contourcarpet\",\"colorbar\":{\"outlinewidth\":0,\"ticks\":\"\"}}],\"contour\":[{\"type\":\"contour\",\"colorbar\":{\"outlinewidth\":0,\"ticks\":\"\"},\"colorscale\":[[0.0,\"#0d0887\"],[0.1111111111111111,\"#46039f\"],[0.2222222222222222,\"#7201a8\"],[0.3333333333333333,\"#9c179e\"],[0.4444444444444444,\"#bd3786\"],[0.5555555555555556,\"#d8576b\"],[0.6666666666666666,\"#ed7953\"],[0.7777777777777778,\"#fb9f3a\"],[0.8888888888888888,\"#fdca26\"],[1.0,\"#f0f921\"]]}],\"surface\":[{\"type\":\"surface\",\"colorbar\":{\"outlinewidth\":0,\"ticks\":\"\"},\"colorscale\":[[0.0,\"#0d0887\"],[0.1111111111111111,\"#46039f\"],[0.2222222222222222,\"#7201a8\"],[0.3333333333333333,\"#9c179e\"],[0.4444444444444444,\"#bd3786\"],[0.5555555555555556,\"#d8576b\"],[0.6666666666666666,\"#ed7953\"],[0.7777777777777778,\"#fb9f3a\"],[0.8888888888888888,\"#fdca26\"],[1.0,\"#f0f921\"]]}],\"mesh3d\":[{\"type\":\"mesh3d\",\"colorbar\":{\"outlinewidth\":0,\"ticks\":\"\"}}],\"scatter\":[{\"fillpattern\":{\"fillmode\":\"overlay\",\"size\":10,\"solidity\":0.2},\"type\":\"scatter\"}],\"parcoords\":[{\"type\":\"parcoords\",\"line\":{\"colorbar\":{\"outlinewidth\":0,\"ticks\":\"\"}}}],\"scatterpolargl\":[{\"type\":\"scatterpolargl\",\"marker\":{\"colorbar\":{\"outlinewidth\":0,\"ticks\":\"\"}}}],\"bar\":[{\"error_x\":{\"color\":\"#2a3f5f\"},\"error_y\":{\"color\":\"#2a3f5f\"},\"marker\":{\"line\":{\"color\":\"#E5ECF6\",\"width\":0.5},\"pattern\":{\"fillmode\":\"overlay\",\"size\":10,\"solidity\":0.2}},\"type\":\"bar\"}],\"scattergeo\":[{\"type\":\"scattergeo\",\"marker\":{\"colorbar\":{\"outlinewidth\":0,\"ticks\":\"\"}}}],\"scatterpolar\":[{\"type\":\"scatterpolar\",\"marker\":{\"colorbar\":{\"outlinewidth\":0,\"ticks\":\"\"}}}],\"histogram\":[{\"marker\":{\"pattern\":{\"fillmode\":\"overlay\",\"size\":10,\"solidity\":0.2}},\"type\":\"histogram\"}],\"scattergl\":[{\"type\":\"scattergl\",\"marker\":{\"colorbar\":{\"outlinewidth\":0,\"ticks\":\"\"}}}],\"scatter3d\":[{\"type\":\"scatter3d\",\"line\":{\"colorbar\":{\"outlinewidth\":0,\"ticks\":\"\"}},\"marker\":{\"colorbar\":{\"outlinewidth\":0,\"ticks\":\"\"}}}],\"scattermapbox\":[{\"type\":\"scattermapbox\",\"marker\":{\"colorbar\":{\"outlinewidth\":0,\"ticks\":\"\"}}}],\"scatterternary\":[{\"type\":\"scatterternary\",\"marker\":{\"colorbar\":{\"outlinewidth\":0,\"ticks\":\"\"}}}],\"scattercarpet\":[{\"type\":\"scattercarpet\",\"marker\":{\"colorbar\":{\"outlinewidth\":0,\"ticks\":\"\"}}}],\"carpet\":[{\"aaxis\":{\"endlinecolor\":\"#2a3f5f\",\"gridcolor\":\"white\",\"linecolor\":\"white\",\"minorgridcolor\":\"white\",\"startlinecolor\":\"#2a3f5f\"},\"baxis\":{\"endlinecolor\":\"#2a3f5f\",\"gridcolor\":\"white\",\"linecolor\":\"white\",\"minorgridcolor\":\"white\",\"startlinecolor\":\"#2a3f5f\"},\"type\":\"carpet\"}],\"table\":[{\"cells\":{\"fill\":{\"color\":\"#EBF0F8\"},\"line\":{\"color\":\"white\"}},\"header\":{\"fill\":{\"color\":\"#C8D4E3\"},\"line\":{\"color\":\"white\"}},\"type\":\"table\"}],\"barpolar\":[{\"marker\":{\"line\":{\"color\":\"#E5ECF6\",\"width\":0.5},\"pattern\":{\"fillmode\":\"overlay\",\"size\":10,\"solidity\":0.2}},\"type\":\"barpolar\"}],\"pie\":[{\"automargin\":true,\"type\":\"pie\"}]},\"layout\":{\"autotypenumbers\":\"strict\",\"colorway\":[\"#636efa\",\"#EF553B\",\"#00cc96\",\"#ab63fa\",\"#FFA15A\",\"#19d3f3\",\"#FF6692\",\"#B6E880\",\"#FF97FF\",\"#FECB52\"],\"font\":{\"color\":\"#2a3f5f\"},\"hovermode\":\"closest\",\"hoverlabel\":{\"align\":\"left\"},\"paper_bgcolor\":\"white\",\"plot_bgcolor\":\"#E5ECF6\",\"polar\":{\"bgcolor\":\"#E5ECF6\",\"angularaxis\":{\"gridcolor\":\"white\",\"linecolor\":\"white\",\"ticks\":\"\"},\"radialaxis\":{\"gridcolor\":\"white\",\"linecolor\":\"white\",\"ticks\":\"\"}},\"ternary\":{\"bgcolor\":\"#E5ECF6\",\"aaxis\":{\"gridcolor\":\"white\",\"linecolor\":\"white\",\"ticks\":\"\"},\"baxis\":{\"gridcolor\":\"white\",\"linecolor\":\"white\",\"ticks\":\"\"},\"caxis\":{\"gridcolor\":\"white\",\"linecolor\":\"white\",\"ticks\":\"\"}},\"coloraxis\":{\"colorbar\":{\"outlinewidth\":0,\"ticks\":\"\"}},\"colorscale\":{\"sequential\":[[0.0,\"#0d0887\"],[0.1111111111111111,\"#46039f\"],[0.2222222222222222,\"#7201a8\"],[0.3333333333333333,\"#9c179e\"],[0.4444444444444444,\"#bd3786\"],[0.5555555555555556,\"#d8576b\"],[0.6666666666666666,\"#ed7953\"],[0.7777777777777778,\"#fb9f3a\"],[0.8888888888888888,\"#fdca26\"],[1.0,\"#f0f921\"]],\"sequentialminus\":[[0.0,\"#0d0887\"],[0.1111111111111111,\"#46039f\"],[0.2222222222222222,\"#7201a8\"],[0.3333333333333333,\"#9c179e\"],[0.4444444444444444,\"#bd3786\"],[0.5555555555555556,\"#d8576b\"],[0.6666666666666666,\"#ed7953\"],[0.7777777777777778,\"#fb9f3a\"],[0.8888888888888888,\"#fdca26\"],[1.0,\"#f0f921\"]],\"diverging\":[[0,\"#8e0152\"],[0.1,\"#c51b7d\"],[0.2,\"#de77ae\"],[0.3,\"#f1b6da\"],[0.4,\"#fde0ef\"],[0.5,\"#f7f7f7\"],[0.6,\"#e6f5d0\"],[0.7,\"#b8e186\"],[0.8,\"#7fbc41\"],[0.9,\"#4d9221\"],[1,\"#276419\"]]},\"xaxis\":{\"gridcolor\":\"white\",\"linecolor\":\"white\",\"ticks\":\"\",\"title\":{\"standoff\":15},\"zerolinecolor\":\"white\",\"automargin\":true,\"zerolinewidth\":2},\"yaxis\":{\"gridcolor\":\"white\",\"linecolor\":\"white\",\"ticks\":\"\",\"title\":{\"standoff\":15},\"zerolinecolor\":\"white\",\"automargin\":true,\"zerolinewidth\":2},\"scene\":{\"xaxis\":{\"backgroundcolor\":\"#E5ECF6\",\"gridcolor\":\"white\",\"linecolor\":\"white\",\"showbackground\":true,\"ticks\":\"\",\"zerolinecolor\":\"white\",\"gridwidth\":2},\"yaxis\":{\"backgroundcolor\":\"#E5ECF6\",\"gridcolor\":\"white\",\"linecolor\":\"white\",\"showbackground\":true,\"ticks\":\"\",\"zerolinecolor\":\"white\",\"gridwidth\":2},\"zaxis\":{\"backgroundcolor\":\"#E5ECF6\",\"gridcolor\":\"white\",\"linecolor\":\"white\",\"showbackground\":true,\"ticks\":\"\",\"zerolinecolor\":\"white\",\"gridwidth\":2}},\"shapedefaults\":{\"line\":{\"color\":\"#2a3f5f\"}},\"annotationdefaults\":{\"arrowcolor\":\"#2a3f5f\",\"arrowhead\":0,\"arrowwidth\":1},\"geo\":{\"bgcolor\":\"white\",\"landcolor\":\"#E5ECF6\",\"subunitcolor\":\"white\",\"showland\":true,\"showlakes\":true,\"lakecolor\":\"white\"},\"title\":{\"x\":0.05},\"mapbox\":{\"style\":\"light\"}}},\"xaxis\":{\"anchor\":\"y\",\"domain\":[0.0,1.0],\"title\":{\"text\":\"Tenure Group (Years)\"}},\"yaxis\":{\"anchor\":\"x\",\"domain\":[0.0,1.0],\"title\":{\"text\":\"Churn Rate\"}},\"legend\":{\"tracegroupgap\":0},\"title\":{\"text\":\"\\u003cb\\u003eChurn Rate by Customer Tenure Group\\u003c\\u002fb\\u003e\"},\"barmode\":\"relative\",\"width\":700,\"height\":500,\"bargap\":0.1},                        {\"responsive\": true}                    ).then(function(){\n",
              "                            \n",
              "var gd = document.getElementById('ce1cbf3c-d544-4da7-9a26-9f6ccdda093b');\n",
              "var x = new MutationObserver(function (mutations, observer) {{\n",
              "        var display = window.getComputedStyle(gd).display;\n",
              "        if (!display || display === 'none') {{\n",
              "            console.log([gd, 'removed!']);\n",
              "            Plotly.purge(gd);\n",
              "            observer.disconnect();\n",
              "        }}\n",
              "}});\n",
              "\n",
              "// Listen for the removal of the full notebook cells\n",
              "var notebookContainer = gd.closest('#notebook-container');\n",
              "if (notebookContainer) {{\n",
              "    x.observe(notebookContainer, {childList: true});\n",
              "}}\n",
              "\n",
              "// Listen for the clearing of the current output cell\n",
              "var outputEl = gd.closest('.output');\n",
              "if (outputEl) {{\n",
              "    x.observe(outputEl, {childList: true});\n",
              "}}\n",
              "\n",
              "                        })                };                            </script>        </div>\n",
              "</body>\n",
              "</html>"
            ]
          },
          "metadata": {}
        }
      ]
    },
    {
      "cell_type": "markdown",
      "source": [
        "* Customers with **less than 1 year of tenure** have a **100%** churn rate. The churn rate for customers with **1-3 years and 3-5 years** of tenure are **25.2% and 18.9%** respectively.\n",
        "* Customers with **more than 5 years** of tenure have the **lowest churn rate at 11.9%**, which indicates higher retention for long-term customers.\n",
        "\n",
        "**Key Insights:**\n",
        "* **Short-term customers (<1 year)** are at the highest risk of churn and may need targeted interventions. This indicate that customers who leave early are a critical group to target for retention efforts.\n",
        "* Retention seems to improve as customer tenure increases, with long-term customers **(>5 years)** being the most stable."
      ],
      "metadata": {
        "id": "30v708WSDHvu"
      }
    },
    {
      "cell_type": "markdown",
      "source": [
        "**Let's dive deep into to explore why the newer (short-term) customers leave earlier and what could be done to improve retention within the first year.**"
      ],
      "metadata": {
        "id": "7JUNTuUOFgoG"
      }
    },
    {
      "cell_type": "code",
      "source": [
        "# variables for short term and long term customers\n",
        "short_term_customers = df[df['Tenure_Group'] == '< 1 year']\n",
        "long_term_customers = df[df['Tenure_Group'] != '< 1 year']"
      ],
      "metadata": {
        "id": "NgIHwpzShQwN"
      },
      "execution_count": null,
      "outputs": []
    },
    {
      "cell_type": "code",
      "source": [
        "offset_value_comparison = {\n",
        "    'Short-Term (Offset)': short_term_customers['OffsetValue'].mean(),\n",
        "    'Long-Term (Offset)': long_term_customers['OffsetValue'].mean()\n",
        "}\n",
        "\n",
        "# convert dictionary into a DataFrame\n",
        "offset_values = pd.DataFrame(list(offset_value_comparison.items()), columns=['Customer Type', 'Average Offset Value'])\n",
        "\n",
        "# plot\n",
        "fig = px.bar(offset_values, x='Customer Type', y='Average Offset Value', title='<b>Average Offset Value: Short-Term vs Long-Term Customers</b>',\n",
        "             labels={'Average Offset Value': 'Average Offset Value (£)', 'Customer Type': 'Customer Type'},\n",
        "             color='Customer Type', color_discrete_sequence=['orange', 'blue'])\n",
        "fig.update_layout(width=700, height=500, bargap=0.1)\n",
        "fig.show()"
      ],
      "metadata": {
        "colab": {
          "base_uri": "https://localhost:8080/",
          "height": 517
        },
        "id": "tILMw-h88ROo",
        "outputId": "f22f6608-93a6-44f2-8de7-c0b4a45a7af4"
      },
      "execution_count": null,
      "outputs": [
        {
          "output_type": "display_data",
          "data": {
            "text/html": [
              "<html>\n",
              "<head><meta charset=\"utf-8\" /></head>\n",
              "<body>\n",
              "    <div>            <script src=\"https://cdnjs.cloudflare.com/ajax/libs/mathjax/2.7.5/MathJax.js?config=TeX-AMS-MML_SVG\"></script><script type=\"text/javascript\">if (window.MathJax && window.MathJax.Hub && window.MathJax.Hub.Config) {window.MathJax.Hub.Config({SVG: {font: \"STIX-Web\"}});}</script>                <script type=\"text/javascript\">window.PlotlyConfig = {MathJaxConfig: 'local'};</script>\n",
              "        <script charset=\"utf-8\" src=\"https://cdn.plot.ly/plotly-2.24.1.min.js\"></script>                <div id=\"8c7c93f1-c19b-42a4-88b0-b3f9d03d0de4\" class=\"plotly-graph-div\" style=\"height:500px; width:700px;\"></div>            <script type=\"text/javascript\">                                    window.PLOTLYENV=window.PLOTLYENV || {};                                    if (document.getElementById(\"8c7c93f1-c19b-42a4-88b0-b3f9d03d0de4\")) {                    Plotly.newPlot(                        \"8c7c93f1-c19b-42a4-88b0-b3f9d03d0de4\",                        [{\"alignmentgroup\":\"True\",\"hovertemplate\":\"Customer Type=%{x}\\u003cbr\\u003eAverage Offset Value (\\u00a3)=%{y}\\u003cextra\\u003e\\u003c\\u002fextra\\u003e\",\"legendgroup\":\"Short-Term (Offset)\",\"marker\":{\"color\":\"orange\",\"pattern\":{\"shape\":\"\"}},\"name\":\"Short-Term (Offset)\",\"offsetgroup\":\"Short-Term (Offset)\",\"orientation\":\"v\",\"showlegend\":true,\"textposition\":\"auto\",\"x\":[\"Short-Term (Offset)\"],\"xaxis\":\"x\",\"y\":[288.973475177305],\"yaxis\":\"y\",\"type\":\"bar\"},{\"alignmentgroup\":\"True\",\"hovertemplate\":\"Customer Type=%{x}\\u003cbr\\u003eAverage Offset Value (\\u00a3)=%{y}\\u003cextra\\u003e\\u003c\\u002fextra\\u003e\",\"legendgroup\":\"Long-Term (Offset)\",\"marker\":{\"color\":\"blue\",\"pattern\":{\"shape\":\"\"}},\"name\":\"Long-Term (Offset)\",\"offsetgroup\":\"Long-Term (Offset)\",\"orientation\":\"v\",\"showlegend\":true,\"textposition\":\"auto\",\"x\":[\"Long-Term (Offset)\"],\"xaxis\":\"x\",\"y\":[359.41366742128],\"yaxis\":\"y\",\"type\":\"bar\"}],                        {\"template\":{\"data\":{\"histogram2dcontour\":[{\"type\":\"histogram2dcontour\",\"colorbar\":{\"outlinewidth\":0,\"ticks\":\"\"},\"colorscale\":[[0.0,\"#0d0887\"],[0.1111111111111111,\"#46039f\"],[0.2222222222222222,\"#7201a8\"],[0.3333333333333333,\"#9c179e\"],[0.4444444444444444,\"#bd3786\"],[0.5555555555555556,\"#d8576b\"],[0.6666666666666666,\"#ed7953\"],[0.7777777777777778,\"#fb9f3a\"],[0.8888888888888888,\"#fdca26\"],[1.0,\"#f0f921\"]]}],\"choropleth\":[{\"type\":\"choropleth\",\"colorbar\":{\"outlinewidth\":0,\"ticks\":\"\"}}],\"histogram2d\":[{\"type\":\"histogram2d\",\"colorbar\":{\"outlinewidth\":0,\"ticks\":\"\"},\"colorscale\":[[0.0,\"#0d0887\"],[0.1111111111111111,\"#46039f\"],[0.2222222222222222,\"#7201a8\"],[0.3333333333333333,\"#9c179e\"],[0.4444444444444444,\"#bd3786\"],[0.5555555555555556,\"#d8576b\"],[0.6666666666666666,\"#ed7953\"],[0.7777777777777778,\"#fb9f3a\"],[0.8888888888888888,\"#fdca26\"],[1.0,\"#f0f921\"]]}],\"heatmap\":[{\"type\":\"heatmap\",\"colorbar\":{\"outlinewidth\":0,\"ticks\":\"\"},\"colorscale\":[[0.0,\"#0d0887\"],[0.1111111111111111,\"#46039f\"],[0.2222222222222222,\"#7201a8\"],[0.3333333333333333,\"#9c179e\"],[0.4444444444444444,\"#bd3786\"],[0.5555555555555556,\"#d8576b\"],[0.6666666666666666,\"#ed7953\"],[0.7777777777777778,\"#fb9f3a\"],[0.8888888888888888,\"#fdca26\"],[1.0,\"#f0f921\"]]}],\"heatmapgl\":[{\"type\":\"heatmapgl\",\"colorbar\":{\"outlinewidth\":0,\"ticks\":\"\"},\"colorscale\":[[0.0,\"#0d0887\"],[0.1111111111111111,\"#46039f\"],[0.2222222222222222,\"#7201a8\"],[0.3333333333333333,\"#9c179e\"],[0.4444444444444444,\"#bd3786\"],[0.5555555555555556,\"#d8576b\"],[0.6666666666666666,\"#ed7953\"],[0.7777777777777778,\"#fb9f3a\"],[0.8888888888888888,\"#fdca26\"],[1.0,\"#f0f921\"]]}],\"contourcarpet\":[{\"type\":\"contourcarpet\",\"colorbar\":{\"outlinewidth\":0,\"ticks\":\"\"}}],\"contour\":[{\"type\":\"contour\",\"colorbar\":{\"outlinewidth\":0,\"ticks\":\"\"},\"colorscale\":[[0.0,\"#0d0887\"],[0.1111111111111111,\"#46039f\"],[0.2222222222222222,\"#7201a8\"],[0.3333333333333333,\"#9c179e\"],[0.4444444444444444,\"#bd3786\"],[0.5555555555555556,\"#d8576b\"],[0.6666666666666666,\"#ed7953\"],[0.7777777777777778,\"#fb9f3a\"],[0.8888888888888888,\"#fdca26\"],[1.0,\"#f0f921\"]]}],\"surface\":[{\"type\":\"surface\",\"colorbar\":{\"outlinewidth\":0,\"ticks\":\"\"},\"colorscale\":[[0.0,\"#0d0887\"],[0.1111111111111111,\"#46039f\"],[0.2222222222222222,\"#7201a8\"],[0.3333333333333333,\"#9c179e\"],[0.4444444444444444,\"#bd3786\"],[0.5555555555555556,\"#d8576b\"],[0.6666666666666666,\"#ed7953\"],[0.7777777777777778,\"#fb9f3a\"],[0.8888888888888888,\"#fdca26\"],[1.0,\"#f0f921\"]]}],\"mesh3d\":[{\"type\":\"mesh3d\",\"colorbar\":{\"outlinewidth\":0,\"ticks\":\"\"}}],\"scatter\":[{\"fillpattern\":{\"fillmode\":\"overlay\",\"size\":10,\"solidity\":0.2},\"type\":\"scatter\"}],\"parcoords\":[{\"type\":\"parcoords\",\"line\":{\"colorbar\":{\"outlinewidth\":0,\"ticks\":\"\"}}}],\"scatterpolargl\":[{\"type\":\"scatterpolargl\",\"marker\":{\"colorbar\":{\"outlinewidth\":0,\"ticks\":\"\"}}}],\"bar\":[{\"error_x\":{\"color\":\"#2a3f5f\"},\"error_y\":{\"color\":\"#2a3f5f\"},\"marker\":{\"line\":{\"color\":\"#E5ECF6\",\"width\":0.5},\"pattern\":{\"fillmode\":\"overlay\",\"size\":10,\"solidity\":0.2}},\"type\":\"bar\"}],\"scattergeo\":[{\"type\":\"scattergeo\",\"marker\":{\"colorbar\":{\"outlinewidth\":0,\"ticks\":\"\"}}}],\"scatterpolar\":[{\"type\":\"scatterpolar\",\"marker\":{\"colorbar\":{\"outlinewidth\":0,\"ticks\":\"\"}}}],\"histogram\":[{\"marker\":{\"pattern\":{\"fillmode\":\"overlay\",\"size\":10,\"solidity\":0.2}},\"type\":\"histogram\"}],\"scattergl\":[{\"type\":\"scattergl\",\"marker\":{\"colorbar\":{\"outlinewidth\":0,\"ticks\":\"\"}}}],\"scatter3d\":[{\"type\":\"scatter3d\",\"line\":{\"colorbar\":{\"outlinewidth\":0,\"ticks\":\"\"}},\"marker\":{\"colorbar\":{\"outlinewidth\":0,\"ticks\":\"\"}}}],\"scattermapbox\":[{\"type\":\"scattermapbox\",\"marker\":{\"colorbar\":{\"outlinewidth\":0,\"ticks\":\"\"}}}],\"scatterternary\":[{\"type\":\"scatterternary\",\"marker\":{\"colorbar\":{\"outlinewidth\":0,\"ticks\":\"\"}}}],\"scattercarpet\":[{\"type\":\"scattercarpet\",\"marker\":{\"colorbar\":{\"outlinewidth\":0,\"ticks\":\"\"}}}],\"carpet\":[{\"aaxis\":{\"endlinecolor\":\"#2a3f5f\",\"gridcolor\":\"white\",\"linecolor\":\"white\",\"minorgridcolor\":\"white\",\"startlinecolor\":\"#2a3f5f\"},\"baxis\":{\"endlinecolor\":\"#2a3f5f\",\"gridcolor\":\"white\",\"linecolor\":\"white\",\"minorgridcolor\":\"white\",\"startlinecolor\":\"#2a3f5f\"},\"type\":\"carpet\"}],\"table\":[{\"cells\":{\"fill\":{\"color\":\"#EBF0F8\"},\"line\":{\"color\":\"white\"}},\"header\":{\"fill\":{\"color\":\"#C8D4E3\"},\"line\":{\"color\":\"white\"}},\"type\":\"table\"}],\"barpolar\":[{\"marker\":{\"line\":{\"color\":\"#E5ECF6\",\"width\":0.5},\"pattern\":{\"fillmode\":\"overlay\",\"size\":10,\"solidity\":0.2}},\"type\":\"barpolar\"}],\"pie\":[{\"automargin\":true,\"type\":\"pie\"}]},\"layout\":{\"autotypenumbers\":\"strict\",\"colorway\":[\"#636efa\",\"#EF553B\",\"#00cc96\",\"#ab63fa\",\"#FFA15A\",\"#19d3f3\",\"#FF6692\",\"#B6E880\",\"#FF97FF\",\"#FECB52\"],\"font\":{\"color\":\"#2a3f5f\"},\"hovermode\":\"closest\",\"hoverlabel\":{\"align\":\"left\"},\"paper_bgcolor\":\"white\",\"plot_bgcolor\":\"#E5ECF6\",\"polar\":{\"bgcolor\":\"#E5ECF6\",\"angularaxis\":{\"gridcolor\":\"white\",\"linecolor\":\"white\",\"ticks\":\"\"},\"radialaxis\":{\"gridcolor\":\"white\",\"linecolor\":\"white\",\"ticks\":\"\"}},\"ternary\":{\"bgcolor\":\"#E5ECF6\",\"aaxis\":{\"gridcolor\":\"white\",\"linecolor\":\"white\",\"ticks\":\"\"},\"baxis\":{\"gridcolor\":\"white\",\"linecolor\":\"white\",\"ticks\":\"\"},\"caxis\":{\"gridcolor\":\"white\",\"linecolor\":\"white\",\"ticks\":\"\"}},\"coloraxis\":{\"colorbar\":{\"outlinewidth\":0,\"ticks\":\"\"}},\"colorscale\":{\"sequential\":[[0.0,\"#0d0887\"],[0.1111111111111111,\"#46039f\"],[0.2222222222222222,\"#7201a8\"],[0.3333333333333333,\"#9c179e\"],[0.4444444444444444,\"#bd3786\"],[0.5555555555555556,\"#d8576b\"],[0.6666666666666666,\"#ed7953\"],[0.7777777777777778,\"#fb9f3a\"],[0.8888888888888888,\"#fdca26\"],[1.0,\"#f0f921\"]],\"sequentialminus\":[[0.0,\"#0d0887\"],[0.1111111111111111,\"#46039f\"],[0.2222222222222222,\"#7201a8\"],[0.3333333333333333,\"#9c179e\"],[0.4444444444444444,\"#bd3786\"],[0.5555555555555556,\"#d8576b\"],[0.6666666666666666,\"#ed7953\"],[0.7777777777777778,\"#fb9f3a\"],[0.8888888888888888,\"#fdca26\"],[1.0,\"#f0f921\"]],\"diverging\":[[0,\"#8e0152\"],[0.1,\"#c51b7d\"],[0.2,\"#de77ae\"],[0.3,\"#f1b6da\"],[0.4,\"#fde0ef\"],[0.5,\"#f7f7f7\"],[0.6,\"#e6f5d0\"],[0.7,\"#b8e186\"],[0.8,\"#7fbc41\"],[0.9,\"#4d9221\"],[1,\"#276419\"]]},\"xaxis\":{\"gridcolor\":\"white\",\"linecolor\":\"white\",\"ticks\":\"\",\"title\":{\"standoff\":15},\"zerolinecolor\":\"white\",\"automargin\":true,\"zerolinewidth\":2},\"yaxis\":{\"gridcolor\":\"white\",\"linecolor\":\"white\",\"ticks\":\"\",\"title\":{\"standoff\":15},\"zerolinecolor\":\"white\",\"automargin\":true,\"zerolinewidth\":2},\"scene\":{\"xaxis\":{\"backgroundcolor\":\"#E5ECF6\",\"gridcolor\":\"white\",\"linecolor\":\"white\",\"showbackground\":true,\"ticks\":\"\",\"zerolinecolor\":\"white\",\"gridwidth\":2},\"yaxis\":{\"backgroundcolor\":\"#E5ECF6\",\"gridcolor\":\"white\",\"linecolor\":\"white\",\"showbackground\":true,\"ticks\":\"\",\"zerolinecolor\":\"white\",\"gridwidth\":2},\"zaxis\":{\"backgroundcolor\":\"#E5ECF6\",\"gridcolor\":\"white\",\"linecolor\":\"white\",\"showbackground\":true,\"ticks\":\"\",\"zerolinecolor\":\"white\",\"gridwidth\":2}},\"shapedefaults\":{\"line\":{\"color\":\"#2a3f5f\"}},\"annotationdefaults\":{\"arrowcolor\":\"#2a3f5f\",\"arrowhead\":0,\"arrowwidth\":1},\"geo\":{\"bgcolor\":\"white\",\"landcolor\":\"#E5ECF6\",\"subunitcolor\":\"white\",\"showland\":true,\"showlakes\":true,\"lakecolor\":\"white\"},\"title\":{\"x\":0.05},\"mapbox\":{\"style\":\"light\"}}},\"xaxis\":{\"anchor\":\"y\",\"domain\":[0.0,1.0],\"title\":{\"text\":\"Customer Type\"},\"categoryorder\":\"array\",\"categoryarray\":[\"Short-Term (Offset)\",\"Long-Term (Offset)\"]},\"yaxis\":{\"anchor\":\"x\",\"domain\":[0.0,1.0],\"title\":{\"text\":\"Average Offset Value (\\u00a3)\"}},\"legend\":{\"title\":{\"text\":\"Customer Type\"},\"tracegroupgap\":0},\"title\":{\"text\":\"\\u003cb\\u003eAverage Offset Value: Short-Term vs Long-Term Customers\\u003c\\u002fb\\u003e\"},\"barmode\":\"relative\",\"width\":700,\"height\":500,\"bargap\":0.1},                        {\"responsive\": true}                    ).then(function(){\n",
              "                            \n",
              "var gd = document.getElementById('8c7c93f1-c19b-42a4-88b0-b3f9d03d0de4');\n",
              "var x = new MutationObserver(function (mutations, observer) {{\n",
              "        var display = window.getComputedStyle(gd).display;\n",
              "        if (!display || display === 'none') {{\n",
              "            console.log([gd, 'removed!']);\n",
              "            Plotly.purge(gd);\n",
              "            observer.disconnect();\n",
              "        }}\n",
              "}});\n",
              "\n",
              "// Listen for the removal of the full notebook cells\n",
              "var notebookContainer = gd.closest('#notebook-container');\n",
              "if (notebookContainer) {{\n",
              "    x.observe(notebookContainer, {childList: true});\n",
              "}}\n",
              "\n",
              "// Listen for the clearing of the current output cell\n",
              "var outputEl = gd.closest('.output');\n",
              "if (outputEl) {{\n",
              "    x.observe(outputEl, {childList: true});\n",
              "}}\n",
              "\n",
              "                        })                };                            </script>        </div>\n",
              "</body>\n",
              "</html>"
            ]
          },
          "metadata": {}
        }
      ]
    },
    {
      "cell_type": "markdown",
      "source": [
        "* **Short-Term Customers (less than 1 year):** The average offset value is £288.97.\n",
        "* **Long-Term Customers (more than 1 year):** The average offset value is £359.41.\n",
        "\n",
        "* This indicates that short-term customers, on average, owe less compared to long-term customers, suggesting that financial obligations may not be the primary reason for early churn."
      ],
      "metadata": {
        "id": "UY3PuK4SjXnA"
      }
    },
    {
      "cell_type": "code",
      "source": [
        "installment_plan_comparison = {\n",
        "    'Short-Term (Installment Plan)': short_term_customers['InstallmentPlan'].mean(),\n",
        "    'Long-Term (Installment Plan)': long_term_customers['InstallmentPlan'].mean()\n",
        "}\n",
        "\n",
        "installment_plans = pd.DataFrame(list(installment_plan_comparison.items()), columns=['Customer Type', 'Percentage on Installment Plans'])\n",
        "\n",
        "# plot\n",
        "fig = px.bar(installment_plans, x='Customer Type', y='Percentage on Installment Plans', title='<b>Installment Plan Usage: Short-Term vs Long-Term Customers</b>',\n",
        "             labels={'Percentage on Installment Plans': 'Percentage on Installment Plans', 'Customer Type': 'Customer Type'},\n",
        "             color='Customer Type', color_discrete_sequence=['#00CC96', '#B6E880'])\n",
        "fig.update_layout(width=700, height=500, bargap=0.1)\n",
        "fig.show()\n"
      ],
      "metadata": {
        "colab": {
          "base_uri": "https://localhost:8080/",
          "height": 517
        },
        "id": "S9YIURUrkZDa",
        "outputId": "45201ba2-5d96-48fe-cd82-fee2f3428275"
      },
      "execution_count": null,
      "outputs": [
        {
          "output_type": "display_data",
          "data": {
            "text/html": [
              "<html>\n",
              "<head><meta charset=\"utf-8\" /></head>\n",
              "<body>\n",
              "    <div>            <script src=\"https://cdnjs.cloudflare.com/ajax/libs/mathjax/2.7.5/MathJax.js?config=TeX-AMS-MML_SVG\"></script><script type=\"text/javascript\">if (window.MathJax && window.MathJax.Hub && window.MathJax.Hub.Config) {window.MathJax.Hub.Config({SVG: {font: \"STIX-Web\"}});}</script>                <script type=\"text/javascript\">window.PlotlyConfig = {MathJaxConfig: 'local'};</script>\n",
              "        <script charset=\"utf-8\" src=\"https://cdn.plot.ly/plotly-2.24.1.min.js\"></script>                <div id=\"dfb85d92-f842-43f2-8516-42db5679f71f\" class=\"plotly-graph-div\" style=\"height:500px; width:700px;\"></div>            <script type=\"text/javascript\">                                    window.PLOTLYENV=window.PLOTLYENV || {};                                    if (document.getElementById(\"dfb85d92-f842-43f2-8516-42db5679f71f\")) {                    Plotly.newPlot(                        \"dfb85d92-f842-43f2-8516-42db5679f71f\",                        [{\"alignmentgroup\":\"True\",\"hovertemplate\":\"Customer Type=%{x}\\u003cbr\\u003ePercentage on Installment Plans=%{y}\\u003cextra\\u003e\\u003c\\u002fextra\\u003e\",\"legendgroup\":\"Short-Term (Installment Plan)\",\"marker\":{\"color\":\"#00CC96\",\"pattern\":{\"shape\":\"\"}},\"name\":\"Short-Term (Installment Plan)\",\"offsetgroup\":\"Short-Term (Installment Plan)\",\"orientation\":\"v\",\"showlegend\":true,\"textposition\":\"auto\",\"x\":[\"Short-Term (Installment Plan)\"],\"xaxis\":\"x\",\"y\":[0.02127659574468085],\"yaxis\":\"y\",\"type\":\"bar\"},{\"alignmentgroup\":\"True\",\"hovertemplate\":\"Customer Type=%{x}\\u003cbr\\u003ePercentage on Installment Plans=%{y}\\u003cextra\\u003e\\u003c\\u002fextra\\u003e\",\"legendgroup\":\"Long-Term (Installment Plan)\",\"marker\":{\"color\":\"#B6E880\",\"pattern\":{\"shape\":\"\"}},\"name\":\"Long-Term (Installment Plan)\",\"offsetgroup\":\"Long-Term (Installment Plan)\",\"orientation\":\"v\",\"showlegend\":true,\"textposition\":\"auto\",\"x\":[\"Long-Term (Installment Plan)\"],\"xaxis\":\"x\",\"y\":[0.10434245729573986],\"yaxis\":\"y\",\"type\":\"bar\"}],                        {\"template\":{\"data\":{\"histogram2dcontour\":[{\"type\":\"histogram2dcontour\",\"colorbar\":{\"outlinewidth\":0,\"ticks\":\"\"},\"colorscale\":[[0.0,\"#0d0887\"],[0.1111111111111111,\"#46039f\"],[0.2222222222222222,\"#7201a8\"],[0.3333333333333333,\"#9c179e\"],[0.4444444444444444,\"#bd3786\"],[0.5555555555555556,\"#d8576b\"],[0.6666666666666666,\"#ed7953\"],[0.7777777777777778,\"#fb9f3a\"],[0.8888888888888888,\"#fdca26\"],[1.0,\"#f0f921\"]]}],\"choropleth\":[{\"type\":\"choropleth\",\"colorbar\":{\"outlinewidth\":0,\"ticks\":\"\"}}],\"histogram2d\":[{\"type\":\"histogram2d\",\"colorbar\":{\"outlinewidth\":0,\"ticks\":\"\"},\"colorscale\":[[0.0,\"#0d0887\"],[0.1111111111111111,\"#46039f\"],[0.2222222222222222,\"#7201a8\"],[0.3333333333333333,\"#9c179e\"],[0.4444444444444444,\"#bd3786\"],[0.5555555555555556,\"#d8576b\"],[0.6666666666666666,\"#ed7953\"],[0.7777777777777778,\"#fb9f3a\"],[0.8888888888888888,\"#fdca26\"],[1.0,\"#f0f921\"]]}],\"heatmap\":[{\"type\":\"heatmap\",\"colorbar\":{\"outlinewidth\":0,\"ticks\":\"\"},\"colorscale\":[[0.0,\"#0d0887\"],[0.1111111111111111,\"#46039f\"],[0.2222222222222222,\"#7201a8\"],[0.3333333333333333,\"#9c179e\"],[0.4444444444444444,\"#bd3786\"],[0.5555555555555556,\"#d8576b\"],[0.6666666666666666,\"#ed7953\"],[0.7777777777777778,\"#fb9f3a\"],[0.8888888888888888,\"#fdca26\"],[1.0,\"#f0f921\"]]}],\"heatmapgl\":[{\"type\":\"heatmapgl\",\"colorbar\":{\"outlinewidth\":0,\"ticks\":\"\"},\"colorscale\":[[0.0,\"#0d0887\"],[0.1111111111111111,\"#46039f\"],[0.2222222222222222,\"#7201a8\"],[0.3333333333333333,\"#9c179e\"],[0.4444444444444444,\"#bd3786\"],[0.5555555555555556,\"#d8576b\"],[0.6666666666666666,\"#ed7953\"],[0.7777777777777778,\"#fb9f3a\"],[0.8888888888888888,\"#fdca26\"],[1.0,\"#f0f921\"]]}],\"contourcarpet\":[{\"type\":\"contourcarpet\",\"colorbar\":{\"outlinewidth\":0,\"ticks\":\"\"}}],\"contour\":[{\"type\":\"contour\",\"colorbar\":{\"outlinewidth\":0,\"ticks\":\"\"},\"colorscale\":[[0.0,\"#0d0887\"],[0.1111111111111111,\"#46039f\"],[0.2222222222222222,\"#7201a8\"],[0.3333333333333333,\"#9c179e\"],[0.4444444444444444,\"#bd3786\"],[0.5555555555555556,\"#d8576b\"],[0.6666666666666666,\"#ed7953\"],[0.7777777777777778,\"#fb9f3a\"],[0.8888888888888888,\"#fdca26\"],[1.0,\"#f0f921\"]]}],\"surface\":[{\"type\":\"surface\",\"colorbar\":{\"outlinewidth\":0,\"ticks\":\"\"},\"colorscale\":[[0.0,\"#0d0887\"],[0.1111111111111111,\"#46039f\"],[0.2222222222222222,\"#7201a8\"],[0.3333333333333333,\"#9c179e\"],[0.4444444444444444,\"#bd3786\"],[0.5555555555555556,\"#d8576b\"],[0.6666666666666666,\"#ed7953\"],[0.7777777777777778,\"#fb9f3a\"],[0.8888888888888888,\"#fdca26\"],[1.0,\"#f0f921\"]]}],\"mesh3d\":[{\"type\":\"mesh3d\",\"colorbar\":{\"outlinewidth\":0,\"ticks\":\"\"}}],\"scatter\":[{\"fillpattern\":{\"fillmode\":\"overlay\",\"size\":10,\"solidity\":0.2},\"type\":\"scatter\"}],\"parcoords\":[{\"type\":\"parcoords\",\"line\":{\"colorbar\":{\"outlinewidth\":0,\"ticks\":\"\"}}}],\"scatterpolargl\":[{\"type\":\"scatterpolargl\",\"marker\":{\"colorbar\":{\"outlinewidth\":0,\"ticks\":\"\"}}}],\"bar\":[{\"error_x\":{\"color\":\"#2a3f5f\"},\"error_y\":{\"color\":\"#2a3f5f\"},\"marker\":{\"line\":{\"color\":\"#E5ECF6\",\"width\":0.5},\"pattern\":{\"fillmode\":\"overlay\",\"size\":10,\"solidity\":0.2}},\"type\":\"bar\"}],\"scattergeo\":[{\"type\":\"scattergeo\",\"marker\":{\"colorbar\":{\"outlinewidth\":0,\"ticks\":\"\"}}}],\"scatterpolar\":[{\"type\":\"scatterpolar\",\"marker\":{\"colorbar\":{\"outlinewidth\":0,\"ticks\":\"\"}}}],\"histogram\":[{\"marker\":{\"pattern\":{\"fillmode\":\"overlay\",\"size\":10,\"solidity\":0.2}},\"type\":\"histogram\"}],\"scattergl\":[{\"type\":\"scattergl\",\"marker\":{\"colorbar\":{\"outlinewidth\":0,\"ticks\":\"\"}}}],\"scatter3d\":[{\"type\":\"scatter3d\",\"line\":{\"colorbar\":{\"outlinewidth\":0,\"ticks\":\"\"}},\"marker\":{\"colorbar\":{\"outlinewidth\":0,\"ticks\":\"\"}}}],\"scattermapbox\":[{\"type\":\"scattermapbox\",\"marker\":{\"colorbar\":{\"outlinewidth\":0,\"ticks\":\"\"}}}],\"scatterternary\":[{\"type\":\"scatterternary\",\"marker\":{\"colorbar\":{\"outlinewidth\":0,\"ticks\":\"\"}}}],\"scattercarpet\":[{\"type\":\"scattercarpet\",\"marker\":{\"colorbar\":{\"outlinewidth\":0,\"ticks\":\"\"}}}],\"carpet\":[{\"aaxis\":{\"endlinecolor\":\"#2a3f5f\",\"gridcolor\":\"white\",\"linecolor\":\"white\",\"minorgridcolor\":\"white\",\"startlinecolor\":\"#2a3f5f\"},\"baxis\":{\"endlinecolor\":\"#2a3f5f\",\"gridcolor\":\"white\",\"linecolor\":\"white\",\"minorgridcolor\":\"white\",\"startlinecolor\":\"#2a3f5f\"},\"type\":\"carpet\"}],\"table\":[{\"cells\":{\"fill\":{\"color\":\"#EBF0F8\"},\"line\":{\"color\":\"white\"}},\"header\":{\"fill\":{\"color\":\"#C8D4E3\"},\"line\":{\"color\":\"white\"}},\"type\":\"table\"}],\"barpolar\":[{\"marker\":{\"line\":{\"color\":\"#E5ECF6\",\"width\":0.5},\"pattern\":{\"fillmode\":\"overlay\",\"size\":10,\"solidity\":0.2}},\"type\":\"barpolar\"}],\"pie\":[{\"automargin\":true,\"type\":\"pie\"}]},\"layout\":{\"autotypenumbers\":\"strict\",\"colorway\":[\"#636efa\",\"#EF553B\",\"#00cc96\",\"#ab63fa\",\"#FFA15A\",\"#19d3f3\",\"#FF6692\",\"#B6E880\",\"#FF97FF\",\"#FECB52\"],\"font\":{\"color\":\"#2a3f5f\"},\"hovermode\":\"closest\",\"hoverlabel\":{\"align\":\"left\"},\"paper_bgcolor\":\"white\",\"plot_bgcolor\":\"#E5ECF6\",\"polar\":{\"bgcolor\":\"#E5ECF6\",\"angularaxis\":{\"gridcolor\":\"white\",\"linecolor\":\"white\",\"ticks\":\"\"},\"radialaxis\":{\"gridcolor\":\"white\",\"linecolor\":\"white\",\"ticks\":\"\"}},\"ternary\":{\"bgcolor\":\"#E5ECF6\",\"aaxis\":{\"gridcolor\":\"white\",\"linecolor\":\"white\",\"ticks\":\"\"},\"baxis\":{\"gridcolor\":\"white\",\"linecolor\":\"white\",\"ticks\":\"\"},\"caxis\":{\"gridcolor\":\"white\",\"linecolor\":\"white\",\"ticks\":\"\"}},\"coloraxis\":{\"colorbar\":{\"outlinewidth\":0,\"ticks\":\"\"}},\"colorscale\":{\"sequential\":[[0.0,\"#0d0887\"],[0.1111111111111111,\"#46039f\"],[0.2222222222222222,\"#7201a8\"],[0.3333333333333333,\"#9c179e\"],[0.4444444444444444,\"#bd3786\"],[0.5555555555555556,\"#d8576b\"],[0.6666666666666666,\"#ed7953\"],[0.7777777777777778,\"#fb9f3a\"],[0.8888888888888888,\"#fdca26\"],[1.0,\"#f0f921\"]],\"sequentialminus\":[[0.0,\"#0d0887\"],[0.1111111111111111,\"#46039f\"],[0.2222222222222222,\"#7201a8\"],[0.3333333333333333,\"#9c179e\"],[0.4444444444444444,\"#bd3786\"],[0.5555555555555556,\"#d8576b\"],[0.6666666666666666,\"#ed7953\"],[0.7777777777777778,\"#fb9f3a\"],[0.8888888888888888,\"#fdca26\"],[1.0,\"#f0f921\"]],\"diverging\":[[0,\"#8e0152\"],[0.1,\"#c51b7d\"],[0.2,\"#de77ae\"],[0.3,\"#f1b6da\"],[0.4,\"#fde0ef\"],[0.5,\"#f7f7f7\"],[0.6,\"#e6f5d0\"],[0.7,\"#b8e186\"],[0.8,\"#7fbc41\"],[0.9,\"#4d9221\"],[1,\"#276419\"]]},\"xaxis\":{\"gridcolor\":\"white\",\"linecolor\":\"white\",\"ticks\":\"\",\"title\":{\"standoff\":15},\"zerolinecolor\":\"white\",\"automargin\":true,\"zerolinewidth\":2},\"yaxis\":{\"gridcolor\":\"white\",\"linecolor\":\"white\",\"ticks\":\"\",\"title\":{\"standoff\":15},\"zerolinecolor\":\"white\",\"automargin\":true,\"zerolinewidth\":2},\"scene\":{\"xaxis\":{\"backgroundcolor\":\"#E5ECF6\",\"gridcolor\":\"white\",\"linecolor\":\"white\",\"showbackground\":true,\"ticks\":\"\",\"zerolinecolor\":\"white\",\"gridwidth\":2},\"yaxis\":{\"backgroundcolor\":\"#E5ECF6\",\"gridcolor\":\"white\",\"linecolor\":\"white\",\"showbackground\":true,\"ticks\":\"\",\"zerolinecolor\":\"white\",\"gridwidth\":2},\"zaxis\":{\"backgroundcolor\":\"#E5ECF6\",\"gridcolor\":\"white\",\"linecolor\":\"white\",\"showbackground\":true,\"ticks\":\"\",\"zerolinecolor\":\"white\",\"gridwidth\":2}},\"shapedefaults\":{\"line\":{\"color\":\"#2a3f5f\"}},\"annotationdefaults\":{\"arrowcolor\":\"#2a3f5f\",\"arrowhead\":0,\"arrowwidth\":1},\"geo\":{\"bgcolor\":\"white\",\"landcolor\":\"#E5ECF6\",\"subunitcolor\":\"white\",\"showland\":true,\"showlakes\":true,\"lakecolor\":\"white\"},\"title\":{\"x\":0.05},\"mapbox\":{\"style\":\"light\"}}},\"xaxis\":{\"anchor\":\"y\",\"domain\":[0.0,1.0],\"title\":{\"text\":\"Customer Type\"},\"categoryorder\":\"array\",\"categoryarray\":[\"Short-Term (Installment Plan)\",\"Long-Term (Installment Plan)\"]},\"yaxis\":{\"anchor\":\"x\",\"domain\":[0.0,1.0],\"title\":{\"text\":\"Percentage on Installment Plans\"}},\"legend\":{\"title\":{\"text\":\"Customer Type\"},\"tracegroupgap\":0},\"title\":{\"text\":\"\\u003cb\\u003eInstallment Plan Usage: Short-Term vs Long-Term Customers\\u003c\\u002fb\\u003e\"},\"barmode\":\"relative\",\"width\":700,\"height\":500,\"bargap\":0.1},                        {\"responsive\": true}                    ).then(function(){\n",
              "                            \n",
              "var gd = document.getElementById('dfb85d92-f842-43f2-8516-42db5679f71f');\n",
              "var x = new MutationObserver(function (mutations, observer) {{\n",
              "        var display = window.getComputedStyle(gd).display;\n",
              "        if (!display || display === 'none') {{\n",
              "            console.log([gd, 'removed!']);\n",
              "            Plotly.purge(gd);\n",
              "            observer.disconnect();\n",
              "        }}\n",
              "}});\n",
              "\n",
              "// Listen for the removal of the full notebook cells\n",
              "var notebookContainer = gd.closest('#notebook-container');\n",
              "if (notebookContainer) {{\n",
              "    x.observe(notebookContainer, {childList: true});\n",
              "}}\n",
              "\n",
              "// Listen for the clearing of the current output cell\n",
              "var outputEl = gd.closest('.output');\n",
              "if (outputEl) {{\n",
              "    x.observe(outputEl, {childList: true});\n",
              "}}\n",
              "\n",
              "                        })                };                            </script>        </div>\n",
              "</body>\n",
              "</html>"
            ]
          },
          "metadata": {}
        }
      ]
    },
    {
      "cell_type": "markdown",
      "source": [
        "* Only **2.12% Short-Term Customers** are on an installment plan, while **10.5% Long-Term Customers** are on an installment plan.\n",
        "* The low percentage of short-term customers on installment plans suggests that installment plans seems to help with retention, as more long-term customers tend to be on such plans."
      ],
      "metadata": {
        "id": "4GCeAzlIj364"
      }
    },
    {
      "cell_type": "code",
      "source": [
        "debt_plan_comparison = short_term_customers['DebtPlanGroup'].value_counts(normalize=True).to_dict()\n",
        "#plot\n",
        "debt_plan_series = pd.Series(debt_plan_comparison)\n",
        "debt_plan_series.plot(kind='pie', autopct='%1.1f%%', title='Debt Plan Distribution for Short-Term Customers', colors=['lightgreen', 'lightblue', 'salmon'])\n",
        "plt.ylabel('')\n",
        "plt.show()"
      ],
      "metadata": {
        "colab": {
          "base_uri": "https://localhost:8080/",
          "height": 428
        },
        "id": "rodpqh6XN6gk",
        "outputId": "23828ebf-f49e-4d2a-9c15-fdc2281bf076"
      },
      "execution_count": null,
      "outputs": [
        {
          "output_type": "display_data",
          "data": {
            "text/plain": [
              "<Figure size 640x480 with 1 Axes>"
            ],
            "image/png": "[encoded data removed]"
          },
          "metadata": {}
        }
      ]
    },
    {
      "cell_type": "markdown",
      "source": [
        "* The **48.2%** of short-term customers use **Cash payments** which is significantly high.\n",
        "* Short-term customers are more likely to pay using cash, which might suggest a lack of engagement or loyalty and correlate with higher churn risk."
      ],
      "metadata": {
        "id": "YE_3cBb-rSm2"
      }
    },
    {
      "cell_type": "code",
      "source": [
        "complaint_comparison = short_term_customers['ComplaintType'].value_counts(normalize=True).to_dict()\n",
        "#plot\n",
        "complaints_series = pd.Series(complaint_comparison)\n",
        "complaints_series.plot(kind='pie', autopct='%1.1f%%', title='Complaints Among Short-Term Customers', colors=['salmon'])\n",
        "plt.ylabel('')\n",
        "plt.show()\n"
      ],
      "metadata": {
        "id": "G222hdcNPCQN",
        "colab": {
          "base_uri": "https://localhost:8080/",
          "height": 428
        },
        "outputId": "fe6d6476-0bfc-458f-f871-c51d531789c6"
      },
      "execution_count": null,
      "outputs": [
        {
          "output_type": "display_data",
          "data": {
            "text/plain": [
              "<Figure size 640x480 with 1 Axes>"
            ],
            "image/png": "[encoded data removed]"
          },
          "metadata": {}
        }
      ]
    },
    {
      "cell_type": "markdown",
      "source": [
        "* 10.6% of short-term customers who left had a complaint registered. This suggests that complaints are a factor contributing to early churn.\n",
        "* Complaints appear to be a key driver of early churn, as all short-term customers who left had registered a complaint.\n",
        "\n"
      ],
      "metadata": {
        "id": "bTR__uvnpKl8"
      }
    },
    {
      "cell_type": "code",
      "source": [
        "churn_by_account_type = df.groupby('AccountDeterminationGroup')['Loss'].mean()\n",
        "\n",
        "# plot\n",
        "churn_by_account_type.plot(kind='bar', color='lightblue', title='Churn Rate by Account Type (Residential vs SME)')\n",
        "plt.ylabel('Churn Rate')\n",
        "plt.xlabel('Account Type')\n",
        "plt.show()"
      ],
      "metadata": {
        "colab": {
          "base_uri": "https://localhost:8080/",
          "height": 523
        },
        "id": "MXWbB2uRpLGu",
        "outputId": "a903bd8c-7660-4802-cbc3-ac772a52be5a"
      },
      "execution_count": null,
      "outputs": [
        {
          "output_type": "display_data",
          "data": {
            "text/plain": [
              "<Figure size 640x480 with 1 Axes>"
            ],
            "image/png": "[encoded data removed]"
          },
          "metadata": {}
        }
      ]
    },
    {
      "cell_type": "markdown",
      "source": [
        "* This indicates that SME customers have a much higher churn rate of 42.7% which means they're significantly  more likely to leave compared to domestic customers."
      ],
      "metadata": {
        "id": "ERzC7kTBv1Rf"
      }
    },
    {
      "cell_type": "code",
      "source": [
        "churn_by_risk_code = df.groupby('OfgemCodeRisk')['Loss'].mean()\n",
        "\n",
        "#plot\n",
        "churn_by_risk_code.plot(kind='bar', color='salmon', title='Churn Rate by Ofgem Risk Code')\n",
        "plt.ylabel('Churn Rate')\n",
        "plt.xlabel('Ofgem Risk Code')\n",
        "plt.show()"
      ],
      "metadata": {
        "colab": {
          "base_uri": "https://localhost:8080/",
          "height": 646
        },
        "id": "SwA0K-mRvoY3",
        "outputId": "56efd0f2-780e-44f3-a6d9-3dcefdb37875"
      },
      "execution_count": null,
      "outputs": [
        {
          "output_type": "display_data",
          "data": {
            "text/plain": [
              "<Figure size 640x480 with 1 Axes>"
            ],
            "image/png": "[encoded data removed]"
          },
          "metadata": {}
        }
      ]
    },
    {
      "cell_type": "markdown",
      "source": [
        "* This indicates that customers without registered vulnerabilities (PSR No SNEED Flags) have the highest churn rate followed by customer registered with high risk and medium risk, while those with medium-risk and financial vulnerability (PSR Medium Risk Plus SFI) have the lowest churn rate."
      ],
      "metadata": {
        "id": "xVU1kWLJwLRY"
      }
    },
    {
      "cell_type": "code",
      "source": [
        "churn_vs_income_level = pd.crosstab(df['Loss'], pd.cut(df['MosaicHouseholdIncValue'], bins=5), normalize='index')\n",
        "\n",
        "# plot\n",
        "churn_vs_income_level.plot(kind='bar', stacked=True, colormap='Set2')\n",
        "plt.title('Churn vs Household Income Level')\n",
        "plt.xlabel('Churn (0 = Retained, 1 = Churned)')\n",
        "plt.ylabel('Proportion')\n",
        "plt.show()"
      ],
      "metadata": {
        "colab": {
          "base_uri": "https://localhost:8080/",
          "height": 467
        },
        "id": "DtBNr4Jo-Jp2",
        "outputId": "f2542df0-2573-4475-807a-f61f42c4be77"
      },
      "execution_count": null,
      "outputs": [
        {
          "output_type": "display_data",
          "data": {
            "text/plain": [
              "<Figure size 640x480 with 1 Axes>"
            ],
            "image/png": "[encoded data removed]"
          },
          "metadata": {}
        }
      ]
    },
    {
      "cell_type": "markdown",
      "source": [
        "* The lower income brackets have a higher churn rate. This implies that customers facing financial constraints are more likely to leave, possibly due to affordability issues."
      ],
      "metadata": {
        "id": "r5I2Wyuy-bIQ"
      }
    },
    {
      "cell_type": "code",
      "source": [
        "churn_by_mosaic_group = df.groupby('MosaicGroup')['Loss'].mean()\n",
        "\n",
        "#plot\n",
        "churn_by_mosaic_group.plot(kind='bar', color='lightgreen', title='Churn Rate by Mosaic Group')\n",
        "plt.ylabel('Churn Rate')\n",
        "plt.xlabel('Mosaic Group')\n",
        "plt.show()"
      ],
      "metadata": {
        "colab": {
          "base_uri": "https://localhost:8080/",
          "height": 611
        },
        "id": "fAbsy4oBv8Jz",
        "outputId": "10ecb5e3-a96f-406b-fc16-0dadf0912804"
      },
      "execution_count": null,
      "outputs": [
        {
          "output_type": "display_data",
          "data": {
            "text/plain": [
              "<Figure size 640x480 with 1 Axes>"
            ],
            "image/png": "[encoded data removed]"
          },
          "metadata": {}
        }
      ]
    },
    {
      "cell_type": "markdown",
      "source": [
        "The geographical segmentation shows that certain groups like Prestige Positions and Country Living tend to have higher churn, while groups like Modest Traditions and Family Basics are more stable."
      ],
      "metadata": {
        "id": "qPKknKj_x2cl"
      }
    },
    {
      "cell_type": "markdown",
      "source": [
        "# 5. Feature Engineering"
      ],
      "metadata": {
        "id": "34VHInj0_WNx"
      }
    },
    {
      "cell_type": "code",
      "source": [
        "df1 = df.copy()"
      ],
      "metadata": {
        "id": "AxL6KHqvFJCm"
      },
      "execution_count": null,
      "outputs": []
    },
    {
      "cell_type": "code",
      "source": [
        "df1.head()"
      ],
      "metadata": {
        "colab": {
          "base_uri": "https://localhost:8080/",
          "height": 487
        },
        "id": "8z_o1MhMOf9V",
        "outputId": "651c7786-c2e4-41fa-a89b-ee37014f39c7"
      },
      "execution_count": null,
      "outputs": [
        {
          "output_type": "execute_result",
          "data": {
            "text/plain": [
              "    LossDate  Loss AccountStartdate AccountDeterminationGroup  \\\n",
              "0 2024-05-08     1       2014-02-20                  Domestic   \n",
              "1 2024-05-15     1       2022-11-19                  Domestic   \n",
              "2 2024-05-29     1       2023-05-31                  Domestic   \n",
              "3 2024-05-06     1       2013-09-24                  Domestic   \n",
              "4 2024-05-16     1       2019-04-06                  Domestic   \n",
              "\n",
              "   InstallmentPlan  OffsetValue DebtPlanGroup PaymentFrequency ComplaintType  \\\n",
              "0                0       488.17          Cash          Monthly  No Complaint   \n",
              "1                0        27.88          Cash          Monthly  No Complaint   \n",
              "2                0        66.87          Cash          Monthly  No Complaint   \n",
              "3                0        46.65          Cash        Quarterly  No Complaint   \n",
              "4                0      1145.62          Cash          Monthly  No Complaint   \n",
              "\n",
              "  StatusGrouping CustomerCategory        CustomerType PreferredContactMethod  \\\n",
              "0      No Status           Person             Unknown          Post (letter)   \n",
              "1      No Status           Person  Type not available          Post (letter)   \n",
              "2      No Status           Person             Unknown                 E-Mail   \n",
              "3      No Status           Person             Unknown          Post (letter)   \n",
              "4      No Status           Person  Type not available          Post (letter)   \n",
              "\n",
              "        OfgemCodeRisk          MosaicGroup           MosaicType  \\\n",
              "0       PSR_High_Risk        Vintage Value      Pocket Pensions   \n",
              "1  PSR_No_SNEED_Flags  Aspiring Homemakers  Contemporary Starts   \n",
              "2  PSR_No_SNEED_Flags          Rental Hubs        Central Pulse   \n",
              "3  PSR_No_SNEED_Flags    Municipal Tenants       Mature Workers   \n",
              "4  PSR_No_SNEED_Flags        Vintage Value      Pocket Pensions   \n",
              "\n",
              "                                      MosaicTypeDesc MosaicDigitalGroup  \\\n",
              "0  Penny-wise elderly singles renting in developm...   Tentative Elders   \n",
              "1  Young families and singles setting up home in ...  First-Gen Parents   \n",
              "2  City-loving youngsters renting central flats i...   Digital Frontier   \n",
              "3  Older social renters settled in low value home...   Online Escapists   \n",
              "4  Penny-wise elderly singles renting in developm...   Tentative Elders   \n",
              "\n",
              "                              MosaicDigitalGroupDesc   MosaicFSSGroup  \\\n",
              "0  Elderly singles and households with little to ...  Declining Years   \n",
              "1  Members of the first digital generation who ar...     Deal Seekers   \n",
              "2  Young adults with sophisticated online behavio...     Money Makers   \n",
              "3  Singles and families with squeezed finances us...     Cash Economy   \n",
              "4  Elderly singles and households with little to ...  Declining Years   \n",
              "\n",
              "        MosaicFSSType  MosaicHouseholdIncValue MosaicResidenceType  \\\n",
              "0  Elderly Assistance                     9264                Flat   \n",
              "1     Cost Optimisers                    25973       Semi-Detached   \n",
              "2           City Buzz                    54227                Flat   \n",
              "3   Workaday Families                    22953            Terraced   \n",
              "4  Elderly Assistance                     9264                Flat   \n",
              "\n",
              "   MosaicNoAdultsHousehold  Still_with_ScottishPower  Customer_Tenure_Days  \\\n",
              "0                        1                         0                3730.0   \n",
              "1                        2                         0                 543.0   \n",
              "2                        2                         0                 364.0   \n",
              "3                        2                         0                3877.0   \n",
              "4                        1                         0                1867.0   \n",
              "\n",
              "   Customer_Tenure_Months  Customer_Tenure_Years Tenure_Group  \n",
              "0              122.536137              10.212183    > 5 years  \n",
              "1               17.838371               1.486653    1-3 years  \n",
              "2               11.957950               0.996578     < 1 year  \n",
              "3              127.365309              10.614648    > 5 years  \n",
              "4               61.333771               5.111567    > 5 years  "
            ],
            "text/html": [
              "\n",
              "  <div id=\"df-7aedc272-42e6-4327-90c7-e68fd310eca9\" class=\"colab-df-container\">\n",
              "    <div>\n",
              "<style scoped>\n",
              "    .dataframe tbody tr th:only-of-type {\n",
              "        vertical-align: middle;\n",
              "    }\n",
              "\n",
              "    .dataframe tbody tr th {\n",
              "        vertical-align: top;\n",
              "    }\n",
              "\n",
              "    .dataframe thead th {\n",
              "        text-align: right;\n",
              "    }\n",
              "</style>\n",
              "<table border=\"1\" class=\"dataframe\">\n",
              "  <thead>\n",
              "    <tr style=\"text-align: right;\">\n",
              "      <th></th>\n",
              "      <th>LossDate</th>\n",
              "      <th>Loss</th>\n",
              "      <th>AccountStartdate</th>\n",
              "      <th>AccountDeterminationGroup</th>\n",
              "      <th>InstallmentPlan</th>\n",
              "      <th>OffsetValue</th>\n",
              "      <th>DebtPlanGroup</th>\n",
              "      <th>PaymentFrequency</th>\n",
              "      <th>ComplaintType</th>\n",
              "      <th>StatusGrouping</th>\n",
              "      <th>CustomerCategory</th>\n",
              "      <th>CustomerType</th>\n",
              "      <th>PreferredContactMethod</th>\n",
              "      <th>OfgemCodeRisk</th>\n",
              "      <th>MosaicGroup</th>\n",
              "      <th>MosaicType</th>\n",
              "      <th>MosaicTypeDesc</th>\n",
              "      <th>MosaicDigitalGroup</th>\n",
              "      <th>MosaicDigitalGroupDesc</th>\n",
              "      <th>MosaicFSSGroup</th>\n",
              "      <th>MosaicFSSType</th>\n",
              "      <th>MosaicHouseholdIncValue</th>\n",
              "      <th>MosaicResidenceType</th>\n",
              "      <th>MosaicNoAdultsHousehold</th>\n",
              "      <th>Still_with_ScottishPower</th>\n",
              "      <th>Customer_Tenure_Days</th>\n",
              "      <th>Customer_Tenure_Months</th>\n",
              "      <th>Customer_Tenure_Years</th>\n",
              "      <th>Tenure_Group</th>\n",
              "    </tr>\n",
              "  </thead>\n",
              "  <tbody>\n",
              "    <tr>\n",
              "      <th>0</th>\n",
              "      <td>2024-05-08</td>\n",
              "      <td>1</td>\n",
              "      <td>2014-02-20</td>\n",
              "      <td>Domestic</td>\n",
              "      <td>0</td>\n",
              "      <td>488.17</td>\n",
              "      <td>Cash</td>\n",
              "      <td>Monthly</td>\n",
              "      <td>No Complaint</td>\n",
              "      <td>No Status</td>\n",
              "      <td>Person</td>\n",
              "      <td>Unknown</td>\n",
              "      <td>Post (letter)</td>\n",
              "      <td>PSR_High_Risk</td>\n",
              "      <td>Vintage Value</td>\n",
              "      <td>Pocket Pensions</td>\n",
              "      <td>Penny-wise elderly singles renting in developm...</td>\n",
              "      <td>Tentative Elders</td>\n",
              "      <td>Elderly singles and households with little to ...</td>\n",
              "      <td>Declining Years</td>\n",
              "      <td>Elderly Assistance</td>\n",
              "      <td>9264</td>\n",
              "      <td>Flat</td>\n",
              "      <td>1</td>\n",
              "      <td>0</td>\n",
              "      <td>3730.0</td>\n",
              "      <td>122.536137</td>\n",
              "      <td>10.212183</td>\n",
              "      <td>&gt; 5 years</td>\n",
              "    </tr>\n",
              "    <tr>\n",
              "      <th>1</th>\n",
              "      <td>2024-05-15</td>\n",
              "      <td>1</td>\n",
              "      <td>2022-11-19</td>\n",
              "      <td>Domestic</td>\n",
              "      <td>0</td>\n",
              "      <td>27.88</td>\n",
              "      <td>Cash</td>\n",
              "      <td>Monthly</td>\n",
              "      <td>No Complaint</td>\n",
              "      <td>No Status</td>\n",
              "      <td>Person</td>\n",
              "      <td>Type not available</td>\n",
              "      <td>Post (letter)</td>\n",
              "      <td>PSR_No_SNEED_Flags</td>\n",
              "      <td>Aspiring Homemakers</td>\n",
              "      <td>Contemporary Starts</td>\n",
              "      <td>Young families and singles setting up home in ...</td>\n",
              "      <td>First-Gen Parents</td>\n",
              "      <td>Members of the first digital generation who ar...</td>\n",
              "      <td>Deal Seekers</td>\n",
              "      <td>Cost Optimisers</td>\n",
              "      <td>25973</td>\n",
              "      <td>Semi-Detached</td>\n",
              "      <td>2</td>\n",
              "      <td>0</td>\n",
              "      <td>543.0</td>\n",
              "      <td>17.838371</td>\n",
              "      <td>1.486653</td>\n",
              "      <td>1-3 years</td>\n",
              "    </tr>\n",
              "    <tr>\n",
              "      <th>2</th>\n",
              "      <td>2024-05-29</td>\n",
              "      <td>1</td>\n",
              "      <td>2023-05-31</td>\n",
              "      <td>Domestic</td>\n",
              "      <td>0</td>\n",
              "      <td>66.87</td>\n",
              "      <td>Cash</td>\n",
              "      <td>Monthly</td>\n",
              "      <td>No Complaint</td>\n",
              "      <td>No Status</td>\n",
              "      <td>Person</td>\n",
              "      <td>Unknown</td>\n",
              "      <td>E-Mail</td>\n",
              "      <td>PSR_No_SNEED_Flags</td>\n",
              "      <td>Rental Hubs</td>\n",
              "      <td>Central Pulse</td>\n",
              "      <td>City-loving youngsters renting central flats i...</td>\n",
              "      <td>Digital Frontier</td>\n",
              "      <td>Young adults with sophisticated online behavio...</td>\n",
              "      <td>Money Makers</td>\n",
              "      <td>City Buzz</td>\n",
              "      <td>54227</td>\n",
              "      <td>Flat</td>\n",
              "      <td>2</td>\n",
              "      <td>0</td>\n",
              "      <td>364.0</td>\n",
              "      <td>11.957950</td>\n",
              "      <td>0.996578</td>\n",
              "      <td>&lt; 1 year</td>\n",
              "    </tr>\n",
              "    <tr>\n",
              "      <th>3</th>\n",
              "      <td>2024-05-06</td>\n",
              "      <td>1</td>\n",
              "      <td>2013-09-24</td>\n",
              "      <td>Domestic</td>\n",
              "      <td>0</td>\n",
              "      <td>46.65</td>\n",
              "      <td>Cash</td>\n",
              "      <td>Quarterly</td>\n",
              "      <td>No Complaint</td>\n",
              "      <td>No Status</td>\n",
              "      <td>Person</td>\n",
              "      <td>Unknown</td>\n",
              "      <td>Post (letter)</td>\n",
              "      <td>PSR_No_SNEED_Flags</td>\n",
              "      <td>Municipal Tenants</td>\n",
              "      <td>Mature Workers</td>\n",
              "      <td>Older social renters settled in low value home...</td>\n",
              "      <td>Online Escapists</td>\n",
              "      <td>Singles and families with squeezed finances us...</td>\n",
              "      <td>Cash Economy</td>\n",
              "      <td>Workaday Families</td>\n",
              "      <td>22953</td>\n",
              "      <td>Terraced</td>\n",
              "      <td>2</td>\n",
              "      <td>0</td>\n",
              "      <td>3877.0</td>\n",
              "      <td>127.365309</td>\n",
              "      <td>10.614648</td>\n",
              "      <td>&gt; 5 years</td>\n",
              "    </tr>\n",
              "    <tr>\n",
              "      <th>4</th>\n",
              "      <td>2024-05-16</td>\n",
              "      <td>1</td>\n",
              "      <td>2019-04-06</td>\n",
              "      <td>Domestic</td>\n",
              "      <td>0</td>\n",
              "      <td>1145.62</td>\n",
              "      <td>Cash</td>\n",
              "      <td>Monthly</td>\n",
              "      <td>No Complaint</td>\n",
              "      <td>No Status</td>\n",
              "      <td>Person</td>\n",
              "      <td>Type not available</td>\n",
              "      <td>Post (letter)</td>\n",
              "      <td>PSR_No_SNEED_Flags</td>\n",
              "      <td>Vintage Value</td>\n",
              "      <td>Pocket Pensions</td>\n",
              "      <td>Penny-wise elderly singles renting in developm...</td>\n",
              "      <td>Tentative Elders</td>\n",
              "      <td>Elderly singles and households with little to ...</td>\n",
              "      <td>Declining Years</td>\n",
              "      <td>Elderly Assistance</td>\n",
              "      <td>9264</td>\n",
              "      <td>Flat</td>\n",
              "      <td>1</td>\n",
              "      <td>0</td>\n",
              "      <td>1867.0</td>\n",
              "      <td>61.333771</td>\n",
              "      <td>5.111567</td>\n",
              "      <td>&gt; 5 years</td>\n",
              "    </tr>\n",
              "  </tbody>\n",
              "</table>\n",
              "</div>\n",
              "    <div class=\"colab-df-buttons\">\n",
              "\n",
              "  <div class=\"colab-df-container\">\n",
              "    <button class=\"colab-df-convert\" onclick=\"convertToInteractive('df-7aedc272-42e6-4327-90c7-e68fd310eca9')\"\n",
              "            title=\"Convert this dataframe to an interactive table.\"\n",
              "            style=\"display:none;\">\n",
              "\n",
              "  <svg xmlns=\"http://www.w3.org/2000/svg\" height=\"24px\" viewBox=\"0 -960 960 960\">\n",
              "    <path d=\"M120-120v-720h720v720H120Zm60-500h600v-160H180v160Zm220 220h160v-160H400v160Zm0 220h160v-160H400v160ZM180-400h160v-160H180v160Zm440 0h160v-160H620v160ZM180-180h160v-160H180v160Zm440 0h160v-160H620v160Z\"/>\n",
              "  </svg>\n",
              "    </button>\n",
              "\n",
              "  <style>\n",
              "    .colab-df-container {\n",
              "      display:flex;\n",
              "      gap: 12px;\n",
              "    }\n",
              "\n",
              "    .colab-df-convert {\n",
              "      background-color: #E8F0FE;\n",
              "      border: none;\n",
              "      border-radius: 50%;\n",
              "      cursor: pointer;\n",
              "      display: none;\n",
              "      fill: #1967D2;\n",
              "      height: 32px;\n",
              "      padding: 0 0 0 0;\n",
              "      width: 32px;\n",
              "    }\n",
              "\n",
              "    .colab-df-convert:hover {\n",
              "      background-color: #E2EBFA;\n",
              "      box-shadow: 0px 1px 2px rgba(60, 64, 67, 0.3), 0px 1px 3px 1px rgba(60, 64, 67, 0.15);\n",
              "      fill: #174EA6;\n",
              "    }\n",
              "\n",
              "    .colab-df-buttons div {\n",
              "      margin-bottom: 4px;\n",
              "    }\n",
              "\n",
              "    [theme=dark] .colab-df-convert {\n",
              "      background-color: #3B4455;\n",
              "      fill: #D2E3FC;\n",
              "    }\n",
              "\n",
              "    [theme=dark] .colab-df-convert:hover {\n",
              "      background-color: #434B5C;\n",
              "      box-shadow: 0px 1px 3px 1px rgba(0, 0, 0, 0.15);\n",
              "      filter: drop-shadow(0px 1px 2px rgba(0, 0, 0, 0.3));\n",
              "      fill: #FFFFFF;\n",
              "    }\n",
              "  </style>\n",
              "\n",
              "    <script>\n",
              "      const buttonEl =\n",
              "        document.querySelector('#df-7aedc272-42e6-4327-90c7-e68fd310eca9 button.colab-df-convert');\n",
              "      buttonEl.style.display =\n",
              "        google.colab.kernel.accessAllowed ? 'block' : 'none';\n",
              "\n",
              "      async function convertToInteractive(key) {\n",
              "        const element = document.querySelector('#df-7aedc272-42e6-4327-90c7-e68fd310eca9');\n",
              "        const dataTable =\n",
              "          await google.colab.kernel.invokeFunction('convertToInteractive',\n",
              "                                                    [key], {});\n",
              "        if (!dataTable) return;\n",
              "\n",
              "        const docLinkHtml = 'Like what you see? Visit the ' +\n",
              "          '<a target=\"_blank\" href=https://colab.research.google.com/notebooks/data_table.ipynb>data table notebook</a>'\n",
              "          + ' to learn more about interactive tables.';\n",
              "        element.innerHTML = '';\n",
              "        dataTable['output_type'] = 'display_data';\n",
              "        await google.colab.output.renderOutput(dataTable, element);\n",
              "        const docLink = document.createElement('div');\n",
              "        docLink.innerHTML = docLinkHtml;\n",
              "        element.appendChild(docLink);\n",
              "      }\n",
              "    </script>\n",
              "  </div>\n",
              "\n",
              "\n",
              "<div id=\"df-87d91bad-702f-4407-8137-1d57c731b17a\">\n",
              "  <button class=\"colab-df-quickchart\" onclick=\"quickchart('df-87d91bad-702f-4407-8137-1d57c731b17a')\"\n",
              "            title=\"Suggest charts\"\n",
              "            style=\"display:none;\">\n",
              "\n",
              "<svg xmlns=\"http://www.w3.org/2000/svg\" height=\"24px\"viewBox=\"0 0 24 24\"\n",
              "     width=\"24px\">\n",
              "    <g>\n",
              "        <path d=\"M19 3H5c-1.1 0-2 .9-2 2v14c0 1.1.9 2 2 2h14c1.1 0 2-.9 2-2V5c0-1.1-.9-2-2-2zM9 17H7v-7h2v7zm4 0h-2V7h2v10zm4 0h-2v-4h2v4z\"/>\n",
              "    </g>\n",
              "</svg>\n",
              "  </button>\n",
              "\n",
              "<style>\n",
              "  .colab-df-quickchart {\n",
              "      --bg-color: #E8F0FE;\n",
              "      --fill-color: #1967D2;\n",
              "      --hover-bg-color: #E2EBFA;\n",
              "      --hover-fill-color: #174EA6;\n",
              "      --disabled-fill-color: #AAA;\n",
              "      --disabled-bg-color: #DDD;\n",
              "  }\n",
              "\n",
              "  [theme=dark] .colab-df-quickchart {\n",
              "      --bg-color: #3B4455;\n",
              "      --fill-color: #D2E3FC;\n",
              "      --hover-bg-color: #434B5C;\n",
              "      --hover-fill-color: #FFFFFF;\n",
              "      --disabled-bg-color: #3B4455;\n",
              "      --disabled-fill-color: #666;\n",
              "  }\n",
              "\n",
              "  .colab-df-quickchart {\n",
              "    background-color: var(--bg-color);\n",
              "    border: none;\n",
              "    border-radius: 50%;\n",
              "    cursor: pointer;\n",
              "    display: none;\n",
              "    fill: var(--fill-color);\n",
              "    height: 32px;\n",
              "    padding: 0;\n",
              "    width: 32px;\n",
              "  }\n",
              "\n",
              "  .colab-df-quickchart:hover {\n",
              "    background-color: var(--hover-bg-color);\n",
              "    box-shadow: 0 1px 2px rgba(60, 64, 67, 0.3), 0 1px 3px 1px rgba(60, 64, 67, 0.15);\n",
              "    fill: var(--button-hover-fill-color);\n",
              "  }\n",
              "\n",
              "  .colab-df-quickchart-complete:disabled,\n",
              "  .colab-df-quickchart-complete:disabled:hover {\n",
              "    background-color: var(--disabled-bg-color);\n",
              "    fill: var(--disabled-fill-color);\n",
              "    box-shadow: none;\n",
              "  }\n",
              "\n",
              "  .colab-df-spinner {\n",
              "    border: 2px solid var(--fill-color);\n",
              "    border-color: transparent;\n",
              "    border-bottom-color: var(--fill-color);\n",
              "    animation:\n",
              "      spin 1s steps(1) infinite;\n",
              "  }\n",
              "\n",
              "  @keyframes spin {\n",
              "    0% {\n",
              "      border-color: transparent;\n",
              "      border-bottom-color: var(--fill-color);\n",
              "      border-left-color: var(--fill-color);\n",
              "    }\n",
              "    20% {\n",
              "      border-color: transparent;\n",
              "      border-left-color: var(--fill-color);\n",
              "      border-top-color: var(--fill-color);\n",
              "    }\n",
              "    30% {\n",
              "      border-color: transparent;\n",
              "      border-left-color: var(--fill-color);\n",
              "      border-top-color: var(--fill-color);\n",
              "      border-right-color: var(--fill-color);\n",
              "    }\n",
              "    40% {\n",
              "      border-color: transparent;\n",
              "      border-right-color: var(--fill-color);\n",
              "      border-top-color: var(--fill-color);\n",
              "    }\n",
              "    60% {\n",
              "      border-color: transparent;\n",
              "      border-right-color: var(--fill-color);\n",
              "    }\n",
              "    80% {\n",
              "      border-color: transparent;\n",
              "      border-right-color: var(--fill-color);\n",
              "      border-bottom-color: var(--fill-color);\n",
              "    }\n",
              "    90% {\n",
              "      border-color: transparent;\n",
              "      border-bottom-color: var(--fill-color);\n",
              "    }\n",
              "  }\n",
              "</style>\n",
              "\n",
              "  <script>\n",
              "    async function quickchart(key) {\n",
              "      const quickchartButtonEl =\n",
              "        document.querySelector('#' + key + ' button');\n",
              "      quickchartButtonEl.disabled = true;  // To prevent multiple clicks.\n",
              "      quickchartButtonEl.classList.add('colab-df-spinner');\n",
              "      try {\n",
              "        const charts = await google.colab.kernel.invokeFunction(\n",
              "            'suggestCharts', [key], {});\n",
              "      } catch (error) {\n",
              "        console.error('Error during call to suggestCharts:', error);\n",
              "      }\n",
              "      quickchartButtonEl.classList.remove('colab-df-spinner');\n",
              "      quickchartButtonEl.classList.add('colab-df-quickchart-complete');\n",
              "    }\n",
              "    (() => {\n",
              "      let quickchartButtonEl =\n",
              "        document.querySelector('#df-87d91bad-702f-4407-8137-1d57c731b17a button');\n",
              "      quickchartButtonEl.style.display =\n",
              "        google.colab.kernel.accessAllowed ? 'block' : 'none';\n",
              "    })();\n",
              "  </script>\n",
              "</div>\n",
              "\n",
              "    </div>\n",
              "  </div>\n"
            ],
            "application/vnd.google.colaboratory.intrinsic+json": {
              "type": "dataframe",
              "variable_name": "df1"
            }
          },
          "metadata": {},
          "execution_count": 55
        }
      ]
    },
    {
      "cell_type": "markdown",
      "source": [
        "### 5.1 Select appropriate features and dummy variables"
      ],
      "metadata": {
        "id": "0WvcfPmhR_Ag"
      }
    },
    {
      "cell_type": "code",
      "source": [
        "features = ['AccountDeterminationGroup', 'DebtPlanGroup', 'ComplaintType', 'OfgemCodeRisk', 'MosaicGroup', 'MosaicResidenceType']"
      ],
      "metadata": {
        "id": "R44cUKj8Tb16"
      },
      "execution_count": null,
      "outputs": []
    },
    {
      "cell_type": "code",
      "source": [
        "dummies = pd.get_dummies(df1[features]).astype(int)"
      ],
      "metadata": {
        "id": "O3ypHcCgU0w7"
      },
      "execution_count": null,
      "outputs": []
    },
    {
      "cell_type": "code",
      "source": [
        "dummies.head()"
      ],
      "metadata": {
        "colab": {
          "base_uri": "https://localhost:8080/",
          "height": 244
        },
        "id": "dFYuh7RlU4f3",
        "outputId": "aabd7f95-17f1-4310-985e-61e73da9717e"
      },
      "execution_count": null,
      "outputs": [
        {
          "output_type": "execute_result",
          "data": {
            "text/plain": [
              "   AccountDeterminationGroup_Domestic  AccountDeterminationGroup_SME  \\\n",
              "0                                   1                              0   \n",
              "1                                   1                              0   \n",
              "2                                   1                              0   \n",
              "3                                   1                              0   \n",
              "4                                   1                              0   \n",
              "\n",
              "   DebtPlanGroup_Cash  DebtPlanGroup_DD  DebtPlanGroup_PP  \\\n",
              "0                   1                 0                 0   \n",
              "1                   1                 0                 0   \n",
              "2                   1                 0                 0   \n",
              "3                   1                 0                 0   \n",
              "4                   1                 0                 0   \n",
              "\n",
              "   ComplaintType_Complaint  ComplaintType_No Complaint  \\\n",
              "0                        0                           1   \n",
              "1                        0                           1   \n",
              "2                        0                           1   \n",
              "3                        0                           1   \n",
              "4                        0                           1   \n",
              "\n",
              "   ComplaintType_Ombudsman  OfgemCodeRisk_PSR_High_Risk  \\\n",
              "0                        0                            1   \n",
              "1                        0                            0   \n",
              "2                        0                            0   \n",
              "3                        0                            0   \n",
              "4                        0                            0   \n",
              "\n",
              "   OfgemCodeRisk_PSR_Medium_Risk  OfgemCodeRisk_PSR_Medium_Risk_Plus_SFI  \\\n",
              "0                              0                                       0   \n",
              "1                              0                                       0   \n",
              "2                              0                                       0   \n",
              "3                              0                                       0   \n",
              "4                              0                                       0   \n",
              "\n",
              "   OfgemCodeRisk_PSR_No_SNEED_Flags  OfgemCodeRisk_PSR_Other_Flags  \\\n",
              "0                                 0                              0   \n",
              "1                                 1                              0   \n",
              "2                                 1                              0   \n",
              "3                                 1                              0   \n",
              "4                                 1                              0   \n",
              "\n",
              "   MosaicGroup_Aspiring Homemakers  MosaicGroup_City Prosperity  \\\n",
              "0                                0                            0   \n",
              "1                                1                            0   \n",
              "2                                0                            0   \n",
              "3                                0                            0   \n",
              "4                                0                            0   \n",
              "\n",
              "   MosaicGroup_Country Living  MosaicGroup_Domestic Success  \\\n",
              "0                           0                             0   \n",
              "1                           0                             0   \n",
              "2                           0                             0   \n",
              "3                           0                             0   \n",
              "4                           0                             0   \n",
              "\n",
              "   MosaicGroup_Family Basics  MosaicGroup_Modest Traditions  \\\n",
              "0                          0                              0   \n",
              "1                          0                              0   \n",
              "2                          0                              0   \n",
              "3                          0                              0   \n",
              "4                          0                              0   \n",
              "\n",
              "   MosaicGroup_Municipal Tenants  MosaicGroup_Prestige Positions  \\\n",
              "0                              0                               0   \n",
              "1                              0                               0   \n",
              "2                              0                               0   \n",
              "3                              1                               0   \n",
              "4                              0                               0   \n",
              "\n",
              "   MosaicGroup_Rental Hubs  MosaicGroup_Rural Reality  \\\n",
              "0                        0                          0   \n",
              "1                        0                          0   \n",
              "2                        1                          0   \n",
              "3                        0                          0   \n",
              "4                        0                          0   \n",
              "\n",
              "   MosaicGroup_Senior Security  MosaicGroup_Suburban Stability  \\\n",
              "0                            0                               0   \n",
              "1                            0                               0   \n",
              "2                            0                               0   \n",
              "3                            0                               0   \n",
              "4                            0                               0   \n",
              "\n",
              "   MosaicGroup_Transient Renters  MosaicGroup_UNKNOWN  \\\n",
              "0                              0                    0   \n",
              "1                              0                    0   \n",
              "2                              0                    0   \n",
              "3                              0                    0   \n",
              "4                              0                    0   \n",
              "\n",
              "   MosaicGroup_Urban Cohesion  MosaicGroup_Vintage Value  \\\n",
              "0                           0                          1   \n",
              "1                           0                          0   \n",
              "2                           0                          0   \n",
              "3                           0                          0   \n",
              "4                           0                          1   \n",
              "\n",
              "   MosaicResidenceType_Bungalow  MosaicResidenceType_Detached  \\\n",
              "0                             0                             0   \n",
              "1                             0                             0   \n",
              "2                             0                             0   \n",
              "3                             0                             0   \n",
              "4                             0                             0   \n",
              "\n",
              "   MosaicResidenceType_Flat  MosaicResidenceType_Semi-Detached  \\\n",
              "0                         1                                  0   \n",
              "1                         0                                  1   \n",
              "2                         1                                  0   \n",
              "3                         0                                  0   \n",
              "4                         1                                  0   \n",
              "\n",
              "   MosaicResidenceType_Terraced  \n",
              "0                             0  \n",
              "1                             0  \n",
              "2                             0  \n",
              "3                             1  \n",
              "4                             0  "
            ],
            "text/html": [
              "\n",
              "  <div id=\"df-92907435-9928-44c8-8e39-2fd7a08bb6f0\" class=\"colab-df-container\">\n",
              "    <div>\n",
              "<style scoped>\n",
              "    .dataframe tbody tr th:only-of-type {\n",
              "        vertical-align: middle;\n",
              "    }\n",
              "\n",
              "    .dataframe tbody tr th {\n",
              "        vertical-align: top;\n",
              "    }\n",
              "\n",
              "    .dataframe thead th {\n",
              "        text-align: right;\n",
              "    }\n",
              "</style>\n",
              "<table border=\"1\" class=\"dataframe\">\n",
              "  <thead>\n",
              "    <tr style=\"text-align: right;\">\n",
              "      <th></th>\n",
              "      <th>AccountDeterminationGroup_Domestic</th>\n",
              "      <th>AccountDeterminationGroup_SME</th>\n",
              "      <th>DebtPlanGroup_Cash</th>\n",
              "      <th>DebtPlanGroup_DD</th>\n",
              "      <th>DebtPlanGroup_PP</th>\n",
              "      <th>ComplaintType_Complaint</th>\n",
              "      <th>ComplaintType_No Complaint</th>\n",
              "      <th>ComplaintType_Ombudsman</th>\n",
              "      <th>OfgemCodeRisk_PSR_High_Risk</th>\n",
              "      <th>OfgemCodeRisk_PSR_Medium_Risk</th>\n",
              "      <th>OfgemCodeRisk_PSR_Medium_Risk_Plus_SFI</th>\n",
              "      <th>OfgemCodeRisk_PSR_No_SNEED_Flags</th>\n",
              "      <th>OfgemCodeRisk_PSR_Other_Flags</th>\n",
              "      <th>MosaicGroup_Aspiring Homemakers</th>\n",
              "      <th>MosaicGroup_City Prosperity</th>\n",
              "      <th>MosaicGroup_Country Living</th>\n",
              "      <th>MosaicGroup_Domestic Success</th>\n",
              "      <th>MosaicGroup_Family Basics</th>\n",
              "      <th>MosaicGroup_Modest Traditions</th>\n",
              "      <th>MosaicGroup_Municipal Tenants</th>\n",
              "      <th>MosaicGroup_Prestige Positions</th>\n",
              "      <th>MosaicGroup_Rental Hubs</th>\n",
              "      <th>MosaicGroup_Rural Reality</th>\n",
              "      <th>MosaicGroup_Senior Security</th>\n",
              "      <th>MosaicGroup_Suburban Stability</th>\n",
              "      <th>MosaicGroup_Transient Renters</th>\n",
              "      <th>MosaicGroup_UNKNOWN</th>\n",
              "      <th>MosaicGroup_Urban Cohesion</th>\n",
              "      <th>MosaicGroup_Vintage Value</th>\n",
              "      <th>MosaicResidenceType_Bungalow</th>\n",
              "      <th>MosaicResidenceType_Detached</th>\n",
              "      <th>MosaicResidenceType_Flat</th>\n",
              "      <th>MosaicResidenceType_Semi-Detached</th>\n",
              "      <th>MosaicResidenceType_Terraced</th>\n",
              "    </tr>\n",
              "  </thead>\n",
              "  <tbody>\n",
              "    <tr>\n",
              "      <th>0</th>\n",
              "      <td>1</td>\n",
              "      <td>0</td>\n",
              "      <td>1</td>\n",
              "      <td>0</td>\n",
              "      <td>0</td>\n",
              "      <td>0</td>\n",
              "      <td>1</td>\n",
              "      <td>0</td>\n",
              "      <td>1</td>\n",
              "      <td>0</td>\n",
              "      <td>0</td>\n",
              "      <td>0</td>\n",
              "      <td>0</td>\n",
              "      <td>0</td>\n",
              "      <td>0</td>\n",
              "      <td>0</td>\n",
              "      <td>0</td>\n",
              "      <td>0</td>\n",
              "      <td>0</td>\n",
              "      <td>0</td>\n",
              "      <td>0</td>\n",
              "      <td>0</td>\n",
              "      <td>0</td>\n",
              "      <td>0</td>\n",
              "      <td>0</td>\n",
              "      <td>0</td>\n",
              "      <td>0</td>\n",
              "      <td>0</td>\n",
              "      <td>1</td>\n",
              "      <td>0</td>\n",
              "      <td>0</td>\n",
              "      <td>1</td>\n",
              "      <td>0</td>\n",
              "      <td>0</td>\n",
              "    </tr>\n",
              "    <tr>\n",
              "      <th>1</th>\n",
              "      <td>1</td>\n",
              "      <td>0</td>\n",
              "      <td>1</td>\n",
              "      <td>0</td>\n",
              "      <td>0</td>\n",
              "      <td>0</td>\n",
              "      <td>1</td>\n",
              "      <td>0</td>\n",
              "      <td>0</td>\n",
              "      <td>0</td>\n",
              "      <td>0</td>\n",
              "      <td>1</td>\n",
              "      <td>0</td>\n",
              "      <td>1</td>\n",
              "      <td>0</td>\n",
              "      <td>0</td>\n",
              "      <td>0</td>\n",
              "      <td>0</td>\n",
              "      <td>0</td>\n",
              "      <td>0</td>\n",
              "      <td>0</td>\n",
              "      <td>0</td>\n",
              "      <td>0</td>\n",
              "      <td>0</td>\n",
              "      <td>0</td>\n",
              "      <td>0</td>\n",
              "      <td>0</td>\n",
              "      <td>0</td>\n",
              "      <td>0</td>\n",
              "      <td>0</td>\n",
              "      <td>0</td>\n",
              "      <td>0</td>\n",
              "      <td>1</td>\n",
              "      <td>0</td>\n",
              "    </tr>\n",
              "    <tr>\n",
              "      <th>2</th>\n",
              "      <td>1</td>\n",
              "      <td>0</td>\n",
              "      <td>1</td>\n",
              "      <td>0</td>\n",
              "      <td>0</td>\n",
              "      <td>0</td>\n",
              "      <td>1</td>\n",
              "      <td>0</td>\n",
              "      <td>0</td>\n",
              "      <td>0</td>\n",
              "      <td>0</td>\n",
              "      <td>1</td>\n",
              "      <td>0</td>\n",
              "      <td>0</td>\n",
              "      <td>0</td>\n",
              "      <td>0</td>\n",
              "      <td>0</td>\n",
              "      <td>0</td>\n",
              "      <td>0</td>\n",
              "      <td>0</td>\n",
              "      <td>0</td>\n",
              "      <td>1</td>\n",
              "      <td>0</td>\n",
              "      <td>0</td>\n",
              "      <td>0</td>\n",
              "      <td>0</td>\n",
              "      <td>0</td>\n",
              "      <td>0</td>\n",
              "      <td>0</td>\n",
              "      <td>0</td>\n",
              "      <td>0</td>\n",
              "      <td>1</td>\n",
              "      <td>0</td>\n",
              "      <td>0</td>\n",
              "    </tr>\n",
              "    <tr>\n",
              "      <th>3</th>\n",
              "      <td>1</td>\n",
              "      <td>0</td>\n",
              "      <td>1</td>\n",
              "      <td>0</td>\n",
              "      <td>0</td>\n",
              "      <td>0</td>\n",
              "      <td>1</td>\n",
              "      <td>0</td>\n",
              "      <td>0</td>\n",
              "      <td>0</td>\n",
              "      <td>0</td>\n",
              "      <td>1</td>\n",
              "      <td>0</td>\n",
              "      <td>0</td>\n",
              "      <td>0</td>\n",
              "      <td>0</td>\n",
              "      <td>0</td>\n",
              "      <td>0</td>\n",
              "      <td>0</td>\n",
              "      <td>1</td>\n",
              "      <td>0</td>\n",
              "      <td>0</td>\n",
              "      <td>0</td>\n",
              "      <td>0</td>\n",
              "      <td>0</td>\n",
              "      <td>0</td>\n",
              "      <td>0</td>\n",
              "      <td>0</td>\n",
              "      <td>0</td>\n",
              "      <td>0</td>\n",
              "      <td>0</td>\n",
              "      <td>0</td>\n",
              "      <td>0</td>\n",
              "      <td>1</td>\n",
              "    </tr>\n",
              "    <tr>\n",
              "      <th>4</th>\n",
              "      <td>1</td>\n",
              "      <td>0</td>\n",
              "      <td>1</td>\n",
              "      <td>0</td>\n",
              "      <td>0</td>\n",
              "      <td>0</td>\n",
              "      <td>1</td>\n",
              "      <td>0</td>\n",
              "      <td>0</td>\n",
              "      <td>0</td>\n",
              "      <td>0</td>\n",
              "      <td>1</td>\n",
              "      <td>0</td>\n",
              "      <td>0</td>\n",
              "      <td>0</td>\n",
              "      <td>0</td>\n",
              "      <td>0</td>\n",
              "      <td>0</td>\n",
              "      <td>0</td>\n",
              "      <td>0</td>\n",
              "      <td>0</td>\n",
              "      <td>0</td>\n",
              "      <td>0</td>\n",
              "      <td>0</td>\n",
              "      <td>0</td>\n",
              "      <td>0</td>\n",
              "      <td>0</td>\n",
              "      <td>0</td>\n",
              "      <td>1</td>\n",
              "      <td>0</td>\n",
              "      <td>0</td>\n",
              "      <td>1</td>\n",
              "      <td>0</td>\n",
              "      <td>0</td>\n",
              "    </tr>\n",
              "  </tbody>\n",
              "</table>\n",
              "</div>\n",
              "    <div class=\"colab-df-buttons\">\n",
              "\n",
              "  <div class=\"colab-df-container\">\n",
              "    <button class=\"colab-df-convert\" onclick=\"convertToInteractive('df-92907435-9928-44c8-8e39-2fd7a08bb6f0')\"\n",
              "            title=\"Convert this dataframe to an interactive table.\"\n",
              "            style=\"display:none;\">\n",
              "\n",
              "  <svg xmlns=\"http://www.w3.org/2000/svg\" height=\"24px\" viewBox=\"0 -960 960 960\">\n",
              "    <path d=\"M120-120v-720h720v720H120Zm60-500h600v-160H180v160Zm220 220h160v-160H400v160Zm0 220h160v-160H400v160ZM180-400h160v-160H180v160Zm440 0h160v-160H620v160ZM180-180h160v-160H180v160Zm440 0h160v-160H620v160Z\"/>\n",
              "  </svg>\n",
              "    </button>\n",
              "\n",
              "  <style>\n",
              "    .colab-df-container {\n",
              "      display:flex;\n",
              "      gap: 12px;\n",
              "    }\n",
              "\n",
              "    .colab-df-convert {\n",
              "      background-color: #E8F0FE;\n",
              "      border: none;\n",
              "      border-radius: 50%;\n",
              "      cursor: pointer;\n",
              "      display: none;\n",
              "      fill: #1967D2;\n",
              "      height: 32px;\n",
              "      padding: 0 0 0 0;\n",
              "      width: 32px;\n",
              "    }\n",
              "\n",
              "    .colab-df-convert:hover {\n",
              "      background-color: #E2EBFA;\n",
              "      box-shadow: 0px 1px 2px rgba(60, 64, 67, 0.3), 0px 1px 3px 1px rgba(60, 64, 67, 0.15);\n",
              "      fill: #174EA6;\n",
              "    }\n",
              "\n",
              "    .colab-df-buttons div {\n",
              "      margin-bottom: 4px;\n",
              "    }\n",
              "\n",
              "    [theme=dark] .colab-df-convert {\n",
              "      background-color: #3B4455;\n",
              "      fill: #D2E3FC;\n",
              "    }\n",
              "\n",
              "    [theme=dark] .colab-df-convert:hover {\n",
              "      background-color: #434B5C;\n",
              "      box-shadow: 0px 1px 3px 1px rgba(0, 0, 0, 0.15);\n",
              "      filter: drop-shadow(0px 1px 2px rgba(0, 0, 0, 0.3));\n",
              "      fill: #FFFFFF;\n",
              "    }\n",
              "  </style>\n",
              "\n",
              "    <script>\n",
              "      const buttonEl =\n",
              "        document.querySelector('#df-92907435-9928-44c8-8e39-2fd7a08bb6f0 button.colab-df-convert');\n",
              "      buttonEl.style.display =\n",
              "        google.colab.kernel.accessAllowed ? 'block' : 'none';\n",
              "\n",
              "      async function convertToInteractive(key) {\n",
              "        const element = document.querySelector('#df-92907435-9928-44c8-8e39-2fd7a08bb6f0');\n",
              "        const dataTable =\n",
              "          await google.colab.kernel.invokeFunction('convertToInteractive',\n",
              "                                                    [key], {});\n",
              "        if (!dataTable) return;\n",
              "\n",
              "        const docLinkHtml = 'Like what you see? Visit the ' +\n",
              "          '<a target=\"_blank\" href=https://colab.research.google.com/notebooks/data_table.ipynb>data table notebook</a>'\n",
              "          + ' to learn more about interactive tables.';\n",
              "        element.innerHTML = '';\n",
              "        dataTable['output_type'] = 'display_data';\n",
              "        await google.colab.output.renderOutput(dataTable, element);\n",
              "        const docLink = document.createElement('div');\n",
              "        docLink.innerHTML = docLinkHtml;\n",
              "        element.appendChild(docLink);\n",
              "      }\n",
              "    </script>\n",
              "  </div>\n",
              "\n",
              "\n",
              "<div id=\"df-0725863a-9c44-412f-b214-e6dc05af4e67\">\n",
              "  <button class=\"colab-df-quickchart\" onclick=\"quickchart('df-0725863a-9c44-412f-b214-e6dc05af4e67')\"\n",
              "            title=\"Suggest charts\"\n",
              "            style=\"display:none;\">\n",
              "\n",
              "<svg xmlns=\"http://www.w3.org/2000/svg\" height=\"24px\"viewBox=\"0 0 24 24\"\n",
              "     width=\"24px\">\n",
              "    <g>\n",
              "        <path d=\"M19 3H5c-1.1 0-2 .9-2 2v14c0 1.1.9 2 2 2h14c1.1 0 2-.9 2-2V5c0-1.1-.9-2-2-2zM9 17H7v-7h2v7zm4 0h-2V7h2v10zm4 0h-2v-4h2v4z\"/>\n",
              "    </g>\n",
              "</svg>\n",
              "  </button>\n",
              "\n",
              "<style>\n",
              "  .colab-df-quickchart {\n",
              "      --bg-color: #E8F0FE;\n",
              "      --fill-color: #1967D2;\n",
              "      --hover-bg-color: #E2EBFA;\n",
              "      --hover-fill-color: #174EA6;\n",
              "      --disabled-fill-color: #AAA;\n",
              "      --disabled-bg-color: #DDD;\n",
              "  }\n",
              "\n",
              "  [theme=dark] .colab-df-quickchart {\n",
              "      --bg-color: #3B4455;\n",
              "      --fill-color: #D2E3FC;\n",
              "      --hover-bg-color: #434B5C;\n",
              "      --hover-fill-color: #FFFFFF;\n",
              "      --disabled-bg-color: #3B4455;\n",
              "      --disabled-fill-color: #666;\n",
              "  }\n",
              "\n",
              "  .colab-df-quickchart {\n",
              "    background-color: var(--bg-color);\n",
              "    border: none;\n",
              "    border-radius: 50%;\n",
              "    cursor: pointer;\n",
              "    display: none;\n",
              "    fill: var(--fill-color);\n",
              "    height: 32px;\n",
              "    padding: 0;\n",
              "    width: 32px;\n",
              "  }\n",
              "\n",
              "  .colab-df-quickchart:hover {\n",
              "    background-color: var(--hover-bg-color);\n",
              "    box-shadow: 0 1px 2px rgba(60, 64, 67, 0.3), 0 1px 3px 1px rgba(60, 64, 67, 0.15);\n",
              "    fill: var(--button-hover-fill-color);\n",
              "  }\n",
              "\n",
              "  .colab-df-quickchart-complete:disabled,\n",
              "  .colab-df-quickchart-complete:disabled:hover {\n",
              "    background-color: var(--disabled-bg-color);\n",
              "    fill: var(--disabled-fill-color);\n",
              "    box-shadow: none;\n",
              "  }\n",
              "\n",
              "  .colab-df-spinner {\n",
              "    border: 2px solid var(--fill-color);\n",
              "    border-color: transparent;\n",
              "    border-bottom-color: var(--fill-color);\n",
              "    animation:\n",
              "      spin 1s steps(1) infinite;\n",
              "  }\n",
              "\n",
              "  @keyframes spin {\n",
              "    0% {\n",
              "      border-color: transparent;\n",
              "      border-bottom-color: var(--fill-color);\n",
              "      border-left-color: var(--fill-color);\n",
              "    }\n",
              "    20% {\n",
              "      border-color: transparent;\n",
              "      border-left-color: var(--fill-color);\n",
              "      border-top-color: var(--fill-color);\n",
              "    }\n",
              "    30% {\n",
              "      border-color: transparent;\n",
              "      border-left-color: var(--fill-color);\n",
              "      border-top-color: var(--fill-color);\n",
              "      border-right-color: var(--fill-color);\n",
              "    }\n",
              "    40% {\n",
              "      border-color: transparent;\n",
              "      border-right-color: var(--fill-color);\n",
              "      border-top-color: var(--fill-color);\n",
              "    }\n",
              "    60% {\n",
              "      border-color: transparent;\n",
              "      border-right-color: var(--fill-color);\n",
              "    }\n",
              "    80% {\n",
              "      border-color: transparent;\n",
              "      border-right-color: var(--fill-color);\n",
              "      border-bottom-color: var(--fill-color);\n",
              "    }\n",
              "    90% {\n",
              "      border-color: transparent;\n",
              "      border-bottom-color: var(--fill-color);\n",
              "    }\n",
              "  }\n",
              "</style>\n",
              "\n",
              "  <script>\n",
              "    async function quickchart(key) {\n",
              "      const quickchartButtonEl =\n",
              "        document.querySelector('#' + key + ' button');\n",
              "      quickchartButtonEl.disabled = true;  // To prevent multiple clicks.\n",
              "      quickchartButtonEl.classList.add('colab-df-spinner');\n",
              "      try {\n",
              "        const charts = await google.colab.kernel.invokeFunction(\n",
              "            'suggestCharts', [key], {});\n",
              "      } catch (error) {\n",
              "        console.error('Error during call to suggestCharts:', error);\n",
              "      }\n",
              "      quickchartButtonEl.classList.remove('colab-df-spinner');\n",
              "      quickchartButtonEl.classList.add('colab-df-quickchart-complete');\n",
              "    }\n",
              "    (() => {\n",
              "      let quickchartButtonEl =\n",
              "        document.querySelector('#df-0725863a-9c44-412f-b214-e6dc05af4e67 button');\n",
              "      quickchartButtonEl.style.display =\n",
              "        google.colab.kernel.accessAllowed ? 'block' : 'none';\n",
              "    })();\n",
              "  </script>\n",
              "</div>\n",
              "\n",
              "    </div>\n",
              "  </div>\n"
            ],
            "application/vnd.google.colaboratory.intrinsic+json": {
              "type": "dataframe",
              "variable_name": "dummies"
            }
          },
          "metadata": {},
          "execution_count": 58
        }
      ]
    },
    {
      "cell_type": "code",
      "source": [
        "df_selected = df1[['Loss', 'InstallmentPlan', 'OffsetValue', 'MosaicHouseholdIncValue', 'MosaicNoAdultsHousehold', 'Customer_Tenure_Days']]"
      ],
      "metadata": {
        "id": "N07Ek71yXdSq"
      },
      "execution_count": null,
      "outputs": []
    },
    {
      "cell_type": "code",
      "source": [
        "df_merged = pd.concat([df_selected,dummies], axis = 'columns')"
      ],
      "metadata": {
        "id": "yAU0MT-xZ5xq"
      },
      "execution_count": null,
      "outputs": []
    },
    {
      "cell_type": "code",
      "source": [
        "df_merged.head()"
      ],
      "metadata": {
        "colab": {
          "base_uri": "https://localhost:8080/",
          "height": 244
        },
        "id": "lU0XfTfWaO65",
        "outputId": "5c79a488-7281-4637-e5b0-e986e494830e"
      },
      "execution_count": null,
      "outputs": [
        {
          "output_type": "execute_result",
          "data": {
            "text/plain": [
              "   Loss  InstallmentPlan  OffsetValue  MosaicHouseholdIncValue  \\\n",
              "0     1                0       488.17                     9264   \n",
              "1     1                0        27.88                    25973   \n",
              "2     1                0        66.87                    54227   \n",
              "3     1                0        46.65                    22953   \n",
              "4     1                0      1145.62                     9264   \n",
              "\n",
              "   MosaicNoAdultsHousehold  Customer_Tenure_Days  \\\n",
              "0                        1                3730.0   \n",
              "1                        2                 543.0   \n",
              "2                        2                 364.0   \n",
              "3                        2                3877.0   \n",
              "4                        1                1867.0   \n",
              "\n",
              "   AccountDeterminationGroup_Domestic  AccountDeterminationGroup_SME  \\\n",
              "0                                   1                              0   \n",
              "1                                   1                              0   \n",
              "2                                   1                              0   \n",
              "3                                   1                              0   \n",
              "4                                   1                              0   \n",
              "\n",
              "   DebtPlanGroup_Cash  DebtPlanGroup_DD  DebtPlanGroup_PP  \\\n",
              "0                   1                 0                 0   \n",
              "1                   1                 0                 0   \n",
              "2                   1                 0                 0   \n",
              "3                   1                 0                 0   \n",
              "4                   1                 0                 0   \n",
              "\n",
              "   ComplaintType_Complaint  ComplaintType_No Complaint  \\\n",
              "0                        0                           1   \n",
              "1                        0                           1   \n",
              "2                        0                           1   \n",
              "3                        0                           1   \n",
              "4                        0                           1   \n",
              "\n",
              "   ComplaintType_Ombudsman  OfgemCodeRisk_PSR_High_Risk  \\\n",
              "0                        0                            1   \n",
              "1                        0                            0   \n",
              "2                        0                            0   \n",
              "3                        0                            0   \n",
              "4                        0                            0   \n",
              "\n",
              "   OfgemCodeRisk_PSR_Medium_Risk  OfgemCodeRisk_PSR_Medium_Risk_Plus_SFI  \\\n",
              "0                              0                                       0   \n",
              "1                              0                                       0   \n",
              "2                              0                                       0   \n",
              "3                              0                                       0   \n",
              "4                              0                                       0   \n",
              "\n",
              "   OfgemCodeRisk_PSR_No_SNEED_Flags  OfgemCodeRisk_PSR_Other_Flags  \\\n",
              "0                                 0                              0   \n",
              "1                                 1                              0   \n",
              "2                                 1                              0   \n",
              "3                                 1                              0   \n",
              "4                                 1                              0   \n",
              "\n",
              "   MosaicGroup_Aspiring Homemakers  MosaicGroup_City Prosperity  \\\n",
              "0                                0                            0   \n",
              "1                                1                            0   \n",
              "2                                0                            0   \n",
              "3                                0                            0   \n",
              "4                                0                            0   \n",
              "\n",
              "   MosaicGroup_Country Living  MosaicGroup_Domestic Success  \\\n",
              "0                           0                             0   \n",
              "1                           0                             0   \n",
              "2                           0                             0   \n",
              "3                           0                             0   \n",
              "4                           0                             0   \n",
              "\n",
              "   MosaicGroup_Family Basics  MosaicGroup_Modest Traditions  \\\n",
              "0                          0                              0   \n",
              "1                          0                              0   \n",
              "2                          0                              0   \n",
              "3                          0                              0   \n",
              "4                          0                              0   \n",
              "\n",
              "   MosaicGroup_Municipal Tenants  MosaicGroup_Prestige Positions  \\\n",
              "0                              0                               0   \n",
              "1                              0                               0   \n",
              "2                              0                               0   \n",
              "3                              1                               0   \n",
              "4                              0                               0   \n",
              "\n",
              "   MosaicGroup_Rental Hubs  MosaicGroup_Rural Reality  \\\n",
              "0                        0                          0   \n",
              "1                        0                          0   \n",
              "2                        1                          0   \n",
              "3                        0                          0   \n",
              "4                        0                          0   \n",
              "\n",
              "   MosaicGroup_Senior Security  MosaicGroup_Suburban Stability  \\\n",
              "0                            0                               0   \n",
              "1                            0                               0   \n",
              "2                            0                               0   \n",
              "3                            0                               0   \n",
              "4                            0                               0   \n",
              "\n",
              "   MosaicGroup_Transient Renters  MosaicGroup_UNKNOWN  \\\n",
              "0                              0                    0   \n",
              "1                              0                    0   \n",
              "2                              0                    0   \n",
              "3                              0                    0   \n",
              "4                              0                    0   \n",
              "\n",
              "   MosaicGroup_Urban Cohesion  MosaicGroup_Vintage Value  \\\n",
              "0                           0                          1   \n",
              "1                           0                          0   \n",
              "2                           0                          0   \n",
              "3                           0                          0   \n",
              "4                           0                          1   \n",
              "\n",
              "   MosaicResidenceType_Bungalow  MosaicResidenceType_Detached  \\\n",
              "0                             0                             0   \n",
              "1                             0                             0   \n",
              "2                             0                             0   \n",
              "3                             0                             0   \n",
              "4                             0                             0   \n",
              "\n",
              "   MosaicResidenceType_Flat  MosaicResidenceType_Semi-Detached  \\\n",
              "0                         1                                  0   \n",
              "1                         0                                  1   \n",
              "2                         1                                  0   \n",
              "3                         0                                  0   \n",
              "4                         1                                  0   \n",
              "\n",
              "   MosaicResidenceType_Terraced  \n",
              "0                             0  \n",
              "1                             0  \n",
              "2                             0  \n",
              "3                             1  \n",
              "4                             0  "
            ],
            "text/html": [
              "\n",
              "  <div id=\"df-0d13dc55-d193-421e-85d5-02d66d976af7\" class=\"colab-df-container\">\n",
              "    <div>\n",
              "<style scoped>\n",
              "    .dataframe tbody tr th:only-of-type {\n",
              "        vertical-align: middle;\n",
              "    }\n",
              "\n",
              "    .dataframe tbody tr th {\n",
              "        vertical-align: top;\n",
              "    }\n",
              "\n",
              "    .dataframe thead th {\n",
              "        text-align: right;\n",
              "    }\n",
              "</style>\n",
              "<table border=\"1\" class=\"dataframe\">\n",
              "  <thead>\n",
              "    <tr style=\"text-align: right;\">\n",
              "      <th></th>\n",
              "      <th>Loss</th>\n",
              "      <th>InstallmentPlan</th>\n",
              "      <th>OffsetValue</th>\n",
              "      <th>MosaicHouseholdIncValue</th>\n",
              "      <th>MosaicNoAdultsHousehold</th>\n",
              "      <th>Customer_Tenure_Days</th>\n",
              "      <th>AccountDeterminationGroup_Domestic</th>\n",
              "      <th>AccountDeterminationGroup_SME</th>\n",
              "      <th>DebtPlanGroup_Cash</th>\n",
              "      <th>DebtPlanGroup_DD</th>\n",
              "      <th>DebtPlanGroup_PP</th>\n",
              "      <th>ComplaintType_Complaint</th>\n",
              "      <th>ComplaintType_No Complaint</th>\n",
              "      <th>ComplaintType_Ombudsman</th>\n",
              "      <th>OfgemCodeRisk_PSR_High_Risk</th>\n",
              "      <th>OfgemCodeRisk_PSR_Medium_Risk</th>\n",
              "      <th>OfgemCodeRisk_PSR_Medium_Risk_Plus_SFI</th>\n",
              "      <th>OfgemCodeRisk_PSR_No_SNEED_Flags</th>\n",
              "      <th>OfgemCodeRisk_PSR_Other_Flags</th>\n",
              "      <th>MosaicGroup_Aspiring Homemakers</th>\n",
              "      <th>MosaicGroup_City Prosperity</th>\n",
              "      <th>MosaicGroup_Country Living</th>\n",
              "      <th>MosaicGroup_Domestic Success</th>\n",
              "      <th>MosaicGroup_Family Basics</th>\n",
              "      <th>MosaicGroup_Modest Traditions</th>\n",
              "      <th>MosaicGroup_Municipal Tenants</th>\n",
              "      <th>MosaicGroup_Prestige Positions</th>\n",
              "      <th>MosaicGroup_Rental Hubs</th>\n",
              "      <th>MosaicGroup_Rural Reality</th>\n",
              "      <th>MosaicGroup_Senior Security</th>\n",
              "      <th>MosaicGroup_Suburban Stability</th>\n",
              "      <th>MosaicGroup_Transient Renters</th>\n",
              "      <th>MosaicGroup_UNKNOWN</th>\n",
              "      <th>MosaicGroup_Urban Cohesion</th>\n",
              "      <th>MosaicGroup_Vintage Value</th>\n",
              "      <th>MosaicResidenceType_Bungalow</th>\n",
              "      <th>MosaicResidenceType_Detached</th>\n",
              "      <th>MosaicResidenceType_Flat</th>\n",
              "      <th>MosaicResidenceType_Semi-Detached</th>\n",
              "      <th>MosaicResidenceType_Terraced</th>\n",
              "    </tr>\n",
              "  </thead>\n",
              "  <tbody>\n",
              "    <tr>\n",
              "      <th>0</th>\n",
              "      <td>1</td>\n",
              "      <td>0</td>\n",
              "      <td>488.17</td>\n",
              "      <td>9264</td>\n",
              "      <td>1</td>\n",
              "      <td>3730.0</td>\n",
              "      <td>1</td>\n",
              "      <td>0</td>\n",
              "      <td>1</td>\n",
              "      <td>0</td>\n",
              "      <td>0</td>\n",
              "      <td>0</td>\n",
              "      <td>1</td>\n",
              "      <td>0</td>\n",
              "      <td>1</td>\n",
              "      <td>0</td>\n",
              "      <td>0</td>\n",
              "      <td>0</td>\n",
              "      <td>0</td>\n",
              "      <td>0</td>\n",
              "      <td>0</td>\n",
              "      <td>0</td>\n",
              "      <td>0</td>\n",
              "      <td>0</td>\n",
              "      <td>0</td>\n",
              "      <td>0</td>\n",
              "      <td>0</td>\n",
              "      <td>0</td>\n",
              "      <td>0</td>\n",
              "      <td>0</td>\n",
              "      <td>0</td>\n",
              "      <td>0</td>\n",
              "      <td>0</td>\n",
              "      <td>0</td>\n",
              "      <td>1</td>\n",
              "      <td>0</td>\n",
              "      <td>0</td>\n",
              "      <td>1</td>\n",
              "      <td>0</td>\n",
              "      <td>0</td>\n",
              "    </tr>\n",
              "    <tr>\n",
              "      <th>1</th>\n",
              "      <td>1</td>\n",
              "      <td>0</td>\n",
              "      <td>27.88</td>\n",
              "      <td>25973</td>\n",
              "      <td>2</td>\n",
              "      <td>543.0</td>\n",
              "      <td>1</td>\n",
              "      <td>0</td>\n",
              "      <td>1</td>\n",
              "      <td>0</td>\n",
              "      <td>0</td>\n",
              "      <td>0</td>\n",
              "      <td>1</td>\n",
              "      <td>0</td>\n",
              "      <td>0</td>\n",
              "      <td>0</td>\n",
              "      <td>0</td>\n",
              "      <td>1</td>\n",
              "      <td>0</td>\n",
              "      <td>1</td>\n",
              "      <td>0</td>\n",
              "      <td>0</td>\n",
              "      <td>0</td>\n",
              "      <td>0</td>\n",
              "      <td>0</td>\n",
              "      <td>0</td>\n",
              "      <td>0</td>\n",
              "      <td>0</td>\n",
              "      <td>0</td>\n",
              "      <td>0</td>\n",
              "      <td>0</td>\n",
              "      <td>0</td>\n",
              "      <td>0</td>\n",
              "      <td>0</td>\n",
              "      <td>0</td>\n",
              "      <td>0</td>\n",
              "      <td>0</td>\n",
              "      <td>0</td>\n",
              "      <td>1</td>\n",
              "      <td>0</td>\n",
              "    </tr>\n",
              "    <tr>\n",
              "      <th>2</th>\n",
              "      <td>1</td>\n",
              "      <td>0</td>\n",
              "      <td>66.87</td>\n",
              "      <td>54227</td>\n",
              "      <td>2</td>\n",
              "      <td>364.0</td>\n",
              "      <td>1</td>\n",
              "      <td>0</td>\n",
              "      <td>1</td>\n",
              "      <td>0</td>\n",
              "      <td>0</td>\n",
              "      <td>0</td>\n",
              "      <td>1</td>\n",
              "      <td>0</td>\n",
              "      <td>0</td>\n",
              "      <td>0</td>\n",
              "      <td>0</td>\n",
              "      <td>1</td>\n",
              "      <td>0</td>\n",
              "      <td>0</td>\n",
              "      <td>0</td>\n",
              "      <td>0</td>\n",
              "      <td>0</td>\n",
              "      <td>0</td>\n",
              "      <td>0</td>\n",
              "      <td>0</td>\n",
              "      <td>0</td>\n",
              "      <td>1</td>\n",
              "      <td>0</td>\n",
              "      <td>0</td>\n",
              "      <td>0</td>\n",
              "      <td>0</td>\n",
              "      <td>0</td>\n",
              "      <td>0</td>\n",
              "      <td>0</td>\n",
              "      <td>0</td>\n",
              "      <td>0</td>\n",
              "      <td>1</td>\n",
              "      <td>0</td>\n",
              "      <td>0</td>\n",
              "    </tr>\n",
              "    <tr>\n",
              "      <th>3</th>\n",
              "      <td>1</td>\n",
              "      <td>0</td>\n",
              "      <td>46.65</td>\n",
              "      <td>22953</td>\n",
              "      <td>2</td>\n",
              "      <td>3877.0</td>\n",
              "      <td>1</td>\n",
              "      <td>0</td>\n",
              "      <td>1</td>\n",
              "      <td>0</td>\n",
              "      <td>0</td>\n",
              "      <td>0</td>\n",
              "      <td>1</td>\n",
              "      <td>0</td>\n",
              "      <td>0</td>\n",
              "      <td>0</td>\n",
              "      <td>0</td>\n",
              "      <td>1</td>\n",
              "      <td>0</td>\n",
              "      <td>0</td>\n",
              "      <td>0</td>\n",
              "      <td>0</td>\n",
              "      <td>0</td>\n",
              "      <td>0</td>\n",
              "      <td>0</td>\n",
              "      <td>1</td>\n",
              "      <td>0</td>\n",
              "      <td>0</td>\n",
              "      <td>0</td>\n",
              "      <td>0</td>\n",
              "      <td>0</td>\n",
              "      <td>0</td>\n",
              "      <td>0</td>\n",
              "      <td>0</td>\n",
              "      <td>0</td>\n",
              "      <td>0</td>\n",
              "      <td>0</td>\n",
              "      <td>0</td>\n",
              "      <td>0</td>\n",
              "      <td>1</td>\n",
              "    </tr>\n",
              "    <tr>\n",
              "      <th>4</th>\n",
              "      <td>1</td>\n",
              "      <td>0</td>\n",
              "      <td>1145.62</td>\n",
              "      <td>9264</td>\n",
              "      <td>1</td>\n",
              "      <td>1867.0</td>\n",
              "      <td>1</td>\n",
              "      <td>0</td>\n",
              "      <td>1</td>\n",
              "      <td>0</td>\n",
              "      <td>0</td>\n",
              "      <td>0</td>\n",
              "      <td>1</td>\n",
              "      <td>0</td>\n",
              "      <td>0</td>\n",
              "      <td>0</td>\n",
              "      <td>0</td>\n",
              "      <td>1</td>\n",
              "      <td>0</td>\n",
              "      <td>0</td>\n",
              "      <td>0</td>\n",
              "      <td>0</td>\n",
              "      <td>0</td>\n",
              "      <td>0</td>\n",
              "      <td>0</td>\n",
              "      <td>0</td>\n",
              "      <td>0</td>\n",
              "      <td>0</td>\n",
              "      <td>0</td>\n",
              "      <td>0</td>\n",
              "      <td>0</td>\n",
              "      <td>0</td>\n",
              "      <td>0</td>\n",
              "      <td>0</td>\n",
              "      <td>1</td>\n",
              "      <td>0</td>\n",
              "      <td>0</td>\n",
              "      <td>1</td>\n",
              "      <td>0</td>\n",
              "      <td>0</td>\n",
              "    </tr>\n",
              "  </tbody>\n",
              "</table>\n",
              "</div>\n",
              "    <div class=\"colab-df-buttons\">\n",
              "\n",
              "  <div class=\"colab-df-container\">\n",
              "    <button class=\"colab-df-convert\" onclick=\"convertToInteractive('df-0d13dc55-d193-421e-85d5-02d66d976af7')\"\n",
              "            title=\"Convert this dataframe to an interactive table.\"\n",
              "            style=\"display:none;\">\n",
              "\n",
              "  <svg xmlns=\"http://www.w3.org/2000/svg\" height=\"24px\" viewBox=\"0 -960 960 960\">\n",
              "    <path d=\"M120-120v-720h720v720H120Zm60-500h600v-160H180v160Zm220 220h160v-160H400v160Zm0 220h160v-160H400v160ZM180-400h160v-160H180v160Zm440 0h160v-160H620v160ZM180-180h160v-160H180v160Zm440 0h160v-160H620v160Z\"/>\n",
              "  </svg>\n",
              "    </button>\n",
              "\n",
              "  <style>\n",
              "    .colab-df-container {\n",
              "      display:flex;\n",
              "      gap: 12px;\n",
              "    }\n",
              "\n",
              "    .colab-df-convert {\n",
              "      background-color: #E8F0FE;\n",
              "      border: none;\n",
              "      border-radius: 50%;\n",
              "      cursor: pointer;\n",
              "      display: none;\n",
              "      fill: #1967D2;\n",
              "      height: 32px;\n",
              "      padding: 0 0 0 0;\n",
              "      width: 32px;\n",
              "    }\n",
              "\n",
              "    .colab-df-convert:hover {\n",
              "      background-color: #E2EBFA;\n",
              "      box-shadow: 0px 1px 2px rgba(60, 64, 67, 0.3), 0px 1px 3px 1px rgba(60, 64, 67, 0.15);\n",
              "      fill: #174EA6;\n",
              "    }\n",
              "\n",
              "    .colab-df-buttons div {\n",
              "      margin-bottom: 4px;\n",
              "    }\n",
              "\n",
              "    [theme=dark] .colab-df-convert {\n",
              "      background-color: #3B4455;\n",
              "      fill: #D2E3FC;\n",
              "    }\n",
              "\n",
              "    [theme=dark] .colab-df-convert:hover {\n",
              "      background-color: #434B5C;\n",
              "      box-shadow: 0px 1px 3px 1px rgba(0, 0, 0, 0.15);\n",
              "      filter: drop-shadow(0px 1px 2px rgba(0, 0, 0, 0.3));\n",
              "      fill: #FFFFFF;\n",
              "    }\n",
              "  </style>\n",
              "\n",
              "    <script>\n",
              "      const buttonEl =\n",
              "        document.querySelector('#df-0d13dc55-d193-421e-85d5-02d66d976af7 button.colab-df-convert');\n",
              "      buttonEl.style.display =\n",
              "        google.colab.kernel.accessAllowed ? 'block' : 'none';\n",
              "\n",
              "      async function convertToInteractive(key) {\n",
              "        const element = document.querySelector('#df-0d13dc55-d193-421e-85d5-02d66d976af7');\n",
              "        const dataTable =\n",
              "          await google.colab.kernel.invokeFunction('convertToInteractive',\n",
              "                                                    [key], {});\n",
              "        if (!dataTable) return;\n",
              "\n",
              "        const docLinkHtml = 'Like what you see? Visit the ' +\n",
              "          '<a target=\"_blank\" href=https://colab.research.google.com/notebooks/data_table.ipynb>data table notebook</a>'\n",
              "          + ' to learn more about interactive tables.';\n",
              "        element.innerHTML = '';\n",
              "        dataTable['output_type'] = 'display_data';\n",
              "        await google.colab.output.renderOutput(dataTable, element);\n",
              "        const docLink = document.createElement('div');\n",
              "        docLink.innerHTML = docLinkHtml;\n",
              "        element.appendChild(docLink);\n",
              "      }\n",
              "    </script>\n",
              "  </div>\n",
              "\n",
              "\n",
              "<div id=\"df-90fb5dc7-63cf-4b81-8bf7-d1f898467070\">\n",
              "  <button class=\"colab-df-quickchart\" onclick=\"quickchart('df-90fb5dc7-63cf-4b81-8bf7-d1f898467070')\"\n",
              "            title=\"Suggest charts\"\n",
              "            style=\"display:none;\">\n",
              "\n",
              "<svg xmlns=\"http://www.w3.org/2000/svg\" height=\"24px\"viewBox=\"0 0 24 24\"\n",
              "     width=\"24px\">\n",
              "    <g>\n",
              "        <path d=\"M19 3H5c-1.1 0-2 .9-2 2v14c0 1.1.9 2 2 2h14c1.1 0 2-.9 2-2V5c0-1.1-.9-2-2-2zM9 17H7v-7h2v7zm4 0h-2V7h2v10zm4 0h-2v-4h2v4z\"/>\n",
              "    </g>\n",
              "</svg>\n",
              "  </button>\n",
              "\n",
              "<style>\n",
              "  .colab-df-quickchart {\n",
              "      --bg-color: #E8F0FE;\n",
              "      --fill-color: #1967D2;\n",
              "      --hover-bg-color: #E2EBFA;\n",
              "      --hover-fill-color: #174EA6;\n",
              "      --disabled-fill-color: #AAA;\n",
              "      --disabled-bg-color: #DDD;\n",
              "  }\n",
              "\n",
              "  [theme=dark] .colab-df-quickchart {\n",
              "      --bg-color: #3B4455;\n",
              "      --fill-color: #D2E3FC;\n",
              "      --hover-bg-color: #434B5C;\n",
              "      --hover-fill-color: #FFFFFF;\n",
              "      --disabled-bg-color: #3B4455;\n",
              "      --disabled-fill-color: #666;\n",
              "  }\n",
              "\n",
              "  .colab-df-quickchart {\n",
              "    background-color: var(--bg-color);\n",
              "    border: none;\n",
              "    border-radius: 50%;\n",
              "    cursor: pointer;\n",
              "    display: none;\n",
              "    fill: var(--fill-color);\n",
              "    height: 32px;\n",
              "    padding: 0;\n",
              "    width: 32px;\n",
              "  }\n",
              "\n",
              "  .colab-df-quickchart:hover {\n",
              "    background-color: var(--hover-bg-color);\n",
              "    box-shadow: 0 1px 2px rgba(60, 64, 67, 0.3), 0 1px 3px 1px rgba(60, 64, 67, 0.15);\n",
              "    fill: var(--button-hover-fill-color);\n",
              "  }\n",
              "\n",
              "  .colab-df-quickchart-complete:disabled,\n",
              "  .colab-df-quickchart-complete:disabled:hover {\n",
              "    background-color: var(--disabled-bg-color);\n",
              "    fill: var(--disabled-fill-color);\n",
              "    box-shadow: none;\n",
              "  }\n",
              "\n",
              "  .colab-df-spinner {\n",
              "    border: 2px solid var(--fill-color);\n",
              "    border-color: transparent;\n",
              "    border-bottom-color: var(--fill-color);\n",
              "    animation:\n",
              "      spin 1s steps(1) infinite;\n",
              "  }\n",
              "\n",
              "  @keyframes spin {\n",
              "    0% {\n",
              "      border-color: transparent;\n",
              "      border-bottom-color: var(--fill-color);\n",
              "      border-left-color: var(--fill-color);\n",
              "    }\n",
              "    20% {\n",
              "      border-color: transparent;\n",
              "      border-left-color: var(--fill-color);\n",
              "      border-top-color: var(--fill-color);\n",
              "    }\n",
              "    30% {\n",
              "      border-color: transparent;\n",
              "      border-left-color: var(--fill-color);\n",
              "      border-top-color: var(--fill-color);\n",
              "      border-right-color: var(--fill-color);\n",
              "    }\n",
              "    40% {\n",
              "      border-color: transparent;\n",
              "      border-right-color: var(--fill-color);\n",
              "      border-top-color: var(--fill-color);\n",
              "    }\n",
              "    60% {\n",
              "      border-color: transparent;\n",
              "      border-right-color: var(--fill-color);\n",
              "    }\n",
              "    80% {\n",
              "      border-color: transparent;\n",
              "      border-right-color: var(--fill-color);\n",
              "      border-bottom-color: var(--fill-color);\n",
              "    }\n",
              "    90% {\n",
              "      border-color: transparent;\n",
              "      border-bottom-color: var(--fill-color);\n",
              "    }\n",
              "  }\n",
              "</style>\n",
              "\n",
              "  <script>\n",
              "    async function quickchart(key) {\n",
              "      const quickchartButtonEl =\n",
              "        document.querySelector('#' + key + ' button');\n",
              "      quickchartButtonEl.disabled = true;  // To prevent multiple clicks.\n",
              "      quickchartButtonEl.classList.add('colab-df-spinner');\n",
              "      try {\n",
              "        const charts = await google.colab.kernel.invokeFunction(\n",
              "            'suggestCharts', [key], {});\n",
              "      } catch (error) {\n",
              "        console.error('Error during call to suggestCharts:', error);\n",
              "      }\n",
              "      quickchartButtonEl.classList.remove('colab-df-spinner');\n",
              "      quickchartButtonEl.classList.add('colab-df-quickchart-complete');\n",
              "    }\n",
              "    (() => {\n",
              "      let quickchartButtonEl =\n",
              "        document.querySelector('#df-90fb5dc7-63cf-4b81-8bf7-d1f898467070 button');\n",
              "      quickchartButtonEl.style.display =\n",
              "        google.colab.kernel.accessAllowed ? 'block' : 'none';\n",
              "    })();\n",
              "  </script>\n",
              "</div>\n",
              "\n",
              "    </div>\n",
              "  </div>\n"
            ],
            "application/vnd.google.colaboratory.intrinsic+json": {
              "type": "dataframe",
              "variable_name": "df_merged"
            }
          },
          "metadata": {},
          "execution_count": 61
        }
      ]
    },
    {
      "cell_type": "markdown",
      "source": [
        "### 5.2 Splitting the target variable and independent variable"
      ],
      "metadata": {
        "id": "OVjNv51yatDO"
      }
    },
    {
      "cell_type": "code",
      "source": [
        "X = df_merged.drop(['Loss'], axis = 1)"
      ],
      "metadata": {
        "id": "d3ZSlpLFaj0i"
      },
      "execution_count": null,
      "outputs": []
    },
    {
      "cell_type": "code",
      "source": [
        "y = df_merged.Loss"
      ],
      "metadata": {
        "id": "pf9H3AzbbHt3"
      },
      "execution_count": null,
      "outputs": []
    },
    {
      "cell_type": "markdown",
      "source": [
        "### 5.3 Feature Scaling\n",
        "* All the features in the dataset are not the same range or scale so lets scale them on the similar range.\n",
        "* Feature scaling helps to accelerate the minimization of the cost function and smooth the gradient descent process to enhance the optimisation process."
      ],
      "metadata": {
        "id": "PL3ryYExbasE"
      }
    },
    {
      "cell_type": "code",
      "source": [
        "from sklearn.preprocessing import StandardScaler"
      ],
      "metadata": {
        "id": "2b3kyPcgbaAH"
      },
      "execution_count": null,
      "outputs": []
    },
    {
      "cell_type": "code",
      "source": [
        "scaler = StandardScaler()"
      ],
      "metadata": {
        "id": "pO3GS7Wbbm8Q"
      },
      "execution_count": null,
      "outputs": []
    },
    {
      "cell_type": "code",
      "source": [
        "x_scaled = scaler.fit_transform(X)"
      ],
      "metadata": {
        "id": "TNc9GRX6br53"
      },
      "execution_count": null,
      "outputs": []
    },
    {
      "cell_type": "code",
      "source": [
        "x_scaled[:3]"
      ],
      "metadata": {
        "colab": {
          "base_uri": "https://localhost:8080/"
        },
        "id": "mQtHDfXbbvQS",
        "outputId": "caf6f007-58bd-4504-de80-7e449a300672"
      },
      "execution_count": null,
      "outputs": [
        {
          "output_type": "execute_result",
          "data": {
            "text/plain": [
              "array([[-0.33702484,  0.11728245, -1.0454118 , -1.25144455,  1.41393438,\n",
              "         0.16402716, -0.16402716,  0.91076419, -0.75162838, -0.31907203,\n",
              "        -0.48809502,  0.49342859, -0.0584089 ,  1.47602153, -0.45000134,\n",
              "        -0.06944891, -0.88712497, -0.2781259 , -0.33665678, -0.14717056,\n",
              "        -0.24494032, -0.22941573, -0.34723729, -0.23704276, -0.35192052,\n",
              "        -0.20834029, -0.33739267, -0.24949492, -0.20465514, -0.18874723,\n",
              "        -0.31448545, -0.05105661, -0.2255254 ,  3.35931723, -0.16078388,\n",
              "        -0.3970836 ,  1.48982382, -0.56071908, -0.63723955],\n",
              "       [-0.33702484, -0.29561954, -0.380143  ,  0.45677897, -1.18498695,\n",
              "         0.16402716, -0.16402716,  0.91076419, -0.75162838, -0.31907203,\n",
              "        -0.48809502,  0.49342859, -0.0584089 , -0.67749689, -0.45000134,\n",
              "        -0.06944891,  1.1272369 , -0.2781259 ,  2.97038427, -0.14717056,\n",
              "        -0.24494032, -0.22941573, -0.34723729, -0.23704276, -0.35192052,\n",
              "        -0.20834029, -0.33739267, -0.24949492, -0.20465514, -0.18874723,\n",
              "        -0.31448545, -0.05105661, -0.2255254 , -0.29767954, -0.16078388,\n",
              "        -0.3970836 , -0.67122031,  1.78342424, -0.63723955],\n",
              "       [-0.33702484, -0.26064366,  0.74478995,  0.45677897, -1.33095711,\n",
              "         0.16402716, -0.16402716,  0.91076419, -0.75162838, -0.31907203,\n",
              "        -0.48809502,  0.49342859, -0.0584089 , -0.67749689, -0.45000134,\n",
              "        -0.06944891,  1.1272369 , -0.2781259 , -0.33665678, -0.14717056,\n",
              "        -0.24494032, -0.22941573, -0.34723729, -0.23704276, -0.35192052,\n",
              "        -0.20834029,  2.9639055 , -0.24949492, -0.20465514, -0.18874723,\n",
              "        -0.31448545, -0.05105661, -0.2255254 , -0.29767954, -0.16078388,\n",
              "        -0.3970836 ,  1.48982382, -0.56071908, -0.63723955]])"
            ]
          },
          "metadata": {},
          "execution_count": 67
        }
      ]
    },
    {
      "cell_type": "markdown",
      "source": [
        "### 5.4 Splitting the dataset into train set and test set\n",
        "* As we have seen the dataset  is slight imbalance that means the customers who left and stays are not in same proportion.\n",
        "* So, to avoid training model on imbalance data using **stratify method** which will split the dataset with equal propotion."
      ],
      "metadata": {
        "id": "i9zuPnZZb1e-"
      }
    },
    {
      "cell_type": "code",
      "source": [
        "from sklearn.model_selection import train_test_split"
      ],
      "metadata": {
        "id": "9hoIuzbbcQEw"
      },
      "execution_count": null,
      "outputs": []
    },
    {
      "cell_type": "code",
      "source": [
        "x_train,x_test,y_train,y_test = train_test_split(X,y,test_size = 0.2, stratify = y, random_state = 42)"
      ],
      "metadata": {
        "id": "GQji8ABScVUs"
      },
      "execution_count": null,
      "outputs": []
    },
    {
      "cell_type": "code",
      "source": [
        "len(x_train), len(x_test)"
      ],
      "metadata": {
        "colab": {
          "base_uri": "https://localhost:8080/"
        },
        "id": "YkrwCXUqcgHj",
        "outputId": "bdb2e460-ac4b-4fde-dc08-49282674c350"
      },
      "execution_count": null,
      "outputs": [
        {
          "output_type": "execute_result",
          "data": {
            "text/plain": [
              "(4000, 1000)"
            ]
          },
          "metadata": {},
          "execution_count": 70
        }
      ]
    },
    {
      "cell_type": "code",
      "source": [
        "len(y_train), len(y_test)"
      ],
      "metadata": {
        "colab": {
          "base_uri": "https://localhost:8080/"
        },
        "id": "wlbZQ2oBcf9T",
        "outputId": "5b5a1c31-f200-41c4-c156-495b2ef7dd2e"
      },
      "execution_count": null,
      "outputs": [
        {
          "output_type": "execute_result",
          "data": {
            "text/plain": [
              "(4000, 1000)"
            ]
          },
          "metadata": {},
          "execution_count": 71
        }
      ]
    },
    {
      "cell_type": "markdown",
      "source": [
        "# 6. Model Training"
      ],
      "metadata": {
        "id": "l5kXSrKsc-MJ"
      }
    },
    {
      "cell_type": "code",
      "source": [
        "# Import the RandomForest model for initial testing\n",
        "from sklearn.ensemble import RandomForestClassifier\n",
        "from sklearn.metrics import accuracy_score, confusion_matrix, classification_report\n",
        "from sklearn.model_selection import cross_val_score\n",
        "from sklearn.model_selection import GridSearchCV\n",
        "from sklearn.model_selection import RandomizedSearchCV\n",
        "from sklearn.preprocessing import StandardScaler\n",
        "from sklearn.neighbors import KNeighborsClassifier\n",
        "import numpy as np"
      ],
      "metadata": {
        "id": "J1OILduy4YbK"
      },
      "execution_count": null,
      "outputs": []
    },
    {
      "cell_type": "markdown",
      "source": [
        "### 6.1 KNN - K nearest neighbour"
      ],
      "metadata": {
        "id": "b9un3uKA7EEF"
      }
    },
    {
      "cell_type": "code",
      "source": [
        "knn_model = KNeighborsClassifier()\n",
        "knn_model.fit(x_train,y_train)\n",
        "y_pred_knn = knn_model.predict(x_test)\n",
        "accuracy_knn = knn_model.score(x_test,y_test)\n",
        "print(\"KNN accuracy:\",accuracy_knn)"
      ],
      "metadata": {
        "colab": {
          "base_uri": "https://localhost:8080/"
        },
        "id": "r0u5uyHlt0Gw",
        "outputId": "44e1eab3-a8c6-4261-89e4-bb2c558cd8e7"
      },
      "execution_count": null,
      "outputs": [
        {
          "output_type": "stream",
          "name": "stdout",
          "text": [
            "KNN accuracy: 0.788\n"
          ]
        }
      ]
    },
    {
      "cell_type": "code",
      "source": [
        "accuracy = accuracy_score(y_test, y_pred_knn)\n",
        "print(accuracy)"
      ],
      "metadata": {
        "colab": {
          "base_uri": "https://localhost:8080/"
        },
        "id": "sUP_DY1o6d_T",
        "outputId": "4261506d-573a-495d-acb4-b8449d8961cc"
      },
      "execution_count": null,
      "outputs": [
        {
          "output_type": "stream",
          "name": "stdout",
          "text": [
            "0.788\n"
          ]
        }
      ]
    },
    {
      "cell_type": "markdown",
      "source": [
        "The KNN model achieved an accuracy of **78.8%** on the test set."
      ],
      "metadata": {
        "id": "rfnZhY2e70Uf"
      }
    },
    {
      "cell_type": "code",
      "source": [
        "conf_matrix = confusion_matrix(y_test, y_pred_knn)\n",
        "print(conf_matrix)"
      ],
      "metadata": {
        "colab": {
          "base_uri": "https://localhost:8080/"
        },
        "id": "pZ0vF7xe6r0i",
        "outputId": "a8291471-ed1f-4d59-bd7e-8bc9eb8768c7"
      },
      "execution_count": null,
      "outputs": [
        {
          "output_type": "stream",
          "name": "stdout",
          "text": [
            "[[757  43]\n",
            " [169  31]]\n"
          ]
        }
      ]
    },
    {
      "cell_type": "markdown",
      "source": [
        "* True Positives (customers who stayed): 757\n",
        "* False Positives (predicted to leave but stayed): 43\n",
        "* False Negatives (predicted to stay but left): 169\n",
        "* True Negatives (customers who left): 31"
      ],
      "metadata": {
        "id": "P2KASgmH9AMW"
      }
    },
    {
      "cell_type": "code",
      "source": [
        "class_report = classification_report(y_test, y_pred_knn)\n",
        "print(class_report)"
      ],
      "metadata": {
        "colab": {
          "base_uri": "https://localhost:8080/"
        },
        "id": "LWnJFysm62jG",
        "outputId": "5f55b0df-5e8a-40ac-9596-2cfcfa5288f3"
      },
      "execution_count": null,
      "outputs": [
        {
          "output_type": "stream",
          "name": "stdout",
          "text": [
            "              precision    recall  f1-score   support\n",
            "\n",
            "           0       0.82      0.95      0.88       800\n",
            "           1       0.42      0.15      0.23       200\n",
            "\n",
            "    accuracy                           0.79      1000\n",
            "   macro avg       0.62      0.55      0.55      1000\n",
            "weighted avg       0.74      0.79      0.75      1000\n",
            "\n"
          ]
        }
      ]
    },
    {
      "cell_type": "markdown",
      "source": [
        "* Precision for predicting customer churn: 82%\n",
        "* Recall for customer churn: 95% (meaning the model missed some churned customers)\n",
        "* The overall F1-score for churn prediction is 0.88, indicating room for improvement."
      ],
      "metadata": {
        "id": "V3UVm-0Y_0uj"
      }
    },
    {
      "cell_type": "markdown",
      "source": [
        "Hyperparamenter Tuning"
      ],
      "metadata": {
        "id": "Uv0u1zvMKGvM"
      }
    },
    {
      "cell_type": "code",
      "source": [
        "n_estimator = [n for n in range(1,13)]\n",
        "leaf_size = [i for i in range(1,10)]\n",
        "\n",
        "avg_scores = {}\n",
        "for nval in n_estimator:\n",
        "    for lval in leaf_size:\n",
        "        cv_scores = cross_val_score(KNeighborsClassifier(leaf_size = lval, n_neighbors = nval),x_test, y_test, cv=6)\n",
        "        avg_scores[str(lval) + '_' + str(nval)] = np.average(cv_scores)\n",
        "\n",
        "avg_scores"
      ],
      "metadata": {
        "colab": {
          "base_uri": "https://localhost:8080/"
        },
        "id": "goXL_kUy3d-K",
        "outputId": "0b2e2053-7348-4b78-e939-86f1ef621065"
      },
      "execution_count": null,
      "outputs": [
        {
          "output_type": "execute_result",
          "data": {
            "text/plain": [
              "{'1_1': 0.6959875429863165,\n",
              " '2_1': 0.6959875429863165,\n",
              " '3_1': 0.6959875429863165,\n",
              " '4_1': 0.6959875429863165,\n",
              " '5_1': 0.6959875429863165,\n",
              " '6_1': 0.6959875429863165,\n",
              " '7_1': 0.6959875429863165,\n",
              " '8_1': 0.6959875429863165,\n",
              " '9_1': 0.6959875429863165,\n",
              " '1_2': 0.779014260635356,\n",
              " '2_2': 0.779014260635356,\n",
              " '3_2': 0.779014260635356,\n",
              " '4_2': 0.779014260635356,\n",
              " '5_2': 0.779014260635356,\n",
              " '6_2': 0.779014260635356,\n",
              " '7_2': 0.779014260635356,\n",
              " '8_2': 0.779014260635356,\n",
              " '9_2': 0.779014260635356,\n",
              " '1_3': 0.7530300844094944,\n",
              " '2_3': 0.7530300844094944,\n",
              " '3_3': 0.7530300844094944,\n",
              " '4_3': 0.7530300844094944,\n",
              " '5_3': 0.7530300844094944,\n",
              " '6_3': 0.7530300844094944,\n",
              " '7_3': 0.7530300844094944,\n",
              " '8_3': 0.7530300844094944,\n",
              " '9_3': 0.7530300844094944,\n",
              " '1_4': 0.7850203208041749,\n",
              " '2_4': 0.7850203208041749,\n",
              " '3_4': 0.7850203208041749,\n",
              " '4_4': 0.7850203208041749,\n",
              " '5_4': 0.7850203208041749,\n",
              " '6_4': 0.7850203208041749,\n",
              " '7_4': 0.7850203208041749,\n",
              " '8_4': 0.7850203208041749,\n",
              " '9_4': 0.7850203208041749,\n",
              " '1_5': 0.7749981963783278,\n",
              " '2_5': 0.7749981963783278,\n",
              " '3_5': 0.7749981963783278,\n",
              " '4_5': 0.7749981963783278,\n",
              " '5_5': 0.7749981963783278,\n",
              " '6_5': 0.7749981963783278,\n",
              " '7_5': 0.7749981963783278,\n",
              " '8_5': 0.7749981963783278,\n",
              " '9_5': 0.7749981963783278,\n",
              " '1_6': 0.7970083928528485,\n",
              " '2_6': 0.7970083928528485,\n",
              " '3_6': 0.7970083928528485,\n",
              " '4_6': 0.7970083928528485,\n",
              " '5_6': 0.7970083928528485,\n",
              " '6_6': 0.7970083928528485,\n",
              " '7_6': 0.7970083928528485,\n",
              " '8_6': 0.7970083928528485,\n",
              " '9_6': 0.7970083928528485,\n",
              " '1_7': 0.7880143327802226,\n",
              " '2_7': 0.7880143327802226,\n",
              " '3_7': 0.7880143327802226,\n",
              " '4_7': 0.7880143327802226,\n",
              " '5_7': 0.7880143327802226,\n",
              " '6_7': 0.7880143327802226,\n",
              " '7_7': 0.7880143327802226,\n",
              " '8_7': 0.7880143327802226,\n",
              " '9_7': 0.7880143327802226,\n",
              " '1_8': 0.7960164009330737,\n",
              " '2_8': 0.7960164009330737,\n",
              " '3_8': 0.7960164009330737,\n",
              " '4_8': 0.7960164009330737,\n",
              " '5_8': 0.7960164009330737,\n",
              " '6_8': 0.7960164009330737,\n",
              " '7_8': 0.7960164009330737,\n",
              " '8_8': 0.7960164009330737,\n",
              " '9_8': 0.7960164009330737,\n",
              " '1_9': 0.7940023567323186,\n",
              " '2_9': 0.7940023567323186,\n",
              " '3_9': 0.7940023567323186,\n",
              " '4_9': 0.7940023567323186,\n",
              " '5_9': 0.7940023567323186,\n",
              " '6_9': 0.7940023567323186,\n",
              " '7_9': 0.7940023567323186,\n",
              " '8_9': 0.7940023567323186,\n",
              " '9_9': 0.7940023567323186,\n",
              " '1_10': 0.8030144530216675,\n",
              " '2_10': 0.8030144530216675,\n",
              " '3_10': 0.8030144530216675,\n",
              " '4_10': 0.8030144530216675,\n",
              " '5_10': 0.8030144530216675,\n",
              " '6_10': 0.8030144530216675,\n",
              " '7_10': 0.8030144530216675,\n",
              " '8_10': 0.8030144530216675,\n",
              " '9_10': 0.8030144530216675,\n",
              " '1_11': 0.7970144049250897,\n",
              " '2_11': 0.7970144049250897,\n",
              " '3_11': 0.7970144049250897,\n",
              " '4_11': 0.7970144049250897,\n",
              " '5_11': 0.7970144049250897,\n",
              " '6_11': 0.7970144049250897,\n",
              " '7_11': 0.7970144049250897,\n",
              " '8_11': 0.7970144049250897,\n",
              " '9_11': 0.7970144049250897,\n",
              " '1_12': 0.7980124089171056,\n",
              " '2_12': 0.7980124089171056,\n",
              " '3_12': 0.7980124089171056,\n",
              " '4_12': 0.7980124089171056,\n",
              " '5_12': 0.7980124089171056,\n",
              " '6_12': 0.7980124089171056,\n",
              " '7_12': 0.7980124089171056,\n",
              " '8_12': 0.7980124089171056,\n",
              " '9_12': 0.7980124089171056}"
            ]
          },
          "metadata": {},
          "execution_count": 77
        }
      ]
    },
    {
      "cell_type": "markdown",
      "source": [
        "Tuning hyperparameters has improved the performance of the model and the accuracy jumped from 78.8% to 80.3%."
      ],
      "metadata": {
        "id": "H2CB2oZE7hRU"
      }
    },
    {
      "cell_type": "markdown",
      "source": [
        "### 6. 2 Random Forest Classifier"
      ],
      "metadata": {
        "id": "GhePmuDUBfol"
      }
    },
    {
      "cell_type": "code",
      "source": [
        "# initialize and train model\n",
        "rf_model = RandomForestClassifier()\n",
        "rf_model.fit(x_train,y_train)"
      ],
      "metadata": {
        "colab": {
          "base_uri": "https://localhost:8080/",
          "height": 75
        },
        "id": "S3JbCAt93Ngx",
        "outputId": "895976c4-dff0-4ad0-8e61-56c593411338"
      },
      "execution_count": null,
      "outputs": [
        {
          "output_type": "execute_result",
          "data": {
            "text/plain": [
              "RandomForestClassifier()"
            ],
            "text/html": [
              "<style>#sk-container-id-1 {color: black;}#sk-container-id-1 pre{padding: 0;}#sk-container-id-1 div.sk-toggleable {background-color: white;}#sk-container-id-1 label.sk-toggleable__label {cursor: pointer;display: block;width: 100%;margin-bottom: 0;padding: 0.3em;box-sizing: border-box;text-align: center;}#sk-container-id-1 label.sk-toggleable__label-arrow:before {content: \"▸\";float: left;margin-right: 0.25em;color: #696969;}#sk-container-id-1 label.sk-toggleable__label-arrow:hover:before {color: black;}#sk-container-id-1 div.sk-estimator:hover label.sk-toggleable__label-arrow:before {color: black;}#sk-container-id-1 div.sk-toggleable__content {max-height: 0;max-width: 0;overflow: hidden;text-align: left;background-color: #f0f8ff;}#sk-container-id-1 div.sk-toggleable__content pre {margin: 0.2em;color: black;border-radius: 0.25em;background-color: #f0f8ff;}#sk-container-id-1 input.sk-toggleable__control:checked~div.sk-toggleable__content {max-height: 200px;max-width: 100%;overflow: auto;}#sk-container-id-1 input.sk-toggleable__control:checked~label.sk-toggleable__label-arrow:before {content: \"▾\";}#sk-container-id-1 div.sk-estimator input.sk-toggleable__control:checked~label.sk-toggleable__label {background-color: #d4ebff;}#sk-container-id-1 div.sk-label input.sk-toggleable__control:checked~label.sk-toggleable__label {background-color: #d4ebff;}#sk-container-id-1 input.sk-hidden--visually {border: 0;clip: rect(1px 1px 1px 1px);clip: rect(1px, 1px, 1px, 1px);height: 1px;margin: -1px;overflow: hidden;padding: 0;position: absolute;width: 1px;}#sk-container-id-1 div.sk-estimator {font-family: monospace;background-color: #f0f8ff;border: 1px dotted black;border-radius: 0.25em;box-sizing: border-box;margin-bottom: 0.5em;}#sk-container-id-1 div.sk-estimator:hover {background-color: #d4ebff;}#sk-container-id-1 div.sk-parallel-item::after {content: \"\";width: 100%;border-bottom: 1px solid gray;flex-grow: 1;}#sk-container-id-1 div.sk-label:hover label.sk-toggleable__label {background-color: #d4ebff;}#sk-container-id-1 div.sk-serial::before {content: \"\";position: absolute;border-left: 1px solid gray;box-sizing: border-box;top: 0;bottom: 0;left: 50%;z-index: 0;}#sk-container-id-1 div.sk-serial {display: flex;flex-direction: column;align-items: center;background-color: white;padding-right: 0.2em;padding-left: 0.2em;position: relative;}#sk-container-id-1 div.sk-item {position: relative;z-index: 1;}#sk-container-id-1 div.sk-parallel {display: flex;align-items: stretch;justify-content: center;background-color: white;position: relative;}#sk-container-id-1 div.sk-item::before, #sk-container-id-1 div.sk-parallel-item::before {content: \"\";position: absolute;border-left: 1px solid gray;box-sizing: border-box;top: 0;bottom: 0;left: 50%;z-index: -1;}#sk-container-id-1 div.sk-parallel-item {display: flex;flex-direction: column;z-index: 1;position: relative;background-color: white;}#sk-container-id-1 div.sk-parallel-item:first-child::after {align-self: flex-end;width: 50%;}#sk-container-id-1 div.sk-parallel-item:last-child::after {align-self: flex-start;width: 50%;}#sk-container-id-1 div.sk-parallel-item:only-child::after {width: 0;}#sk-container-id-1 div.sk-dashed-wrapped {border: 1px dashed gray;margin: 0 0.4em 0.5em 0.4em;box-sizing: border-box;padding-bottom: 0.4em;background-color: white;}#sk-container-id-1 div.sk-label label {font-family: monospace;font-weight: bold;display: inline-block;line-height: 1.2em;}#sk-container-id-1 div.sk-label-container {text-align: center;}#sk-container-id-1 div.sk-container {/* jupyter's `normalize.less` sets `[hidden] { display: none; }` but bootstrap.min.css set `[hidden] { display: none !important; }` so we also need the `!important` here to be able to override the default hidden behavior on the sphinx rendered scikit-learn.org. See: https://github.com/scikit-learn/scikit-learn/issues/21755 */display: inline-block !important;position: relative;}#sk-container-id-1 div.sk-text-repr-fallback {display: none;}</style><div id=\"sk-container-id-1\" class=\"sk-top-container\"><div class=\"sk-text-repr-fallback\"><pre>RandomForestClassifier()</pre><b>In a Jupyter environment, please rerun this cell to show the HTML representation or trust the notebook. <br />On GitHub, the HTML representation is unable to render, please try loading this page with nbviewer.org.</b></div><div class=\"sk-container\" hidden><div class=\"sk-item\"><div class=\"sk-estimator sk-toggleable\"><input class=\"sk-toggleable__control sk-hidden--visually\" id=\"sk-estimator-id-1\" type=\"checkbox\" checked><label for=\"sk-estimator-id-1\" class=\"sk-toggleable__label sk-toggleable__label-arrow\">RandomForestClassifier</label><div class=\"sk-toggleable__content\"><pre>RandomForestClassifier()</pre></div></div></div></div></div>"
            ]
          },
          "metadata": {},
          "execution_count": 78
        }
      ]
    },
    {
      "cell_type": "code",
      "source": [
        "rf_model.score(x_test,y_test)"
      ],
      "metadata": {
        "colab": {
          "base_uri": "https://localhost:8080/"
        },
        "id": "U-KMnLzl3GNm",
        "outputId": "41dd651f-0687-4ca5-9c1c-29563edd8944"
      },
      "execution_count": null,
      "outputs": [
        {
          "output_type": "execute_result",
          "data": {
            "text/plain": [
              "0.847"
            ]
          },
          "metadata": {},
          "execution_count": 79
        }
      ]
    },
    {
      "cell_type": "code",
      "source": [
        "y_pred = rf_model.predict(x_test)"
      ],
      "metadata": {
        "id": "c8gfvTIaBsK2"
      },
      "execution_count": null,
      "outputs": []
    },
    {
      "cell_type": "code",
      "source": [
        "accuracy = accuracy_score(y_test, y_pred)\n",
        "print(accuracy)"
      ],
      "metadata": {
        "colab": {
          "base_uri": "https://localhost:8080/"
        },
        "id": "H5h2SU12B3SC",
        "outputId": "f7396572-1f9c-4812-8d0d-53b6d91fa1dc"
      },
      "execution_count": null,
      "outputs": [
        {
          "output_type": "stream",
          "name": "stdout",
          "text": [
            "0.847\n"
          ]
        }
      ]
    },
    {
      "cell_type": "markdown",
      "source": [
        "The Random Forest Classifier model has achieved an accuracy of **84.7%** which is slightly higher than the KNN model."
      ],
      "metadata": {
        "id": "TC7ubsvjS_cE"
      }
    },
    {
      "cell_type": "code",
      "source": [
        "conf_matrix = confusion_matrix(y_test, y_pred)\n",
        "print(conf_matrix)\n",
        "class_report = classification_report(y_test, y_pred)\n",
        "print(class_report)"
      ],
      "metadata": {
        "colab": {
          "base_uri": "https://localhost:8080/"
        },
        "id": "qDqebDQNB9jo",
        "outputId": "1a0f99cf-78e5-4fa9-aa36-472947cc2002"
      },
      "execution_count": null,
      "outputs": [
        {
          "output_type": "stream",
          "name": "stdout",
          "text": [
            "[[783  17]\n",
            " [136  64]]\n",
            "              precision    recall  f1-score   support\n",
            "\n",
            "           0       0.85      0.98      0.91       800\n",
            "           1       0.79      0.32      0.46       200\n",
            "\n",
            "    accuracy                           0.85      1000\n",
            "   macro avg       0.82      0.65      0.68      1000\n",
            "weighted avg       0.84      0.85      0.82      1000\n",
            "\n"
          ]
        }
      ]
    },
    {
      "cell_type": "markdown",
      "source": [
        "Hyperparameter Tuning"
      ],
      "metadata": {
        "id": "dl0ArBA_J5Qr"
      }
    },
    {
      "cell_type": "code",
      "source": [
        "n_estimator = [10,50,60,70,80,90,100, 150]\n",
        "criter  = ['gini', 'entropy', 'log_loss']\n",
        "avg_scores = {}\n",
        "for nval in n_estimator:\n",
        "    for cval in criter:\n",
        "        cv_scores = cross_val_score(RandomForestClassifier(n_estimators = nval, criterion = cval),x_test, y_test, cv=6)\n",
        "        avg_scores[cval + '_' + str(nval)] = np.average(cv_scores)\n",
        "\n",
        "avg_scores"
      ],
      "metadata": {
        "colab": {
          "base_uri": "https://localhost:8080/"
        },
        "id": "ylu3bnwaCGNw",
        "outputId": "92b73d72-7235-448c-82cc-748fcfc3bf6e"
      },
      "execution_count": null,
      "outputs": [
        {
          "output_type": "execute_result",
          "data": {
            "text/plain": [
              "{'gini_10': 0.8199925450304212,\n",
              " 'entropy_10': 0.8179724887574249,\n",
              " 'log_loss_10': 0.8089784286847991,\n",
              " 'gini_50': 0.8179484404684607,\n",
              " 'entropy_50': 0.8279585407498257,\n",
              " 'log_loss_50': 0.8289745809585649,\n",
              " 'gini_60': 0.8269425005410865,\n",
              " 'entropy_60': 0.8289685688863239,\n",
              " 'log_loss_60': 0.8249705408460187,\n",
              " 'gini_70': 0.8289565447418417,\n",
              " 'entropy_70': 0.8299605608060987,\n",
              " 'log_loss_70': 0.8249525046292957,\n",
              " 'gini_80': 0.8249525046292957,\n",
              " 'entropy_80': 0.829978597022822,\n",
              " 'log_loss_80': 0.8279585407498257,\n",
              " 'gini_90': 0.8179484404684607,\n",
              " 'entropy_90': 0.8269605367578098,\n",
              " 'log_loss_90': 0.8269425005410865,\n",
              " 'gini_100': 0.8299725849505807,\n",
              " 'entropy_100': 0.8309645768703556,\n",
              " 'log_loss_100': 0.8359545968304357,\n",
              " 'gini_150': 0.8279465166053436,\n",
              " 'entropy_150': 0.8269605367578098,\n",
              " 'log_loss_150': 0.8309645768703556}"
            ]
          },
          "metadata": {},
          "execution_count": 100
        }
      ]
    },
    {
      "cell_type": "code",
      "source": [
        "param_grid = {\n",
        "    'n_estimators': [50, 100, 200, 300],\n",
        "    'max_depth': [10, 20, 30, None],\n",
        "    'min_samples_split': [2, 5, 10],\n",
        "    'min_samples_leaf': [1, 2, 4],\n",
        "    'max_features': ['auto', 'sqrt', 'log2']\n",
        "}\n",
        "random_search = RandomizedSearchCV(estimator=rf_model, param_distributions=param_grid,\n",
        "                                   n_iter=20, cv=5, random_state=42, n_jobs=-1)"
      ],
      "metadata": {
        "id": "ssDY1PznCNog"
      },
      "execution_count": null,
      "outputs": []
    },
    {
      "cell_type": "code",
      "source": [
        "random_search.fit(x_train, y_train)"
      ],
      "metadata": {
        "colab": {
          "base_uri": "https://localhost:8080/",
          "height": 118
        },
        "id": "M31BLSM8ESmu",
        "outputId": "5f742f44-77a8-4971-c795-a7ead2ea88ba"
      },
      "execution_count": null,
      "outputs": [
        {
          "output_type": "execute_result",
          "data": {
            "text/plain": [
              "RandomizedSearchCV(cv=5, estimator=RandomForestClassifier(), n_iter=20,\n",
              "                   n_jobs=-1,\n",
              "                   param_distributions={'max_depth': [10, 20, 30, None],\n",
              "                                        'max_features': ['auto', 'sqrt',\n",
              "                                                         'log2'],\n",
              "                                        'min_samples_leaf': [1, 2, 4],\n",
              "                                        'min_samples_split': [2, 5, 10],\n",
              "                                        'n_estimators': [50, 100, 200, 300]},\n",
              "                   random_state=42)"
            ],
            "text/html": [
              "<style>#sk-container-id-2 {color: black;}#sk-container-id-2 pre{padding: 0;}#sk-container-id-2 div.sk-toggleable {background-color: white;}#sk-container-id-2 label.sk-toggleable__label {cursor: pointer;display: block;width: 100%;margin-bottom: 0;padding: 0.3em;box-sizing: border-box;text-align: center;}#sk-container-id-2 label.sk-toggleable__label-arrow:before {content: \"▸\";float: left;margin-right: 0.25em;color: #696969;}#sk-container-id-2 label.sk-toggleable__label-arrow:hover:before {color: black;}#sk-container-id-2 div.sk-estimator:hover label.sk-toggleable__label-arrow:before {color: black;}#sk-container-id-2 div.sk-toggleable__content {max-height: 0;max-width: 0;overflow: hidden;text-align: left;background-color: #f0f8ff;}#sk-container-id-2 div.sk-toggleable__content pre {margin: 0.2em;color: black;border-radius: 0.25em;background-color: #f0f8ff;}#sk-container-id-2 input.sk-toggleable__control:checked~div.sk-toggleable__content {max-height: 200px;max-width: 100%;overflow: auto;}#sk-container-id-2 input.sk-toggleable__control:checked~label.sk-toggleable__label-arrow:before {content: \"▾\";}#sk-container-id-2 div.sk-estimator input.sk-toggleable__control:checked~label.sk-toggleable__label {background-color: #d4ebff;}#sk-container-id-2 div.sk-label input.sk-toggleable__control:checked~label.sk-toggleable__label {background-color: #d4ebff;}#sk-container-id-2 input.sk-hidden--visually {border: 0;clip: rect(1px 1px 1px 1px);clip: rect(1px, 1px, 1px, 1px);height: 1px;margin: -1px;overflow: hidden;padding: 0;position: absolute;width: 1px;}#sk-container-id-2 div.sk-estimator {font-family: monospace;background-color: #f0f8ff;border: 1px dotted black;border-radius: 0.25em;box-sizing: border-box;margin-bottom: 0.5em;}#sk-container-id-2 div.sk-estimator:hover {background-color: #d4ebff;}#sk-container-id-2 div.sk-parallel-item::after {content: \"\";width: 100%;border-bottom: 1px solid gray;flex-grow: 1;}#sk-container-id-2 div.sk-label:hover label.sk-toggleable__label {background-color: #d4ebff;}#sk-container-id-2 div.sk-serial::before {content: \"\";position: absolute;border-left: 1px solid gray;box-sizing: border-box;top: 0;bottom: 0;left: 50%;z-index: 0;}#sk-container-id-2 div.sk-serial {display: flex;flex-direction: column;align-items: center;background-color: white;padding-right: 0.2em;padding-left: 0.2em;position: relative;}#sk-container-id-2 div.sk-item {position: relative;z-index: 1;}#sk-container-id-2 div.sk-parallel {display: flex;align-items: stretch;justify-content: center;background-color: white;position: relative;}#sk-container-id-2 div.sk-item::before, #sk-container-id-2 div.sk-parallel-item::before {content: \"\";position: absolute;border-left: 1px solid gray;box-sizing: border-box;top: 0;bottom: 0;left: 50%;z-index: -1;}#sk-container-id-2 div.sk-parallel-item {display: flex;flex-direction: column;z-index: 1;position: relative;background-color: white;}#sk-container-id-2 div.sk-parallel-item:first-child::after {align-self: flex-end;width: 50%;}#sk-container-id-2 div.sk-parallel-item:last-child::after {align-self: flex-start;width: 50%;}#sk-container-id-2 div.sk-parallel-item:only-child::after {width: 0;}#sk-container-id-2 div.sk-dashed-wrapped {border: 1px dashed gray;margin: 0 0.4em 0.5em 0.4em;box-sizing: border-box;padding-bottom: 0.4em;background-color: white;}#sk-container-id-2 div.sk-label label {font-family: monospace;font-weight: bold;display: inline-block;line-height: 1.2em;}#sk-container-id-2 div.sk-label-container {text-align: center;}#sk-container-id-2 div.sk-container {/* jupyter's `normalize.less` sets `[hidden] { display: none; }` but bootstrap.min.css set `[hidden] { display: none !important; }` so we also need the `!important` here to be able to override the default hidden behavior on the sphinx rendered scikit-learn.org. See: https://github.com/scikit-learn/scikit-learn/issues/21755 */display: inline-block !important;position: relative;}#sk-container-id-2 div.sk-text-repr-fallback {display: none;}</style><div id=\"sk-container-id-2\" class=\"sk-top-container\"><div class=\"sk-text-repr-fallback\"><pre>RandomizedSearchCV(cv=5, estimator=RandomForestClassifier(), n_iter=20,\n",
              "                   n_jobs=-1,\n",
              "                   param_distributions={&#x27;max_depth&#x27;: [10, 20, 30, None],\n",
              "                                        &#x27;max_features&#x27;: [&#x27;auto&#x27;, &#x27;sqrt&#x27;,\n",
              "                                                         &#x27;log2&#x27;],\n",
              "                                        &#x27;min_samples_leaf&#x27;: [1, 2, 4],\n",
              "                                        &#x27;min_samples_split&#x27;: [2, 5, 10],\n",
              "                                        &#x27;n_estimators&#x27;: [50, 100, 200, 300]},\n",
              "                   random_state=42)</pre><b>In a Jupyter environment, please rerun this cell to show the HTML representation or trust the notebook. <br />On GitHub, the HTML representation is unable to render, please try loading this page with nbviewer.org.</b></div><div class=\"sk-container\" hidden><div class=\"sk-item sk-dashed-wrapped\"><div class=\"sk-label-container\"><div class=\"sk-label sk-toggleable\"><input class=\"sk-toggleable__control sk-hidden--visually\" id=\"sk-estimator-id-2\" type=\"checkbox\" ><label for=\"sk-estimator-id-2\" class=\"sk-toggleable__label sk-toggleable__label-arrow\">RandomizedSearchCV</label><div class=\"sk-toggleable__content\"><pre>RandomizedSearchCV(cv=5, estimator=RandomForestClassifier(), n_iter=20,\n",
              "                   n_jobs=-1,\n",
              "                   param_distributions={&#x27;max_depth&#x27;: [10, 20, 30, None],\n",
              "                                        &#x27;max_features&#x27;: [&#x27;auto&#x27;, &#x27;sqrt&#x27;,\n",
              "                                                         &#x27;log2&#x27;],\n",
              "                                        &#x27;min_samples_leaf&#x27;: [1, 2, 4],\n",
              "                                        &#x27;min_samples_split&#x27;: [2, 5, 10],\n",
              "                                        &#x27;n_estimators&#x27;: [50, 100, 200, 300]},\n",
              "                   random_state=42)</pre></div></div></div><div class=\"sk-parallel\"><div class=\"sk-parallel-item\"><div class=\"sk-item\"><div class=\"sk-label-container\"><div class=\"sk-label sk-toggleable\"><input class=\"sk-toggleable__control sk-hidden--visually\" id=\"sk-estimator-id-3\" type=\"checkbox\" ><label for=\"sk-estimator-id-3\" class=\"sk-toggleable__label sk-toggleable__label-arrow\">estimator: RandomForestClassifier</label><div class=\"sk-toggleable__content\"><pre>RandomForestClassifier()</pre></div></div></div><div class=\"sk-serial\"><div class=\"sk-item\"><div class=\"sk-estimator sk-toggleable\"><input class=\"sk-toggleable__control sk-hidden--visually\" id=\"sk-estimator-id-4\" type=\"checkbox\" ><label for=\"sk-estimator-id-4\" class=\"sk-toggleable__label sk-toggleable__label-arrow\">RandomForestClassifier</label><div class=\"sk-toggleable__content\"><pre>RandomForestClassifier()</pre></div></div></div></div></div></div></div></div></div></div>"
            ]
          },
          "metadata": {},
          "execution_count": 85
        }
      ]
    },
    {
      "cell_type": "code",
      "source": [
        "random_search.best_params_"
      ],
      "metadata": {
        "colab": {
          "base_uri": "https://localhost:8080/"
        },
        "id": "pwJshNMDEZw0",
        "outputId": "ebb53574-0f0e-4b4b-d263-a4f7d738d8eb"
      },
      "execution_count": null,
      "outputs": [
        {
          "output_type": "execute_result",
          "data": {
            "text/plain": [
              "{'n_estimators': 200,\n",
              " 'min_samples_split': 10,\n",
              " 'min_samples_leaf': 1,\n",
              " 'max_features': 'sqrt',\n",
              " 'max_depth': 20}"
            ]
          },
          "metadata": {},
          "execution_count": 86
        }
      ]
    },
    {
      "cell_type": "code",
      "source": [
        "best_rf_model = random_search.best_estimator_\n",
        "best_rf_model"
      ],
      "metadata": {
        "colab": {
          "base_uri": "https://localhost:8080/",
          "height": 75
        },
        "id": "YRG89h6OEk8D",
        "outputId": "4c400524-9b41-4ea7-bc65-fa7837ee6a61"
      },
      "execution_count": null,
      "outputs": [
        {
          "output_type": "execute_result",
          "data": {
            "text/plain": [
              "RandomForestClassifier(max_depth=20, min_samples_split=10, n_estimators=200)"
            ],
            "text/html": [
              "<style>#sk-container-id-3 {color: black;}#sk-container-id-3 pre{padding: 0;}#sk-container-id-3 div.sk-toggleable {background-color: white;}#sk-container-id-3 label.sk-toggleable__label {cursor: pointer;display: block;width: 100%;margin-bottom: 0;padding: 0.3em;box-sizing: border-box;text-align: center;}#sk-container-id-3 label.sk-toggleable__label-arrow:before {content: \"▸\";float: left;margin-right: 0.25em;color: #696969;}#sk-container-id-3 label.sk-toggleable__label-arrow:hover:before {color: black;}#sk-container-id-3 div.sk-estimator:hover label.sk-toggleable__label-arrow:before {color: black;}#sk-container-id-3 div.sk-toggleable__content {max-height: 0;max-width: 0;overflow: hidden;text-align: left;background-color: #f0f8ff;}#sk-container-id-3 div.sk-toggleable__content pre {margin: 0.2em;color: black;border-radius: 0.25em;background-color: #f0f8ff;}#sk-container-id-3 input.sk-toggleable__control:checked~div.sk-toggleable__content {max-height: 200px;max-width: 100%;overflow: auto;}#sk-container-id-3 input.sk-toggleable__control:checked~label.sk-toggleable__label-arrow:before {content: \"▾\";}#sk-container-id-3 div.sk-estimator input.sk-toggleable__control:checked~label.sk-toggleable__label {background-color: #d4ebff;}#sk-container-id-3 div.sk-label input.sk-toggleable__control:checked~label.sk-toggleable__label {background-color: #d4ebff;}#sk-container-id-3 input.sk-hidden--visually {border: 0;clip: rect(1px 1px 1px 1px);clip: rect(1px, 1px, 1px, 1px);height: 1px;margin: -1px;overflow: hidden;padding: 0;position: absolute;width: 1px;}#sk-container-id-3 div.sk-estimator {font-family: monospace;background-color: #f0f8ff;border: 1px dotted black;border-radius: 0.25em;box-sizing: border-box;margin-bottom: 0.5em;}#sk-container-id-3 div.sk-estimator:hover {background-color: #d4ebff;}#sk-container-id-3 div.sk-parallel-item::after {content: \"\";width: 100%;border-bottom: 1px solid gray;flex-grow: 1;}#sk-container-id-3 div.sk-label:hover label.sk-toggleable__label {background-color: #d4ebff;}#sk-container-id-3 div.sk-serial::before {content: \"\";position: absolute;border-left: 1px solid gray;box-sizing: border-box;top: 0;bottom: 0;left: 50%;z-index: 0;}#sk-container-id-3 div.sk-serial {display: flex;flex-direction: column;align-items: center;background-color: white;padding-right: 0.2em;padding-left: 0.2em;position: relative;}#sk-container-id-3 div.sk-item {position: relative;z-index: 1;}#sk-container-id-3 div.sk-parallel {display: flex;align-items: stretch;justify-content: center;background-color: white;position: relative;}#sk-container-id-3 div.sk-item::before, #sk-container-id-3 div.sk-parallel-item::before {content: \"\";position: absolute;border-left: 1px solid gray;box-sizing: border-box;top: 0;bottom: 0;left: 50%;z-index: -1;}#sk-container-id-3 div.sk-parallel-item {display: flex;flex-direction: column;z-index: 1;position: relative;background-color: white;}#sk-container-id-3 div.sk-parallel-item:first-child::after {align-self: flex-end;width: 50%;}#sk-container-id-3 div.sk-parallel-item:last-child::after {align-self: flex-start;width: 50%;}#sk-container-id-3 div.sk-parallel-item:only-child::after {width: 0;}#sk-container-id-3 div.sk-dashed-wrapped {border: 1px dashed gray;margin: 0 0.4em 0.5em 0.4em;box-sizing: border-box;padding-bottom: 0.4em;background-color: white;}#sk-container-id-3 div.sk-label label {font-family: monospace;font-weight: bold;display: inline-block;line-height: 1.2em;}#sk-container-id-3 div.sk-label-container {text-align: center;}#sk-container-id-3 div.sk-container {/* jupyter's `normalize.less` sets `[hidden] { display: none; }` but bootstrap.min.css set `[hidden] { display: none !important; }` so we also need the `!important` here to be able to override the default hidden behavior on the sphinx rendered scikit-learn.org. See: https://github.com/scikit-learn/scikit-learn/issues/21755 */display: inline-block !important;position: relative;}#sk-container-id-3 div.sk-text-repr-fallback {display: none;}</style><div id=\"sk-container-id-3\" class=\"sk-top-container\"><div class=\"sk-text-repr-fallback\"><pre>RandomForestClassifier(max_depth=20, min_samples_split=10, n_estimators=200)</pre><b>In a Jupyter environment, please rerun this cell to show the HTML representation or trust the notebook. <br />On GitHub, the HTML representation is unable to render, please try loading this page with nbviewer.org.</b></div><div class=\"sk-container\" hidden><div class=\"sk-item\"><div class=\"sk-estimator sk-toggleable\"><input class=\"sk-toggleable__control sk-hidden--visually\" id=\"sk-estimator-id-5\" type=\"checkbox\" checked><label for=\"sk-estimator-id-5\" class=\"sk-toggleable__label sk-toggleable__label-arrow\">RandomForestClassifier</label><div class=\"sk-toggleable__content\"><pre>RandomForestClassifier(max_depth=20, min_samples_split=10, n_estimators=200)</pre></div></div></div></div></div>"
            ]
          },
          "metadata": {},
          "execution_count": 87
        }
      ]
    },
    {
      "cell_type": "code",
      "source": [
        "y_pred_best = best_rf_model.predict(x_test)"
      ],
      "metadata": {
        "id": "JQUIkqvbFIDZ"
      },
      "execution_count": null,
      "outputs": []
    },
    {
      "cell_type": "code",
      "source": [
        "accuracy_best = accuracy_score(y_test, y_pred_best)\n",
        "print(accuracy_best)"
      ],
      "metadata": {
        "colab": {
          "base_uri": "https://localhost:8080/"
        },
        "id": "Rh-9lHAXFRIu",
        "outputId": "f8a2d12a-2b1f-49bd-cdca-c6d263fa9330"
      },
      "execution_count": null,
      "outputs": [
        {
          "output_type": "stream",
          "name": "stdout",
          "text": [
            "0.847\n"
          ]
        }
      ]
    },
    {
      "cell_type": "markdown",
      "source": [
        "* The random Forest classifier model is performing slighly better on this dataset than the KNN model with **84.7%** accuracy may be cause of small dataset.\n",
        "* With proper hypertuning and training multiple models and comparing their performance, the best model can be selected.\n",
        "* The dataset is imbalanced which may affect the performance of the models, using SMOTE or other balace techniques this issue can be resolved."
      ],
      "metadata": {
        "id": "N7z4bxPoKYgM"
      }
    },
    {
      "cell_type": "markdown",
      "source": [
        "### 6.3 Customer Segmentation for Churn Monitoring"
      ],
      "metadata": {
        "id": "UYIZhZLET4gx"
      }
    },
    {
      "cell_type": "markdown",
      "source": [
        "Performing customer sengmentation on fresh dataset.\n",
        "\n",
        "Note: *Due to the lack of computational resource, I'm segmenting customers in 4 clusters manually. However we can estimate the appropriate number of cluster using elbow method, which will enhance the performance and reliability.*"
      ],
      "metadata": {
        "id": "y3jE1YF9T9CX"
      }
    },
    {
      "cell_type": "code",
      "source": [
        "df_copy['LossDate'] = pd.to_datetime(df_copy['LossDate'], errors='coerce', format='%d/%m/%Y')\n",
        "df_copy['AccountStartdate'] = pd.to_datetime(df_copy['AccountStartdate'], errors='coerce', format='%d/%m/%Y')\n",
        "\n",
        "df_copy['Customer_Tenure_Days'] = (df_copy['LossDate'] - df_copy['AccountStartdate']).dt.days\n",
        "df_copy['Customer_Tenure_Days'].fillna((pd.Timestamp('2024-09-01') - df_copy['AccountStartdate']).dt.days, inplace=True)\n",
        "df_copy['Customer_Tenure_Months'] = df_copy['Customer_Tenure_Days'] / 30.44\n",
        "df_copy['Customer_Tenure_Years'] = df_copy['Customer_Tenure_Days'] / 365.25\n",
        "\n",
        "bins = [0, 365, 365*3, 365*5, df_copy['Customer_Tenure_Days'].max()]\n",
        "labels = ['< 1 year', '1-3 years', '3-5 years', '> 5 years']\n",
        "df_copy['Tenure_Group'] = pd.cut(df_copy['Customer_Tenure_Days'], bins=bins, labels=labels, right=False)"
      ],
      "metadata": {
        "id": "gIYNCI5GUtVL"
      },
      "execution_count": null,
      "outputs": []
    },
    {
      "cell_type": "code",
      "source": [
        "# Encode categorical variables\n",
        "data_encoded = pd.get_dummies(df_copy[['DebtPlanGroup', 'ComplaintType', 'MosaicGroup']], drop_first=True).astype(int)"
      ],
      "metadata": {
        "id": "26reamFwW3e_"
      },
      "execution_count": null,
      "outputs": []
    },
    {
      "cell_type": "code",
      "source": [
        "# Select features for segmentation, including the engineered tenure (days), offset value, complaints, and payment method\n",
        "cluster_features = ['Customer_Tenure_Days', 'OffsetValue', 'InstallmentPlan', 'MosaicHouseholdIncValue']\n",
        "data_clustering = pd.concat([df_copy[cluster_features], data_encoded], axis=1)\n"
      ],
      "metadata": {
        "id": "ETh5_Yo0UgPC"
      },
      "execution_count": null,
      "outputs": []
    },
    {
      "cell_type": "code",
      "source": [
        "data_clustering['InstallmentPlan'] = data_clustering['InstallmentPlan'].map({'Yes': 1, 'No': 0})"
      ],
      "metadata": {
        "id": "Zl90bsM9ZEaP"
      },
      "execution_count": null,
      "outputs": []
    },
    {
      "cell_type": "code",
      "source": [
        "from sklearn.impute import SimpleImputer\n",
        "imputer = SimpleImputer(strategy='median')\n",
        "data_clustering_imputed = pd.DataFrame(imputer.fit_transform(data_clustering), columns=data_clustering.columns)"
      ],
      "metadata": {
        "id": "hKgabV1OX1lX"
      },
      "execution_count": null,
      "outputs": []
    },
    {
      "cell_type": "code",
      "source": [
        "scaler = StandardScaler()\n",
        "data_clustering_scaled = pd.DataFrame(scaler.fit_transform(data_clustering_imputed), columns=data_clustering.columns)"
      ],
      "metadata": {
        "id": "TU5-MMOhaQT_"
      },
      "execution_count": null,
      "outputs": []
    },
    {
      "cell_type": "code",
      "source": [
        "from sklearn.cluster import KMeans\n",
        "# Apply K-Means clustering to segment the customers\n",
        "kmeans = KMeans(n_clusters=4, random_state=42)\n",
        "clusters = kmeans.fit_predict(data_clustering_scaled)\n",
        "\n",
        "# Add the cluster labels back\n",
        "df_copy['Cluster'] = clusters"
      ],
      "metadata": {
        "id": "dZmBFH5tlonK"
      },
      "execution_count": null,
      "outputs": []
    },
    {
      "cell_type": "code",
      "source": [
        "df_copy['InstallmentPlan'] = df_copy['InstallmentPlan'].map({'Yes': 1, 'No': 0})"
      ],
      "metadata": {
        "id": "NaAbgsyhl1xx"
      },
      "execution_count": null,
      "outputs": []
    },
    {
      "cell_type": "code",
      "source": [
        "numeric_columns = df_copy.select_dtypes(include=['number']).columns\n",
        "cluster_analysis = df_copy.groupby('Cluster')[numeric_columns].mean()\n",
        "print(cluster_analysis)"
      ],
      "metadata": {
        "colab": {
          "base_uri": "https://localhost:8080/"
        },
        "id": "Ldrwbk-CmVYm",
        "outputId": "dbbbc0ed-b846-4d7e-fa7f-355053b927d0"
      },
      "execution_count": null,
      "outputs": [
        {
          "output_type": "stream",
          "name": "stdout",
          "text": [
            "             Loss  InstallmentPlan  OffsetValue  MosaicHouseholdIncValue  \\\n",
            "Cluster                                                                    \n",
            "0        0.331754         0.038462   373.765782             89868.336493   \n",
            "1        0.193044         0.101604   341.124307             32749.180444   \n",
            "2        0.272085         0.035587   491.162332             57581.053004   \n",
            "3        0.161710         0.175472   400.913569             23043.241636   \n",
            "\n",
            "         MosaicNoAdultsHousehold  Customer_Tenure_Days  \\\n",
            "Cluster                                                  \n",
            "0                       1.976303           2267.876777   \n",
            "1                       1.695312           1989.341986   \n",
            "2                       1.593640           2426.038869   \n",
            "3                       1.985130           1713.414498   \n",
            "\n",
            "         Customer_Tenure_Months  Customer_Tenure_Years  Cluster  \n",
            "Cluster                                                          \n",
            "0                     74.503179               6.209108      0.0  \n",
            "1                     65.352890               5.446522      1.0  \n",
            "2                     79.699043               6.642132      2.0  \n",
            "3                     56.288256               4.691073      3.0  \n"
          ]
        }
      ]
    },
    {
      "cell_type": "markdown",
      "source": [
        "**The customer segmentation model using K-Means clustering has divided the customers into four clusters. Here's a summary of each cluster:**\n",
        "\n",
        "1. Cluster 0:\n",
        "\n",
        "* Churn rate: 33.17%\n",
        "* Installment Plan usage: 3.8%\n",
        "* Average offset value: £373.76\n",
        "* Tenure: Average 6.21 years\n",
        "* Mosaic Household Income: £89,868\n",
        "\n",
        "2. Cluster 1:\n",
        "\n",
        "* Churn rate: 19.3%\n",
        "* Installment Plan usage: 10.16%\n",
        "* Average offset value: £341.12\n",
        "* Tenure: Average 5.45 years\n",
        "* Mosaic Household Income: £32,749\n",
        "\n",
        "3. Cluster 2:\n",
        "\n",
        "* Churn rate: 27.2%\n",
        "* Installment Plan usage: 3.5%\n",
        "* Average offset value: £491.16\n",
        "* Tenure: Average 6.64 years\n",
        "* Mosaic Household Income: £57,581\n",
        "\n",
        "4. Cluster 3:\n",
        "\n",
        "* Churn rate: 16.17% (lowest)\n",
        "* Installment Plan usage: 17.55%\n",
        "* Average offset value: £400.91\n",
        "* Tenure: Average 4.69 years\n",
        "* Mosaic Household Income: £23,043\n",
        "\n",
        "**Insights:**\n",
        "* Cluster 3 has the lowest churn rate (16.17%) and the shortest tenure, but customers are more likely to be on an installment plan. **This indicates that higher the installation plan usage, the customer retention rate are higher.**\n",
        "\n",
        "* Cluster 0 has the highest churn rate (33.17%) despite having the highest household income and longer tenure. These customers may be higher-value customers who expect better service or experience issues like high offset values or lack of installment plans.\n",
        "\n",
        "* **We could target Cluster 0 and cluster 2 with retention efforts to prevent high-value customer churn.**"
      ],
      "metadata": {
        "id": "NWyb_j7MmgNE"
      }
    },
    {
      "cell_type": "markdown",
      "source": [
        "# Conclusion:\n",
        "In this project, we aimed to analyze customer churn at ScottishPower, predict churn using machine learning, and identify customer segments at higher risk of leaving. Here's a summary of the key insights and steps taken:\n",
        "\n",
        "1. Exploratory Data Analysis (EDA):\n",
        "\n",
        "* We explored various features such as Customer Tenure, Offset Value, Debt Plan Group, and Complaint Type to understand their relationship with churn.\n",
        "* Customers with shorter tenure and higher debt are more likely to leave.\n",
        "* Categorical factors like Debt Plan Group and Complaint Status are important predictors of churn.\n",
        "\n",
        "2. Machine Learning Model for Churn Prediction:\n",
        "\n",
        "* We trained a Random Forest Classifier and KNN using key features such as tenure, Offset Value, Installment Plan, and Mosaic Household Income Value to predict customer churn.\n",
        "The model achieved strong performance, with key evaluation metrics including accuracy, precision, recall, and F1-score.\n",
        "\n",
        "3. Customer Segmentation for Churn Monitoring:\n",
        "\n",
        "* Using K-Means Clustering, the customers were segmented into distinct groups based on behavior. This segmentation helped identify customer segments with higher churn rates.\n",
        "* For example, Cluster 0 and Cluster 2, which included high-income customers and higher debts, had the highest churn rate. This cluster is critical for targeted retention efforts.\n",
        "\n",
        "## Recommendations:\n",
        "* Target high-risk customer segments (identified in clustering) with personalized retention strategies.\n",
        "* Improve customer service for at-risk customers (e.g., those with complaints or higher debt)."
      ],
      "metadata": {
        "id": "2n0X3B1utRYv"
      }
    },
    {
      "cell_type": "code",
      "source": [],
      "metadata": {
        "id": "O4dNWwO9mVTM"
      },
      "execution_count": null,
      "outputs": []
    },
    {
      "cell_type": "code",
      "source": [],
      "metadata": {
        "id": "svp0uE7MmVBD"
      },
      "execution_count": null,
      "outputs": []
    },
    {
      "cell_type": "code",
      "source": [
        "# code to implement elbow method\n",
        "\n",
        "# k_values = range(1, 1000, 10)\n",
        "# ss_error = []\n",
        "# for k in k_values:\n",
        "#   km = KMeans(n_clusters=k)\n",
        "#   km.fit(data_clustering_scaled)\n",
        "#   ss_error.append(km.inertia_)\n",
        "\n",
        "# print(ss_error)\n",
        "\n",
        "# #plot\n",
        "# plt.xlabel('K')\n",
        "# plt.ylabel('SSE')\n",
        "# plt.plot(k_values, ss_error)\n",
        "# plt.show()"
      ],
      "metadata": {
        "id": "4hgVkDksebw_"
      },
      "execution_count": null,
      "outputs": []
    }
  ]
}